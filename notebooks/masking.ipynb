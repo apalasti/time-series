{
 "cells": [
  {
   "cell_type": "code",
   "execution_count": 1,
   "metadata": {},
   "outputs": [
    {
     "data": {
      "text/html": [
       "        <script type=\"text/javascript\">\n",
       "        window.PlotlyConfig = {MathJaxConfig: 'local'};\n",
       "        if (window.MathJax && window.MathJax.Hub && window.MathJax.Hub.Config) {window.MathJax.Hub.Config({SVG: {font: \"STIX-Web\"}});}\n",
       "        if (typeof require !== 'undefined') {\n",
       "        require.undef(\"plotly\");\n",
       "        requirejs.config({\n",
       "            paths: {\n",
       "                'plotly': ['https://cdn.plot.ly/plotly-2.35.2.min']\n",
       "            }\n",
       "        });\n",
       "        require(['plotly'], function(Plotly) {\n",
       "            window._Plotly = Plotly;\n",
       "        });\n",
       "        }\n",
       "        </script>\n",
       "        "
      ]
     },
     "metadata": {},
     "output_type": "display_data"
    }
   ],
   "source": [
    "import ipywidgets as widgets\n",
    "import numpy as np\n",
    "import pandas as pd\n",
    "import plotly.express as px\n",
    "import plotly.graph_objects as go\n",
    "from sklearn.metrics import accuracy_score\n",
    "from plotly.offline import init_notebook_mode\n",
    "init_notebook_mode(connected=True)"
   ]
  },
  {
   "cell_type": "code",
   "execution_count": 2,
   "metadata": {},
   "outputs": [
    {
     "data": {
      "text/plain": [
       "dict_keys(['Synthetic', 'FingerMovements', 'Epilepsy', 'WISDM', 'HAR', 'PenDigits'])"
      ]
     },
     "execution_count": 2,
     "metadata": {},
     "output_type": "execute_result"
    }
   ],
   "source": [
    "results = np.load(\"../data/masking_results_pred.npy\", allow_pickle=True)[()]\n",
    "results.keys()"
   ]
  },
  {
   "cell_type": "code",
   "execution_count": 3,
   "metadata": {},
   "outputs": [
    {
     "data": {
      "text/html": [
       "<div>\n",
       "<style scoped>\n",
       "    .dataframe tbody tr th:only-of-type {\n",
       "        vertical-align: middle;\n",
       "    }\n",
       "\n",
       "    .dataframe tbody tr th {\n",
       "        vertical-align: top;\n",
       "    }\n",
       "\n",
       "    .dataframe thead th {\n",
       "        text-align: right;\n",
       "    }\n",
       "</style>\n",
       "<table border=\"1\" class=\"dataframe\">\n",
       "  <thead>\n",
       "    <tr style=\"text-align: right;\">\n",
       "      <th></th>\n",
       "      <th>Dataset</th>\n",
       "      <th>MaskedPercentage</th>\n",
       "      <th>ShapAccMean</th>\n",
       "      <th>ShapAccStd</th>\n",
       "      <th>RandomAccMean</th>\n",
       "      <th>RandomAccStd</th>\n",
       "    </tr>\n",
       "  </thead>\n",
       "  <tbody>\n",
       "    <tr>\n",
       "      <th>20</th>\n",
       "      <td>Epilepsy</td>\n",
       "      <td>0.0</td>\n",
       "      <td>0.976522</td>\n",
       "      <td>1.110223e-16</td>\n",
       "      <td>0.976522</td>\n",
       "      <td>1.110223e-16</td>\n",
       "    </tr>\n",
       "    <tr>\n",
       "      <th>33</th>\n",
       "      <td>WISDM</td>\n",
       "      <td>0.3</td>\n",
       "      <td>0.845747</td>\n",
       "      <td>4.917805e-03</td>\n",
       "      <td>0.854294</td>\n",
       "      <td>8.168448e-03</td>\n",
       "    </tr>\n",
       "    <tr>\n",
       "      <th>46</th>\n",
       "      <td>HAR</td>\n",
       "      <td>0.6</td>\n",
       "      <td>0.866192</td>\n",
       "      <td>2.719334e-03</td>\n",
       "      <td>0.854519</td>\n",
       "      <td>3.549112e-03</td>\n",
       "    </tr>\n",
       "    <tr>\n",
       "      <th>37</th>\n",
       "      <td>WISDM</td>\n",
       "      <td>0.7</td>\n",
       "      <td>0.792837</td>\n",
       "      <td>2.508919e-03</td>\n",
       "      <td>0.784290</td>\n",
       "      <td>1.308745e-02</td>\n",
       "    </tr>\n",
       "    <tr>\n",
       "      <th>41</th>\n",
       "      <td>HAR</td>\n",
       "      <td>0.1</td>\n",
       "      <td>0.883950</td>\n",
       "      <td>1.110223e-16</td>\n",
       "      <td>0.881258</td>\n",
       "      <td>2.352458e-03</td>\n",
       "    </tr>\n",
       "  </tbody>\n",
       "</table>\n",
       "</div>"
      ],
      "text/plain": [
       "     Dataset  MaskedPercentage  ShapAccMean    ShapAccStd  RandomAccMean  \\\n",
       "20  Epilepsy               0.0     0.976522  1.110223e-16       0.976522   \n",
       "33     WISDM               0.3     0.845747  4.917805e-03       0.854294   \n",
       "46       HAR               0.6     0.866192  2.719334e-03       0.854519   \n",
       "37     WISDM               0.7     0.792837  2.508919e-03       0.784290   \n",
       "41       HAR               0.1     0.883950  1.110223e-16       0.881258   \n",
       "\n",
       "    RandomAccStd  \n",
       "20  1.110223e-16  \n",
       "33  8.168448e-03  \n",
       "46  3.549112e-03  \n",
       "37  1.308745e-02  \n",
       "41  2.352458e-03  "
      ]
     },
     "execution_count": 3,
     "metadata": {},
     "output_type": "execute_result"
    }
   ],
   "source": [
    "data = []\n",
    "for dataset, experiment in results.items():\n",
    "    for i, masked_percent in enumerate(experiment[\"masked_percentage\"]):\n",
    "        shap_acc = np.array([\n",
    "            accuracy_score(experiment[\"labels\"], shap_preds)\n",
    "            for shap_preds in experiment[\"shap_preds\"][i]\n",
    "        ])\n",
    "        # print(dataset, masked_percent, shap_acc)\n",
    "\n",
    "        random_acc = np.array([\n",
    "            accuracy_score(experiment[\"labels\"], random_preds)\n",
    "            for random_preds in experiment[\"random_preds\"][i]\n",
    "        ])\n",
    "\n",
    "        data.append((\n",
    "            dataset, masked_percent,\n",
    "            shap_acc.mean(), shap_acc.std(), \n",
    "            random_acc.mean(), random_acc.std()\n",
    "        ))\n",
    "\n",
    "df = pd.DataFrame(\n",
    "    data, columns=[\n",
    "        \"Dataset\", \"MaskedPercentage\",\n",
    "        \"ShapAccMean\", \"ShapAccStd\",\n",
    "        \"RandomAccMean\", \"RandomAccStd\",\n",
    "    ],\n",
    ")\n",
    "df.sample(n=5)"
   ]
  },
  {
   "cell_type": "code",
   "execution_count": 4,
   "metadata": {},
   "outputs": [
    {
     "data": {
      "text/html": [
       "<div>\n",
       "<style scoped>\n",
       "    .dataframe tbody tr th:only-of-type {\n",
       "        vertical-align: middle;\n",
       "    }\n",
       "\n",
       "    .dataframe tbody tr th {\n",
       "        vertical-align: top;\n",
       "    }\n",
       "\n",
       "    .dataframe thead th {\n",
       "        text-align: right;\n",
       "    }\n",
       "</style>\n",
       "<table border=\"1\" class=\"dataframe\">\n",
       "  <thead>\n",
       "    <tr style=\"text-align: right;\">\n",
       "      <th></th>\n",
       "      <th>Dataset</th>\n",
       "      <th>MaskedPercentage</th>\n",
       "      <th>Method</th>\n",
       "      <th>Accuracy</th>\n",
       "      <th>Std</th>\n",
       "    </tr>\n",
       "  </thead>\n",
       "  <tbody>\n",
       "    <tr>\n",
       "      <th>72</th>\n",
       "      <td>FingerMovements</td>\n",
       "      <td>0.2</td>\n",
       "      <td>Random</td>\n",
       "      <td>0.492667</td>\n",
       "      <td>2.048306e-02</td>\n",
       "    </tr>\n",
       "    <tr>\n",
       "      <th>103</th>\n",
       "      <td>HAR</td>\n",
       "      <td>0.3</td>\n",
       "      <td>Random</td>\n",
       "      <td>0.875580</td>\n",
       "      <td>1.961722e-03</td>\n",
       "    </tr>\n",
       "    <tr>\n",
       "      <th>78</th>\n",
       "      <td>FingerMovements</td>\n",
       "      <td>0.8</td>\n",
       "      <td>Random</td>\n",
       "      <td>0.501333</td>\n",
       "      <td>3.667273e-02</td>\n",
       "    </tr>\n",
       "    <tr>\n",
       "      <th>40</th>\n",
       "      <td>HAR</td>\n",
       "      <td>0.0</td>\n",
       "      <td>Shap</td>\n",
       "      <td>0.880556</td>\n",
       "      <td>1.110223e-16</td>\n",
       "    </tr>\n",
       "    <tr>\n",
       "      <th>91</th>\n",
       "      <td>WISDM</td>\n",
       "      <td>0.1</td>\n",
       "      <td>Random</td>\n",
       "      <td>0.865608</td>\n",
       "      <td>4.333360e-03</td>\n",
       "    </tr>\n",
       "  </tbody>\n",
       "</table>\n",
       "</div>"
      ],
      "text/plain": [
       "             Dataset  MaskedPercentage  Method  Accuracy           Std\n",
       "72   FingerMovements               0.2  Random  0.492667  2.048306e-02\n",
       "103              HAR               0.3  Random  0.875580  1.961722e-03\n",
       "78   FingerMovements               0.8  Random  0.501333  3.667273e-02\n",
       "40               HAR               0.0    Shap  0.880556  1.110223e-16\n",
       "91             WISDM               0.1  Random  0.865608  4.333360e-03"
      ]
     },
     "execution_count": 4,
     "metadata": {},
     "output_type": "execute_result"
    }
   ],
   "source": [
    "# First melt the accuracy means\n",
    "melted_acc = df.melt(\n",
    "    id_vars=[\"Dataset\", \"MaskedPercentage\"],\n",
    "    value_vars=[\"ShapAccMean\", \"RandomAccMean\"],\n",
    "    var_name=\"Method\",\n",
    "    value_name=\"Accuracy\"\n",
    ")\n",
    "\n",
    "# Then melt the standard deviations\n",
    "melted_std = df.melt(\n",
    "    id_vars=[\"Dataset\", \"MaskedPercentage\"],\n",
    "    value_vars=[\"ShapAccStd\", \"RandomAccStd\"],\n",
    "    var_name=\"Method\",\n",
    "    value_name=\"Std\"\n",
    ")\n",
    "\n",
    "# Clean up method names to match before merging\n",
    "melted_acc[\"Method\"] = melted_acc[\"Method\"].str.replace(\"AccMean\", \"\")\n",
    "melted_std[\"Method\"] = melted_std[\"Method\"].str.replace(\"AccStd\", \"\")\n",
    "\n",
    "# Merge the two melted DataFrames\n",
    "melted_df = pd.merge(\n",
    "    melted_acc,\n",
    "    melted_std,\n",
    "    on=[\"Dataset\", \"MaskedPercentage\", \"Method\"]\n",
    ")\n",
    "melted_df.sample(n=5)"
   ]
  },
  {
   "cell_type": "code",
   "execution_count": 5,
   "metadata": {},
   "outputs": [
    {
     "data": {
      "application/vnd.plotly.v1+json": {
       "config": {
        "plotlyServerURL": "https://plot.ly"
       },
       "data": [
        {
         "error_y": {
          "array": [
           0,
           0,
           0.0023570226039551605,
           0.016499158227686123,
           0.011785113019775804,
           0.0023570226039551605,
           0,
           0.01178511301977575,
           0,
           0
          ]
         },
         "hovertemplate": "%{y:.4f}",
         "legendgroup": "Synthetic, Shap",
         "line": {
          "color": "#636efa",
          "dash": "solid"
         },
         "marker": {
          "symbol": "circle"
         },
         "mode": "lines+markers",
         "name": "Synthetic, Shap",
         "orientation": "v",
         "showlegend": true,
         "type": "scatter",
         "x": [
          0,
          0.1,
          0.2,
          0.30000000000000004,
          0.4,
          0.5,
          0.6000000000000001,
          0.7000000000000001,
          0.8,
          0.9
         ],
         "xaxis": "x",
         "y": [
          0.945,
          0.935,
          0.8883333333333333,
          0.9183333333333334,
          0.8766666666666666,
          0.8316666666666667,
          0.83,
          0.8166666666666668,
          0.785,
          0.665
         ],
         "yaxis": "y"
        },
        {
         "error_y": {
          "array": [
           1.1102230246251565e-16,
           0.012578641509408779,
           0.012970050972229157,
           0.023237900077244522,
           0.02064515008960269,
           0.02307957249748502,
           0.03087609647175843,
           0.03261901286060017,
           0.021108186931983387,
           0.03383620677453206
          ]
         },
         "hovertemplate": "%{y:.4f}",
         "legendgroup": "Synthetic, Random",
         "line": {
          "color": "#636efa",
          "dash": "dot"
         },
         "marker": {
          "symbol": "circle"
         },
         "mode": "lines+markers",
         "name": "Synthetic, Random",
         "orientation": "v",
         "showlegend": true,
         "type": "scatter",
         "x": [
          0,
          0.1,
          0.2,
          0.30000000000000004,
          0.4,
          0.5,
          0.6000000000000001,
          0.7000000000000001,
          0.8,
          0.9
         ],
         "xaxis": "x",
         "y": [
          0.9450000000000001,
          0.9313333333333335,
          0.9063333333333332,
          0.8699999999999999,
          0.8323333333333333,
          0.772,
          0.715,
          0.6540000000000001,
          0.5666666666666667,
          0.47033333333333327
         ],
         "yaxis": "y"
        },
        {
         "error_y": {
          "array": [
           0,
           0,
           0,
           0,
           0,
           0,
           0,
           0,
           0,
           0
          ]
         },
         "hovertemplate": "%{y:.4f}",
         "legendgroup": "FingerMovements, Shap",
         "line": {
          "color": "#EF553B",
          "dash": "solid"
         },
         "marker": {
          "symbol": "circle"
         },
         "mode": "lines+markers",
         "name": "FingerMovements, Shap",
         "orientation": "v",
         "showlegend": true,
         "type": "scatter",
         "x": [
          0,
          0.1,
          0.2,
          0.30000000000000004,
          0.4,
          0.5,
          0.6000000000000001,
          0.7000000000000001,
          0.8,
          0.9
         ],
         "xaxis": "x",
         "y": [
          0.49,
          0.49,
          0.49,
          0.49,
          0.54,
          0.47,
          0.47,
          0.5,
          0.5,
          0.51
         ],
         "yaxis": "y"
        },
        {
         "error_y": {
          "array": [
           1.1102230246251565e-16,
           1.1102230246251565e-16,
           0.02048305532764963,
           0.01651934892448517,
           0.03685406656289403,
           0.03502380143083653,
           0.04419150245113747,
           0.034032664048267255,
           0.03667272677193353,
           0.06252466180103122
          ]
         },
         "hovertemplate": "%{y:.4f}",
         "legendgroup": "FingerMovements, Random",
         "line": {
          "color": "#EF553B",
          "dash": "dot"
         },
         "marker": {
          "symbol": "circle"
         },
         "mode": "lines+markers",
         "name": "FingerMovements, Random",
         "orientation": "v",
         "showlegend": true,
         "type": "scatter",
         "x": [
          0,
          0.1,
          0.2,
          0.30000000000000004,
          0.4,
          0.5,
          0.6000000000000001,
          0.7000000000000001,
          0.8,
          0.9
         ],
         "xaxis": "x",
         "y": [
          0.4900000000000001,
          0.4900000000000001,
          0.4926666666666667,
          0.5006666666666667,
          0.5013333333333333,
          0.5100000000000001,
          0.5173333333333334,
          0.5086666666666667,
          0.5013333333333334,
          0.518
         ],
         "yaxis": "y"
        },
        {
         "error_y": {
          "array": [
           1.1102230246251565e-16,
           0,
           0,
           1.1102230246251565e-16,
           1.1102230246251565e-16,
           0,
           0,
           0,
           0,
           0
          ]
         },
         "hovertemplate": "%{y:.4f}",
         "legendgroup": "Epilepsy, Shap",
         "line": {
          "color": "#00cc96",
          "dash": "solid"
         },
         "marker": {
          "symbol": "circle"
         },
         "mode": "lines+markers",
         "name": "Epilepsy, Shap",
         "orientation": "v",
         "showlegend": true,
         "type": "scatter",
         "x": [
          0,
          0.1,
          0.2,
          0.30000000000000004,
          0.4,
          0.5,
          0.6000000000000001,
          0.7000000000000001,
          0.8,
          0.9
         ],
         "xaxis": "x",
         "y": [
          0.9765217391304347,
          0.9773913043478261,
          0.9786956521739131,
          0.974782608695652,
          0.9756521739130436,
          0.9760869565217392,
          0.9760869565217392,
          0.9726086956521739,
          0.9739130434782609,
          0.9695652173913043
         ],
         "yaxis": "y"
        },
        {
         "error_y": {
          "array": [
           1.1102230246251565e-16,
           0.0009914568913905444,
           0.0012487338683210445,
           0.0012446904668744357,
           0.0015913017079780595,
           0.001400932866503718,
           0.0012379221161775411,
           0.002999684923593102,
           0.00409055243184189,
           0.004044075588314236
          ]
         },
         "hovertemplate": "%{y:.4f}",
         "legendgroup": "Epilepsy, Random",
         "line": {
          "color": "#00cc96",
          "dash": "dot"
         },
         "marker": {
          "symbol": "circle"
         },
         "mode": "lines+markers",
         "name": "Epilepsy, Random",
         "orientation": "v",
         "showlegend": true,
         "type": "scatter",
         "x": [
          0,
          0.1,
          0.2,
          0.30000000000000004,
          0.4,
          0.5,
          0.6000000000000001,
          0.7000000000000001,
          0.8,
          0.9
         ],
         "xaxis": "x",
         "y": [
          0.9765217391304349,
          0.9760869565217389,
          0.9755942028985508,
          0.9755362318840581,
          0.9751884057971014,
          0.9729855072463768,
          0.9724347826086959,
          0.9691304347826087,
          0.9595072463768116,
          0.9468985507246376
         ],
         "yaxis": "y"
        },
        {
         "error_y": {
          "array": [
           0,
           0,
           0.0005755854954713431,
           0.0049178046290576025,
           0.0049178046290576025,
           0.0035011498848362215,
           0.006537394547907592,
           0.0025089190081273726,
           0.0011511709909426862,
           0.010936124413955571
          ]
         },
         "hovertemplate": "%{y:.4f}",
         "legendgroup": "WISDM, Shap",
         "line": {
          "color": "#ab63fa",
          "dash": "solid"
         },
         "marker": {
          "symbol": "circle"
         },
         "mode": "lines+markers",
         "name": "WISDM, Shap",
         "orientation": "v",
         "showlegend": true,
         "type": "scatter",
         "x": [
          0,
          0.1,
          0.2,
          0.30000000000000004,
          0.4,
          0.5,
          0.6000000000000001,
          0.7000000000000001,
          0.8,
          0.9
         ],
         "xaxis": "x",
         "y": [
          0.8669108669108669,
          0.8644688644688645,
          0.8579568579568578,
          0.8457468457468457,
          0.8343508343508343,
          0.8221408221408222,
          0.8131868131868133,
          0.7928367928367929,
          0.7733007733007734,
          0.6927146927146928
         ],
         "yaxis": "y"
        },
        {
         "error_y": {
          "array": [
           2.220446049250313e-16,
           0.004333359919969432,
           0.006223780172117325,
           0.008168448484690016,
           0.0076299279807573285,
           0.007378278677167072,
           0.008238717739604363,
           0.013087452332774552,
           0.014897326877680932,
           0.011681408012326668
          ]
         },
         "hovertemplate": "%{y:.4f}",
         "legendgroup": "WISDM, Random",
         "line": {
          "color": "#ab63fa",
          "dash": "dot"
         },
         "marker": {
          "symbol": "circle"
         },
         "mode": "lines+markers",
         "name": "WISDM, Random",
         "orientation": "v",
         "showlegend": true,
         "type": "scatter",
         "x": [
          0,
          0.1,
          0.2,
          0.30000000000000004,
          0.4,
          0.5,
          0.6000000000000001,
          0.7000000000000001,
          0.8,
          0.9
         ],
         "xaxis": "x",
         "y": [
          0.8669108669108672,
          0.8656084656084658,
          0.8597476597476599,
          0.8542938542938544,
          0.8447700447700449,
          0.8264550264550266,
          0.8106634106634109,
          0.7842897842897846,
          0.7251933251933252,
          0.6340252340252338
         ],
         "yaxis": "y"
        },
        {
         "error_y": {
          "array": [
           1.1102230246251565e-16,
           1.1102230246251565e-16,
           0.0012076776667833261,
           0.0006398432586237602,
           0.0012796865172474156,
           0.0008906241232905496,
           0.002719333849150876,
           0.0012796865172474156,
           0.00047988244396782013,
           0.0038390595517423516
          ]
         },
         "hovertemplate": "%{y:.4f}",
         "legendgroup": "HAR, Shap",
         "line": {
          "color": "#FFA15A",
          "dash": "solid"
         },
         "marker": {
          "symbol": "circle"
         },
         "mode": "lines+markers",
         "name": "HAR, Shap",
         "orientation": "v",
         "showlegend": true,
         "type": "scatter",
         "x": [
          0,
          0.1,
          0.2,
          0.30000000000000004,
          0.4,
          0.5,
          0.6000000000000001,
          0.7000000000000001,
          0.8,
          0.9
         ],
         "xaxis": "x",
         "y": [
          0.8805564981336952,
          0.8839497794367152,
          0.8815744825246012,
          0.8799909512498586,
          0.8806696075104625,
          0.872638841759982,
          0.8661916072842438,
          0.8577084040266939,
          0.8449270444519851,
          0.813369528333899
         ],
         "yaxis": "y"
        },
        {
         "error_y": {
          "array": [
           2.220446049250313e-16,
           0.002352457508671985,
           0.0020971344752542653,
           0.001961722283785001,
           0.0017821099324720128,
           0.0028627176601173396,
           0.003549111988133747,
           0.0035115679967301933,
           0.004437925351346817,
           0.007226759813291017
          ]
         },
         "hovertemplate": "%{y:.4f}",
         "legendgroup": "HAR, Random",
         "line": {
          "color": "#FFA15A",
          "dash": "dot"
         },
         "marker": {
          "symbol": "circle"
         },
         "mode": "lines+markers",
         "name": "HAR, Random",
         "orientation": "v",
         "showlegend": true,
         "type": "scatter",
         "x": [
          0,
          0.1,
          0.2,
          0.30000000000000004,
          0.4,
          0.5,
          0.6000000000000001,
          0.7000000000000001,
          0.8,
          0.9
         ],
         "xaxis": "x",
         "y": [
          0.8805564981336951,
          0.8812577762696527,
          0.8797873543716774,
          0.8755796855559325,
          0.8721185386268521,
          0.864065151001018,
          0.854518719601855,
          0.8436375975568374,
          0.8173962221468158,
          0.7647098744485918
         ],
         "yaxis": "y"
        },
        {
         "error_y": {
          "array": [
           0,
           0,
           0,
           0.00026952802789653507,
           0.0020214602092239347,
           0.0012128761255343818,
           0.0012128761255343818,
           0,
           0,
           1.1102230246251565e-16
          ]
         },
         "hovertemplate": "%{y:.4f}",
         "legendgroup": "PenDigits, Shap",
         "line": {
          "color": "#19d3f3",
          "dash": "solid"
         },
         "marker": {
          "symbol": "circle"
         },
         "mode": "lines+markers",
         "name": "PenDigits, Shap",
         "orientation": "v",
         "showlegend": true,
         "type": "scatter",
         "x": [
          0,
          0.1,
          0.2,
          0.30000000000000004,
          0.4,
          0.5,
          0.6000000000000001,
          0.7000000000000001,
          0.8,
          0.9
         ],
         "xaxis": "x",
         "y": [
          0.9745568896512292,
          0.9745568896512292,
          0.9742710120068611,
          0.9747474747474746,
          0.9731275014293882,
          0.9728416237850199,
          0.9728416237850199,
          0.9696969696969697,
          0.9614065180102916,
          0.9311034877072611
         ],
         "yaxis": "y"
        },
        {
         "error_y": {
          "array": [
           1.1102230246251565e-16,
           1.1102230246251565e-16,
           0.0008471930920866479,
           0.000780235924926973,
           0.0016365922958664705,
           0.0012292369351322387,
           0.0013481790877703348,
           0.0023369805307367026,
           0.0012948570803478483,
           0.005448067574730345
          ]
         },
         "hovertemplate": "%{y:.4f}",
         "legendgroup": "PenDigits, Random",
         "line": {
          "color": "#19d3f3",
          "dash": "dot"
         },
         "marker": {
          "symbol": "circle"
         },
         "mode": "lines+markers",
         "name": "PenDigits, Random",
         "orientation": "v",
         "showlegend": true,
         "type": "scatter",
         "x": [
          0,
          0.1,
          0.2,
          0.30000000000000004,
          0.4,
          0.5,
          0.6000000000000001,
          0.7000000000000001,
          0.8,
          0.9
         ],
         "xaxis": "x",
         "y": [
          0.9745568896512291,
          0.9745568896512291,
          0.972879740804269,
          0.9727082142176483,
          0.9703830760434532,
          0.9677911187345151,
          0.9684391080617496,
          0.9633504859919954,
          0.9461025347817801,
          0.8473032208881265
         ],
         "yaxis": "y"
        }
       ],
       "layout": {
        "hovermode": "x",
        "legend": {
         "title": {
          "text": "Dataset, Masking Method"
         },
         "tracegroupgap": 0
        },
        "margin": {
         "t": 60
        },
        "template": {
         "data": {
          "bar": [
           {
            "error_x": {
             "color": "#2a3f5f"
            },
            "error_y": {
             "color": "#2a3f5f"
            },
            "marker": {
             "line": {
              "color": "#E5ECF6",
              "width": 0.5
             },
             "pattern": {
              "fillmode": "overlay",
              "size": 10,
              "solidity": 0.2
             }
            },
            "type": "bar"
           }
          ],
          "barpolar": [
           {
            "marker": {
             "line": {
              "color": "#E5ECF6",
              "width": 0.5
             },
             "pattern": {
              "fillmode": "overlay",
              "size": 10,
              "solidity": 0.2
             }
            },
            "type": "barpolar"
           }
          ],
          "carpet": [
           {
            "aaxis": {
             "endlinecolor": "#2a3f5f",
             "gridcolor": "white",
             "linecolor": "white",
             "minorgridcolor": "white",
             "startlinecolor": "#2a3f5f"
            },
            "baxis": {
             "endlinecolor": "#2a3f5f",
             "gridcolor": "white",
             "linecolor": "white",
             "minorgridcolor": "white",
             "startlinecolor": "#2a3f5f"
            },
            "type": "carpet"
           }
          ],
          "choropleth": [
           {
            "colorbar": {
             "outlinewidth": 0,
             "ticks": ""
            },
            "type": "choropleth"
           }
          ],
          "contour": [
           {
            "colorbar": {
             "outlinewidth": 0,
             "ticks": ""
            },
            "colorscale": [
             [
              0,
              "#0d0887"
             ],
             [
              0.1111111111111111,
              "#46039f"
             ],
             [
              0.2222222222222222,
              "#7201a8"
             ],
             [
              0.3333333333333333,
              "#9c179e"
             ],
             [
              0.4444444444444444,
              "#bd3786"
             ],
             [
              0.5555555555555556,
              "#d8576b"
             ],
             [
              0.6666666666666666,
              "#ed7953"
             ],
             [
              0.7777777777777778,
              "#fb9f3a"
             ],
             [
              0.8888888888888888,
              "#fdca26"
             ],
             [
              1,
              "#f0f921"
             ]
            ],
            "type": "contour"
           }
          ],
          "contourcarpet": [
           {
            "colorbar": {
             "outlinewidth": 0,
             "ticks": ""
            },
            "type": "contourcarpet"
           }
          ],
          "heatmap": [
           {
            "colorbar": {
             "outlinewidth": 0,
             "ticks": ""
            },
            "colorscale": [
             [
              0,
              "#0d0887"
             ],
             [
              0.1111111111111111,
              "#46039f"
             ],
             [
              0.2222222222222222,
              "#7201a8"
             ],
             [
              0.3333333333333333,
              "#9c179e"
             ],
             [
              0.4444444444444444,
              "#bd3786"
             ],
             [
              0.5555555555555556,
              "#d8576b"
             ],
             [
              0.6666666666666666,
              "#ed7953"
             ],
             [
              0.7777777777777778,
              "#fb9f3a"
             ],
             [
              0.8888888888888888,
              "#fdca26"
             ],
             [
              1,
              "#f0f921"
             ]
            ],
            "type": "heatmap"
           }
          ],
          "heatmapgl": [
           {
            "colorbar": {
             "outlinewidth": 0,
             "ticks": ""
            },
            "colorscale": [
             [
              0,
              "#0d0887"
             ],
             [
              0.1111111111111111,
              "#46039f"
             ],
             [
              0.2222222222222222,
              "#7201a8"
             ],
             [
              0.3333333333333333,
              "#9c179e"
             ],
             [
              0.4444444444444444,
              "#bd3786"
             ],
             [
              0.5555555555555556,
              "#d8576b"
             ],
             [
              0.6666666666666666,
              "#ed7953"
             ],
             [
              0.7777777777777778,
              "#fb9f3a"
             ],
             [
              0.8888888888888888,
              "#fdca26"
             ],
             [
              1,
              "#f0f921"
             ]
            ],
            "type": "heatmapgl"
           }
          ],
          "histogram": [
           {
            "marker": {
             "pattern": {
              "fillmode": "overlay",
              "size": 10,
              "solidity": 0.2
             }
            },
            "type": "histogram"
           }
          ],
          "histogram2d": [
           {
            "colorbar": {
             "outlinewidth": 0,
             "ticks": ""
            },
            "colorscale": [
             [
              0,
              "#0d0887"
             ],
             [
              0.1111111111111111,
              "#46039f"
             ],
             [
              0.2222222222222222,
              "#7201a8"
             ],
             [
              0.3333333333333333,
              "#9c179e"
             ],
             [
              0.4444444444444444,
              "#bd3786"
             ],
             [
              0.5555555555555556,
              "#d8576b"
             ],
             [
              0.6666666666666666,
              "#ed7953"
             ],
             [
              0.7777777777777778,
              "#fb9f3a"
             ],
             [
              0.8888888888888888,
              "#fdca26"
             ],
             [
              1,
              "#f0f921"
             ]
            ],
            "type": "histogram2d"
           }
          ],
          "histogram2dcontour": [
           {
            "colorbar": {
             "outlinewidth": 0,
             "ticks": ""
            },
            "colorscale": [
             [
              0,
              "#0d0887"
             ],
             [
              0.1111111111111111,
              "#46039f"
             ],
             [
              0.2222222222222222,
              "#7201a8"
             ],
             [
              0.3333333333333333,
              "#9c179e"
             ],
             [
              0.4444444444444444,
              "#bd3786"
             ],
             [
              0.5555555555555556,
              "#d8576b"
             ],
             [
              0.6666666666666666,
              "#ed7953"
             ],
             [
              0.7777777777777778,
              "#fb9f3a"
             ],
             [
              0.8888888888888888,
              "#fdca26"
             ],
             [
              1,
              "#f0f921"
             ]
            ],
            "type": "histogram2dcontour"
           }
          ],
          "mesh3d": [
           {
            "colorbar": {
             "outlinewidth": 0,
             "ticks": ""
            },
            "type": "mesh3d"
           }
          ],
          "parcoords": [
           {
            "line": {
             "colorbar": {
              "outlinewidth": 0,
              "ticks": ""
             }
            },
            "type": "parcoords"
           }
          ],
          "pie": [
           {
            "automargin": true,
            "type": "pie"
           }
          ],
          "scatter": [
           {
            "fillpattern": {
             "fillmode": "overlay",
             "size": 10,
             "solidity": 0.2
            },
            "type": "scatter"
           }
          ],
          "scatter3d": [
           {
            "line": {
             "colorbar": {
              "outlinewidth": 0,
              "ticks": ""
             }
            },
            "marker": {
             "colorbar": {
              "outlinewidth": 0,
              "ticks": ""
             }
            },
            "type": "scatter3d"
           }
          ],
          "scattercarpet": [
           {
            "marker": {
             "colorbar": {
              "outlinewidth": 0,
              "ticks": ""
             }
            },
            "type": "scattercarpet"
           }
          ],
          "scattergeo": [
           {
            "marker": {
             "colorbar": {
              "outlinewidth": 0,
              "ticks": ""
             }
            },
            "type": "scattergeo"
           }
          ],
          "scattergl": [
           {
            "marker": {
             "colorbar": {
              "outlinewidth": 0,
              "ticks": ""
             }
            },
            "type": "scattergl"
           }
          ],
          "scattermapbox": [
           {
            "marker": {
             "colorbar": {
              "outlinewidth": 0,
              "ticks": ""
             }
            },
            "type": "scattermapbox"
           }
          ],
          "scatterpolar": [
           {
            "marker": {
             "colorbar": {
              "outlinewidth": 0,
              "ticks": ""
             }
            },
            "type": "scatterpolar"
           }
          ],
          "scatterpolargl": [
           {
            "marker": {
             "colorbar": {
              "outlinewidth": 0,
              "ticks": ""
             }
            },
            "type": "scatterpolargl"
           }
          ],
          "scatterternary": [
           {
            "marker": {
             "colorbar": {
              "outlinewidth": 0,
              "ticks": ""
             }
            },
            "type": "scatterternary"
           }
          ],
          "surface": [
           {
            "colorbar": {
             "outlinewidth": 0,
             "ticks": ""
            },
            "colorscale": [
             [
              0,
              "#0d0887"
             ],
             [
              0.1111111111111111,
              "#46039f"
             ],
             [
              0.2222222222222222,
              "#7201a8"
             ],
             [
              0.3333333333333333,
              "#9c179e"
             ],
             [
              0.4444444444444444,
              "#bd3786"
             ],
             [
              0.5555555555555556,
              "#d8576b"
             ],
             [
              0.6666666666666666,
              "#ed7953"
             ],
             [
              0.7777777777777778,
              "#fb9f3a"
             ],
             [
              0.8888888888888888,
              "#fdca26"
             ],
             [
              1,
              "#f0f921"
             ]
            ],
            "type": "surface"
           }
          ],
          "table": [
           {
            "cells": {
             "fill": {
              "color": "#EBF0F8"
             },
             "line": {
              "color": "white"
             }
            },
            "header": {
             "fill": {
              "color": "#C8D4E3"
             },
             "line": {
              "color": "white"
             }
            },
            "type": "table"
           }
          ]
         },
         "layout": {
          "annotationdefaults": {
           "arrowcolor": "#2a3f5f",
           "arrowhead": 0,
           "arrowwidth": 1
          },
          "autotypenumbers": "strict",
          "coloraxis": {
           "colorbar": {
            "outlinewidth": 0,
            "ticks": ""
           }
          },
          "colorscale": {
           "diverging": [
            [
             0,
             "#8e0152"
            ],
            [
             0.1,
             "#c51b7d"
            ],
            [
             0.2,
             "#de77ae"
            ],
            [
             0.3,
             "#f1b6da"
            ],
            [
             0.4,
             "#fde0ef"
            ],
            [
             0.5,
             "#f7f7f7"
            ],
            [
             0.6,
             "#e6f5d0"
            ],
            [
             0.7,
             "#b8e186"
            ],
            [
             0.8,
             "#7fbc41"
            ],
            [
             0.9,
             "#4d9221"
            ],
            [
             1,
             "#276419"
            ]
           ],
           "sequential": [
            [
             0,
             "#0d0887"
            ],
            [
             0.1111111111111111,
             "#46039f"
            ],
            [
             0.2222222222222222,
             "#7201a8"
            ],
            [
             0.3333333333333333,
             "#9c179e"
            ],
            [
             0.4444444444444444,
             "#bd3786"
            ],
            [
             0.5555555555555556,
             "#d8576b"
            ],
            [
             0.6666666666666666,
             "#ed7953"
            ],
            [
             0.7777777777777778,
             "#fb9f3a"
            ],
            [
             0.8888888888888888,
             "#fdca26"
            ],
            [
             1,
             "#f0f921"
            ]
           ],
           "sequentialminus": [
            [
             0,
             "#0d0887"
            ],
            [
             0.1111111111111111,
             "#46039f"
            ],
            [
             0.2222222222222222,
             "#7201a8"
            ],
            [
             0.3333333333333333,
             "#9c179e"
            ],
            [
             0.4444444444444444,
             "#bd3786"
            ],
            [
             0.5555555555555556,
             "#d8576b"
            ],
            [
             0.6666666666666666,
             "#ed7953"
            ],
            [
             0.7777777777777778,
             "#fb9f3a"
            ],
            [
             0.8888888888888888,
             "#fdca26"
            ],
            [
             1,
             "#f0f921"
            ]
           ]
          },
          "colorway": [
           "#636efa",
           "#EF553B",
           "#00cc96",
           "#ab63fa",
           "#FFA15A",
           "#19d3f3",
           "#FF6692",
           "#B6E880",
           "#FF97FF",
           "#FECB52"
          ],
          "font": {
           "color": "#2a3f5f"
          },
          "geo": {
           "bgcolor": "white",
           "lakecolor": "white",
           "landcolor": "#E5ECF6",
           "showlakes": true,
           "showland": true,
           "subunitcolor": "white"
          },
          "hoverlabel": {
           "align": "left"
          },
          "hovermode": "closest",
          "mapbox": {
           "style": "light"
          },
          "paper_bgcolor": "white",
          "plot_bgcolor": "#E5ECF6",
          "polar": {
           "angularaxis": {
            "gridcolor": "white",
            "linecolor": "white",
            "ticks": ""
           },
           "bgcolor": "#E5ECF6",
           "radialaxis": {
            "gridcolor": "white",
            "linecolor": "white",
            "ticks": ""
           }
          },
          "scene": {
           "xaxis": {
            "backgroundcolor": "#E5ECF6",
            "gridcolor": "white",
            "gridwidth": 2,
            "linecolor": "white",
            "showbackground": true,
            "ticks": "",
            "zerolinecolor": "white"
           },
           "yaxis": {
            "backgroundcolor": "#E5ECF6",
            "gridcolor": "white",
            "gridwidth": 2,
            "linecolor": "white",
            "showbackground": true,
            "ticks": "",
            "zerolinecolor": "white"
           },
           "zaxis": {
            "backgroundcolor": "#E5ECF6",
            "gridcolor": "white",
            "gridwidth": 2,
            "linecolor": "white",
            "showbackground": true,
            "ticks": "",
            "zerolinecolor": "white"
           }
          },
          "shapedefaults": {
           "line": {
            "color": "#2a3f5f"
           }
          },
          "ternary": {
           "aaxis": {
            "gridcolor": "white",
            "linecolor": "white",
            "ticks": ""
           },
           "baxis": {
            "gridcolor": "white",
            "linecolor": "white",
            "ticks": ""
           },
           "bgcolor": "#E5ECF6",
           "caxis": {
            "gridcolor": "white",
            "linecolor": "white",
            "ticks": ""
           }
          },
          "title": {
           "x": 0.05
          },
          "xaxis": {
           "automargin": true,
           "gridcolor": "white",
           "linecolor": "white",
           "ticks": "",
           "title": {
            "standoff": 15
           },
           "zerolinecolor": "white",
           "zerolinewidth": 2
          },
          "yaxis": {
           "automargin": true,
           "gridcolor": "white",
           "linecolor": "white",
           "ticks": "",
           "title": {
            "standoff": 15
           },
           "zerolinecolor": "white",
           "zerolinewidth": 2
          }
         }
        },
        "xaxis": {
         "anchor": "y",
         "domain": [
          0,
          1
         ],
         "title": {
          "text": "Masked Percentage"
         }
        },
        "yaxis": {
         "anchor": "x",
         "domain": [
          0,
          1
         ],
         "title": {
          "text": "Accuracy"
         }
        }
       }
      },
      "text/html": [
       "<div>                            <div id=\"fedc1f43-7036-49d9-923b-cfffd09b6f2c\" class=\"plotly-graph-div\" style=\"height:525px; width:100%;\"></div>            <script type=\"text/javascript\">                require([\"plotly\"], function(Plotly) {                    window.PLOTLYENV=window.PLOTLYENV || {};                                    if (document.getElementById(\"fedc1f43-7036-49d9-923b-cfffd09b6f2c\")) {                    Plotly.newPlot(                        \"fedc1f43-7036-49d9-923b-cfffd09b6f2c\",                        [{\"error_y\":{\"array\":[0.0,0.0,0.0023570226039551605,0.016499158227686123,0.011785113019775804,0.0023570226039551605,0.0,0.01178511301977575,0.0,0.0]},\"hovertemplate\":\"%{y:.4f}\",\"legendgroup\":\"Synthetic, Shap\",\"line\":{\"color\":\"#636efa\",\"dash\":\"solid\"},\"marker\":{\"symbol\":\"circle\"},\"mode\":\"lines+markers\",\"name\":\"Synthetic, Shap\",\"orientation\":\"v\",\"showlegend\":true,\"x\":[0.0,0.1,0.2,0.30000000000000004,0.4,0.5,0.6000000000000001,0.7000000000000001,0.8,0.9],\"xaxis\":\"x\",\"y\":[0.945,0.935,0.8883333333333333,0.9183333333333334,0.8766666666666666,0.8316666666666667,0.83,0.8166666666666668,0.785,0.665],\"yaxis\":\"y\",\"type\":\"scatter\"},{\"error_y\":{\"array\":[1.1102230246251565e-16,0.012578641509408779,0.012970050972229157,0.023237900077244522,0.02064515008960269,0.02307957249748502,0.03087609647175843,0.03261901286060017,0.021108186931983387,0.03383620677453206]},\"hovertemplate\":\"%{y:.4f}\",\"legendgroup\":\"Synthetic, Random\",\"line\":{\"color\":\"#636efa\",\"dash\":\"dot\"},\"marker\":{\"symbol\":\"circle\"},\"mode\":\"lines+markers\",\"name\":\"Synthetic, Random\",\"orientation\":\"v\",\"showlegend\":true,\"x\":[0.0,0.1,0.2,0.30000000000000004,0.4,0.5,0.6000000000000001,0.7000000000000001,0.8,0.9],\"xaxis\":\"x\",\"y\":[0.9450000000000001,0.9313333333333335,0.9063333333333332,0.8699999999999999,0.8323333333333333,0.772,0.715,0.6540000000000001,0.5666666666666667,0.47033333333333327],\"yaxis\":\"y\",\"type\":\"scatter\"},{\"error_y\":{\"array\":[0.0,0.0,0.0,0.0,0.0,0.0,0.0,0.0,0.0,0.0]},\"hovertemplate\":\"%{y:.4f}\",\"legendgroup\":\"FingerMovements, Shap\",\"line\":{\"color\":\"#EF553B\",\"dash\":\"solid\"},\"marker\":{\"symbol\":\"circle\"},\"mode\":\"lines+markers\",\"name\":\"FingerMovements, Shap\",\"orientation\":\"v\",\"showlegend\":true,\"x\":[0.0,0.1,0.2,0.30000000000000004,0.4,0.5,0.6000000000000001,0.7000000000000001,0.8,0.9],\"xaxis\":\"x\",\"y\":[0.49,0.49,0.49,0.49,0.54,0.47,0.47,0.5,0.5,0.51],\"yaxis\":\"y\",\"type\":\"scatter\"},{\"error_y\":{\"array\":[1.1102230246251565e-16,1.1102230246251565e-16,0.02048305532764963,0.01651934892448517,0.03685406656289403,0.03502380143083653,0.04419150245113747,0.034032664048267255,0.03667272677193353,0.06252466180103122]},\"hovertemplate\":\"%{y:.4f}\",\"legendgroup\":\"FingerMovements, Random\",\"line\":{\"color\":\"#EF553B\",\"dash\":\"dot\"},\"marker\":{\"symbol\":\"circle\"},\"mode\":\"lines+markers\",\"name\":\"FingerMovements, Random\",\"orientation\":\"v\",\"showlegend\":true,\"x\":[0.0,0.1,0.2,0.30000000000000004,0.4,0.5,0.6000000000000001,0.7000000000000001,0.8,0.9],\"xaxis\":\"x\",\"y\":[0.4900000000000001,0.4900000000000001,0.4926666666666667,0.5006666666666667,0.5013333333333333,0.5100000000000001,0.5173333333333334,0.5086666666666667,0.5013333333333334,0.518],\"yaxis\":\"y\",\"type\":\"scatter\"},{\"error_y\":{\"array\":[1.1102230246251565e-16,0.0,0.0,1.1102230246251565e-16,1.1102230246251565e-16,0.0,0.0,0.0,0.0,0.0]},\"hovertemplate\":\"%{y:.4f}\",\"legendgroup\":\"Epilepsy, Shap\",\"line\":{\"color\":\"#00cc96\",\"dash\":\"solid\"},\"marker\":{\"symbol\":\"circle\"},\"mode\":\"lines+markers\",\"name\":\"Epilepsy, Shap\",\"orientation\":\"v\",\"showlegend\":true,\"x\":[0.0,0.1,0.2,0.30000000000000004,0.4,0.5,0.6000000000000001,0.7000000000000001,0.8,0.9],\"xaxis\":\"x\",\"y\":[0.9765217391304347,0.9773913043478261,0.9786956521739131,0.974782608695652,0.9756521739130436,0.9760869565217392,0.9760869565217392,0.9726086956521739,0.9739130434782609,0.9695652173913043],\"yaxis\":\"y\",\"type\":\"scatter\"},{\"error_y\":{\"array\":[1.1102230246251565e-16,0.0009914568913905444,0.0012487338683210445,0.0012446904668744357,0.0015913017079780595,0.001400932866503718,0.0012379221161775411,0.002999684923593102,0.00409055243184189,0.004044075588314236]},\"hovertemplate\":\"%{y:.4f}\",\"legendgroup\":\"Epilepsy, Random\",\"line\":{\"color\":\"#00cc96\",\"dash\":\"dot\"},\"marker\":{\"symbol\":\"circle\"},\"mode\":\"lines+markers\",\"name\":\"Epilepsy, Random\",\"orientation\":\"v\",\"showlegend\":true,\"x\":[0.0,0.1,0.2,0.30000000000000004,0.4,0.5,0.6000000000000001,0.7000000000000001,0.8,0.9],\"xaxis\":\"x\",\"y\":[0.9765217391304349,0.9760869565217389,0.9755942028985508,0.9755362318840581,0.9751884057971014,0.9729855072463768,0.9724347826086959,0.9691304347826087,0.9595072463768116,0.9468985507246376],\"yaxis\":\"y\",\"type\":\"scatter\"},{\"error_y\":{\"array\":[0.0,0.0,0.0005755854954713431,0.0049178046290576025,0.0049178046290576025,0.0035011498848362215,0.006537394547907592,0.0025089190081273726,0.0011511709909426862,0.010936124413955571]},\"hovertemplate\":\"%{y:.4f}\",\"legendgroup\":\"WISDM, Shap\",\"line\":{\"color\":\"#ab63fa\",\"dash\":\"solid\"},\"marker\":{\"symbol\":\"circle\"},\"mode\":\"lines+markers\",\"name\":\"WISDM, Shap\",\"orientation\":\"v\",\"showlegend\":true,\"x\":[0.0,0.1,0.2,0.30000000000000004,0.4,0.5,0.6000000000000001,0.7000000000000001,0.8,0.9],\"xaxis\":\"x\",\"y\":[0.8669108669108669,0.8644688644688645,0.8579568579568578,0.8457468457468457,0.8343508343508343,0.8221408221408222,0.8131868131868133,0.7928367928367929,0.7733007733007734,0.6927146927146928],\"yaxis\":\"y\",\"type\":\"scatter\"},{\"error_y\":{\"array\":[2.220446049250313e-16,0.004333359919969432,0.006223780172117325,0.008168448484690016,0.0076299279807573285,0.007378278677167072,0.008238717739604363,0.013087452332774552,0.014897326877680932,0.011681408012326668]},\"hovertemplate\":\"%{y:.4f}\",\"legendgroup\":\"WISDM, Random\",\"line\":{\"color\":\"#ab63fa\",\"dash\":\"dot\"},\"marker\":{\"symbol\":\"circle\"},\"mode\":\"lines+markers\",\"name\":\"WISDM, Random\",\"orientation\":\"v\",\"showlegend\":true,\"x\":[0.0,0.1,0.2,0.30000000000000004,0.4,0.5,0.6000000000000001,0.7000000000000001,0.8,0.9],\"xaxis\":\"x\",\"y\":[0.8669108669108672,0.8656084656084658,0.8597476597476599,0.8542938542938544,0.8447700447700449,0.8264550264550266,0.8106634106634109,0.7842897842897846,0.7251933251933252,0.6340252340252338],\"yaxis\":\"y\",\"type\":\"scatter\"},{\"error_y\":{\"array\":[1.1102230246251565e-16,1.1102230246251565e-16,0.0012076776667833261,0.0006398432586237602,0.0012796865172474156,0.0008906241232905496,0.002719333849150876,0.0012796865172474156,0.00047988244396782013,0.0038390595517423516]},\"hovertemplate\":\"%{y:.4f}\",\"legendgroup\":\"HAR, Shap\",\"line\":{\"color\":\"#FFA15A\",\"dash\":\"solid\"},\"marker\":{\"symbol\":\"circle\"},\"mode\":\"lines+markers\",\"name\":\"HAR, Shap\",\"orientation\":\"v\",\"showlegend\":true,\"x\":[0.0,0.1,0.2,0.30000000000000004,0.4,0.5,0.6000000000000001,0.7000000000000001,0.8,0.9],\"xaxis\":\"x\",\"y\":[0.8805564981336952,0.8839497794367152,0.8815744825246012,0.8799909512498586,0.8806696075104625,0.872638841759982,0.8661916072842438,0.8577084040266939,0.8449270444519851,0.813369528333899],\"yaxis\":\"y\",\"type\":\"scatter\"},{\"error_y\":{\"array\":[2.220446049250313e-16,0.002352457508671985,0.0020971344752542653,0.001961722283785001,0.0017821099324720128,0.0028627176601173396,0.003549111988133747,0.0035115679967301933,0.004437925351346817,0.007226759813291017]},\"hovertemplate\":\"%{y:.4f}\",\"legendgroup\":\"HAR, Random\",\"line\":{\"color\":\"#FFA15A\",\"dash\":\"dot\"},\"marker\":{\"symbol\":\"circle\"},\"mode\":\"lines+markers\",\"name\":\"HAR, Random\",\"orientation\":\"v\",\"showlegend\":true,\"x\":[0.0,0.1,0.2,0.30000000000000004,0.4,0.5,0.6000000000000001,0.7000000000000001,0.8,0.9],\"xaxis\":\"x\",\"y\":[0.8805564981336951,0.8812577762696527,0.8797873543716774,0.8755796855559325,0.8721185386268521,0.864065151001018,0.854518719601855,0.8436375975568374,0.8173962221468158,0.7647098744485918],\"yaxis\":\"y\",\"type\":\"scatter\"},{\"error_y\":{\"array\":[0.0,0.0,0.0,0.00026952802789653507,0.0020214602092239347,0.0012128761255343818,0.0012128761255343818,0.0,0.0,1.1102230246251565e-16]},\"hovertemplate\":\"%{y:.4f}\",\"legendgroup\":\"PenDigits, Shap\",\"line\":{\"color\":\"#19d3f3\",\"dash\":\"solid\"},\"marker\":{\"symbol\":\"circle\"},\"mode\":\"lines+markers\",\"name\":\"PenDigits, Shap\",\"orientation\":\"v\",\"showlegend\":true,\"x\":[0.0,0.1,0.2,0.30000000000000004,0.4,0.5,0.6000000000000001,0.7000000000000001,0.8,0.9],\"xaxis\":\"x\",\"y\":[0.9745568896512292,0.9745568896512292,0.9742710120068611,0.9747474747474746,0.9731275014293882,0.9728416237850199,0.9728416237850199,0.9696969696969697,0.9614065180102916,0.9311034877072611],\"yaxis\":\"y\",\"type\":\"scatter\"},{\"error_y\":{\"array\":[1.1102230246251565e-16,1.1102230246251565e-16,0.0008471930920866479,0.000780235924926973,0.0016365922958664705,0.0012292369351322387,0.0013481790877703348,0.0023369805307367026,0.0012948570803478483,0.005448067574730345]},\"hovertemplate\":\"%{y:.4f}\",\"legendgroup\":\"PenDigits, Random\",\"line\":{\"color\":\"#19d3f3\",\"dash\":\"dot\"},\"marker\":{\"symbol\":\"circle\"},\"mode\":\"lines+markers\",\"name\":\"PenDigits, Random\",\"orientation\":\"v\",\"showlegend\":true,\"x\":[0.0,0.1,0.2,0.30000000000000004,0.4,0.5,0.6000000000000001,0.7000000000000001,0.8,0.9],\"xaxis\":\"x\",\"y\":[0.9745568896512291,0.9745568896512291,0.972879740804269,0.9727082142176483,0.9703830760434532,0.9677911187345151,0.9684391080617496,0.9633504859919954,0.9461025347817801,0.8473032208881265],\"yaxis\":\"y\",\"type\":\"scatter\"}],                        {\"template\":{\"data\":{\"histogram2dcontour\":[{\"type\":\"histogram2dcontour\",\"colorbar\":{\"outlinewidth\":0,\"ticks\":\"\"},\"colorscale\":[[0.0,\"#0d0887\"],[0.1111111111111111,\"#46039f\"],[0.2222222222222222,\"#7201a8\"],[0.3333333333333333,\"#9c179e\"],[0.4444444444444444,\"#bd3786\"],[0.5555555555555556,\"#d8576b\"],[0.6666666666666666,\"#ed7953\"],[0.7777777777777778,\"#fb9f3a\"],[0.8888888888888888,\"#fdca26\"],[1.0,\"#f0f921\"]]}],\"choropleth\":[{\"type\":\"choropleth\",\"colorbar\":{\"outlinewidth\":0,\"ticks\":\"\"}}],\"histogram2d\":[{\"type\":\"histogram2d\",\"colorbar\":{\"outlinewidth\":0,\"ticks\":\"\"},\"colorscale\":[[0.0,\"#0d0887\"],[0.1111111111111111,\"#46039f\"],[0.2222222222222222,\"#7201a8\"],[0.3333333333333333,\"#9c179e\"],[0.4444444444444444,\"#bd3786\"],[0.5555555555555556,\"#d8576b\"],[0.6666666666666666,\"#ed7953\"],[0.7777777777777778,\"#fb9f3a\"],[0.8888888888888888,\"#fdca26\"],[1.0,\"#f0f921\"]]}],\"heatmap\":[{\"type\":\"heatmap\",\"colorbar\":{\"outlinewidth\":0,\"ticks\":\"\"},\"colorscale\":[[0.0,\"#0d0887\"],[0.1111111111111111,\"#46039f\"],[0.2222222222222222,\"#7201a8\"],[0.3333333333333333,\"#9c179e\"],[0.4444444444444444,\"#bd3786\"],[0.5555555555555556,\"#d8576b\"],[0.6666666666666666,\"#ed7953\"],[0.7777777777777778,\"#fb9f3a\"],[0.8888888888888888,\"#fdca26\"],[1.0,\"#f0f921\"]]}],\"heatmapgl\":[{\"type\":\"heatmapgl\",\"colorbar\":{\"outlinewidth\":0,\"ticks\":\"\"},\"colorscale\":[[0.0,\"#0d0887\"],[0.1111111111111111,\"#46039f\"],[0.2222222222222222,\"#7201a8\"],[0.3333333333333333,\"#9c179e\"],[0.4444444444444444,\"#bd3786\"],[0.5555555555555556,\"#d8576b\"],[0.6666666666666666,\"#ed7953\"],[0.7777777777777778,\"#fb9f3a\"],[0.8888888888888888,\"#fdca26\"],[1.0,\"#f0f921\"]]}],\"contourcarpet\":[{\"type\":\"contourcarpet\",\"colorbar\":{\"outlinewidth\":0,\"ticks\":\"\"}}],\"contour\":[{\"type\":\"contour\",\"colorbar\":{\"outlinewidth\":0,\"ticks\":\"\"},\"colorscale\":[[0.0,\"#0d0887\"],[0.1111111111111111,\"#46039f\"],[0.2222222222222222,\"#7201a8\"],[0.3333333333333333,\"#9c179e\"],[0.4444444444444444,\"#bd3786\"],[0.5555555555555556,\"#d8576b\"],[0.6666666666666666,\"#ed7953\"],[0.7777777777777778,\"#fb9f3a\"],[0.8888888888888888,\"#fdca26\"],[1.0,\"#f0f921\"]]}],\"surface\":[{\"type\":\"surface\",\"colorbar\":{\"outlinewidth\":0,\"ticks\":\"\"},\"colorscale\":[[0.0,\"#0d0887\"],[0.1111111111111111,\"#46039f\"],[0.2222222222222222,\"#7201a8\"],[0.3333333333333333,\"#9c179e\"],[0.4444444444444444,\"#bd3786\"],[0.5555555555555556,\"#d8576b\"],[0.6666666666666666,\"#ed7953\"],[0.7777777777777778,\"#fb9f3a\"],[0.8888888888888888,\"#fdca26\"],[1.0,\"#f0f921\"]]}],\"mesh3d\":[{\"type\":\"mesh3d\",\"colorbar\":{\"outlinewidth\":0,\"ticks\":\"\"}}],\"scatter\":[{\"fillpattern\":{\"fillmode\":\"overlay\",\"size\":10,\"solidity\":0.2},\"type\":\"scatter\"}],\"parcoords\":[{\"type\":\"parcoords\",\"line\":{\"colorbar\":{\"outlinewidth\":0,\"ticks\":\"\"}}}],\"scatterpolargl\":[{\"type\":\"scatterpolargl\",\"marker\":{\"colorbar\":{\"outlinewidth\":0,\"ticks\":\"\"}}}],\"bar\":[{\"error_x\":{\"color\":\"#2a3f5f\"},\"error_y\":{\"color\":\"#2a3f5f\"},\"marker\":{\"line\":{\"color\":\"#E5ECF6\",\"width\":0.5},\"pattern\":{\"fillmode\":\"overlay\",\"size\":10,\"solidity\":0.2}},\"type\":\"bar\"}],\"scattergeo\":[{\"type\":\"scattergeo\",\"marker\":{\"colorbar\":{\"outlinewidth\":0,\"ticks\":\"\"}}}],\"scatterpolar\":[{\"type\":\"scatterpolar\",\"marker\":{\"colorbar\":{\"outlinewidth\":0,\"ticks\":\"\"}}}],\"histogram\":[{\"marker\":{\"pattern\":{\"fillmode\":\"overlay\",\"size\":10,\"solidity\":0.2}},\"type\":\"histogram\"}],\"scattergl\":[{\"type\":\"scattergl\",\"marker\":{\"colorbar\":{\"outlinewidth\":0,\"ticks\":\"\"}}}],\"scatter3d\":[{\"type\":\"scatter3d\",\"line\":{\"colorbar\":{\"outlinewidth\":0,\"ticks\":\"\"}},\"marker\":{\"colorbar\":{\"outlinewidth\":0,\"ticks\":\"\"}}}],\"scattermapbox\":[{\"type\":\"scattermapbox\",\"marker\":{\"colorbar\":{\"outlinewidth\":0,\"ticks\":\"\"}}}],\"scatterternary\":[{\"type\":\"scatterternary\",\"marker\":{\"colorbar\":{\"outlinewidth\":0,\"ticks\":\"\"}}}],\"scattercarpet\":[{\"type\":\"scattercarpet\",\"marker\":{\"colorbar\":{\"outlinewidth\":0,\"ticks\":\"\"}}}],\"carpet\":[{\"aaxis\":{\"endlinecolor\":\"#2a3f5f\",\"gridcolor\":\"white\",\"linecolor\":\"white\",\"minorgridcolor\":\"white\",\"startlinecolor\":\"#2a3f5f\"},\"baxis\":{\"endlinecolor\":\"#2a3f5f\",\"gridcolor\":\"white\",\"linecolor\":\"white\",\"minorgridcolor\":\"white\",\"startlinecolor\":\"#2a3f5f\"},\"type\":\"carpet\"}],\"table\":[{\"cells\":{\"fill\":{\"color\":\"#EBF0F8\"},\"line\":{\"color\":\"white\"}},\"header\":{\"fill\":{\"color\":\"#C8D4E3\"},\"line\":{\"color\":\"white\"}},\"type\":\"table\"}],\"barpolar\":[{\"marker\":{\"line\":{\"color\":\"#E5ECF6\",\"width\":0.5},\"pattern\":{\"fillmode\":\"overlay\",\"size\":10,\"solidity\":0.2}},\"type\":\"barpolar\"}],\"pie\":[{\"automargin\":true,\"type\":\"pie\"}]},\"layout\":{\"autotypenumbers\":\"strict\",\"colorway\":[\"#636efa\",\"#EF553B\",\"#00cc96\",\"#ab63fa\",\"#FFA15A\",\"#19d3f3\",\"#FF6692\",\"#B6E880\",\"#FF97FF\",\"#FECB52\"],\"font\":{\"color\":\"#2a3f5f\"},\"hovermode\":\"closest\",\"hoverlabel\":{\"align\":\"left\"},\"paper_bgcolor\":\"white\",\"plot_bgcolor\":\"#E5ECF6\",\"polar\":{\"bgcolor\":\"#E5ECF6\",\"angularaxis\":{\"gridcolor\":\"white\",\"linecolor\":\"white\",\"ticks\":\"\"},\"radialaxis\":{\"gridcolor\":\"white\",\"linecolor\":\"white\",\"ticks\":\"\"}},\"ternary\":{\"bgcolor\":\"#E5ECF6\",\"aaxis\":{\"gridcolor\":\"white\",\"linecolor\":\"white\",\"ticks\":\"\"},\"baxis\":{\"gridcolor\":\"white\",\"linecolor\":\"white\",\"ticks\":\"\"},\"caxis\":{\"gridcolor\":\"white\",\"linecolor\":\"white\",\"ticks\":\"\"}},\"coloraxis\":{\"colorbar\":{\"outlinewidth\":0,\"ticks\":\"\"}},\"colorscale\":{\"sequential\":[[0.0,\"#0d0887\"],[0.1111111111111111,\"#46039f\"],[0.2222222222222222,\"#7201a8\"],[0.3333333333333333,\"#9c179e\"],[0.4444444444444444,\"#bd3786\"],[0.5555555555555556,\"#d8576b\"],[0.6666666666666666,\"#ed7953\"],[0.7777777777777778,\"#fb9f3a\"],[0.8888888888888888,\"#fdca26\"],[1.0,\"#f0f921\"]],\"sequentialminus\":[[0.0,\"#0d0887\"],[0.1111111111111111,\"#46039f\"],[0.2222222222222222,\"#7201a8\"],[0.3333333333333333,\"#9c179e\"],[0.4444444444444444,\"#bd3786\"],[0.5555555555555556,\"#d8576b\"],[0.6666666666666666,\"#ed7953\"],[0.7777777777777778,\"#fb9f3a\"],[0.8888888888888888,\"#fdca26\"],[1.0,\"#f0f921\"]],\"diverging\":[[0,\"#8e0152\"],[0.1,\"#c51b7d\"],[0.2,\"#de77ae\"],[0.3,\"#f1b6da\"],[0.4,\"#fde0ef\"],[0.5,\"#f7f7f7\"],[0.6,\"#e6f5d0\"],[0.7,\"#b8e186\"],[0.8,\"#7fbc41\"],[0.9,\"#4d9221\"],[1,\"#276419\"]]},\"xaxis\":{\"gridcolor\":\"white\",\"linecolor\":\"white\",\"ticks\":\"\",\"title\":{\"standoff\":15},\"zerolinecolor\":\"white\",\"automargin\":true,\"zerolinewidth\":2},\"yaxis\":{\"gridcolor\":\"white\",\"linecolor\":\"white\",\"ticks\":\"\",\"title\":{\"standoff\":15},\"zerolinecolor\":\"white\",\"automargin\":true,\"zerolinewidth\":2},\"scene\":{\"xaxis\":{\"backgroundcolor\":\"#E5ECF6\",\"gridcolor\":\"white\",\"linecolor\":\"white\",\"showbackground\":true,\"ticks\":\"\",\"zerolinecolor\":\"white\",\"gridwidth\":2},\"yaxis\":{\"backgroundcolor\":\"#E5ECF6\",\"gridcolor\":\"white\",\"linecolor\":\"white\",\"showbackground\":true,\"ticks\":\"\",\"zerolinecolor\":\"white\",\"gridwidth\":2},\"zaxis\":{\"backgroundcolor\":\"#E5ECF6\",\"gridcolor\":\"white\",\"linecolor\":\"white\",\"showbackground\":true,\"ticks\":\"\",\"zerolinecolor\":\"white\",\"gridwidth\":2}},\"shapedefaults\":{\"line\":{\"color\":\"#2a3f5f\"}},\"annotationdefaults\":{\"arrowcolor\":\"#2a3f5f\",\"arrowhead\":0,\"arrowwidth\":1},\"geo\":{\"bgcolor\":\"white\",\"landcolor\":\"#E5ECF6\",\"subunitcolor\":\"white\",\"showland\":true,\"showlakes\":true,\"lakecolor\":\"white\"},\"title\":{\"x\":0.05},\"mapbox\":{\"style\":\"light\"}}},\"xaxis\":{\"anchor\":\"y\",\"domain\":[0.0,1.0],\"title\":{\"text\":\"Masked Percentage\"}},\"yaxis\":{\"anchor\":\"x\",\"domain\":[0.0,1.0],\"title\":{\"text\":\"Accuracy\"}},\"legend\":{\"title\":{\"text\":\"Dataset, Masking Method\"},\"tracegroupgap\":0},\"margin\":{\"t\":60},\"hovermode\":\"x\"},                        {\"responsive\": true}                    ).then(function(){\n",
       "                            \n",
       "var gd = document.getElementById('fedc1f43-7036-49d9-923b-cfffd09b6f2c');\n",
       "var x = new MutationObserver(function (mutations, observer) {{\n",
       "        var display = window.getComputedStyle(gd).display;\n",
       "        if (!display || display === 'none') {{\n",
       "            console.log([gd, 'removed!']);\n",
       "            Plotly.purge(gd);\n",
       "            observer.disconnect();\n",
       "        }}\n",
       "}});\n",
       "\n",
       "// Listen for the removal of the full notebook cells\n",
       "var notebookContainer = gd.closest('#notebook-container');\n",
       "if (notebookContainer) {{\n",
       "    x.observe(notebookContainer, {childList: true});\n",
       "}}\n",
       "\n",
       "// Listen for the clearing of the current output cell\n",
       "var outputEl = gd.closest('.output');\n",
       "if (outputEl) {{\n",
       "    x.observe(outputEl, {childList: true});\n",
       "}}\n",
       "\n",
       "                        })                };                });            </script>        </div>"
      ]
     },
     "metadata": {},
     "output_type": "display_data"
    }
   ],
   "source": [
    "\n",
    "fig = px.line(\n",
    "    melted_df,\n",
    "    x=\"MaskedPercentage\",\n",
    "    y=\"Accuracy\",\n",
    "    color=\"Dataset\",\n",
    "    line_dash=\"Method\",\n",
    "    error_y=\"Std\",\n",
    "    labels={\n",
    "        \"MaskedPercentage\": \"Masked Percentage\",\n",
    "        \"Accuracy\": \"Accuracy\",\n",
    "        \"Method\": \"Masking Method\",\n",
    "    },\n",
    "    markers=True,\n",
    ")\n",
    "fig.update_traces(hovertemplate=\"%{y:.4f}\")\n",
    "fig.update_layout(hovermode=\"x\")\n",
    "\n",
    "fig.show()"
   ]
  },
  {
   "cell_type": "code",
   "execution_count": 6,
   "metadata": {},
   "outputs": [
    {
     "data": {
      "text/html": [
       "<div>\n",
       "<style scoped>\n",
       "    .dataframe tbody tr th:only-of-type {\n",
       "        vertical-align: middle;\n",
       "    }\n",
       "\n",
       "    .dataframe tbody tr th {\n",
       "        vertical-align: top;\n",
       "    }\n",
       "\n",
       "    .dataframe thead th {\n",
       "        text-align: right;\n",
       "    }\n",
       "</style>\n",
       "<table border=\"1\" class=\"dataframe\">\n",
       "  <thead>\n",
       "    <tr style=\"text-align: right;\">\n",
       "      <th></th>\n",
       "      <th>Dataset</th>\n",
       "      <th>Method</th>\n",
       "      <th>AUC</th>\n",
       "    </tr>\n",
       "  </thead>\n",
       "  <tbody>\n",
       "    <tr>\n",
       "      <th>0</th>\n",
       "      <td>Epilepsy</td>\n",
       "      <td>Random</td>\n",
       "      <td>0.873817</td>\n",
       "    </tr>\n",
       "    <tr>\n",
       "      <th>1</th>\n",
       "      <td>Epilepsy</td>\n",
       "      <td>Shap</td>\n",
       "      <td>0.877826</td>\n",
       "    </tr>\n",
       "    <tr>\n",
       "      <th>2</th>\n",
       "      <td>FingerMovements</td>\n",
       "      <td>Random</td>\n",
       "      <td>0.452600</td>\n",
       "    </tr>\n",
       "    <tr>\n",
       "      <th>3</th>\n",
       "      <td>FingerMovements</td>\n",
       "      <td>Shap</td>\n",
       "      <td>0.445000</td>\n",
       "    </tr>\n",
       "    <tr>\n",
       "      <th>4</th>\n",
       "      <td>HAR</td>\n",
       "      <td>Random</td>\n",
       "      <td>0.771099</td>\n",
       "    </tr>\n",
       "    <tr>\n",
       "      <th>5</th>\n",
       "      <td>HAR</td>\n",
       "      <td>Shap</td>\n",
       "      <td>0.781461</td>\n",
       "    </tr>\n",
       "    <tr>\n",
       "      <th>6</th>\n",
       "      <td>PenDigits</td>\n",
       "      <td>Random</td>\n",
       "      <td>0.864714</td>\n",
       "    </tr>\n",
       "    <tr>\n",
       "      <th>7</th>\n",
       "      <td>PenDigits</td>\n",
       "      <td>Shap</td>\n",
       "      <td>0.872632</td>\n",
       "    </tr>\n",
       "    <tr>\n",
       "      <th>8</th>\n",
       "      <td>Synthetic</td>\n",
       "      <td>Random</td>\n",
       "      <td>0.695533</td>\n",
       "    </tr>\n",
       "    <tr>\n",
       "      <th>9</th>\n",
       "      <td>Synthetic</td>\n",
       "      <td>Shap</td>\n",
       "      <td>0.768667</td>\n",
       "    </tr>\n",
       "    <tr>\n",
       "      <th>10</th>\n",
       "      <td>WISDM</td>\n",
       "      <td>Random</td>\n",
       "      <td>0.732149</td>\n",
       "    </tr>\n",
       "    <tr>\n",
       "      <th>11</th>\n",
       "      <td>WISDM</td>\n",
       "      <td>Shap</td>\n",
       "      <td>0.738380</td>\n",
       "    </tr>\n",
       "  </tbody>\n",
       "</table>\n",
       "</div>"
      ],
      "text/plain": [
       "            Dataset  Method       AUC\n",
       "0          Epilepsy  Random  0.873817\n",
       "1          Epilepsy    Shap  0.877826\n",
       "2   FingerMovements  Random  0.452600\n",
       "3   FingerMovements    Shap  0.445000\n",
       "4               HAR  Random  0.771099\n",
       "5               HAR    Shap  0.781461\n",
       "6         PenDigits  Random  0.864714\n",
       "7         PenDigits    Shap  0.872632\n",
       "8         Synthetic  Random  0.695533\n",
       "9         Synthetic    Shap  0.768667\n",
       "10            WISDM  Random  0.732149\n",
       "11            WISDM    Shap  0.738380"
      ]
     },
     "execution_count": 6,
     "metadata": {},
     "output_type": "execute_result"
    }
   ],
   "source": [
    "from sklearn.metrics import auc\n",
    "\n",
    "# Calculate AUC for each (Dataset, Method) pair\n",
    "auc_results = (\n",
    "    melted_df\n",
    "    .sort_values([\"Dataset\", \"Method\", \"MaskedPercentage\"])\n",
    "    .groupby([\"Dataset\", \"Method\"])\n",
    "    .apply(lambda g: auc(g[\"MaskedPercentage\"], g[\"Accuracy\"]), include_groups=False)\n",
    "    .reset_index(name=\"AUC\")\n",
    ")\n",
    "\n",
    "auc_results"
   ]
  },
  {
   "cell_type": "code",
   "execution_count": 7,
   "metadata": {},
   "outputs": [
    {
     "data": {
      "text/html": [
       "<div>\n",
       "<style scoped>\n",
       "    .dataframe tbody tr th:only-of-type {\n",
       "        vertical-align: middle;\n",
       "    }\n",
       "\n",
       "    .dataframe tbody tr th {\n",
       "        vertical-align: top;\n",
       "    }\n",
       "\n",
       "    .dataframe thead th {\n",
       "        text-align: right;\n",
       "    }\n",
       "</style>\n",
       "<table border=\"1\" class=\"dataframe\">\n",
       "  <thead>\n",
       "    <tr style=\"text-align: right;\">\n",
       "      <th></th>\n",
       "      <th>Dataset</th>\n",
       "      <th>MaskedPercent</th>\n",
       "      <th>DiversityMean</th>\n",
       "      <th>DiversityStd</th>\n",
       "      <th>Acc</th>\n",
       "    </tr>\n",
       "  </thead>\n",
       "  <tbody>\n",
       "    <tr>\n",
       "      <th>286</th>\n",
       "      <td>FingerMovements</td>\n",
       "      <td>0.9</td>\n",
       "      <td>1.000000</td>\n",
       "      <td>0.000000</td>\n",
       "      <td>0.570000</td>\n",
       "    </tr>\n",
       "    <tr>\n",
       "      <th>100</th>\n",
       "      <td>Synthetic</td>\n",
       "      <td>0.6</td>\n",
       "      <td>0.856007</td>\n",
       "      <td>0.011186</td>\n",
       "      <td>0.715000</td>\n",
       "    </tr>\n",
       "    <tr>\n",
       "      <th>483</th>\n",
       "      <td>WISDM</td>\n",
       "      <td>0.2</td>\n",
       "      <td>0.933341</td>\n",
       "      <td>0.046470</td>\n",
       "      <td>0.863248</td>\n",
       "    </tr>\n",
       "    <tr>\n",
       "      <th>762</th>\n",
       "      <td>PenDigits</td>\n",
       "      <td>0.0</td>\n",
       "      <td>0.745605</td>\n",
       "      <td>0.026693</td>\n",
       "      <td>0.974557</td>\n",
       "    </tr>\n",
       "    <tr>\n",
       "      <th>509</th>\n",
       "      <td>WISDM</td>\n",
       "      <td>0.3</td>\n",
       "      <td>0.933734</td>\n",
       "      <td>0.046432</td>\n",
       "      <td>0.846154</td>\n",
       "    </tr>\n",
       "  </tbody>\n",
       "</table>\n",
       "</div>"
      ],
      "text/plain": [
       "             Dataset  MaskedPercent  DiversityMean  DiversityStd       Acc\n",
       "286  FingerMovements            0.9       1.000000      0.000000  0.570000\n",
       "100        Synthetic            0.6       0.856007      0.011186  0.715000\n",
       "483            WISDM            0.2       0.933341      0.046470  0.863248\n",
       "762        PenDigits            0.0       0.745605      0.026693  0.974557\n",
       "509            WISDM            0.3       0.933734      0.046432  0.846154"
      ]
     },
     "execution_count": 7,
     "metadata": {},
     "output_type": "execute_result"
    }
   ],
   "source": [
    "data = []\n",
    "for dataset, experiment in results.items():\n",
    "    for i, masked_percent in enumerate(experiment[\"masked_percentage\"]):\n",
    "        diversity = np.array(experiment[\"random_diversity\"][i]).T\n",
    "        preds = np.array(experiment[\"random_preds\"][i]).T\n",
    "        sorted_diversity = np.argsort(diversity, axis=1)\n",
    "        for j in range(sorted_diversity.shape[1]):\n",
    "            data.append((\n",
    "                dataset,\n",
    "                masked_percent,\n",
    "                diversity[sorted_diversity == j].mean(),\n",
    "                diversity[sorted_diversity == j].std(),\n",
    "                accuracy_score(experiment[\"labels\"], preds[sorted_diversity == j]),\n",
    "            ))\n",
    "\n",
    "df = pd.DataFrame(data, columns=[\"Dataset\", \"MaskedPercent\", \"DiversityMean\", \"DiversityStd\", \"Acc\"])\n",
    "df[\"MaskedPercent\"] = df[\"MaskedPercent\"].round(2)\n",
    "df.sample(n=5)"
   ]
  },
  {
   "cell_type": "code",
   "execution_count": 8,
   "metadata": {},
   "outputs": [
    {
     "data": {
      "application/vnd.jupyter.widget-view+json": {
       "model_id": "b8da58ca06d944fda8d3be8c11255686",
       "version_major": 2,
       "version_minor": 0
      },
      "text/plain": [
       "interactive(children=(Dropdown(description='dataset', options=('Synthetic', 'FingerMovements', 'Epilepsy', 'WI…"
      ]
     },
     "metadata": {},
     "output_type": "display_data"
    },
    {
     "data": {
      "application/vnd.jupyter.widget-view+json": {
       "model_id": "a4435ad6317a4267ba09ab2a3af860b1",
       "version_major": 2,
       "version_minor": 0
      },
      "text/plain": [
       "FigureWidget({\n",
       "    'data': [{'error_x': {'array': array([0.09269391, 0.09269391, 0.09269391, 0.09269391, 0.09269391, 0.09269391,\n",
       "                                          0.09269391, 0.09269391, 0.09269391, 0.09269391, 0.09269391, 0.09269391,\n",
       "                                          0.09269391, 0.09269391, 0.09269391]),\n",
       "                          'type': 'data'},\n",
       "              'mode': 'markers',\n",
       "              'name': 'Epilepsy:0.00',\n",
       "              'type': 'scatter',\n",
       "              'uid': '1fa926c6-0b48-47cb-a308-97bb4dce1235',\n",
       "              'visible': False,\n",
       "              'x': array([0.92510167, 0.92510167, 0.92510167, 0.92510167, 0.92510167, 0.92510167,\n",
       "                          0.92510167, 0.92510167, 0.92510167, 0.92510167, 0.92510167, 0.92510167,\n",
       "                          0.92510167, 0.92510167, 0.92510167]),\n",
       "              'y': array([0.97652174, 0.97652174, 0.97652174, 0.97652174, 0.97652174, 0.97652174,\n",
       "                          0.97652174, 0.97652174, 0.97652174, 0.97652174, 0.97652174, 0.97652174,\n",
       "                          0.97652174, 0.97652174, 0.97652174])},\n",
       "             {'error_x': {'array': array([0.09332287, 0.09251456, 0.09296962, 0.09247249, 0.09282511, 0.09286266,\n",
       "                                          0.09248366, 0.09245297, 0.09303962, 0.09282338, 0.09324662, 0.09183738,\n",
       "                                          0.09238771, 0.09239935, 0.09208299]),\n",
       "                          'type': 'data'},\n",
       "              'mode': 'markers',\n",
       "              'name': 'Epilepsy:0.10',\n",
       "              'type': 'scatter',\n",
       "              'uid': '6ac428d9-3daf-41ae-a43f-1747abb87e60',\n",
       "              'visible': False,\n",
       "              'x': array([0.92479672, 0.9251317 , 0.92505199, 0.92510986, 0.92499544, 0.9250042 ,\n",
       "                          0.92517433, 0.92520247, 0.92502711, 0.9251358 , 0.92498781, 0.92536848,\n",
       "                          0.92519913, 0.92517163, 0.92543509]),\n",
       "              'y': array([0.97521739, 0.97652174, 0.97608696, 0.97565217, 0.97565217, 0.97434783,\n",
       "                          0.97608696, 0.9773913 , 0.97565217, 0.97695652, 0.97478261, 0.98      ,\n",
       "                          0.97826087, 0.97478261, 0.97391304])},\n",
       "             {'error_x': {'array': array([0.09313197, 0.0927007 , 0.09221228, 0.09334594, 0.09316151, 0.0934492 ,\n",
       "                                          0.09207777, 0.09352448, 0.09176835, 0.09306051, 0.09207043, 0.09278732,\n",
       "                                          0.09203638, 0.0924468 , 0.09317638]),\n",
       "                          'type': 'data'},\n",
       "              'mode': 'markers',\n",
       "              'name': 'Epilepsy:0.20',\n",
       "              'type': 'scatter',\n",
       "              'uid': '35752a57-26ad-413e-9324-a1d3ee57b96c',\n",
       "              'visible': False,\n",
       "              'x': array([0.92483324, 0.92500054, 0.92510929, 0.92494189, 0.92502294, 0.9248149 ,\n",
       "                          0.92527234, 0.92496181, 0.92544353, 0.92510686, 0.92530438, 0.92515161,\n",
       "                          0.92538842, 0.9253799 , 0.92521798]),\n",
       "              'y': array([0.97608696, 0.97434783, 0.97521739, 0.97521739, 0.97434783, 0.97608696,\n",
       "                          0.97521739, 0.97826087, 0.97608696, 0.97434783, 0.97434783, 0.97652174,\n",
       "                          0.97478261, 0.97608696, 0.97695652])},\n",
       "             {'error_x': {'array': array([0.09337733, 0.09315669, 0.09265074, 0.09380805, 0.09354737, 0.09284061,\n",
       "                                          0.09367178, 0.09328337, 0.09301971, 0.09240321, 0.09307287, 0.09323003,\n",
       "                                          0.09248125, 0.09265291, 0.09105605]),\n",
       "                          'type': 'data'},\n",
       "              'mode': 'markers',\n",
       "              'name': 'Epilepsy:0.30',\n",
       "              'type': 'scatter',\n",
       "              'uid': '4556dbc3-4565-42f0-a792-839a2cdd67e5',\n",
       "              'visible': False,\n",
       "              'x': array([0.92489817, 0.92475012, 0.92497326, 0.92494123, 0.92481635, 0.92500921,\n",
       "                          0.92494955, 0.92490237, 0.92520953, 0.92525078, 0.92512152, 0.92534964,\n",
       "                          0.92517892, 0.92544602, 0.92583795]),\n",
       "              'y': array([0.97217391, 0.97608696, 0.97521739, 0.97695652, 0.97391304, 0.97478261,\n",
       "                          0.97304348, 0.97608696, 0.97565217, 0.9773913 , 0.97695652, 0.97521739,\n",
       "                          0.9773913 , 0.97608696, 0.97608696])},\n",
       "             {'error_x': {'array': array([0.09495163, 0.09478481, 0.09422689, 0.09411967, 0.09353546, 0.09335814,\n",
       "                                          0.09411944, 0.09248075, 0.09415205, 0.09311793, 0.09203867, 0.09291426,\n",
       "                                          0.09270289, 0.0920353 , 0.09109648]),\n",
       "                          'type': 'data'},\n",
       "              'mode': 'markers',\n",
       "              'name': 'Epilepsy:0.40',\n",
       "              'type': 'scatter',\n",
       "              'uid': 'f3c96fb4-5c9e-40f4-b389-7831ca3561a3',\n",
       "              'visible': False,\n",
       "              'x': array([0.92448961, 0.92439659, 0.92476176, 0.9247902 , 0.92478498, 0.92497527,\n",
       "                          0.92471131, 0.92523   , 0.92496693, 0.92511791, 0.92554834, 0.925432  ,\n",
       "                          0.92535752, 0.92557246, 0.92596353]),\n",
       "              'y': array([0.97434783, 0.97608696, 0.97391304, 0.97521739, 0.97304348, 0.97826087,\n",
       "                          0.97565217, 0.97608696, 0.9773913 , 0.97565217, 0.97565217, 0.97478261,\n",
       "                          0.97347826, 0.97391304, 0.97434783])},\n",
       "             {'error_x': {'array': array([0.09584952, 0.09453448, 0.09562659, 0.09412575, 0.09350372, 0.0937753 ,\n",
       "                                          0.09345648, 0.09340794, 0.09337423, 0.09267909, 0.09385017, 0.09390325,\n",
       "                                          0.09237568, 0.09146667, 0.09187819]),\n",
       "                          'type': 'data'},\n",
       "              'mode': 'markers',\n",
       "              'name': 'Epilepsy:0.50',\n",
       "              'type': 'scatter',\n",
       "              'uid': '2b004055-e7d8-4d2f-bcc2-341ea208aa3d',\n",
       "              'visible': False,\n",
       "              'x': array([0.9240424 , 0.92445682, 0.92468471, 0.92493527, 0.92492341, 0.92495204,\n",
       "                          0.92508627, 0.92511994, 0.92530501, 0.9254347 , 0.92511499, 0.92506274,\n",
       "                          0.92556116, 0.92611772, 0.92634916]),\n",
       "              'y': array([0.9726087 , 0.97608696, 0.97      , 0.97304348, 0.97043478, 0.97347826,\n",
       "                          0.9726087 , 0.97304348, 0.97391304, 0.97782609, 0.97217391, 0.97347826,\n",
       "                          0.97173913, 0.97304348, 0.97130435])},\n",
       "             {'error_x': {'array': array([0.09666087, 0.0955487 , 0.09357797, 0.09538158, 0.09438239, 0.09245079,\n",
       "                                          0.09462265, 0.09320507, 0.0947668 , 0.09376128, 0.09376597, 0.09431615,\n",
       "                                          0.09414012, 0.0932595 , 0.09322449]),\n",
       "                          'type': 'data'},\n",
       "              'mode': 'markers',\n",
       "              'name': 'Epilepsy:0.60',\n",
       "              'type': 'scatter',\n",
       "              'uid': 'a422070b-b6ae-452c-b43f-99105403fdd0',\n",
       "              'visible': False,\n",
       "              'x': array([0.92411474, 0.92424707, 0.92497141, 0.92454629, 0.9248988 , 0.925099  ,\n",
       "                          0.92514117, 0.92531576, 0.92491638, 0.92531166, 0.92531304, 0.92531167,\n",
       "                          0.92514731, 0.92583767, 0.92591226]),\n",
       "              'y': array([0.96956522, 0.97130435, 0.97043478, 0.97304348, 0.97304348, 0.96913043,\n",
       "                          0.97434783, 0.97      , 0.97652174, 0.97043478, 0.97217391, 0.97217391,\n",
       "                          0.97695652, 0.97652174, 0.97086957])},\n",
       "             {'error_x': {'array': array([0.09749209, 0.09646387, 0.09200256, 0.09303581, 0.09646867, 0.09521832,\n",
       "                                          0.09482327, 0.09459453, 0.09511892, 0.09563717, 0.09346823, 0.09394304,\n",
       "                                          0.0950377 , 0.09041234, 0.09341312]),\n",
       "                          'type': 'data'},\n",
       "              'mode': 'markers',\n",
       "              'name': 'Epilepsy:0.70',\n",
       "              'type': 'scatter',\n",
       "              'uid': '68df4ccb-f5f7-404b-b7eb-e1d054db31ce',\n",
       "              'visible': False,\n",
       "              'x': array([0.92396612, 0.92379673, 0.92536134, 0.92531421, 0.92442154, 0.9246425 ,\n",
       "                          0.9249115 , 0.92510405, 0.92506612, 0.92472995, 0.92558149, 0.92560167,\n",
       "                          0.92522255, 0.92684915, 0.92654708]),\n",
       "              'y': array([0.96652174, 0.97173913, 0.97086957, 0.96652174, 0.96869565, 0.96304348,\n",
       "                          0.96913043, 0.96217391, 0.97130435, 0.96869565, 0.96913043, 0.97043478,\n",
       "                          0.97130435, 0.97304348, 0.97434783])},\n",
       "             {'error_x': {'array': array([0.10317433, 0.09904497, 0.09918301, 0.10158326, 0.09843099, 0.09635122,\n",
       "                                          0.09659906, 0.09992112, 0.10153113, 0.0997853 , 0.09286965, 0.10061355,\n",
       "                                          0.09506932, 0.09506445, 0.09468056]),\n",
       "                          'type': 'data'},\n",
       "              'mode': 'markers',\n",
       "              'name': 'Epilepsy:0.80',\n",
       "              'type': 'scatter',\n",
       "              'uid': '73eb11ae-680c-43f1-8002-7c83ce8d8b84',\n",
       "              'visible': False,\n",
       "              'x': array([0.92232217, 0.92366387, 0.9240658 , 0.92339627, 0.92452027, 0.92513487,\n",
       "                          0.92533446, 0.92422722, 0.92456282, 0.92487558, 0.92618008, 0.925432  ,\n",
       "                          0.92619092, 0.92621836, 0.92738888]),\n",
       "              'y': array([0.95913043, 0.96043478, 0.95956522, 0.96130435, 0.95826087, 0.95608696,\n",
       "                          0.95913043, 0.95478261, 0.96130435, 0.95826087, 0.95304348, 0.95913043,\n",
       "                          0.96217391, 0.9626087 , 0.9673913 ])},\n",
       "             {'error_x': {'array': array([0.10852657, 0.10740183, 0.10993718, 0.1081613 , 0.10613829, 0.09753767,\n",
       "                                          0.10652414, 0.10124382, 0.09561158, 0.10504991, 0.10500594, 0.09874013,\n",
       "                                          0.09662886, 0.0979035 , 0.09935917]),\n",
       "                          'type': 'data'},\n",
       "              'mode': 'markers',\n",
       "              'name': 'Epilepsy:0.90',\n",
       "              'type': 'scatter',\n",
       "              'uid': 'c3d2d274-c886-433d-9ff3-692b41fa9a8e',\n",
       "              'visible': False,\n",
       "              'x': array([0.92226611, 0.92290589, 0.92184803, 0.92407556, 0.92459246, 0.9258769 ,\n",
       "                          0.92410822, 0.92532137, 0.92714436, 0.92490549, 0.92578114, 0.92733233,\n",
       "                          0.92778955, 0.9270951 , 0.92823616]),\n",
       "              'y': array([0.9426087 , 0.94695652, 0.94173913, 0.94913043, 0.94913043, 0.95217391,\n",
       "                          0.94478261, 0.94913043, 0.95217391, 0.94391304, 0.94434783, 0.94478261,\n",
       "                          0.94956522, 0.94434783, 0.94869565])},\n",
       "             {'error_x': {'array': array([0.08844727, 0.08844727, 0.08844727, 0.08844727, 0.08844727, 0.08844727,\n",
       "                                          0.08844727, 0.08844727, 0.08844727, 0.08844727, 0.08844727, 0.08844727,\n",
       "                                          0.08844727, 0.08844727, 0.08844727]),\n",
       "                          'type': 'data'},\n",
       "              'mode': 'markers',\n",
       "              'name': 'FingerMovements:0.00',\n",
       "              'type': 'scatter',\n",
       "              'uid': '99669d6a-e836-45d0-8a1e-087df5bf2005',\n",
       "              'visible': False,\n",
       "              'x': array([0.72508013, 0.72508013, 0.72508013, 0.72508013, 0.72508013, 0.72508013,\n",
       "                          0.72508013, 0.72508013, 0.72508013, 0.72508013, 0.72508013, 0.72508013,\n",
       "                          0.72508013, 0.72508013, 0.72508013]),\n",
       "              'y': array([0.49, 0.49, 0.49, 0.49, 0.49, 0.49, 0.49, 0.49, 0.49, 0.49, 0.49, 0.49,\n",
       "                          0.49, 0.49, 0.49])},\n",
       "             {'error_x': {'array': array([0.08844727, 0.08844727, 0.08844727, 0.08844727, 0.08844727, 0.08844727,\n",
       "                                          0.08844727, 0.08844727, 0.08844727, 0.08844727, 0.08844727, 0.08844727,\n",
       "                                          0.08844727, 0.08844727, 0.08844727]),\n",
       "                          'type': 'data'},\n",
       "              'mode': 'markers',\n",
       "              'name': 'FingerMovements:0.10',\n",
       "              'type': 'scatter',\n",
       "              'uid': '02037282-46d2-4229-8737-5eeaabf52463',\n",
       "              'visible': False,\n",
       "              'x': array([0.72508013, 0.72508013, 0.72508013, 0.72508013, 0.72508013, 0.72508013,\n",
       "                          0.72508013, 0.72508013, 0.72508013, 0.72508013, 0.72508013, 0.72508013,\n",
       "                          0.72508013, 0.72508013, 0.72508013]),\n",
       "              'y': array([0.49, 0.49, 0.49, 0.49, 0.49, 0.49, 0.49, 0.49, 0.49, 0.49, 0.49, 0.49,\n",
       "                          0.49, 0.49, 0.49])},\n",
       "             {'error_x': {'array': array([0.08912163, 0.0921168 , 0.09176577, 0.08782043, 0.09224787, 0.09115909,\n",
       "                                          0.08963916, 0.09340697, 0.08920457, 0.09075187, 0.08913251, 0.09131273,\n",
       "                                          0.08701114, 0.0902018 , 0.09456057]),\n",
       "                          'type': 'data'},\n",
       "              'mode': 'markers',\n",
       "              'name': 'FingerMovements:0.20',\n",
       "              'type': 'scatter',\n",
       "              'uid': 'a5dd2c4c-5160-4209-90b4-d88c7a5567f6',\n",
       "              'visible': False,\n",
       "              'x': array([0.71677993, 0.72417769, 0.72354358, 0.72659701, 0.72486764, 0.72612156,\n",
       "                          0.7228221 , 0.72521163, 0.72699689, 0.72711746, 0.7260388 , 0.7246836 ,\n",
       "                          0.72271034, 0.72693178, 0.73173645]),\n",
       "              'y': array([0.49, 0.47, 0.45, 0.49, 0.5 , 0.5 , 0.48, 0.51, 0.51, 0.5 , 0.46, 0.56,\n",
       "                          0.48, 0.47, 0.52])},\n",
       "             {'error_x': {'array': array([0.08921171, 0.08950513, 0.09328674, 0.09085029, 0.08737929, 0.09375922,\n",
       "                                          0.08780552, 0.09206159, 0.08789887, 0.08839664, 0.08805829, 0.08908279,\n",
       "                                          0.09061602, 0.09212448, 0.09068289]),\n",
       "                          'type': 'data'},\n",
       "              'mode': 'markers',\n",
       "              'name': 'FingerMovements:0.30',\n",
       "              'type': 'scatter',\n",
       "              'uid': '3664c90a-ba66-4ae4-ba60-fd91e5e093f9',\n",
       "              'visible': False,\n",
       "              'x': array([0.71990382, 0.72375325, 0.72289084, 0.72554806, 0.72356359, 0.72431505,\n",
       "                          0.72591355, 0.72515967, 0.72607497, 0.72657287, 0.72720339, 0.72194061,\n",
       "                          0.72642761, 0.72640363, 0.72946247]),\n",
       "              'y': array([0.51, 0.48, 0.53, 0.5 , 0.5 , 0.48, 0.5 , 0.49, 0.53, 0.51, 0.52, 0.47,\n",
       "                          0.45, 0.53, 0.51])},\n",
       "             {'error_x': {'array': array([0.10054675, 0.09977963, 0.10065126, 0.09225237, 0.09407572, 0.09220371,\n",
       "                                          0.09362491, 0.09110322, 0.10050386, 0.09395299, 0.09265625, 0.09165235,\n",
       "                                          0.09656252, 0.0975212 , 0.09488122]),\n",
       "                          'type': 'data'},\n",
       "              'mode': 'markers',\n",
       "              'name': 'FingerMovements:0.40',\n",
       "              'type': 'scatter',\n",
       "              'uid': '2b4db4ee-8180-4c34-a4ef-3e9685bf2787',\n",
       "              'visible': False,\n",
       "              'x': array([0.72039218, 0.72230115, 0.72624757, 0.72125207, 0.71948404, 0.72300374,\n",
       "                          0.72081916, 0.72589755, 0.72354986, 0.72071375, 0.72517758, 0.72438688,\n",
       "                          0.72513148, 0.7291962 , 0.7354476 ]),\n",
       "              'y': array([0.53, 0.51, 0.5 , 0.55, 0.51, 0.48, 0.47, 0.48, 0.49, 0.49, 0.51, 0.49,\n",
       "                          0.53, 0.44, 0.54])},\n",
       "             {'error_x': {'array': array([0.10611703, 0.10319981, 0.09709818, 0.10625888, 0.10430927, 0.1016654 ,\n",
       "                                          0.09662404, 0.10770988, 0.10223849, 0.11729362, 0.09730434, 0.10618837,\n",
       "                                          0.10675141, 0.10348519, 0.10951591]),\n",
       "                          'type': 'data'},\n",
       "              'mode': 'markers',\n",
       "              'name': 'FingerMovements:0.50',\n",
       "              'type': 'scatter',\n",
       "              'uid': '4c91fa27-cd1a-4305-af7c-6fc36d7448d1',\n",
       "              'visible': False,\n",
       "              'x': array([0.70709113, 0.71863679, 0.71603417, 0.72019085, 0.72601944, 0.72103326,\n",
       "                          0.72664305, 0.73348859, 0.7275149 , 0.7273434 , 0.73333319, 0.72135851,\n",
       "                          0.72808521, 0.73717626, 0.73874998]),\n",
       "              'y': array([0.43, 0.51, 0.52, 0.54, 0.53, 0.54, 0.52, 0.52, 0.48, 0.53, 0.51, 0.49,\n",
       "                          0.52, 0.5 , 0.51])},\n",
       "             {'error_x': {'array': array([0.11508383, 0.10889805, 0.10596532, 0.10030281, 0.10777047, 0.10611968,\n",
       "                                          0.09874038, 0.10556487, 0.1034381 , 0.10743464, 0.08971599, 0.10009253,\n",
       "                                          0.10892041, 0.10660295, 0.11317733]),\n",
       "                          'type': 'data'},\n",
       "              'mode': 'markers',\n",
       "              'name': 'FingerMovements:0.60',\n",
       "              'type': 'scatter',\n",
       "              'uid': 'b2573916-c807-406c-a22f-0670063a4c52',\n",
       "              'visible': False,\n",
       "              'x': array([0.71117848, 0.71888049, 0.72357828, 0.72516173, 0.72171808, 0.72921886,\n",
       "                          0.7293743 , 0.72754094, 0.71937224, 0.72859198, 0.72752919, 0.73216798,\n",
       "                          0.72533042, 0.73543839, 0.7319159 ]),\n",
       "              'y': array([0.49, 0.49, 0.56, 0.54, 0.56, 0.48, 0.58, 0.55, 0.53, 0.47, 0.54, 0.54,\n",
       "                          0.46, 0.48, 0.49])},\n",
       "             {'error_x': {'array': array([0.14418165, 0.12320353, 0.15413179, 0.15035594, 0.12659709, 0.14791613,\n",
       "                                          0.14066628, 0.13995858, 0.14887009, 0.14596824, 0.12379562, 0.12741691,\n",
       "                                          0.14215663, 0.12690205, 0.12905035]),\n",
       "                          'type': 'data'},\n",
       "              'mode': 'markers',\n",
       "              'name': 'FingerMovements:0.70',\n",
       "              'type': 'scatter',\n",
       "              'uid': '6ad3fe1e-3ab9-4eb4-872c-fbb39d128e65',\n",
       "              'visible': False,\n",
       "              'x': array([0.72540625, 0.70579818, 0.69974053, 0.71595432, 0.71360341, 0.72849274,\n",
       "                          0.72218445, 0.74098614, 0.73154376, 0.73247295, 0.7213137 , 0.74642979,\n",
       "                          0.73387619, 0.72156277, 0.7569827 ]),\n",
       "              'y': array([0.54, 0.51, 0.5 , 0.5 , 0.51, 0.5 , 0.5 , 0.52, 0.53, 0.59, 0.44, 0.57,\n",
       "                          0.47, 0.51, 0.44])},\n",
       "             {'error_x': {'array': array([0.1512412 , 0.13889291, 0.14965179, 0.12297001, 0.13249763, 0.15364407,\n",
       "                                          0.14269329, 0.15331941, 0.13495709, 0.13054457, 0.13750324, 0.15081417,\n",
       "                                          0.14219356, 0.14125928, 0.13329452]),\n",
       "                          'type': 'data'},\n",
       "              'mode': 'markers',\n",
       "              'name': 'FingerMovements:0.80',\n",
       "              'type': 'scatter',\n",
       "              'uid': '0ab4326a-56f0-4503-b122-ea17f684e378',\n",
       "              'visible': False,\n",
       "              'x': array([0.69307114, 0.72475789, 0.71381954, 0.73100093, 0.71750219, 0.71335756,\n",
       "                          0.70915716, 0.72220581, 0.73639428, 0.75514665, 0.72729374, 0.72406771,\n",
       "                          0.73417937, 0.72594971, 0.73591552]),\n",
       "              'y': array([0.56, 0.46, 0.53, 0.46, 0.46, 0.55, 0.44, 0.47, 0.47, 0.56, 0.5 , 0.48,\n",
       "                          0.55, 0.51, 0.52])},\n",
       "             {'error_x': {'array': array([0., 0., 0., 0., 0., 0., 0., 0., 0., 0., 0., 0., 0., 0., 0.]), 'type': 'data'},\n",
       "              'mode': 'markers',\n",
       "              'name': 'FingerMovements:0.90',\n",
       "              'type': 'scatter',\n",
       "              'uid': '0c15bde8-e110-49e3-98ed-8dc9fa2450b8',\n",
       "              'visible': False,\n",
       "              'x': array([1., 1., 1., 1., 1., 1., 1., 1., 1., 1., 1., 1., 1., 1., 1.]),\n",
       "              'y': array([0.4 , 0.57, 0.51, 0.52, 0.56, 0.56, 0.54, 0.6 , 0.52, 0.45, 0.53, 0.57,\n",
       "                          0.37, 0.56, 0.51])},\n",
       "             {'error_x': {'array': array([0.12806858, 0.12806858, 0.12806858, 0.12806858, 0.12806858, 0.12806858,\n",
       "                                          0.12806858, 0.12806858, 0.12806858, 0.12806858, 0.12806858, 0.12806858,\n",
       "                                          0.12806858, 0.12806858, 0.12806858]),\n",
       "                          'type': 'data'},\n",
       "              'mode': 'markers',\n",
       "              'name': 'HAR:0.00',\n",
       "              'type': 'scatter',\n",
       "              'uid': '6e806ac2-dd2e-4169-a611-d777173b94ee',\n",
       "              'visible': False,\n",
       "              'x': array([0.88238299, 0.88238299, 0.88238299, 0.88238299, 0.88238299, 0.88238299,\n",
       "                          0.88238299, 0.88238299, 0.88238299, 0.88238299, 0.88238299, 0.88238299,\n",
       "                          0.88238299, 0.88238299, 0.88238299]),\n",
       "              'y': array([0.8805565, 0.8805565, 0.8805565, 0.8805565, 0.8805565, 0.8805565,\n",
       "                          0.8805565, 0.8805565, 0.8805565, 0.8805565, 0.8805565, 0.8805565,\n",
       "                          0.8805565, 0.8805565, 0.8805565])},\n",
       "             {'error_x': {'array': array([0.12863547, 0.12850364, 0.12867941, 0.12829936, 0.12853018, 0.12841778,\n",
       "                                          0.12827216, 0.12811031, 0.12824953, 0.12832138, 0.1281995 , 0.12803986,\n",
       "                                          0.12804101, 0.12795286, 0.12777032]),\n",
       "                          'type': 'data'},\n",
       "              'mode': 'markers',\n",
       "              'name': 'HAR:0.10',\n",
       "              'type': 'scatter',\n",
       "              'uid': '6efd8ded-63f0-41c6-abe2-639eb7881c61',\n",
       "              'visible': False,\n",
       "              'x': array([0.88203269, 0.88210933, 0.88199576, 0.88228503, 0.88213697, 0.88215543,\n",
       "                          0.88232496, 0.88241947, 0.88229603, 0.88230446, 0.88241076, 0.88249027,\n",
       "                          0.88260529, 0.88268081, 0.88271253]),\n",
       "              'y': array([0.88089583, 0.88157448, 0.88157448, 0.88021717, 0.88225314, 0.88123515,\n",
       "                          0.88021717, 0.88191381, 0.88191381, 0.8805565 , 0.87953851, 0.8829318 ,\n",
       "                          0.88225314, 0.88259247, 0.87919919])},\n",
       "             {'error_x': {'array': array([0.12865421, 0.12900412, 0.12841559, 0.12827649, 0.12864936, 0.12853237,\n",
       "                                          0.12816808, 0.12835078, 0.1281154 , 0.12804954, 0.12825659, 0.12783996,\n",
       "                                          0.12781207, 0.12766704, 0.12757564]),\n",
       "                          'type': 'data'},\n",
       "              'mode': 'markers',\n",
       "              'name': 'HAR:0.20',\n",
       "              'type': 'scatter',\n",
       "              'uid': 'db2fb782-1a5a-4e29-8343-f622ece17deb',\n",
       "              'visible': False,\n",
       "              'x': array([0.88212201, 0.88178404, 0.88225697, 0.88230159, 0.88206238, 0.88211215,\n",
       "                          0.88245926, 0.88234551, 0.88256441, 0.88255805, 0.88245689, 0.88268924,\n",
       "                          0.8828419 , 0.88284628, 0.88305327]),\n",
       "              'y': array([0.87953851, 0.8781812 , 0.87987784, 0.87852053, 0.87987784, 0.87987784,\n",
       "                          0.88021717, 0.8781812 , 0.88394978, 0.87885986, 0.87784187, 0.8829318 ,\n",
       "                          0.87953851, 0.88327112, 0.87614523])},\n",
       "             {'error_x': {'array': array([0.12903386, 0.12921301, 0.12889917, 0.12844901, 0.12925171, 0.12866936,\n",
       "                                          0.12854665, 0.12891483, 0.12839142, 0.12841433, 0.12855296, 0.12858861,\n",
       "                                          0.12802442, 0.12789277, 0.1279679 ]),\n",
       "                          'type': 'data'},\n",
       "              'mode': 'markers',\n",
       "              'name': 'HAR:0.30',\n",
       "              'type': 'scatter',\n",
       "              'uid': 'bfd8f6bd-da17-455c-9dc6-5b28749dba24',\n",
       "              'visible': False,\n",
       "              'x': array([0.88187721, 0.88189016, 0.88195556, 0.88237748, 0.88160299, 0.88229378,\n",
       "                          0.88246802, 0.88209119, 0.8823709 , 0.88237607, 0.88232062, 0.88241858,\n",
       "                          0.88272204, 0.88298072, 0.88286804]),\n",
       "              'y': array([0.87309128, 0.87139464, 0.87852053, 0.87241262, 0.87546658, 0.87784187,\n",
       "                          0.87716322, 0.87716322, 0.87682389, 0.87444859, 0.87071598, 0.88089583,\n",
       "                          0.87343061, 0.87919919, 0.87512725])},\n",
       "             {'error_x': {'array': array([0.13045941, 0.12933069, 0.12892295, 0.12896709, 0.12957159, 0.12938306,\n",
       "                                          0.12934674, 0.12917297, 0.12877991, 0.12827738, 0.12833188, 0.12803183,\n",
       "                                          0.12793759, 0.12805369, 0.12705148]),\n",
       "                          'type': 'data'},\n",
       "              'mode': 'markers',\n",
       "              'name': 'HAR:0.40',\n",
       "              'type': 'scatter',\n",
       "              'uid': 'd3b8e609-ed9f-4bbc-bd58-6a257559c67b',\n",
       "              'visible': False,\n",
       "              'x': array([0.88110146, 0.88189427, 0.88218634, 0.88197008, 0.88171877, 0.88171292,\n",
       "                          0.88199054, 0.88198863, 0.88227482, 0.88259483, 0.88280312, 0.88296059,\n",
       "                          0.88290957, 0.88296642, 0.8839521 ]),\n",
       "              'y': array([0.87309128, 0.86698337, 0.87275195, 0.869698  , 0.87648456, 0.87207329,\n",
       "                          0.87003733, 0.87173397, 0.86868001, 0.87037665, 0.8781812 , 0.87105531,\n",
       "                          0.87478792, 0.87207329, 0.87376994])},\n",
       "             {'error_x': {'array': array([0.13084015, 0.1299707 , 0.12985272, 0.12934681, 0.12988025, 0.1289858 ,\n",
       "                                          0.12897612, 0.12920703, 0.12872735, 0.12876618, 0.12880261, 0.12850048,\n",
       "                                          0.12834282, 0.12835973, 0.12762032]),\n",
       "                          'type': 'data'},\n",
       "              'mode': 'markers',\n",
       "              'name': 'HAR:0.50',\n",
       "              'type': 'scatter',\n",
       "              'uid': '783ea4ab-518d-4d7e-928d-0768e921b73a',\n",
       "              'visible': False,\n",
       "              'x': array([0.88092526, 0.88140652, 0.88162449, 0.88219524, 0.88181941, 0.88220226,\n",
       "                          0.88236116, 0.88238026, 0.88270752, 0.88282   , 0.88261268, 0.88276712,\n",
       "                          0.88286883, 0.88325844, 0.8838558 ]),\n",
       "              'y': array([0.86359009, 0.86392942, 0.87003733, 0.86901934, 0.86528673, 0.86155412,\n",
       "                          0.86223278, 0.86562606, 0.8649474 , 0.86392942, 0.86223278, 0.86359009,\n",
       "                          0.8588395 , 0.86359009, 0.86257211])},\n",
       "             {'error_x': {'array': array([0.13134378, 0.13039064, 0.13066993, 0.13023043, 0.129569  , 0.13017366,\n",
       "                                          0.12910899, 0.12952286, 0.12955967, 0.1290109 , 0.12901386, 0.12819673,\n",
       "                                          0.12751838, 0.1279454 , 0.12812875]),\n",
       "                          'type': 'data'},\n",
       "              'mode': 'markers',\n",
       "              'name': 'HAR:0.60',\n",
       "              'type': 'scatter',\n",
       "              'uid': '85bc98ea-0f4c-4309-80dd-524ac0797791',\n",
       "              'visible': False,\n",
       "              'x': array([0.88102232, 0.88127751, 0.88121667, 0.88156076, 0.88224227, 0.88180409,\n",
       "                          0.88250484, 0.88220602, 0.88250977, 0.88304225, 0.88250892, 0.88348414,\n",
       "                          0.88368579, 0.88351421, 0.88395763]),\n",
       "              'y': array([0.85069562, 0.85510689, 0.85782151, 0.85612487, 0.85374958, 0.85001697,\n",
       "                          0.85917883, 0.84730234, 0.85442823, 0.85001697, 0.85137428, 0.85578554,\n",
       "                          0.86087547, 0.85714286, 0.85816084])},\n",
       "             {'error_x': {'array': array([0.13209102, 0.13186501, 0.1310823 , 0.13130234, 0.12981042, 0.12996127,\n",
       "                                          0.1302379 , 0.13081005, 0.12963444, 0.12979031, 0.12833189, 0.127879  ,\n",
       "                                          0.12942944, 0.12919114, 0.13025004]),\n",
       "                          'type': 'data'},\n",
       "              'mode': 'markers',\n",
       "              'name': 'HAR:0.70',\n",
       "              'type': 'scatter',\n",
       "              'uid': '63f3f1b3-801c-466a-9849-cef08f501cf1',\n",
       "              'visible': False,\n",
       "              'x': array([0.88069882, 0.88101491, 0.88192665, 0.88127145, 0.88216916, 0.88245785,\n",
       "                          0.88245939, 0.8823132 , 0.88254952, 0.88304145, 0.88356938, 0.88420997,\n",
       "                          0.88316175, 0.88350326, 0.88304778]),\n",
       "              'y': array([0.84119444, 0.84051578, 0.84187309, 0.847981  , 0.85103495, 0.84356973,\n",
       "                          0.84526637, 0.83949779, 0.84119444, 0.83780115, 0.84832033, 0.84390906,\n",
       "                          0.83983712, 0.83915847, 0.85341025])},\n",
       "             {'error_x': {'array': array([0.13460445, 0.13392285, 0.13114059, 0.13296631, 0.13176088, 0.13241519,\n",
       "                                          0.13248061, 0.13305965, 0.13065288, 0.13058425, 0.13172701, 0.13052456,\n",
       "                                          0.12908953, 0.12959709, 0.1286136 ]),\n",
       "                          'type': 'data'},\n",
       "              'mode': 'markers',\n",
       "              'name': 'HAR:0.80',\n",
       "              'type': 'scatter',\n",
       "              'uid': 'b3640530-7ec2-4e00-8037-4b56e3f8a3ca',\n",
       "              'visible': False,\n",
       "              'x': array([0.88000903, 0.88094502, 0.88227032, 0.88119196, 0.88202571, 0.88172776,\n",
       "                          0.88146514, 0.88209953, 0.882717  , 0.88304542, 0.88239007, 0.88350609,\n",
       "                          0.88446726, 0.88420056, 0.88557219]),\n",
       "              'y': array([0.81167289, 0.82219206, 0.80827961, 0.82490668, 0.81438751, 0.81913811,\n",
       "                          0.82558534, 0.81235154, 0.81744147, 0.81608415, 0.80895826, 0.81370886,\n",
       "                          0.82796064, 0.81744147, 0.82083475])},\n",
       "             {'error_x': {'array': array([0.14025571, 0.14163532, 0.13955619, 0.13515289, 0.1377638 , 0.13624601,\n",
       "                                          0.13427849, 0.13530804, 0.13628755, 0.13457044, 0.1335415 , 0.13283074,\n",
       "                                          0.13441871, 0.13412123, 0.13240426]),\n",
       "                          'type': 'data'},\n",
       "              'mode': 'markers',\n",
       "              'name': 'HAR:0.90',\n",
       "              'type': 'scatter',\n",
       "              'uid': 'c88d0142-4f60-406b-9be5-d1f8a3f66e1b',\n",
       "              'visible': False,\n",
       "              'x': array([0.87801512, 0.87778149, 0.87993083, 0.88186934, 0.88028766, 0.88184507,\n",
       "                          0.88301931, 0.88215154, 0.88222466, 0.88386049, 0.8843336 , 0.88457619,\n",
       "                          0.88427413, 0.8849133 , 0.88608147]),\n",
       "              'y': array([0.76891754, 0.75771971, 0.75975568, 0.76213098, 0.75093315, 0.76925687,\n",
       "                          0.76586359, 0.76688157, 0.761113  , 0.76586359, 0.7672209 , 0.76382762,\n",
       "                          0.7719715 , 0.76993553, 0.76925687])},\n",
       "             {'error_x': {'array': array([0.02669349, 0.02669349, 0.02669349, 0.02669349, 0.02669349, 0.02669349,\n",
       "                                          0.02669349, 0.02669349, 0.02669349, 0.02669349, 0.02669349, 0.02669349,\n",
       "                                          0.02669349, 0.02669349, 0.02669349]),\n",
       "                          'type': 'data'},\n",
       "              'mode': 'markers',\n",
       "              'name': 'PenDigits:0.00',\n",
       "              'type': 'scatter',\n",
       "              'uid': '46a4fd1e-d363-4f4f-aa19-d00fa7b4f7e8',\n",
       "              'visible': False,\n",
       "              'x': array([0.74560483, 0.74560483, 0.74560483, 0.74560483, 0.74560483, 0.74560483,\n",
       "                          0.74560483, 0.74560483, 0.74560483, 0.74560483, 0.74560483, 0.74560483,\n",
       "                          0.74560483, 0.74560483, 0.74560483]),\n",
       "              'y': array([0.97455689, 0.97455689, 0.97455689, 0.97455689, 0.97455689, 0.97455689,\n",
       "                          0.97455689, 0.97455689, 0.97455689, 0.97455689, 0.97455689, 0.97455689,\n",
       "                          0.97455689, 0.97455689, 0.97455689])},\n",
       "             {'error_x': {'array': array([0.02669349, 0.02669349, 0.02669349, 0.02669349, 0.02669349, 0.02669349,\n",
       "                                          0.02669349, 0.02669349, 0.02669349, 0.02669349, 0.02669349, 0.02669349,\n",
       "                                          0.02669349, 0.02669349, 0.02669349]),\n",
       "                          'type': 'data'},\n",
       "              'mode': 'markers',\n",
       "              'name': 'PenDigits:0.10',\n",
       "              'type': 'scatter',\n",
       "              'uid': 'b1af2f4e-0f96-45d5-9e08-8ff49f29c373',\n",
       "              'visible': False,\n",
       "              'x': array([0.74560483, 0.74560483, 0.74560483, 0.74560483, 0.74560483, 0.74560483,\n",
       "                          0.74560483, 0.74560483, 0.74560483, 0.74560483, 0.74560483, 0.74560483,\n",
       "                          0.74560483, 0.74560483, 0.74560483]),\n",
       "              'y': array([0.97455689, 0.97455689, 0.97455689, 0.97455689, 0.97455689, 0.97455689,\n",
       "                          0.97455689, 0.97455689, 0.97455689, 0.97455689, 0.97455689, 0.97455689,\n",
       "                          0.97455689, 0.97455689, 0.97455689])},\n",
       "             {'error_x': {'array': array([0.02926941, 0.02940826, 0.02875053, 0.02908069, 0.02892959, 0.02925449,\n",
       "                                          0.02927634, 0.02890833, 0.02914339, 0.02892419, 0.02897305, 0.02920163,\n",
       "                                          0.02895689, 0.02927995, 0.02999278]),\n",
       "                          'type': 'data'},\n",
       "              'mode': 'markers',\n",
       "              'name': 'PenDigits:0.20',\n",
       "              'type': 'scatter',\n",
       "              'uid': '644d8081-805d-4532-93e0-22b3f7a0fc94',\n",
       "              'visible': False,\n",
       "              'x': array([0.74341145, 0.74540969, 0.74515982, 0.74519132, 0.74498313, 0.74562262,\n",
       "                          0.7453608 , 0.7452876 , 0.74572747, 0.74566271, 0.74581311, 0.74621643,\n",
       "                          0.74604444, 0.74615684, 0.74838531]),\n",
       "              'y': array([0.97484277, 0.97255575, 0.97255575, 0.97112636, 0.97369926, 0.97284162,\n",
       "                          0.97284162, 0.97226987, 0.97369926, 0.97284162, 0.97427101, 0.97226987,\n",
       "                          0.97169811, 0.97226987, 0.97341338])},\n",
       "             {'error_x': {'array': array([0.03293941, 0.03282069, 0.03269854, 0.03220515, 0.03208696, 0.0318877 ,\n",
       "                                          0.03191815, 0.03252268, 0.03144346, 0.03245803, 0.03230297, 0.03177466,\n",
       "                                          0.03256775, 0.03275708, 0.03330928]),\n",
       "                          'type': 'data'},\n",
       "              'mode': 'markers',\n",
       "              'name': 'PenDigits:0.30',\n",
       "              'type': 'scatter',\n",
       "              'uid': '1aa7af9e-f0ae-4ef6-be5f-ee1563e8f2f2',\n",
       "              'visible': False,\n",
       "              'x': array([0.743397  , 0.74429455, 0.74459163, 0.74480364, 0.74480121, 0.74473555,\n",
       "                          0.74467664, 0.74563556, 0.74513973, 0.74593196, 0.74589004, 0.7460541 ,\n",
       "                          0.7470055 , 0.74688356, 0.74831413]),\n",
       "              'y': array([0.9705546 , 0.97284162, 0.97341338, 0.97226987, 0.97226987, 0.97369926,\n",
       "                          0.97198399, 0.97455689, 0.97141224, 0.97255575, 0.97455689, 0.97112636,\n",
       "                          0.97484277, 0.97226987, 0.97226987])},\n",
       "             {'error_x': {'array': array([0.03870007, 0.03780882, 0.03733423, 0.03760777, 0.03664823, 0.0371361 ,\n",
       "                                          0.03679771, 0.03749201, 0.03738397, 0.03705415, 0.03707399, 0.03783433,\n",
       "                                          0.03701148, 0.03838684, 0.03979088]),\n",
       "                          'type': 'data'},\n",
       "              'mode': 'markers',\n",
       "              'name': 'PenDigits:0.40',\n",
       "              'type': 'scatter',\n",
       "              'uid': 'f894b4ec-8b65-4f91-9dec-d03c7209952f',\n",
       "              'visible': False,\n",
       "              'x': array([0.74303615, 0.7435381 , 0.74467636, 0.74465446, 0.74407109, 0.74494771,\n",
       "                          0.74452105, 0.74517695, 0.74589602, 0.74604497, 0.74633537, 0.74791417,\n",
       "                          0.74751177, 0.74921233, 0.7499427 ]),\n",
       "              'y': array([0.97084048, 0.97284162, 0.96998285, 0.9705546 , 0.96941109, 0.9705546 ,\n",
       "                          0.96941109, 0.9679817 , 0.97226987, 0.97112636, 0.97084048, 0.96912521,\n",
       "                          0.96826758, 0.97226987, 0.97026872])},\n",
       "             {'error_x': {'array': array([0.04692001, 0.04685816, 0.04603983, 0.04528182, 0.04552695, 0.04502751,\n",
       "                                          0.04470137, 0.04447446, 0.04555718, 0.04535202, 0.04455435, 0.04513143,\n",
       "                                          0.04685274, 0.04609468, 0.04884587]),\n",
       "                          'type': 'data'},\n",
       "              'mode': 'markers',\n",
       "              'name': 'PenDigits:0.50',\n",
       "              'type': 'scatter',\n",
       "              'uid': '5b4ca045-60bd-445e-9877-c993ddb4112d',\n",
       "              'visible': False,\n",
       "              'x': array([0.74117792, 0.74205003, 0.74248607, 0.74387516, 0.74412734, 0.74460002,\n",
       "                          0.74494428, 0.7454544 , 0.74671874, 0.74702341, 0.74730764, 0.74624784,\n",
       "                          0.74777612, 0.74866827, 0.75156985]),\n",
       "              'y': array([0.96740995, 0.96683819, 0.96883934, 0.96826758, 0.96598056, 0.96655232,\n",
       "                          0.96912521, 0.96740995, 0.96683819, 0.96740995, 0.96998285, 0.96769583,\n",
       "                          0.96769583, 0.96912521, 0.96769583])},\n",
       "             {'error_x': {'array': array([0.0475182 , 0.04616267, 0.0450701 , 0.04540464, 0.04495087, 0.04455389,\n",
       "                                          0.04454069, 0.04488809, 0.04467678, 0.04510439, 0.04503134, 0.04541001,\n",
       "                                          0.04568045, 0.04637023, 0.04954024]),\n",
       "                          'type': 'data'},\n",
       "              'mode': 'markers',\n",
       "              'name': 'PenDigits:0.60',\n",
       "              'type': 'scatter',\n",
       "              'uid': 'a89e2d73-cf48-4c24-8e6a-5788b29b8eff',\n",
       "              'visible': False,\n",
       "              'x': array([0.74040562, 0.742782  , 0.74397719, 0.74476653, 0.74497782, 0.74412426,\n",
       "                          0.74471344, 0.74715375, 0.74561598, 0.74576887, 0.74785699, 0.74730582,\n",
       "                          0.74808831, 0.74854774, 0.75043975]),\n",
       "              'y': array([0.96912521, 0.96826758, 0.96740995, 0.97026872, 0.96883934, 0.96512293,\n",
       "                          0.96883934, 0.96826758, 0.97226987, 0.96969697, 0.96569468, 0.96769583,\n",
       "                          0.97169811, 0.96598056, 0.96740995])},\n",
       "             {'error_x': {'array': array([0.06314329, 0.06303511, 0.06143113, 0.06075176, 0.05995059, 0.05992326,\n",
       "                                          0.05939974, 0.05947656, 0.05998788, 0.05905842, 0.05950531, 0.06062362,\n",
       "                                          0.06061831, 0.06120601, 0.0649445 ]),\n",
       "                          'type': 'data'},\n",
       "              'mode': 'markers',\n",
       "              'name': 'PenDigits:0.70',\n",
       "              'type': 'scatter',\n",
       "              'uid': '41f8db8c-cc2c-454b-9b37-405ba4ce13b3',\n",
       "              'visible': False,\n",
       "              'x': array([0.73914067, 0.74106226, 0.74198069, 0.74404405, 0.74422065, 0.74304804,\n",
       "                          0.74406025, 0.74548709, 0.7456195 , 0.74652221, 0.74782279, 0.74917084,\n",
       "                          0.74933451, 0.75074439, 0.75285017]),\n",
       "              'y': array([0.96197827, 0.96255003, 0.96140652, 0.9616924 , 0.96255003, 0.96054889,\n",
       "                          0.96483705, 0.96397942, 0.96140652, 0.96083476, 0.96569468, 0.96569468,\n",
       "                          0.96540881, 0.96397942, 0.96769583])},\n",
       "             {'error_x': {'array': array([0.10715263, 0.10217303, 0.10035511, 0.09928578, 0.09865431, 0.09791894,\n",
       "                                          0.09629013, 0.09596059, 0.09844697, 0.09799426, 0.09930001, 0.09960748,\n",
       "                                          0.10113205, 0.10037857, 0.10207054]),\n",
       "                          'type': 'data'},\n",
       "              'mode': 'markers',\n",
       "              'name': 'PenDigits:0.80',\n",
       "              'type': 'scatter',\n",
       "              'uid': '11396c62-dacc-48f9-ae2a-b012aacf2898',\n",
       "              'visible': False,\n",
       "              'x': array([0.73176977, 0.74010495, 0.74004354, 0.73968615, 0.74251065, 0.7423007 ,\n",
       "                          0.74353458, 0.74638109, 0.74519367, 0.7457801 , 0.75074204, 0.75249953,\n",
       "                          0.75300852, 0.75383093, 0.75577932]),\n",
       "              'y': array([0.94539737, 0.94482561, 0.94768439, 0.94939966, 0.94511149, 0.94453974,\n",
       "                          0.9488279 , 0.94825615, 0.94854202, 0.93967982, 0.9436821 , 0.94939966,\n",
       "                          0.94654088, 0.94797027, 0.94168096])},\n",
       "             {'error_x': {'array': array([0., 0., 0., 0., 0., 0., 0., 0., 0., 0., 0., 0., 0., 0., 0.]), 'type': 'data'},\n",
       "              'mode': 'markers',\n",
       "              'name': 'PenDigits:0.90',\n",
       "              'type': 'scatter',\n",
       "              'uid': '6b8dd6e2-e17f-48c6-af20-7aa11f28a26d',\n",
       "              'visible': False,\n",
       "              'x': array([1., 1., 1., 1., 1., 1., 1., 1., 1., 1., 1., 1., 1., 1., 1.]),\n",
       "              'y': array([0.83876501, 0.84791309, 0.84534019, 0.84448256, 0.8619211 , 0.84791309,\n",
       "                          0.84591195, 0.84591195, 0.84248142, 0.83933676, 0.85305889, 0.84848485,\n",
       "                          0.84877073, 0.8516295 , 0.84762722])},\n",
       "             {'error_x': {'array': array([0.00697742, 0.00697742, 0.00697742, 0.00697742, 0.00697742, 0.00697742,\n",
       "                                          0.00697742, 0.00697742, 0.00697742, 0.00697742, 0.00697742, 0.00697742,\n",
       "                                          0.00697742, 0.00697742, 0.00697742]),\n",
       "                          'type': 'data'},\n",
       "              'mode': 'markers',\n",
       "              'name': 'Synthetic:0.00',\n",
       "              'type': 'scatter',\n",
       "              'uid': '259fad6b-d221-4229-a720-8483307f8d85',\n",
       "              'visible': True,\n",
       "              'x': array([0.85571039, 0.85571039, 0.85571039, 0.85571039, 0.85571039, 0.85571039,\n",
       "                          0.85571039, 0.85571039, 0.85571039, 0.85571039, 0.85571039, 0.85571039,\n",
       "                          0.85571039, 0.85571039, 0.85571039]),\n",
       "              'y': array([0.945, 0.945, 0.945, 0.945, 0.945, 0.945, 0.945, 0.945, 0.945, 0.945,\n",
       "                          0.945, 0.945, 0.945, 0.945, 0.945])},\n",
       "             {'error_x': {'array': array([0.00745767, 0.00750958, 0.00750414, 0.00769511, 0.00722816, 0.00754481,\n",
       "                                          0.00736671, 0.00728587, 0.00712904, 0.00732522, 0.00737904, 0.00753466,\n",
       "                                          0.00741453, 0.0075792 , 0.0074394 ]),\n",
       "                          'type': 'data'},\n",
       "              'mode': 'markers',\n",
       "              'name': 'Synthetic:0.10',\n",
       "              'type': 'scatter',\n",
       "              'uid': '6c0c62bd-6815-430f-828b-fa41c4cbfe00',\n",
       "              'visible': False,\n",
       "              'x': array([0.85535808, 0.85520535, 0.85557425, 0.85579164, 0.85551065, 0.85562543,\n",
       "                          0.85547102, 0.85551917, 0.85566838, 0.85593302, 0.85556421, 0.85595668,\n",
       "                          0.85588584, 0.85580356, 0.85593608]),\n",
       "              'y': array([0.925, 0.92 , 0.915, 0.94 , 0.935, 0.925, 0.935, 0.935, 0.925, 0.93 ,\n",
       "                          0.935, 0.945, 0.935, 0.935, 0.935])},\n",
       "             {'error_x': {'array': array([0.00825676, 0.0078805 , 0.00763577, 0.00769875, 0.0080235 , 0.00815802,\n",
       "                                          0.0076677 , 0.00805058, 0.00784382, 0.00809324, 0.00840643, 0.00798545,\n",
       "                                          0.00786021, 0.00831028, 0.00786525]),\n",
       "                          'type': 'data'},\n",
       "              'mode': 'markers',\n",
       "              'name': 'Synthetic:0.20',\n",
       "              'type': 'scatter',\n",
       "              'uid': 'fa1c88e6-6693-4fa6-b7cc-9fa5218faf69',\n",
       "              'visible': False,\n",
       "              'x': array([0.85565058, 0.85544859, 0.8548325 , 0.85572328, 0.85575336, 0.85571459,\n",
       "                          0.85588638, 0.85581234, 0.85619294, 0.85612865, 0.85552999, 0.85608334,\n",
       "                          0.85607542, 0.85610204, 0.85631618]),\n",
       "              'y': array([0.895, 0.92 , 0.92 , 0.905, 0.92 , 0.92 , 0.895, 0.93 , 0.92 , 0.87 ,\n",
       "                          0.905, 0.895, 0.89 , 0.9  , 0.91 ])},\n",
       "             {'error_x': {'array': array([0.00896204, 0.00892078, 0.00823619, 0.00930978, 0.00894775, 0.00834168,\n",
       "                                          0.00830712, 0.00907891, 0.00869552, 0.00878646, 0.00860603, 0.00856659,\n",
       "                                          0.00882542, 0.00929383, 0.00901586]),\n",
       "                          'type': 'data'},\n",
       "              'mode': 'markers',\n",
       "              'name': 'Synthetic:0.30',\n",
       "              'type': 'scatter',\n",
       "              'uid': '7e20c106-3963-43bc-b292-bea6f037c224',\n",
       "              'visible': False,\n",
       "              'x': array([0.85473439, 0.85516697, 0.8554241 , 0.85562082, 0.85449134, 0.85587916,\n",
       "                          0.85539134, 0.85555481, 0.85552985, 0.85571118, 0.85561382, 0.85605179,\n",
       "                          0.85603395, 0.856388  , 0.85686612]),\n",
       "              'y': array([0.865, 0.875, 0.885, 0.84 , 0.885, 0.865, 0.86 , 0.845, 0.895, 0.86 ,\n",
       "                          0.875, 0.88 , 0.87 , 0.89 , 0.86 ])},\n",
       "             {'error_x': {'array': array([0.00998542, 0.00938178, 0.01068874, 0.00961658, 0.00888048, 0.00942938,\n",
       "                                          0.00991851, 0.00926627, 0.0095243 , 0.00907514, 0.01035002, 0.00857315,\n",
       "                                          0.01000836, 0.00929643, 0.0092911 ]),\n",
       "                          'type': 'data'},\n",
       "              'mode': 'markers',\n",
       "              'name': 'Synthetic:0.40',\n",
       "              'type': 'scatter',\n",
       "              'uid': 'f06e4c5c-1a25-4d5d-8bf6-76d6e6ac9782',\n",
       "              'visible': False,\n",
       "              'x': array([0.85414086, 0.85524603, 0.85503383, 0.8551349 , 0.85516481, 0.85549837,\n",
       "                          0.85585619, 0.85535373, 0.85551511, 0.85586151, 0.8565057 , 0.85591397,\n",
       "                          0.85608823, 0.85573732, 0.85625625]),\n",
       "              'y': array([0.82 , 0.845, 0.825, 0.81 , 0.85 , 0.815, 0.805, 0.835, 0.835, 0.83 ,\n",
       "                          0.805, 0.855, 0.835, 0.84 , 0.88 ])},\n",
       "             {'error_x': {'array': array([0.01199865, 0.01155151, 0.01118076, 0.0108794 , 0.01117531, 0.01269134,\n",
       "                                          0.01129452, 0.01098666, 0.01045675, 0.00999419, 0.01074318, 0.01152376,\n",
       "                                          0.01133503, 0.01052868, 0.01129648]),\n",
       "                          'type': 'data'},\n",
       "              'mode': 'markers',\n",
       "              'name': 'Synthetic:0.50',\n",
       "              'type': 'scatter',\n",
       "              'uid': 'a0e47349-ba0b-4287-aea5-dc7c8b9d714e',\n",
       "              'visible': False,\n",
       "              'x': array([0.85473481, 0.8554269 , 0.85643494, 0.85504149, 0.85513051, 0.85607918,\n",
       "                          0.85630425, 0.85574543, 0.85658186, 0.85661402, 0.85584768, 0.85674572,\n",
       "                          0.85618278, 0.85648662, 0.85776377]),\n",
       "              'y': array([0.78 , 0.76 , 0.76 , 0.765, 0.8  , 0.78 , 0.775, 0.835, 0.725, 0.76 ,\n",
       "                          0.805, 0.72 , 0.78 , 0.775, 0.76 ])},\n",
       "             {'error_x': {'array': array([0.01366409, 0.01330624, 0.01230374, 0.01173609, 0.01359686, 0.01200972,\n",
       "                                          0.01263069, 0.0126853 , 0.01189408, 0.01189998, 0.01118606, 0.01297257,\n",
       "                                          0.01329293, 0.0141878 , 0.01275565]),\n",
       "                          'type': 'data'},\n",
       "              'mode': 'markers',\n",
       "              'name': 'Synthetic:0.60',\n",
       "              'type': 'scatter',\n",
       "              'uid': 'c1e7cba8-b3b0-4687-9f92-53f9c66210d4',\n",
       "              'visible': False,\n",
       "              'x': array([0.85456497, 0.85510131, 0.85575552, 0.85496958, 0.85543708, 0.85690788,\n",
       "                          0.85558945, 0.85596478, 0.85539813, 0.85623129, 0.85600675, 0.85665406,\n",
       "                          0.85635861, 0.85757411, 0.85635496]),\n",
       "              'y': array([0.73 , 0.725, 0.7  , 0.735, 0.685, 0.65 , 0.725, 0.72 , 0.725, 0.67 ,\n",
       "                          0.715, 0.725, 0.745, 0.755, 0.72 ])},\n",
       "             {'error_x': {'array': array([0.01681286, 0.01687984, 0.01548841, 0.01377132, 0.01364228, 0.01517416,\n",
       "                                          0.01439938, 0.01469013, 0.01377282, 0.01404172, 0.01460639, 0.01354816,\n",
       "                                          0.01463475, 0.01299193, 0.01667719]),\n",
       "                          'type': 'data'},\n",
       "              'mode': 'markers',\n",
       "              'name': 'Synthetic:0.70',\n",
       "              'type': 'scatter',\n",
       "              'uid': '72fa6a3c-f3fd-4d58-9459-37f30f048308',\n",
       "              'visible': False,\n",
       "              'x': array([0.85331076, 0.85467954, 0.8544271 , 0.85541664, 0.85569182, 0.85593432,\n",
       "                          0.8543521 , 0.85701642, 0.85438177, 0.85644453, 0.85604372, 0.85560109,\n",
       "                          0.85572197, 0.8565975 , 0.85719934]),\n",
       "              'y': array([0.655, 0.62 , 0.64 , 0.65 , 0.685, 0.615, 0.585, 0.715, 0.7  , 0.705,\n",
       "                          0.655, 0.63 , 0.685, 0.64 , 0.63 ])},\n",
       "             {'error_x': {'array': array([0.02102718, 0.01939361, 0.02113759, 0.01952918, 0.01971204, 0.01806808,\n",
       "                                          0.01925528, 0.01906533, 0.01911543, 0.01733751, 0.0190095 , 0.0185904 ,\n",
       "                                          0.02016098, 0.01939505, 0.02155217]),\n",
       "                          'type': 'data'},\n",
       "              'mode': 'markers',\n",
       "              'name': 'Synthetic:0.80',\n",
       "              'type': 'scatter',\n",
       "              'uid': '557a7180-d054-41a5-9137-123bba23b68a',\n",
       "              'visible': False,\n",
       "              'x': array([0.8540711 , 0.85551849, 0.85302967, 0.85358866, 0.85590384, 0.85585227,\n",
       "                          0.85436601, 0.85672764, 0.85829285, 0.85749866, 0.85777788, 0.85807682,\n",
       "                          0.85669786, 0.85972649, 0.85894134]),\n",
       "              'y': array([0.59 , 0.505, 0.63 , 0.595, 0.605, 0.455, 0.58 , 0.52 , 0.62 , 0.555,\n",
       "                          0.53 , 0.585, 0.545, 0.585, 0.6  ])},\n",
       "             {'error_x': {'array': array([0.0346063 , 0.03288428, 0.02977841, 0.03005561, 0.02867464, 0.02717095,\n",
       "                                          0.03159135, 0.0295957 , 0.02737497, 0.03063528, 0.02930907, 0.02998021,\n",
       "                                          0.03207238, 0.02898382, 0.0299446 ]),\n",
       "                          'type': 'data'},\n",
       "              'mode': 'markers',\n",
       "              'name': 'Synthetic:0.90',\n",
       "              'type': 'scatter',\n",
       "              'uid': '13498e4b-9022-468b-a705-e204f3998503',\n",
       "              'visible': False,\n",
       "              'x': array([0.8535026 , 0.85347492, 0.85468526, 0.85659975, 0.85497532, 0.85804888,\n",
       "                          0.85561214, 0.85124265, 0.85745338, 0.85274156, 0.85512321, 0.85429158,\n",
       "                          0.85621503, 0.85783429, 0.85734802]),\n",
       "              'y': array([0.475, 0.525, 0.56 , 0.495, 0.4  , 0.485, 0.42 , 0.485, 0.5  , 0.44 ,\n",
       "                          0.47 , 0.435, 0.49 , 0.445, 0.43 ])},\n",
       "             {'error_x': {'array': array([0.04635096, 0.04635096, 0.04635096, 0.04635096, 0.04635096, 0.04635096,\n",
       "                                          0.04635096, 0.04635096, 0.04635096, 0.04635096, 0.04635096, 0.04635096,\n",
       "                                          0.04635096, 0.04635096, 0.04635096]),\n",
       "                          'type': 'data'},\n",
       "              'mode': 'markers',\n",
       "              'name': 'WISDM:0.00',\n",
       "              'type': 'scatter',\n",
       "              'uid': '942a859f-f888-425e-b3f6-1cd9b7c800cf',\n",
       "              'visible': False,\n",
       "              'x': array([0.93345434, 0.93345434, 0.93345434, 0.93345434, 0.93345434, 0.93345434,\n",
       "                          0.93345434, 0.93345434, 0.93345434, 0.93345434, 0.93345434, 0.93345434,\n",
       "                          0.93345434, 0.93345434, 0.93345434]),\n",
       "              'y': array([0.86691087, 0.86691087, 0.86691087, 0.86691087, 0.86691087, 0.86691087,\n",
       "                          0.86691087, 0.86691087, 0.86691087, 0.86691087, 0.86691087, 0.86691087,\n",
       "                          0.86691087, 0.86691087, 0.86691087])},\n",
       "             {'error_x': {'array': array([0.04640381, 0.04636299, 0.04650857, 0.04636585, 0.04637282, 0.0463644 ,\n",
       "                                          0.04636906, 0.04634442, 0.04635496, 0.04637105, 0.04628685, 0.0463237 ,\n",
       "                                          0.04633494, 0.04630471, 0.04627543]),\n",
       "                          'type': 'data'},\n",
       "              'mode': 'markers',\n",
       "              'name': 'WISDM:0.10',\n",
       "              'type': 'scatter',\n",
       "              'uid': 'ea28b15e-a0df-4359-b1a4-671899ac439e',\n",
       "              'visible': False,\n",
       "              'x': array([0.93336753, 0.93341155, 0.93334176, 0.93339828, 0.93342239, 0.93341394,\n",
       "                          0.93339404, 0.93345356, 0.93349415, 0.93347004, 0.93354393, 0.93352937,\n",
       "                          0.93352109, 0.93353259, 0.93359055]),\n",
       "              'y': array([0.86935287, 0.85836386, 0.86813187, 0.86568987, 0.86446886, 0.86813187,\n",
       "                          0.86324786, 0.86324786, 0.86202686, 0.86202686, 0.86691087, 0.86813187,\n",
       "                          0.86935287, 0.86935287, 0.86568987])},\n",
       "             {'error_x': {'array': array([0.04635665, 0.04643191, 0.04656868, 0.04647019, 0.04641714, 0.04640664,\n",
       "                                          0.04640152, 0.04639462, 0.04634443, 0.04635648, 0.04631461, 0.04645453,\n",
       "                                          0.04623167, 0.04627058, 0.04635848]),\n",
       "                          'type': 'data'},\n",
       "              'mode': 'markers',\n",
       "              'name': 'WISDM:0.20',\n",
       "              'type': 'scatter',\n",
       "              'uid': 'b280406d-a2d9-451b-9f16-e5d2cb0a20c9',\n",
       "              'visible': False,\n",
       "              'x': array([0.9333599 , 0.93320706, 0.93325344, 0.93334097, 0.93336293, 0.93341666,\n",
       "                          0.9335167 , 0.93347591, 0.93358802, 0.93356896, 0.93354196, 0.93346384,\n",
       "                          0.93360788, 0.93366947, 0.93370017]),\n",
       "              'y': array([0.86324786, 0.86324786, 0.85592186, 0.86324786, 0.85836386, 0.85836386,\n",
       "                          0.86080586, 0.86202686, 0.86446886, 0.85714286, 0.84859585, 0.86202686,\n",
       "                          0.85958486, 0.86568987, 0.85347985])},\n",
       "             {'error_x': {'array': array([0.04640142, 0.04668303, 0.04633302, 0.04649799, 0.04638776, 0.04639473,\n",
       "                                          0.0463501 , 0.04627788, 0.0464972 , 0.04628293, 0.04658338, 0.04626811,\n",
       "                                          0.04627096, 0.04629312, 0.04643246]),\n",
       "                          'type': 'data'},\n",
       "              'mode': 'markers',\n",
       "              'name': 'WISDM:0.30',\n",
       "              'type': 'scatter',\n",
       "              'uid': 'f4f1350f-1e17-484f-b154-9bf1a6b113ce',\n",
       "              'visible': False,\n",
       "              'x': array([0.93339412, 0.93306958, 0.93345485, 0.93331962, 0.93339617, 0.93350829,\n",
       "                          0.93345   , 0.93357745, 0.93343233, 0.93362778, 0.93342792, 0.93362868,\n",
       "                          0.93371422, 0.93374048, 0.93373387]),\n",
       "              'y': array([0.85103785, 0.86691087, 0.85958486, 0.86446886, 0.85714286, 0.84615385,\n",
       "                          0.85592186, 0.85470085, 0.85103785, 0.85225885, 0.84737485, 0.85470085,\n",
       "                          0.85714286, 0.84981685, 0.84615385])},\n",
       "             {'error_x': {'array': array([0.04633124, 0.04656916, 0.04625741, 0.04636553, 0.04628493, 0.04673799,\n",
       "                                          0.04660227, 0.04678406, 0.04638492, 0.04616642, 0.0463528 , 0.04634012,\n",
       "                                          0.04619194, 0.04637244, 0.04619867]),\n",
       "                          'type': 'data'},\n",
       "              'mode': 'markers',\n",
       "              'name': 'WISDM:0.40',\n",
       "              'type': 'scatter',\n",
       "              'uid': '063ec9b9-2c21-49b4-8511-5553b8cbe6cd',\n",
       "              'visible': False,\n",
       "              'x': array([0.9331843 , 0.93333245, 0.93338669, 0.93343928, 0.9335331 , 0.93321073,\n",
       "                          0.93320931, 0.93313523, 0.9336037 , 0.9337426 , 0.93344422, 0.93370377,\n",
       "                          0.93371177, 0.93364372, 0.93368519]),\n",
       "              'y': array([0.84249084, 0.85103785, 0.83638584, 0.84615385, 0.84615385, 0.83028083,\n",
       "                          0.83638584, 0.83882784, 0.84371184, 0.85225885, 0.84126984, 0.84615385,\n",
       "                          0.84371184, 0.85714286, 0.85958486])},\n",
       "             {'error_x': {'array': array([0.04660138, 0.04674268, 0.04657936, 0.04666449, 0.0467572 , 0.04649948,\n",
       "                                          0.0467631 , 0.04650819, 0.04653396, 0.04641873, 0.04671176, 0.04633638,\n",
       "                                          0.04670937, 0.04632246, 0.04615274]),\n",
       "                          'type': 'data'},\n",
       "              'mode': 'markers',\n",
       "              'name': 'WISDM:0.50',\n",
       "              'type': 'scatter',\n",
       "              'uid': '9538a896-d797-40a2-af2f-33c8909d3b08',\n",
       "              'visible': False,\n",
       "              'x': array([0.93317567, 0.93307142, 0.93336492, 0.93327261, 0.93319845, 0.93340509,\n",
       "                          0.93316964, 0.93343612, 0.93344163, 0.93362245, 0.93345093, 0.93364689,\n",
       "                          0.93364068, 0.93356942, 0.93380009]),\n",
       "              'y': array([0.81684982, 0.82661783, 0.82295482, 0.81684982, 0.83150183, 0.82051282,\n",
       "                          0.82295482, 0.83760684, 0.83028083, 0.82539683, 0.82173382, 0.82661783,\n",
       "                          0.84615385, 0.82783883, 0.82295482])},\n",
       "             {'error_x': {'array': array([0.04694486, 0.04685065, 0.04716516, 0.04633593, 0.04614543, 0.04639247,\n",
       "                                          0.0467455 , 0.04663195, 0.04625714, 0.04644547, 0.0467667 , 0.0460221 ,\n",
       "                                          0.04640243, 0.04662675, 0.04620274]),\n",
       "                          'type': 'data'},\n",
       "              'mode': 'markers',\n",
       "              'name': 'WISDM:0.60',\n",
       "              'type': 'scatter',\n",
       "              'uid': 'f2664247-f03d-4b0e-9012-2d5a6b6226c6',\n",
       "              'visible': False,\n",
       "              'x': array([0.93283974, 0.93312093, 0.93271336, 0.93348359, 0.93354428, 0.93322895,\n",
       "                          0.93337487, 0.93334834, 0.93360856, 0.93343511, 0.93339144, 0.93395997,\n",
       "                          0.93383809, 0.93370372, 0.93389288]),\n",
       "              'y': array([0.8021978 , 0.8046398 , 0.80586081, 0.81318681, 0.83150183, 0.81440781,\n",
       "                          0.79242979, 0.82295482, 0.80952381, 0.81074481, 0.80586081, 0.80708181,\n",
       "                          0.82539683, 0.7973138 , 0.81684982])},\n",
       "             {'error_x': {'array': array([0.04710532, 0.04662118, 0.04663247, 0.04649609, 0.04660174, 0.04694982,\n",
       "                                          0.04607648, 0.04635102, 0.04626572, 0.04627651, 0.04700792, 0.04661707,\n",
       "                                          0.04654564, 0.0461532 , 0.04609818]),\n",
       "                          'type': 'data'},\n",
       "              'mode': 'markers',\n",
       "              'name': 'WISDM:0.70',\n",
       "              'type': 'scatter',\n",
       "              'uid': '77e5bc9b-d5a5-4cbf-808e-8df16e56a2fd',\n",
       "              'visible': False,\n",
       "              'x': array([0.9325952 , 0.93314945, 0.93307832, 0.93330572, 0.93318844, 0.93360052,\n",
       "                          0.93381479, 0.93349068, 0.93364361, 0.93376889, 0.93343579, 0.9336044 ,\n",
       "                          0.93380506, 0.93390627, 0.9339619 ]),\n",
       "              'y': array([0.78266178, 0.77167277, 0.77533578, 0.78266178, 0.78266178, 0.78510379,\n",
       "                          0.78388278, 0.76556777, 0.76923077, 0.8009768 , 0.80708181, 0.78998779,\n",
       "                          0.77899878, 0.78876679, 0.7997558 ])},\n",
       "             {'error_x': {'array': array([0.04766066, 0.04763712, 0.04775234, 0.04782745, 0.04705815, 0.04774942,\n",
       "                                          0.04725486, 0.04677933, 0.04630708, 0.04671356, 0.04687831, 0.04638695,\n",
       "                                          0.04681265, 0.0466149 , 0.0462234 ]),\n",
       "                          'type': 'data'},\n",
       "              'mode': 'markers',\n",
       "              'name': 'WISDM:0.80',\n",
       "              'type': 'scatter',\n",
       "              'uid': '1ec84cad-674f-464f-939c-6d4fe05fed3e',\n",
       "              'visible': False,\n",
       "              'x': array([0.93232723, 0.93252009, 0.9331792 , 0.93266242, 0.93336931, 0.93339016,\n",
       "                          0.93310567, 0.93329734, 0.93381716, 0.93383341, 0.93327586, 0.93414082,\n",
       "                          0.93376856, 0.93420492, 0.93463464]),\n",
       "              'y': array([0.72893773, 0.73626374, 0.71550672, 0.73870574, 0.74236874, 0.72893773,\n",
       "                          0.67521368, 0.73137973, 0.72771673, 0.75457875, 0.74358974, 0.71184371,\n",
       "                          0.72283272, 0.71916972, 0.7008547 ])},\n",
       "             {'error_x': {'array': array([0.04864279, 0.04879685, 0.04835012, 0.0480698 , 0.04804399, 0.0480656 ,\n",
       "                                          0.04761725, 0.04831064, 0.0480668 , 0.04787318, 0.04742511, 0.04716384,\n",
       "                                          0.04751027, 0.04655426, 0.04735253]),\n",
       "                          'type': 'data'},\n",
       "              'mode': 'markers',\n",
       "              'name': 'WISDM:0.90',\n",
       "              'type': 'scatter',\n",
       "              'uid': '4e2e5cb7-ae84-40e8-b337-314842c3121a',\n",
       "              'visible': False,\n",
       "              'x': array([0.93247554, 0.93268877, 0.93305044, 0.93291314, 0.93321423, 0.93292699,\n",
       "                          0.93303669, 0.93280348, 0.93303827, 0.93390291, 0.93449566, 0.93424817,\n",
       "                          0.9341521 , 0.9344953 , 0.93473257]),\n",
       "              'y': array([0.63858364, 0.61782662, 0.67032967, 0.61416361, 0.62637363, 0.63125763,\n",
       "                          0.62515263, 0.63980464, 0.62515263, 0.64102564, 0.65201465, 0.64835165,\n",
       "                          0.62148962, 0.62881563, 0.63003663])}],\n",
       "    'layout': {'margin': {'b': 0, 'l': 0, 'r': 0, 't': 0},\n",
       "               'template': '...',\n",
       "               'xaxis': {'title': {'text': 'Diversity (Mean)'}},\n",
       "               'yaxis': {'title': {'text': 'Accuracy'}}}\n",
       "})"
      ]
     },
     "execution_count": 8,
     "metadata": {},
     "output_type": "execute_result"
    }
   ],
   "source": [
    "fig = go.FigureWidget()\n",
    "for (dataset, masked), rest in df.groupby([\"Dataset\", \"MaskedPercent\"]):\n",
    "    fig.add_scatter(\n",
    "        y=rest[\"Acc\"],\n",
    "        x=rest[\"DiversityMean\"],\n",
    "        error_x=dict(array=rest[\"DiversityStd\"], type=\"data\"),\n",
    "        name=f\"{dataset}:{masked:.02f}\",\n",
    "        mode=\"markers\",\n",
    "        visible=False,\n",
    "    )\n",
    "fig.update_layout({\n",
    "    \"margin\": dict(l=0, r=0, t=0, b=0),\n",
    "    \"xaxis_title\": \"Diversity (Mean)\",\n",
    "    \"yaxis_title\": \"Accuracy\"\n",
    "})\n",
    "\n",
    "@widgets.interact(dataset=df[\"Dataset\"].unique(), masked=df[\"MaskedPercent\"].unique())\n",
    "def update_graph(dataset, masked):\n",
    "    with fig.batch_update():\n",
    "        for i in range(len(fig.data)):\n",
    "            fig.data[i].visible = fig.data[i].name == f\"{dataset}:{masked:.02f}\"\n",
    "\n",
    "fig"
   ]
  },
  {
   "cell_type": "code",
   "execution_count": 9,
   "metadata": {},
   "outputs": [
    {
     "data": {
      "application/vnd.jupyter.widget-view+json": {
       "model_id": "928eb65c81a64b9c93be3b55933de0f9",
       "version_major": 2,
       "version_minor": 0
      },
      "text/plain": [
       "interactive(children=(Dropdown(description='dataset', options=('Synthetic', 'FingerMovements', 'Epilepsy', 'WI…"
      ]
     },
     "metadata": {},
     "output_type": "display_data"
    },
    {
     "data": {
      "application/vnd.jupyter.widget-view+json": {
       "model_id": "0060a0130ae54096bf6754fa1dc19317",
       "version_major": 2,
       "version_minor": 0
      },
      "text/plain": [
       "FigureWidget({\n",
       "    'data': [{'colorbar': {'title': {'text': 'Correlation'}},\n",
       "              'colorscale': [[0.0, '#440154'], [0.1111111111111111, '#482878'],\n",
       "                             [0.2222222222222222, '#3e4989'], [0.3333333333333333,\n",
       "                             '#31688e'], [0.4444444444444444, '#26828e'],\n",
       "                             [0.5555555555555556, '#1f9e89'], [0.6666666666666666,\n",
       "                             '#35b779'], [0.7777777777777778, '#6ece58'],\n",
       "                             [0.8888888888888888, '#b5de2b'], [1.0, '#fde725']],\n",
       "              'showscale': True,\n",
       "              'textfont': {'size': 12},\n",
       "              'texttemplate': '%{z:.4f}',\n",
       "              'type': 'heatmap',\n",
       "              'uid': '6517e8ee-50b8-4196-b27f-e2bf9be1d4f0',\n",
       "              'z': array([[0.5469662, 1.       ],\n",
       "                          [1.       , 0.5469662]])}],\n",
       "    'layout': {'margin': {'b': 10, 'l': 0, 'r': 0, 't': 20},\n",
       "               'template': '...',\n",
       "               'xaxis': {'ticktext': ['Diversity', 'Accuracy'], 'tickvals': [0, 1], 'title': {'text': 'Variables'}},\n",
       "               'yaxis': {'ticktext': ['Diversity', 'Accuracy'], 'tickvals': [1, 0], 'title': {'text': 'Variables'}}}\n",
       "})"
      ]
     },
     "execution_count": 9,
     "metadata": {},
     "output_type": "execute_result"
    }
   ],
   "source": [
    "corr_df = df.groupby([\"Dataset\", \"MaskedPercent\"])[[\"DiversityMean\", \"Acc\"]].corr()\n",
    "\n",
    "fig = go.FigureWidget(\n",
    "    layout=dict(\n",
    "        margin=dict(l=0, r=0, t=20, b=10),\n",
    "        xaxis=dict(title=\"Variables\", tickvals=[0, 1], ticktext=[\"Diversity\", \"Accuracy\"]),\n",
    "        yaxis=dict(title=\"Variables\", tickvals=[1, 0], ticktext=[\"Diversity\", \"Accuracy\"]),\n",
    "    )\n",
    ")\n",
    "\n",
    "fig.add_heatmap(\n",
    "    z=np.eye(2),\n",
    "    colorscale=\"Viridis\",\n",
    "    showscale=True,\n",
    "    colorbar=dict(title=\"Correlation\"),\n",
    "    texttemplate=\"%{z:.4f}\",\n",
    "    textfont={\"size\":12}\n",
    ")\n",
    "\n",
    "@widgets.interact(dataset=df[\"Dataset\"].unique(), masked=np.arange(0.1, 1.0, step=0.1).round(2))\n",
    "def update_graph(dataset, masked):\n",
    "    with fig.batch_update():\n",
    "        z = (corr_df.loc[(dataset, masked)].to_numpy())[::-1]\n",
    "        fig.data[0].z = z\n",
    "\n",
    "fig"
   ]
  }
 ],
 "metadata": {
  "kernelspec": {
   "display_name": "timeseries",
   "language": "python",
   "name": "python3"
  },
  "language_info": {
   "codemirror_mode": {
    "name": "ipython",
    "version": 3
   },
   "file_extension": ".py",
   "mimetype": "text/x-python",
   "name": "python",
   "nbconvert_exporter": "python",
   "pygments_lexer": "ipython3",
   "version": "3.9.21"
  }
 },
 "nbformat": 4,
 "nbformat_minor": 2
}
