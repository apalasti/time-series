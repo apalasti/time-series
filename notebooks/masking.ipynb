{
 "cells": [
  {
   "cell_type": "code",
   "execution_count": 1,
   "metadata": {},
   "outputs": [
    {
     "data": {
      "text/html": [
       "        <script type=\"text/javascript\">\n",
       "        window.PlotlyConfig = {MathJaxConfig: 'local'};\n",
       "        if (window.MathJax && window.MathJax.Hub && window.MathJax.Hub.Config) {window.MathJax.Hub.Config({SVG: {font: \"STIX-Web\"}});}\n",
       "        if (typeof require !== 'undefined') {\n",
       "        require.undef(\"plotly\");\n",
       "        requirejs.config({\n",
       "            paths: {\n",
       "                'plotly': ['https://cdn.plot.ly/plotly-2.35.2.min']\n",
       "            }\n",
       "        });\n",
       "        require(['plotly'], function(Plotly) {\n",
       "            window._Plotly = Plotly;\n",
       "        });\n",
       "        }\n",
       "        </script>\n",
       "        "
      ]
     },
     "metadata": {},
     "output_type": "display_data"
    }
   ],
   "source": [
    "import sys\n",
    "from pathlib import Path\n",
    "sys.path.append(\"..\")\n",
    "\n",
    "import ipywidgets as widgets\n",
    "import numpy as np\n",
    "import plotly.io as pio\n",
    "import plotly.graph_objects as go\n",
    "from plotly.offline import init_notebook_mode\n",
    "from tqdm import tqdm\n",
    "init_notebook_mode(connected=True)\n",
    "\n",
    "from scripts.utils import load_finetuned_model_data, get_device\n",
    "from src.linear_models import LinearClassifier\n",
    "from src.masking import evaluate_masking_strategies, shapley_order\n",
    "from src.utils.visualization import plot_shap_values, plot_masking_result"
   ]
  },
  {
   "cell_type": "code",
   "execution_count": 2,
   "metadata": {},
   "outputs": [
    {
     "data": {
      "text/plain": [
       "dict_keys(['Epilepsy', 'FingerMovements', 'WISDM', 'Synthetic', 'PenDigits', 'HAR'])"
      ]
     },
     "execution_count": 2,
     "metadata": {},
     "output_type": "execute_result"
    }
   ],
   "source": [
    "MODELS_DIR = Path(\"../models/run1/\")\n",
    "results = np.load(\"../data/shap_values_probs.npy\", allow_pickle=True)[()]\n",
    "results = {\n",
    "    dataset: {\"shap_values\": [shap_result for shap_result in results[dataset][\"shap_values\"]]}\n",
    "    for dataset in results\n",
    "}\n",
    "results.keys()"
   ]
  },
  {
   "cell_type": "code",
   "execution_count": 3,
   "metadata": {},
   "outputs": [
    {
     "name": "stderr",
     "output_type": "stream",
     "text": [
      "Computing evaluation: 100%|██████████| 6/6 [00:59<00:00,  9.99s/it]\n"
     ]
    }
   ],
   "source": [
    "accuracy_results = {}\n",
    "for dataset, data in tqdm(results.items(), desc=\"Computing evaluation\", total=len(results)):\n",
    "    model_data = load_finetuned_model_data(MODELS_DIR, dataset, get_device())\n",
    "    data.update(model_data)\n",
    "\n",
    "    classifier: LinearClassifier = model_data[\"classifier\"]\n",
    "    accuracy_results[dataset] = evaluate_masking_strategies(\n",
    "        classifier,\n",
    "        # data[\"train\"][\"labels\"],\n",
    "        data[\"test\"][\"timesteps\"],\n",
    "        data[\"test\"][\"labels\"],\n",
    "        data[\"shap_values\"],\n",
    "        metric=\"accuracy\",\n",
    "    )"
   ]
  },
  {
   "cell_type": "code",
   "execution_count": 4,
   "metadata": {},
   "outputs": [
    {
     "name": "stderr",
     "output_type": "stream",
     "text": [
      "Computing evaluation: 100%|██████████| 6/6 [00:54<00:00,  9.16s/it]\n"
     ]
    }
   ],
   "source": [
    "f1_results = {}\n",
    "for dataset, data in tqdm(results.items(), desc=\"Computing evaluation\", total=len(results)):\n",
    "    f1_results[dataset] = evaluate_masking_strategies(\n",
    "        data[\"classifier\"],\n",
    "        # data[\"train\"][\"labels\"],\n",
    "        data[\"test\"][\"timesteps\"],\n",
    "        data[\"test\"][\"labels\"],\n",
    "        data[\"shap_values\"],\n",
    "        metric=\"f1\",\n",
    "    )"
   ]
  },
  {
   "cell_type": "code",
   "execution_count": 5,
   "metadata": {},
   "outputs": [
    {
     "name": "stderr",
     "output_type": "stream",
     "text": [
      "Computing evaluation: 100%|██████████| 6/6 [01:07<00:00, 11.22s/it]\n"
     ]
    }
   ],
   "source": [
    "auc_ovo_results = {}\n",
    "for dataset, data in tqdm(results.items(), desc=\"Computing evaluation\", total=len(results)):\n",
    "    auc_ovo_results[dataset] = evaluate_masking_strategies(\n",
    "        data[\"classifier\"],\n",
    "        # data[\"train\"][\"labels\"],\n",
    "        data[\"test\"][\"timesteps\"],\n",
    "        data[\"test\"][\"labels\"],\n",
    "        data[\"shap_values\"],\n",
    "        metric=\"auc_ovo\",\n",
    "    )"
   ]
  },
  {
   "cell_type": "code",
   "execution_count": 6,
   "metadata": {},
   "outputs": [
    {
     "data": {
      "application/vnd.jupyter.widget-view+json": {
       "model_id": "9b8f76c2d3b242959c0316d101265ff3",
       "version_major": 2,
       "version_minor": 0
      },
      "text/plain": [
       "HBox(children=(FigureWidget({\n",
       "    'data': [{'hovertemplate': '%{y:.4f}',\n",
       "              'legendgroup': 'Epileps…"
      ]
     },
     "execution_count": 6,
     "metadata": {},
     "output_type": "execute_result"
    }
   ],
   "source": [
    "masked_percentages = np.linspace(0, 0.9, 10)\n",
    "\n",
    "fig1 = plot_masking_result(\n",
    "    masked_percentages,\n",
    "    *[\n",
    "        (f\"{dataset},{method}\", accuracy)\n",
    "        for dataset, results in accuracy_results.items()\n",
    "        for method, accuracy in results.items()\n",
    "    ],\n",
    ")\n",
    "for trace in fig1.data:\n",
    "    if \"FingerMovements\" in trace.name:\n",
    "        trace.visible = False\n",
    "fig1.update_layout(showlegend=False, yaxis_title=\"Accuracy\")\n",
    "\n",
    "fig2 = plot_masking_result(\n",
    "    masked_percentages,\n",
    "    *[\n",
    "        (f\"{dataset},{method}\", metric)\n",
    "        for dataset, results in f1_results.items()\n",
    "        for method, metric in results.items()\n",
    "    ],\n",
    ")\n",
    "for trace in fig2.data:\n",
    "    if \"FingerMovements\" in trace.name:\n",
    "        trace.visible = False\n",
    "fig2.update_layout(showlegend=False, yaxis_title=\"F1-Score\")\n",
    "\n",
    "import plotly.graph_objects as go\n",
    "import ipywidgets as widgets\n",
    "\n",
    "widgets.HBox(\n",
    "    layout=widgets.Layout(width=\"100%\", justify_content=\"space-between\"),\n",
    "    children=[\n",
    "        go.FigureWidget(fig1).update_layout(width=560),\n",
    "        go.FigureWidget(fig2).update_layout(width=560),\n",
    "    ]\n",
    ")"
   ]
  },
  {
   "cell_type": "code",
   "execution_count": 7,
   "metadata": {},
   "outputs": [
    {
     "data": {
      "application/vnd.plotly.v1+json": {
       "config": {
        "plotlyServerURL": "https://plot.ly"
       },
       "data": [
        {
         "hovertemplate": "%{y:.4f}",
         "legendgroup": "Epilepsy,shap",
         "line": {
          "color": "#636EFA",
          "dash": "solid"
         },
         "marker": {
          "color": "#636EFA",
          "size": 8
         },
         "mode": "lines+markers",
         "name": "Epilepsy,shap",
         "type": "scatter",
         "x": [
          0,
          0.1,
          0.2,
          0.30000000000000004,
          0.4,
          0.5,
          0.6000000000000001,
          0.7000000000000001,
          0.8,
          0.9
         ],
         "y": [
          0.9962977937944976,
          0.9961677067768303,
          0.9960798101432715,
          0.9958196361079371,
          0.995652046526618,
          0.9950344261814772,
          0.9948457414081041,
          0.9927127831004072,
          0.9881902083150216,
          0.9885605461310831
         ]
        },
        {
         "fill": "toself",
         "fillcolor": "rgba(99,110,250,0.15)",
         "hoverinfo": "skip",
         "hovertemplate": "%{y:.4f}",
         "legendgroup": "Epilepsy,shap",
         "line": {
          "color": "rgba(255,255,255,0)"
         },
         "name": "Epilepsy,shap",
         "showlegend": false,
         "type": "scatter",
         "visible": true,
         "x": [
          0,
          0.1,
          0.2,
          0.30000000000000004,
          0.4,
          0.5,
          0.6000000000000001,
          0.7000000000000001,
          0.8,
          0.9,
          0.9,
          0.8,
          0.7000000000000001,
          0.6000000000000001,
          0.5,
          0.4,
          0.30000000000000004,
          0.2,
          0.1,
          0
         ],
         "y": [
          0.9962977937944977,
          0.9961677067768304,
          0.9960798101432715,
          0.9958196361079371,
          0.995652046526618,
          0.9950344261814772,
          0.9948457414081041,
          0.9927127831004072,
          0.9881902083150216,
          0.9885605461310831,
          0.9885605461310831,
          0.9881902083150216,
          0.9927127831004072,
          0.9948457414081041,
          0.9950344261814772,
          0.995652046526618,
          0.9958196361079371,
          0.9960798101432715,
          0.9961677067768302,
          0.9962977937944975
         ]
        },
        {
         "hovertemplate": "%{y:.4f}",
         "legendgroup": "Epilepsy,random",
         "line": {
          "color": "#636EFA",
          "dash": "dash"
         },
         "marker": {
          "color": "#636EFA",
          "size": 8
         },
         "mode": "lines+markers",
         "name": "Epilepsy,random",
         "type": "scatter",
         "x": [
          0,
          0.1,
          0.2,
          0.30000000000000004,
          0.4,
          0.5,
          0.6000000000000001,
          0.7000000000000001,
          0.8,
          0.9
         ],
         "y": [
          0.9962977937944975,
          0.996055863193773,
          0.9956372017618391,
          0.9950058695418631,
          0.9946450245622259,
          0.9923618997392398,
          0.9903867256550742,
          0.987879405818757,
          0.9766406687957185,
          0.9591100954166788
         ]
        },
        {
         "fill": "toself",
         "fillcolor": "rgba(99,110,250,0.15)",
         "hoverinfo": "skip",
         "hovertemplate": "%{y:.4f}",
         "legendgroup": "Epilepsy,random",
         "line": {
          "color": "rgba(255,255,255,0)"
         },
         "name": "Epilepsy,random",
         "showlegend": false,
         "type": "scatter",
         "visible": true,
         "x": [
          0,
          0.1,
          0.2,
          0.30000000000000004,
          0.4,
          0.5,
          0.6000000000000001,
          0.7000000000000001,
          0.8,
          0.9,
          0.9,
          0.8,
          0.7000000000000001,
          0.6000000000000001,
          0.5,
          0.4,
          0.30000000000000004,
          0.2,
          0.1,
          0
         ],
         "y": [
          0.9962977937944977,
          0.996355948616378,
          0.9962980688913937,
          0.9961251040293746,
          0.9959434208082432,
          0.9938174777289277,
          0.9920753276266372,
          0.9900183090816649,
          0.980972780279622,
          0.9660495091164731,
          0.9521706817168845,
          0.9723085573118151,
          0.9857405025558491,
          0.9886981236835113,
          0.990906321749552,
          0.9933466283162087,
          0.9938866350543516,
          0.9949763346322845,
          0.9957557777711681,
          0.9962977937944972
         ]
        },
        {
         "hovertemplate": "%{y:.4f}",
         "legendgroup": "FingerMovements,shap",
         "line": {
          "color": "#EF553B",
          "dash": "solid"
         },
         "marker": {
          "color": "#EF553B",
          "size": 8
         },
         "mode": "lines+markers",
         "name": "FingerMovements,shap",
         "type": "scatter",
         "visible": false,
         "x": [
          0,
          0.1,
          0.2,
          0.30000000000000004,
          0.4,
          0.5,
          0.6000000000000001,
          0.7000000000000001,
          0.8,
          0.9
         ],
         "y": [
          0.4781912765106043,
          0.4781912765106043,
          0.5050020008003201,
          0.5050020008003201,
          0.49299719887955185,
          0.48499399759903966,
          0.48499399759903966,
          0.49659863945578236,
          0.49659863945578236,
          0.4785914365746298
         ]
        },
        {
         "fill": "toself",
         "fillcolor": "rgba(239,85,59,0.15)",
         "hoverinfo": "skip",
         "hovertemplate": "%{y:.4f}",
         "legendgroup": "FingerMovements,shap",
         "line": {
          "color": "rgba(255,255,255,0)"
         },
         "name": "FingerMovements,shap",
         "showlegend": false,
         "type": "scatter",
         "visible": false,
         "x": [
          0,
          0.1,
          0.2,
          0.30000000000000004,
          0.4,
          0.5,
          0.6000000000000001,
          0.7000000000000001,
          0.8,
          0.9,
          0.9,
          0.8,
          0.7000000000000001,
          0.6000000000000001,
          0.5,
          0.4,
          0.30000000000000004,
          0.2,
          0.1,
          0
         ],
         "y": [
          0.4781912765106043,
          0.4781912765106043,
          0.5050020008003201,
          0.5050020008003201,
          0.49299719887955185,
          0.48499399759903966,
          0.48499399759903966,
          0.4965986394557824,
          0.4965986394557824,
          0.4785914365746299,
          0.47859143657462977,
          0.4965986394557823,
          0.4965986394557823,
          0.48499399759903966,
          0.48499399759903966,
          0.49299719887955185,
          0.5050020008003201,
          0.5050020008003201,
          0.4781912765106043,
          0.4781912765106043
         ]
        },
        {
         "hovertemplate": "%{y:.4f}",
         "legendgroup": "FingerMovements,random",
         "line": {
          "color": "#EF553B",
          "dash": "dash"
         },
         "marker": {
          "color": "#EF553B",
          "size": 8
         },
         "mode": "lines+markers",
         "name": "FingerMovements,random",
         "type": "scatter",
         "visible": false,
         "x": [
          0,
          0.1,
          0.2,
          0.30000000000000004,
          0.4,
          0.5,
          0.6000000000000001,
          0.7000000000000001,
          0.8,
          0.9
         ],
         "y": [
          0.4781912765106044,
          0.4781912765106044,
          0.4872615712951847,
          0.4872615712951847,
          0.4959583833533413,
          0.4882486327864479,
          0.4882486327864479,
          0.4988928904895291,
          0.4988928904895291,
          0.4864345738295317
         ]
        },
        {
         "fill": "toself",
         "fillcolor": "rgba(239,85,59,0.15)",
         "hoverinfo": "skip",
         "hovertemplate": "%{y:.4f}",
         "legendgroup": "FingerMovements,random",
         "line": {
          "color": "rgba(255,255,255,0)"
         },
         "name": "FingerMovements,random",
         "showlegend": false,
         "type": "scatter",
         "visible": false,
         "x": [
          0,
          0.1,
          0.2,
          0.30000000000000004,
          0.4,
          0.5,
          0.6000000000000001,
          0.7000000000000001,
          0.8,
          0.9,
          0.9,
          0.8,
          0.7000000000000001,
          0.6000000000000001,
          0.5,
          0.4,
          0.30000000000000004,
          0.2,
          0.1,
          0
         ],
         "y": [
          0.4781912765106045,
          0.4781912765106045,
          0.5090515840681379,
          0.5090515840681379,
          0.5355530168764859,
          0.5303609543789208,
          0.5303609543789208,
          0.5485136993772597,
          0.5485136993772597,
          0.5669512866840807,
          0.4059178609749828,
          0.44927208160179855,
          0.44927208160179855,
          0.446136311193975,
          0.446136311193975,
          0.4563637498301967,
          0.4654715585222316,
          0.4654715585222316,
          0.4781912765106043,
          0.4781912765106043
         ]
        },
        {
         "hovertemplate": "%{y:.4f}",
         "legendgroup": "WISDM,shap",
         "line": {
          "color": "#19D3F3",
          "dash": "solid"
         },
         "marker": {
          "color": "#19D3F3",
          "size": 8
         },
         "mode": "lines+markers",
         "name": "WISDM,shap",
         "type": "scatter",
         "x": [
          0,
          0.1,
          0.2,
          0.30000000000000004,
          0.4,
          0.5,
          0.6000000000000001,
          0.7000000000000001,
          0.8,
          0.9
         ],
         "y": [
          0.9480119726085338,
          0.9489781645791154,
          0.9513510326831183,
          0.9519568712743872,
          0.956849787398673,
          0.9574657540016126,
          0.9542968630662071,
          0.9502416636065253,
          0.9395177886671059,
          0.939425788375995
         ]
        },
        {
         "fill": "toself",
         "fillcolor": "rgba(25,211,243,0.15)",
         "hoverinfo": "skip",
         "hovertemplate": "%{y:.4f}",
         "legendgroup": "WISDM,shap",
         "line": {
          "color": "rgba(255,255,255,0)"
         },
         "name": "WISDM,shap",
         "showlegend": false,
         "type": "scatter",
         "visible": true,
         "x": [
          0,
          0.1,
          0.2,
          0.30000000000000004,
          0.4,
          0.5,
          0.6000000000000001,
          0.7000000000000001,
          0.8,
          0.9,
          0.9,
          0.8,
          0.7000000000000001,
          0.6000000000000001,
          0.5,
          0.4,
          0.30000000000000004,
          0.2,
          0.1,
          0
         ],
         "y": [
          0.9480119726085339,
          0.949755683509498,
          0.9521360278872285,
          0.9543628552570044,
          0.9579073345651091,
          0.9587537702561492,
          0.9568125692451404,
          0.9576993535451644,
          0.9454548117638052,
          0.9528563325179749,
          0.9259952442340151,
          0.9335807655704066,
          0.9427839736678861,
          0.9517811568872738,
          0.956177737747076,
          0.9557922402322369,
          0.9495508872917701,
          0.950566037479008,
          0.9482006456487329,
          0.9480119726085336
         ]
        },
        {
         "hovertemplate": "%{y:.4f}",
         "legendgroup": "WISDM,random",
         "line": {
          "color": "#19D3F3",
          "dash": "dash"
         },
         "marker": {
          "color": "#19D3F3",
          "size": 8
         },
         "mode": "lines+markers",
         "name": "WISDM,random",
         "type": "scatter",
         "x": [
          0,
          0.1,
          0.2,
          0.30000000000000004,
          0.4,
          0.5,
          0.6000000000000001,
          0.7000000000000001,
          0.8,
          0.9
         ],
         "y": [
          0.9480119726085335,
          0.9500893292647329,
          0.9483407008145377,
          0.9470345931673582,
          0.9453718346365317,
          0.9420382103361961,
          0.9354309687748212,
          0.9269915187749829,
          0.9077090600744885,
          0.878808788446498
         ]
        },
        {
         "fill": "toself",
         "fillcolor": "rgba(25,211,243,0.15)",
         "hoverinfo": "skip",
         "hovertemplate": "%{y:.4f}",
         "legendgroup": "WISDM,random",
         "line": {
          "color": "rgba(255,255,255,0)"
         },
         "name": "WISDM,random",
         "showlegend": false,
         "type": "scatter",
         "visible": true,
         "x": [
          0,
          0.1,
          0.2,
          0.30000000000000004,
          0.4,
          0.5,
          0.6000000000000001,
          0.7000000000000001,
          0.8,
          0.9,
          0.9,
          0.8,
          0.7000000000000001,
          0.6000000000000001,
          0.5,
          0.4,
          0.30000000000000004,
          0.2,
          0.1,
          0
         ],
         "y": [
          0.9480119726085336,
          0.9514678579460637,
          0.9502169256807692,
          0.9494104467090876,
          0.9479448354060173,
          0.9451979542575816,
          0.9398132066033115,
          0.932391520319265,
          0.9165385086245246,
          0.887654422911175,
          0.869963153981821,
          0.8988796115244524,
          0.9215915172307008,
          0.931048730946331,
          0.9388784664148105,
          0.9427988338670462,
          0.9446587396256287,
          0.9464644759483062,
          0.9487108005834021,
          0.9480119726085334
         ]
        },
        {
         "hovertemplate": "%{y:.4f}",
         "legendgroup": "Synthetic,shap",
         "line": {
          "color": "#FFA15A",
          "dash": "solid"
         },
         "marker": {
          "color": "#FFA15A",
          "size": 8
         },
         "mode": "lines+markers",
         "name": "Synthetic,shap",
         "type": "scatter",
         "x": [
          0,
          0.1,
          0.2,
          0.30000000000000004,
          0.4,
          0.5,
          0.6000000000000001,
          0.7000000000000001,
          0.8,
          0.9
         ],
         "y": [
          0.9978212531527944,
          0.9957252118456569,
          0.9941880033408559,
          0.992247651997876,
          0.9918640620160185,
          0.9907048846187885,
          0.9804949472321783,
          0.9783679725872826,
          0.9584915883999291,
          0.9201856276826409
         ]
        },
        {
         "fill": "toself",
         "fillcolor": "rgba(255,161,90,0.15)",
         "hoverinfo": "skip",
         "hovertemplate": "%{y:.4f}",
         "legendgroup": "Synthetic,shap",
         "line": {
          "color": "rgba(255,255,255,0)"
         },
         "name": "Synthetic,shap",
         "showlegend": false,
         "type": "scatter",
         "visible": true,
         "x": [
          0,
          0.1,
          0.2,
          0.30000000000000004,
          0.4,
          0.5,
          0.6000000000000001,
          0.7000000000000001,
          0.8,
          0.9,
          0.9,
          0.8,
          0.7000000000000001,
          0.6000000000000001,
          0.5,
          0.4,
          0.30000000000000004,
          0.2,
          0.1,
          0
         ],
         "y": [
          0.9978212531527944,
          0.9957502237259707,
          0.9944368155621282,
          0.9927285421449991,
          0.9931170507290887,
          0.9920857394232879,
          0.9833281657064649,
          0.9798344226750034,
          0.9596985396496134,
          0.9209021134300499,
          0.9194691419352319,
          0.9572846371502448,
          0.9769015224995617,
          0.9776617287578918,
          0.989324029814289,
          0.9906110733029483,
          0.991766761850753,
          0.9939391911195836,
          0.9957001999653431,
          0.9978212531527944
         ]
        },
        {
         "hovertemplate": "%{y:.4f}",
         "legendgroup": "Synthetic,random",
         "line": {
          "color": "#FFA15A",
          "dash": "dash"
         },
         "marker": {
          "color": "#FFA15A",
          "size": 8
         },
         "mode": "lines+markers",
         "name": "Synthetic,random",
         "type": "scatter",
         "x": [
          0,
          0.1,
          0.2,
          0.30000000000000004,
          0.4,
          0.5,
          0.6000000000000001,
          0.7000000000000001,
          0.8,
          0.9
         ],
         "y": [
          0.9978212531527947,
          0.9940065614075846,
          0.9886635553564319,
          0.981662031505819,
          0.9693283096044072,
          0.9459900493384662,
          0.9166450147130405,
          0.8762676570312846,
          0.8253076366764017,
          0.7470933932364264
         ]
        },
        {
         "fill": "toself",
         "fillcolor": "rgba(255,161,90,0.15)",
         "hoverinfo": "skip",
         "hovertemplate": "%{y:.4f}",
         "legendgroup": "Synthetic,random",
         "line": {
          "color": "rgba(255,255,255,0)"
         },
         "name": "Synthetic,random",
         "showlegend": false,
         "type": "scatter",
         "visible": true,
         "x": [
          0,
          0.1,
          0.2,
          0.30000000000000004,
          0.4,
          0.5,
          0.6000000000000001,
          0.7000000000000001,
          0.8,
          0.9,
          0.9,
          0.8,
          0.7000000000000001,
          0.6000000000000001,
          0.5,
          0.4,
          0.30000000000000004,
          0.2,
          0.1,
          0
         ],
         "y": [
          0.997821253152795,
          0.9953079046504213,
          0.9919641012845404,
          0.9857560715094538,
          0.9744128467737477,
          0.9536580144407154,
          0.9293021489571844,
          0.8928912344865837,
          0.8442119989669519,
          0.7727308949059927,
          0.7214558915668602,
          0.8064032743858516,
          0.8596440795759855,
          0.9039878804688966,
          0.938322084236217,
          0.9642437724350666,
          0.9775679915021842,
          0.9853630094283234,
          0.9927052181647479,
          0.9978212531527944
         ]
        },
        {
         "hovertemplate": "%{y:.4f}",
         "legendgroup": "PenDigits,shap",
         "line": {
          "color": "#AB63FA",
          "dash": "solid"
         },
         "marker": {
          "color": "#AB63FA",
          "size": 8
         },
         "mode": "lines+markers",
         "name": "PenDigits,shap",
         "type": "scatter",
         "x": [
          0,
          0.1,
          0.2,
          0.30000000000000004,
          0.4,
          0.5,
          0.6000000000000001,
          0.7000000000000001,
          0.8,
          0.9
         ],
         "y": [
          0.9991278050266222,
          0.9991278050266222,
          0.9990734480506346,
          0.9990283948757942,
          0.9989714842245568,
          0.9988292904651256,
          0.9988292904651256,
          0.9989042785772536,
          0.9987758666286247,
          0.995143893789796
         ]
        },
        {
         "fill": "toself",
         "fillcolor": "rgba(171,99,250,0.15)",
         "hoverinfo": "skip",
         "hovertemplate": "%{y:.4f}",
         "legendgroup": "PenDigits,shap",
         "line": {
          "color": "rgba(255,255,255,0)"
         },
         "name": "PenDigits,shap",
         "showlegend": false,
         "type": "scatter",
         "visible": true,
         "x": [
          0,
          0.1,
          0.2,
          0.30000000000000004,
          0.4,
          0.5,
          0.6000000000000001,
          0.7000000000000001,
          0.8,
          0.9,
          0.9,
          0.8,
          0.7000000000000001,
          0.6000000000000001,
          0.5,
          0.4,
          0.30000000000000004,
          0.2,
          0.1,
          0
         ],
         "y": [
          0.9991278050266222,
          0.9991278050266222,
          0.9990734480506347,
          0.9990645796778129,
          0.9989931682076278,
          0.9988453715096454,
          0.9988453715096454,
          0.9989639918093254,
          0.9987991000373119,
          0.9951438937897961,
          0.9951438937897958,
          0.9987526332199376,
          0.9988445653451818,
          0.9988132094206058,
          0.9988132094206058,
          0.9989498002414858,
          0.9989922100737755,
          0.9990734480506345,
          0.9991278050266222,
          0.9991278050266222
         ]
        },
        {
         "hovertemplate": "%{y:.4f}",
         "legendgroup": "PenDigits,random",
         "line": {
          "color": "#AB63FA",
          "dash": "dash"
         },
         "marker": {
          "color": "#AB63FA",
          "size": 8
         },
         "mode": "lines+markers",
         "name": "PenDigits,random",
         "type": "scatter",
         "x": [
          0,
          0.1,
          0.2,
          0.30000000000000004,
          0.4,
          0.5,
          0.6000000000000001,
          0.7000000000000001,
          0.8,
          0.9
         ],
         "y": [
          0.9991278050266225,
          0.9991278050266225,
          0.9991031141546797,
          0.9990403613823434,
          0.9989567448636746,
          0.9987826628774013,
          0.9987826628774013,
          0.9983973155280582,
          0.9971161267388828,
          0.9868014976701568
         ]
        },
        {
         "fill": "toself",
         "fillcolor": "rgba(171,99,250,0.15)",
         "hoverinfo": "skip",
         "hovertemplate": "%{y:.4f}",
         "legendgroup": "PenDigits,random",
         "line": {
          "color": "rgba(255,255,255,0)"
         },
         "name": "PenDigits,random",
         "showlegend": false,
         "type": "scatter",
         "visible": true,
         "x": [
          0,
          0.1,
          0.2,
          0.30000000000000004,
          0.4,
          0.5,
          0.6000000000000001,
          0.7000000000000001,
          0.8,
          0.9,
          0.9,
          0.8,
          0.7000000000000001,
          0.6000000000000001,
          0.5,
          0.4,
          0.30000000000000004,
          0.2,
          0.1,
          0
         ],
         "y": [
          0.9991278050266227,
          0.9991278050266227,
          0.999134901951124,
          0.9990909924086013,
          0.9990327693431771,
          0.9988869851584582,
          0.9988869851584582,
          0.9985598182746284,
          0.997440981618975,
          0.9874484310947413,
          0.9861545642455722,
          0.9967912718587907,
          0.9982348127814881,
          0.9986783405963443,
          0.9986783405963443,
          0.9988807203841721,
          0.9989897303560855,
          0.9990713263582354,
          0.9991278050266222,
          0.9991278050266222
         ]
        },
        {
         "hovertemplate": "%{y:.4f}",
         "legendgroup": "HAR,shap",
         "line": {
          "color": "#00CC96",
          "dash": "solid"
         },
         "marker": {
          "color": "#00CC96",
          "size": 8
         },
         "mode": "lines+markers",
         "name": "HAR,shap",
         "type": "scatter",
         "x": [
          0,
          0.1,
          0.2,
          0.30000000000000004,
          0.4,
          0.5,
          0.6000000000000001,
          0.7000000000000001,
          0.8,
          0.9
         ],
         "y": [
          0.9547205115725156,
          0.9583418336794828,
          0.9617677687968765,
          0.9652511270853131,
          0.967248506394419,
          0.9705300572652299,
          0.9721048401648077,
          0.9744786984366991,
          0.9752460305767089,
          0.9775189508220593
         ]
        },
        {
         "fill": "toself",
         "fillcolor": "rgba(0,204,150,0.15)",
         "hoverinfo": "skip",
         "hovertemplate": "%{y:.4f}",
         "legendgroup": "HAR,shap",
         "line": {
          "color": "rgba(255,255,255,0)"
         },
         "name": "HAR,shap",
         "showlegend": false,
         "type": "scatter",
         "visible": true,
         "x": [
          0,
          0.1,
          0.2,
          0.30000000000000004,
          0.4,
          0.5,
          0.6000000000000001,
          0.7000000000000001,
          0.8,
          0.9,
          0.9,
          0.8,
          0.7000000000000001,
          0.6000000000000001,
          0.5,
          0.4,
          0.30000000000000004,
          0.2,
          0.1,
          0
         ],
         "y": [
          0.9547205115725157,
          0.9588370786216218,
          0.9621916514946802,
          0.9656787839006757,
          0.9677188149761436,
          0.970793109468015,
          0.9723979647799498,
          0.9749731123262032,
          0.9755466487190505,
          0.977993331025786,
          0.9770445706183326,
          0.9749454124343673,
          0.973984284547195,
          0.9718117155496656,
          0.9702670050624448,
          0.9667781978126943,
          0.9648234702699505,
          0.9613438860990728,
          0.9578465887373437,
          0.9547205115725155
         ]
        },
        {
         "hovertemplate": "%{y:.4f}",
         "legendgroup": "HAR,random",
         "line": {
          "color": "#00CC96",
          "dash": "dash"
         },
         "marker": {
          "color": "#00CC96",
          "size": 8
         },
         "mode": "lines+markers",
         "name": "HAR,random",
         "type": "scatter",
         "x": [
          0,
          0.1,
          0.2,
          0.30000000000000004,
          0.4,
          0.5,
          0.6000000000000001,
          0.7000000000000001,
          0.8,
          0.9
         ],
         "y": [
          0.9547205115725158,
          0.955462211765663,
          0.9559388313469398,
          0.9564629490305373,
          0.9563207818236795,
          0.9562527009710433,
          0.9560456574458706,
          0.9546037836647199,
          0.9504421235968646,
          0.9346692793561603
         ]
        },
        {
         "fill": "toself",
         "fillcolor": "rgba(0,204,150,0.15)",
         "hoverinfo": "skip",
         "hovertemplate": "%{y:.4f}",
         "legendgroup": "HAR,random",
         "line": {
          "color": "rgba(255,255,255,0)"
         },
         "name": "HAR,random",
         "showlegend": false,
         "type": "scatter",
         "visible": true,
         "x": [
          0,
          0.1,
          0.2,
          0.30000000000000004,
          0.4,
          0.5,
          0.6000000000000001,
          0.7000000000000001,
          0.8,
          0.9,
          0.9,
          0.8,
          0.7000000000000001,
          0.6000000000000001,
          0.5,
          0.4,
          0.30000000000000004,
          0.2,
          0.1,
          0
         ],
         "y": [
          0.9547205115725159,
          0.9559509517286352,
          0.9568119349339729,
          0.9573189799020052,
          0.9572615372436234,
          0.9572536241233582,
          0.9569586959598748,
          0.9557154112655499,
          0.951991358629964,
          0.9364243250695716,
          0.932914233642749,
          0.9488928885637653,
          0.9534921560638898,
          0.9551326189318663,
          0.9552517778187284,
          0.9553800264037356,
          0.9556069181590694,
          0.9550657277599067,
          0.9549734718026909,
          0.9547205115725157
         ]
        }
       ],
       "layout": {
        "hovermode": "x",
        "margin": {
         "b": 20,
         "l": 10,
         "r": 10,
         "t": 20
        },
        "showlegend": false,
        "template": {
         "data": {
          "bar": [
           {
            "error_x": {
             "color": "rgb(36,36,36)"
            },
            "error_y": {
             "color": "rgb(36,36,36)"
            },
            "marker": {
             "line": {
              "color": "white",
              "width": 0.5
             },
             "pattern": {
              "fillmode": "overlay",
              "size": 10,
              "solidity": 0.2
             }
            },
            "type": "bar"
           }
          ],
          "barpolar": [
           {
            "marker": {
             "line": {
              "color": "white",
              "width": 0.5
             },
             "pattern": {
              "fillmode": "overlay",
              "size": 10,
              "solidity": 0.2
             }
            },
            "type": "barpolar"
           }
          ],
          "carpet": [
           {
            "aaxis": {
             "endlinecolor": "rgb(36,36,36)",
             "gridcolor": "white",
             "linecolor": "white",
             "minorgridcolor": "white",
             "startlinecolor": "rgb(36,36,36)"
            },
            "baxis": {
             "endlinecolor": "rgb(36,36,36)",
             "gridcolor": "white",
             "linecolor": "white",
             "minorgridcolor": "white",
             "startlinecolor": "rgb(36,36,36)"
            },
            "type": "carpet"
           }
          ],
          "choropleth": [
           {
            "colorbar": {
             "outlinewidth": 1,
             "tickcolor": "rgb(36,36,36)",
             "ticks": "outside"
            },
            "type": "choropleth"
           }
          ],
          "contour": [
           {
            "colorbar": {
             "outlinewidth": 1,
             "tickcolor": "rgb(36,36,36)",
             "ticks": "outside"
            },
            "colorscale": [
             [
              0,
              "#440154"
             ],
             [
              0.1111111111111111,
              "#482878"
             ],
             [
              0.2222222222222222,
              "#3e4989"
             ],
             [
              0.3333333333333333,
              "#31688e"
             ],
             [
              0.4444444444444444,
              "#26828e"
             ],
             [
              0.5555555555555556,
              "#1f9e89"
             ],
             [
              0.6666666666666666,
              "#35b779"
             ],
             [
              0.7777777777777778,
              "#6ece58"
             ],
             [
              0.8888888888888888,
              "#b5de2b"
             ],
             [
              1,
              "#fde725"
             ]
            ],
            "type": "contour"
           }
          ],
          "contourcarpet": [
           {
            "colorbar": {
             "outlinewidth": 1,
             "tickcolor": "rgb(36,36,36)",
             "ticks": "outside"
            },
            "type": "contourcarpet"
           }
          ],
          "heatmap": [
           {
            "colorbar": {
             "outlinewidth": 1,
             "tickcolor": "rgb(36,36,36)",
             "ticks": "outside"
            },
            "colorscale": [
             [
              0,
              "#440154"
             ],
             [
              0.1111111111111111,
              "#482878"
             ],
             [
              0.2222222222222222,
              "#3e4989"
             ],
             [
              0.3333333333333333,
              "#31688e"
             ],
             [
              0.4444444444444444,
              "#26828e"
             ],
             [
              0.5555555555555556,
              "#1f9e89"
             ],
             [
              0.6666666666666666,
              "#35b779"
             ],
             [
              0.7777777777777778,
              "#6ece58"
             ],
             [
              0.8888888888888888,
              "#b5de2b"
             ],
             [
              1,
              "#fde725"
             ]
            ],
            "type": "heatmap"
           }
          ],
          "heatmapgl": [
           {
            "colorbar": {
             "outlinewidth": 1,
             "tickcolor": "rgb(36,36,36)",
             "ticks": "outside"
            },
            "colorscale": [
             [
              0,
              "#440154"
             ],
             [
              0.1111111111111111,
              "#482878"
             ],
             [
              0.2222222222222222,
              "#3e4989"
             ],
             [
              0.3333333333333333,
              "#31688e"
             ],
             [
              0.4444444444444444,
              "#26828e"
             ],
             [
              0.5555555555555556,
              "#1f9e89"
             ],
             [
              0.6666666666666666,
              "#35b779"
             ],
             [
              0.7777777777777778,
              "#6ece58"
             ],
             [
              0.8888888888888888,
              "#b5de2b"
             ],
             [
              1,
              "#fde725"
             ]
            ],
            "type": "heatmapgl"
           }
          ],
          "histogram": [
           {
            "marker": {
             "line": {
              "color": "white",
              "width": 0.6
             }
            },
            "type": "histogram"
           }
          ],
          "histogram2d": [
           {
            "colorbar": {
             "outlinewidth": 1,
             "tickcolor": "rgb(36,36,36)",
             "ticks": "outside"
            },
            "colorscale": [
             [
              0,
              "#440154"
             ],
             [
              0.1111111111111111,
              "#482878"
             ],
             [
              0.2222222222222222,
              "#3e4989"
             ],
             [
              0.3333333333333333,
              "#31688e"
             ],
             [
              0.4444444444444444,
              "#26828e"
             ],
             [
              0.5555555555555556,
              "#1f9e89"
             ],
             [
              0.6666666666666666,
              "#35b779"
             ],
             [
              0.7777777777777778,
              "#6ece58"
             ],
             [
              0.8888888888888888,
              "#b5de2b"
             ],
             [
              1,
              "#fde725"
             ]
            ],
            "type": "histogram2d"
           }
          ],
          "histogram2dcontour": [
           {
            "colorbar": {
             "outlinewidth": 1,
             "tickcolor": "rgb(36,36,36)",
             "ticks": "outside"
            },
            "colorscale": [
             [
              0,
              "#440154"
             ],
             [
              0.1111111111111111,
              "#482878"
             ],
             [
              0.2222222222222222,
              "#3e4989"
             ],
             [
              0.3333333333333333,
              "#31688e"
             ],
             [
              0.4444444444444444,
              "#26828e"
             ],
             [
              0.5555555555555556,
              "#1f9e89"
             ],
             [
              0.6666666666666666,
              "#35b779"
             ],
             [
              0.7777777777777778,
              "#6ece58"
             ],
             [
              0.8888888888888888,
              "#b5de2b"
             ],
             [
              1,
              "#fde725"
             ]
            ],
            "type": "histogram2dcontour"
           }
          ],
          "mesh3d": [
           {
            "colorbar": {
             "outlinewidth": 1,
             "tickcolor": "rgb(36,36,36)",
             "ticks": "outside"
            },
            "type": "mesh3d"
           }
          ],
          "parcoords": [
           {
            "line": {
             "colorbar": {
              "outlinewidth": 1,
              "tickcolor": "rgb(36,36,36)",
              "ticks": "outside"
             }
            },
            "type": "parcoords"
           }
          ],
          "pie": [
           {
            "automargin": true,
            "type": "pie"
           }
          ],
          "scatter": [
           {
            "fillpattern": {
             "fillmode": "overlay",
             "size": 10,
             "solidity": 0.2
            },
            "type": "scatter"
           }
          ],
          "scatter3d": [
           {
            "line": {
             "colorbar": {
              "outlinewidth": 1,
              "tickcolor": "rgb(36,36,36)",
              "ticks": "outside"
             }
            },
            "marker": {
             "colorbar": {
              "outlinewidth": 1,
              "tickcolor": "rgb(36,36,36)",
              "ticks": "outside"
             }
            },
            "type": "scatter3d"
           }
          ],
          "scattercarpet": [
           {
            "marker": {
             "colorbar": {
              "outlinewidth": 1,
              "tickcolor": "rgb(36,36,36)",
              "ticks": "outside"
             }
            },
            "type": "scattercarpet"
           }
          ],
          "scattergeo": [
           {
            "marker": {
             "colorbar": {
              "outlinewidth": 1,
              "tickcolor": "rgb(36,36,36)",
              "ticks": "outside"
             }
            },
            "type": "scattergeo"
           }
          ],
          "scattergl": [
           {
            "marker": {
             "colorbar": {
              "outlinewidth": 1,
              "tickcolor": "rgb(36,36,36)",
              "ticks": "outside"
             }
            },
            "type": "scattergl"
           }
          ],
          "scattermapbox": [
           {
            "marker": {
             "colorbar": {
              "outlinewidth": 1,
              "tickcolor": "rgb(36,36,36)",
              "ticks": "outside"
             }
            },
            "type": "scattermapbox"
           }
          ],
          "scatterpolar": [
           {
            "marker": {
             "colorbar": {
              "outlinewidth": 1,
              "tickcolor": "rgb(36,36,36)",
              "ticks": "outside"
             }
            },
            "type": "scatterpolar"
           }
          ],
          "scatterpolargl": [
           {
            "marker": {
             "colorbar": {
              "outlinewidth": 1,
              "tickcolor": "rgb(36,36,36)",
              "ticks": "outside"
             }
            },
            "type": "scatterpolargl"
           }
          ],
          "scatterternary": [
           {
            "marker": {
             "colorbar": {
              "outlinewidth": 1,
              "tickcolor": "rgb(36,36,36)",
              "ticks": "outside"
             }
            },
            "type": "scatterternary"
           }
          ],
          "surface": [
           {
            "colorbar": {
             "outlinewidth": 1,
             "tickcolor": "rgb(36,36,36)",
             "ticks": "outside"
            },
            "colorscale": [
             [
              0,
              "#440154"
             ],
             [
              0.1111111111111111,
              "#482878"
             ],
             [
              0.2222222222222222,
              "#3e4989"
             ],
             [
              0.3333333333333333,
              "#31688e"
             ],
             [
              0.4444444444444444,
              "#26828e"
             ],
             [
              0.5555555555555556,
              "#1f9e89"
             ],
             [
              0.6666666666666666,
              "#35b779"
             ],
             [
              0.7777777777777778,
              "#6ece58"
             ],
             [
              0.8888888888888888,
              "#b5de2b"
             ],
             [
              1,
              "#fde725"
             ]
            ],
            "type": "surface"
           }
          ],
          "table": [
           {
            "cells": {
             "fill": {
              "color": "rgb(237,237,237)"
             },
             "line": {
              "color": "white"
             }
            },
            "header": {
             "fill": {
              "color": "rgb(217,217,217)"
             },
             "line": {
              "color": "white"
             }
            },
            "type": "table"
           }
          ]
         },
         "layout": {
          "annotationdefaults": {
           "arrowhead": 0,
           "arrowwidth": 1
          },
          "autotypenumbers": "strict",
          "coloraxis": {
           "colorbar": {
            "outlinewidth": 1,
            "tickcolor": "rgb(36,36,36)",
            "ticks": "outside"
           }
          },
          "colorscale": {
           "diverging": [
            [
             0,
             "rgb(103,0,31)"
            ],
            [
             0.1,
             "rgb(178,24,43)"
            ],
            [
             0.2,
             "rgb(214,96,77)"
            ],
            [
             0.3,
             "rgb(244,165,130)"
            ],
            [
             0.4,
             "rgb(253,219,199)"
            ],
            [
             0.5,
             "rgb(247,247,247)"
            ],
            [
             0.6,
             "rgb(209,229,240)"
            ],
            [
             0.7,
             "rgb(146,197,222)"
            ],
            [
             0.8,
             "rgb(67,147,195)"
            ],
            [
             0.9,
             "rgb(33,102,172)"
            ],
            [
             1,
             "rgb(5,48,97)"
            ]
           ],
           "sequential": [
            [
             0,
             "#440154"
            ],
            [
             0.1111111111111111,
             "#482878"
            ],
            [
             0.2222222222222222,
             "#3e4989"
            ],
            [
             0.3333333333333333,
             "#31688e"
            ],
            [
             0.4444444444444444,
             "#26828e"
            ],
            [
             0.5555555555555556,
             "#1f9e89"
            ],
            [
             0.6666666666666666,
             "#35b779"
            ],
            [
             0.7777777777777778,
             "#6ece58"
            ],
            [
             0.8888888888888888,
             "#b5de2b"
            ],
            [
             1,
             "#fde725"
            ]
           ],
           "sequentialminus": [
            [
             0,
             "#440154"
            ],
            [
             0.1111111111111111,
             "#482878"
            ],
            [
             0.2222222222222222,
             "#3e4989"
            ],
            [
             0.3333333333333333,
             "#31688e"
            ],
            [
             0.4444444444444444,
             "#26828e"
            ],
            [
             0.5555555555555556,
             "#1f9e89"
            ],
            [
             0.6666666666666666,
             "#35b779"
            ],
            [
             0.7777777777777778,
             "#6ece58"
            ],
            [
             0.8888888888888888,
             "#b5de2b"
            ],
            [
             1,
             "#fde725"
            ]
           ]
          },
          "colorway": [
           "#1F77B4",
           "#FF7F0E",
           "#2CA02C",
           "#D62728",
           "#9467BD",
           "#8C564B",
           "#E377C2",
           "#7F7F7F",
           "#BCBD22",
           "#17BECF"
          ],
          "font": {
           "color": "rgb(36,36,36)"
          },
          "geo": {
           "bgcolor": "white",
           "lakecolor": "white",
           "landcolor": "white",
           "showlakes": true,
           "showland": true,
           "subunitcolor": "white"
          },
          "hoverlabel": {
           "align": "left"
          },
          "hovermode": "closest",
          "mapbox": {
           "style": "light"
          },
          "paper_bgcolor": "white",
          "plot_bgcolor": "white",
          "polar": {
           "angularaxis": {
            "gridcolor": "rgb(232,232,232)",
            "linecolor": "rgb(36,36,36)",
            "showgrid": false,
            "showline": true,
            "ticks": "outside"
           },
           "bgcolor": "white",
           "radialaxis": {
            "gridcolor": "rgb(232,232,232)",
            "linecolor": "rgb(36,36,36)",
            "showgrid": false,
            "showline": true,
            "ticks": "outside"
           }
          },
          "scene": {
           "xaxis": {
            "backgroundcolor": "white",
            "gridcolor": "rgb(232,232,232)",
            "gridwidth": 2,
            "linecolor": "rgb(36,36,36)",
            "showbackground": true,
            "showgrid": false,
            "showline": true,
            "ticks": "outside",
            "zeroline": false,
            "zerolinecolor": "rgb(36,36,36)"
           },
           "yaxis": {
            "backgroundcolor": "white",
            "gridcolor": "rgb(232,232,232)",
            "gridwidth": 2,
            "linecolor": "rgb(36,36,36)",
            "showbackground": true,
            "showgrid": false,
            "showline": true,
            "ticks": "outside",
            "zeroline": false,
            "zerolinecolor": "rgb(36,36,36)"
           },
           "zaxis": {
            "backgroundcolor": "white",
            "gridcolor": "rgb(232,232,232)",
            "gridwidth": 2,
            "linecolor": "rgb(36,36,36)",
            "showbackground": true,
            "showgrid": false,
            "showline": true,
            "ticks": "outside",
            "zeroline": false,
            "zerolinecolor": "rgb(36,36,36)"
           }
          },
          "shapedefaults": {
           "fillcolor": "black",
           "line": {
            "width": 0
           },
           "opacity": 0.3
          },
          "ternary": {
           "aaxis": {
            "gridcolor": "rgb(232,232,232)",
            "linecolor": "rgb(36,36,36)",
            "showgrid": false,
            "showline": true,
            "ticks": "outside"
           },
           "baxis": {
            "gridcolor": "rgb(232,232,232)",
            "linecolor": "rgb(36,36,36)",
            "showgrid": false,
            "showline": true,
            "ticks": "outside"
           },
           "bgcolor": "white",
           "caxis": {
            "gridcolor": "rgb(232,232,232)",
            "linecolor": "rgb(36,36,36)",
            "showgrid": false,
            "showline": true,
            "ticks": "outside"
           }
          },
          "title": {
           "x": 0.05
          },
          "xaxis": {
           "automargin": true,
           "gridcolor": "rgb(232,232,232)",
           "linecolor": "rgb(36,36,36)",
           "showgrid": false,
           "showline": true,
           "ticks": "outside",
           "title": {
            "standoff": 15
           },
           "zeroline": false,
           "zerolinecolor": "rgb(36,36,36)"
          },
          "yaxis": {
           "automargin": true,
           "gridcolor": "rgb(232,232,232)",
           "linecolor": "rgb(36,36,36)",
           "showgrid": false,
           "showline": true,
           "ticks": "outside",
           "title": {
            "standoff": 15
           },
           "zeroline": false,
           "zerolinecolor": "rgb(36,36,36)"
          }
         }
        },
        "xaxis": {
         "gridcolor": "lightgray",
         "gridwidth": 1,
         "showgrid": true,
         "tickmode": "array",
         "tickvals": [
          0,
          0.1,
          0.2,
          0.30000000000000004,
          0.4,
          0.5,
          0.6000000000000001,
          0.7000000000000001,
          0.8,
          0.9
         ],
         "title": {
          "text": "Masked Percentage"
         }
        },
        "yaxis": {
         "gridcolor": "lightgray",
         "gridwidth": 1,
         "showgrid": true,
         "title": {
          "text": "AUC OVO"
         }
        }
       }
      },
      "text/html": [
       "<div>                            <div id=\"7d88ad17-c357-46a1-a5dc-b72449174589\" class=\"plotly-graph-div\" style=\"height:525px; width:100%;\"></div>            <script type=\"text/javascript\">                require([\"plotly\"], function(Plotly) {                    window.PLOTLYENV=window.PLOTLYENV || {};                                    if (document.getElementById(\"7d88ad17-c357-46a1-a5dc-b72449174589\")) {                    Plotly.newPlot(                        \"7d88ad17-c357-46a1-a5dc-b72449174589\",                        [{\"legendgroup\":\"Epilepsy,shap\",\"line\":{\"color\":\"#636EFA\",\"dash\":\"solid\"},\"marker\":{\"color\":\"#636EFA\",\"size\":8},\"mode\":\"lines+markers\",\"name\":\"Epilepsy,shap\",\"x\":[0.0,0.1,0.2,0.30000000000000004,0.4,0.5,0.6000000000000001,0.7000000000000001,0.8,0.9],\"y\":[0.9962977937944976,0.9961677067768303,0.9960798101432715,0.9958196361079371,0.995652046526618,0.9950344261814772,0.9948457414081041,0.9927127831004072,0.9881902083150216,0.9885605461310831],\"type\":\"scatter\",\"hovertemplate\":\"%{y:.4f}\"},{\"fill\":\"toself\",\"fillcolor\":\"rgba(99,110,250,0.15)\",\"hoverinfo\":\"skip\",\"legendgroup\":\"Epilepsy,shap\",\"line\":{\"color\":\"rgba(255,255,255,0)\"},\"name\":\"Epilepsy,shap\",\"showlegend\":false,\"visible\":true,\"x\":[0.0,0.1,0.2,0.30000000000000004,0.4,0.5,0.6000000000000001,0.7000000000000001,0.8,0.9,0.9,0.8,0.7000000000000001,0.6000000000000001,0.5,0.4,0.30000000000000004,0.2,0.1,0.0],\"y\":[0.9962977937944977,0.9961677067768304,0.9960798101432715,0.9958196361079371,0.995652046526618,0.9950344261814772,0.9948457414081041,0.9927127831004072,0.9881902083150216,0.9885605461310831,0.9885605461310831,0.9881902083150216,0.9927127831004072,0.9948457414081041,0.9950344261814772,0.995652046526618,0.9958196361079371,0.9960798101432715,0.9961677067768302,0.9962977937944975],\"type\":\"scatter\",\"hovertemplate\":\"%{y:.4f}\"},{\"legendgroup\":\"Epilepsy,random\",\"line\":{\"color\":\"#636EFA\",\"dash\":\"dash\"},\"marker\":{\"color\":\"#636EFA\",\"size\":8},\"mode\":\"lines+markers\",\"name\":\"Epilepsy,random\",\"x\":[0.0,0.1,0.2,0.30000000000000004,0.4,0.5,0.6000000000000001,0.7000000000000001,0.8,0.9],\"y\":[0.9962977937944975,0.996055863193773,0.9956372017618391,0.9950058695418631,0.9946450245622259,0.9923618997392398,0.9903867256550742,0.987879405818757,0.9766406687957185,0.9591100954166788],\"type\":\"scatter\",\"hovertemplate\":\"%{y:.4f}\"},{\"fill\":\"toself\",\"fillcolor\":\"rgba(99,110,250,0.15)\",\"hoverinfo\":\"skip\",\"legendgroup\":\"Epilepsy,random\",\"line\":{\"color\":\"rgba(255,255,255,0)\"},\"name\":\"Epilepsy,random\",\"showlegend\":false,\"visible\":true,\"x\":[0.0,0.1,0.2,0.30000000000000004,0.4,0.5,0.6000000000000001,0.7000000000000001,0.8,0.9,0.9,0.8,0.7000000000000001,0.6000000000000001,0.5,0.4,0.30000000000000004,0.2,0.1,0.0],\"y\":[0.9962977937944977,0.996355948616378,0.9962980688913937,0.9961251040293746,0.9959434208082432,0.9938174777289277,0.9920753276266372,0.9900183090816649,0.980972780279622,0.9660495091164731,0.9521706817168845,0.9723085573118151,0.9857405025558491,0.9886981236835113,0.990906321749552,0.9933466283162087,0.9938866350543516,0.9949763346322845,0.9957557777711681,0.9962977937944972],\"type\":\"scatter\",\"hovertemplate\":\"%{y:.4f}\"},{\"legendgroup\":\"FingerMovements,shap\",\"line\":{\"color\":\"#EF553B\",\"dash\":\"solid\"},\"marker\":{\"color\":\"#EF553B\",\"size\":8},\"mode\":\"lines+markers\",\"name\":\"FingerMovements,shap\",\"x\":[0.0,0.1,0.2,0.30000000000000004,0.4,0.5,0.6000000000000001,0.7000000000000001,0.8,0.9],\"y\":[0.4781912765106043,0.4781912765106043,0.5050020008003201,0.5050020008003201,0.49299719887955185,0.48499399759903966,0.48499399759903966,0.49659863945578236,0.49659863945578236,0.4785914365746298],\"type\":\"scatter\",\"hovertemplate\":\"%{y:.4f}\",\"visible\":false},{\"fill\":\"toself\",\"fillcolor\":\"rgba(239,85,59,0.15)\",\"hoverinfo\":\"skip\",\"legendgroup\":\"FingerMovements,shap\",\"line\":{\"color\":\"rgba(255,255,255,0)\"},\"name\":\"FingerMovements,shap\",\"showlegend\":false,\"visible\":false,\"x\":[0.0,0.1,0.2,0.30000000000000004,0.4,0.5,0.6000000000000001,0.7000000000000001,0.8,0.9,0.9,0.8,0.7000000000000001,0.6000000000000001,0.5,0.4,0.30000000000000004,0.2,0.1,0.0],\"y\":[0.4781912765106043,0.4781912765106043,0.5050020008003201,0.5050020008003201,0.49299719887955185,0.48499399759903966,0.48499399759903966,0.4965986394557824,0.4965986394557824,0.4785914365746299,0.47859143657462977,0.4965986394557823,0.4965986394557823,0.48499399759903966,0.48499399759903966,0.49299719887955185,0.5050020008003201,0.5050020008003201,0.4781912765106043,0.4781912765106043],\"type\":\"scatter\",\"hovertemplate\":\"%{y:.4f}\"},{\"legendgroup\":\"FingerMovements,random\",\"line\":{\"color\":\"#EF553B\",\"dash\":\"dash\"},\"marker\":{\"color\":\"#EF553B\",\"size\":8},\"mode\":\"lines+markers\",\"name\":\"FingerMovements,random\",\"x\":[0.0,0.1,0.2,0.30000000000000004,0.4,0.5,0.6000000000000001,0.7000000000000001,0.8,0.9],\"y\":[0.4781912765106044,0.4781912765106044,0.4872615712951847,0.4872615712951847,0.4959583833533413,0.4882486327864479,0.4882486327864479,0.4988928904895291,0.4988928904895291,0.4864345738295317],\"type\":\"scatter\",\"hovertemplate\":\"%{y:.4f}\",\"visible\":false},{\"fill\":\"toself\",\"fillcolor\":\"rgba(239,85,59,0.15)\",\"hoverinfo\":\"skip\",\"legendgroup\":\"FingerMovements,random\",\"line\":{\"color\":\"rgba(255,255,255,0)\"},\"name\":\"FingerMovements,random\",\"showlegend\":false,\"visible\":false,\"x\":[0.0,0.1,0.2,0.30000000000000004,0.4,0.5,0.6000000000000001,0.7000000000000001,0.8,0.9,0.9,0.8,0.7000000000000001,0.6000000000000001,0.5,0.4,0.30000000000000004,0.2,0.1,0.0],\"y\":[0.4781912765106045,0.4781912765106045,0.5090515840681379,0.5090515840681379,0.5355530168764859,0.5303609543789208,0.5303609543789208,0.5485136993772597,0.5485136993772597,0.5669512866840807,0.4059178609749828,0.44927208160179855,0.44927208160179855,0.446136311193975,0.446136311193975,0.4563637498301967,0.4654715585222316,0.4654715585222316,0.4781912765106043,0.4781912765106043],\"type\":\"scatter\",\"hovertemplate\":\"%{y:.4f}\"},{\"legendgroup\":\"WISDM,shap\",\"line\":{\"color\":\"#19D3F3\",\"dash\":\"solid\"},\"marker\":{\"color\":\"#19D3F3\",\"size\":8},\"mode\":\"lines+markers\",\"name\":\"WISDM,shap\",\"x\":[0.0,0.1,0.2,0.30000000000000004,0.4,0.5,0.6000000000000001,0.7000000000000001,0.8,0.9],\"y\":[0.9480119726085338,0.9489781645791154,0.9513510326831183,0.9519568712743872,0.956849787398673,0.9574657540016126,0.9542968630662071,0.9502416636065253,0.9395177886671059,0.939425788375995],\"type\":\"scatter\",\"hovertemplate\":\"%{y:.4f}\"},{\"fill\":\"toself\",\"fillcolor\":\"rgba(25,211,243,0.15)\",\"hoverinfo\":\"skip\",\"legendgroup\":\"WISDM,shap\",\"line\":{\"color\":\"rgba(255,255,255,0)\"},\"name\":\"WISDM,shap\",\"showlegend\":false,\"visible\":true,\"x\":[0.0,0.1,0.2,0.30000000000000004,0.4,0.5,0.6000000000000001,0.7000000000000001,0.8,0.9,0.9,0.8,0.7000000000000001,0.6000000000000001,0.5,0.4,0.30000000000000004,0.2,0.1,0.0],\"y\":[0.9480119726085339,0.949755683509498,0.9521360278872285,0.9543628552570044,0.9579073345651091,0.9587537702561492,0.9568125692451404,0.9576993535451644,0.9454548117638052,0.9528563325179749,0.9259952442340151,0.9335807655704066,0.9427839736678861,0.9517811568872738,0.956177737747076,0.9557922402322369,0.9495508872917701,0.950566037479008,0.9482006456487329,0.9480119726085336],\"type\":\"scatter\",\"hovertemplate\":\"%{y:.4f}\"},{\"legendgroup\":\"WISDM,random\",\"line\":{\"color\":\"#19D3F3\",\"dash\":\"dash\"},\"marker\":{\"color\":\"#19D3F3\",\"size\":8},\"mode\":\"lines+markers\",\"name\":\"WISDM,random\",\"x\":[0.0,0.1,0.2,0.30000000000000004,0.4,0.5,0.6000000000000001,0.7000000000000001,0.8,0.9],\"y\":[0.9480119726085335,0.9500893292647329,0.9483407008145377,0.9470345931673582,0.9453718346365317,0.9420382103361961,0.9354309687748212,0.9269915187749829,0.9077090600744885,0.878808788446498],\"type\":\"scatter\",\"hovertemplate\":\"%{y:.4f}\"},{\"fill\":\"toself\",\"fillcolor\":\"rgba(25,211,243,0.15)\",\"hoverinfo\":\"skip\",\"legendgroup\":\"WISDM,random\",\"line\":{\"color\":\"rgba(255,255,255,0)\"},\"name\":\"WISDM,random\",\"showlegend\":false,\"visible\":true,\"x\":[0.0,0.1,0.2,0.30000000000000004,0.4,0.5,0.6000000000000001,0.7000000000000001,0.8,0.9,0.9,0.8,0.7000000000000001,0.6000000000000001,0.5,0.4,0.30000000000000004,0.2,0.1,0.0],\"y\":[0.9480119726085336,0.9514678579460637,0.9502169256807692,0.9494104467090876,0.9479448354060173,0.9451979542575816,0.9398132066033115,0.932391520319265,0.9165385086245246,0.887654422911175,0.869963153981821,0.8988796115244524,0.9215915172307008,0.931048730946331,0.9388784664148105,0.9427988338670462,0.9446587396256287,0.9464644759483062,0.9487108005834021,0.9480119726085334],\"type\":\"scatter\",\"hovertemplate\":\"%{y:.4f}\"},{\"legendgroup\":\"Synthetic,shap\",\"line\":{\"color\":\"#FFA15A\",\"dash\":\"solid\"},\"marker\":{\"color\":\"#FFA15A\",\"size\":8},\"mode\":\"lines+markers\",\"name\":\"Synthetic,shap\",\"x\":[0.0,0.1,0.2,0.30000000000000004,0.4,0.5,0.6000000000000001,0.7000000000000001,0.8,0.9],\"y\":[0.9978212531527944,0.9957252118456569,0.9941880033408559,0.992247651997876,0.9918640620160185,0.9907048846187885,0.9804949472321783,0.9783679725872826,0.9584915883999291,0.9201856276826409],\"type\":\"scatter\",\"hovertemplate\":\"%{y:.4f}\"},{\"fill\":\"toself\",\"fillcolor\":\"rgba(255,161,90,0.15)\",\"hoverinfo\":\"skip\",\"legendgroup\":\"Synthetic,shap\",\"line\":{\"color\":\"rgba(255,255,255,0)\"},\"name\":\"Synthetic,shap\",\"showlegend\":false,\"visible\":true,\"x\":[0.0,0.1,0.2,0.30000000000000004,0.4,0.5,0.6000000000000001,0.7000000000000001,0.8,0.9,0.9,0.8,0.7000000000000001,0.6000000000000001,0.5,0.4,0.30000000000000004,0.2,0.1,0.0],\"y\":[0.9978212531527944,0.9957502237259707,0.9944368155621282,0.9927285421449991,0.9931170507290887,0.9920857394232879,0.9833281657064649,0.9798344226750034,0.9596985396496134,0.9209021134300499,0.9194691419352319,0.9572846371502448,0.9769015224995617,0.9776617287578918,0.989324029814289,0.9906110733029483,0.991766761850753,0.9939391911195836,0.9957001999653431,0.9978212531527944],\"type\":\"scatter\",\"hovertemplate\":\"%{y:.4f}\"},{\"legendgroup\":\"Synthetic,random\",\"line\":{\"color\":\"#FFA15A\",\"dash\":\"dash\"},\"marker\":{\"color\":\"#FFA15A\",\"size\":8},\"mode\":\"lines+markers\",\"name\":\"Synthetic,random\",\"x\":[0.0,0.1,0.2,0.30000000000000004,0.4,0.5,0.6000000000000001,0.7000000000000001,0.8,0.9],\"y\":[0.9978212531527947,0.9940065614075846,0.9886635553564319,0.981662031505819,0.9693283096044072,0.9459900493384662,0.9166450147130405,0.8762676570312846,0.8253076366764017,0.7470933932364264],\"type\":\"scatter\",\"hovertemplate\":\"%{y:.4f}\"},{\"fill\":\"toself\",\"fillcolor\":\"rgba(255,161,90,0.15)\",\"hoverinfo\":\"skip\",\"legendgroup\":\"Synthetic,random\",\"line\":{\"color\":\"rgba(255,255,255,0)\"},\"name\":\"Synthetic,random\",\"showlegend\":false,\"visible\":true,\"x\":[0.0,0.1,0.2,0.30000000000000004,0.4,0.5,0.6000000000000001,0.7000000000000001,0.8,0.9,0.9,0.8,0.7000000000000001,0.6000000000000001,0.5,0.4,0.30000000000000004,0.2,0.1,0.0],\"y\":[0.997821253152795,0.9953079046504213,0.9919641012845404,0.9857560715094538,0.9744128467737477,0.9536580144407154,0.9293021489571844,0.8928912344865837,0.8442119989669519,0.7727308949059927,0.7214558915668602,0.8064032743858516,0.8596440795759855,0.9039878804688966,0.938322084236217,0.9642437724350666,0.9775679915021842,0.9853630094283234,0.9927052181647479,0.9978212531527944],\"type\":\"scatter\",\"hovertemplate\":\"%{y:.4f}\"},{\"legendgroup\":\"PenDigits,shap\",\"line\":{\"color\":\"#AB63FA\",\"dash\":\"solid\"},\"marker\":{\"color\":\"#AB63FA\",\"size\":8},\"mode\":\"lines+markers\",\"name\":\"PenDigits,shap\",\"x\":[0.0,0.1,0.2,0.30000000000000004,0.4,0.5,0.6000000000000001,0.7000000000000001,0.8,0.9],\"y\":[0.9991278050266222,0.9991278050266222,0.9990734480506346,0.9990283948757942,0.9989714842245568,0.9988292904651256,0.9988292904651256,0.9989042785772536,0.9987758666286247,0.995143893789796],\"type\":\"scatter\",\"hovertemplate\":\"%{y:.4f}\"},{\"fill\":\"toself\",\"fillcolor\":\"rgba(171,99,250,0.15)\",\"hoverinfo\":\"skip\",\"legendgroup\":\"PenDigits,shap\",\"line\":{\"color\":\"rgba(255,255,255,0)\"},\"name\":\"PenDigits,shap\",\"showlegend\":false,\"visible\":true,\"x\":[0.0,0.1,0.2,0.30000000000000004,0.4,0.5,0.6000000000000001,0.7000000000000001,0.8,0.9,0.9,0.8,0.7000000000000001,0.6000000000000001,0.5,0.4,0.30000000000000004,0.2,0.1,0.0],\"y\":[0.9991278050266222,0.9991278050266222,0.9990734480506347,0.9990645796778129,0.9989931682076278,0.9988453715096454,0.9988453715096454,0.9989639918093254,0.9987991000373119,0.9951438937897961,0.9951438937897958,0.9987526332199376,0.9988445653451818,0.9988132094206058,0.9988132094206058,0.9989498002414858,0.9989922100737755,0.9990734480506345,0.9991278050266222,0.9991278050266222],\"type\":\"scatter\",\"hovertemplate\":\"%{y:.4f}\"},{\"legendgroup\":\"PenDigits,random\",\"line\":{\"color\":\"#AB63FA\",\"dash\":\"dash\"},\"marker\":{\"color\":\"#AB63FA\",\"size\":8},\"mode\":\"lines+markers\",\"name\":\"PenDigits,random\",\"x\":[0.0,0.1,0.2,0.30000000000000004,0.4,0.5,0.6000000000000001,0.7000000000000001,0.8,0.9],\"y\":[0.9991278050266225,0.9991278050266225,0.9991031141546797,0.9990403613823434,0.9989567448636746,0.9987826628774013,0.9987826628774013,0.9983973155280582,0.9971161267388828,0.9868014976701568],\"type\":\"scatter\",\"hovertemplate\":\"%{y:.4f}\"},{\"fill\":\"toself\",\"fillcolor\":\"rgba(171,99,250,0.15)\",\"hoverinfo\":\"skip\",\"legendgroup\":\"PenDigits,random\",\"line\":{\"color\":\"rgba(255,255,255,0)\"},\"name\":\"PenDigits,random\",\"showlegend\":false,\"visible\":true,\"x\":[0.0,0.1,0.2,0.30000000000000004,0.4,0.5,0.6000000000000001,0.7000000000000001,0.8,0.9,0.9,0.8,0.7000000000000001,0.6000000000000001,0.5,0.4,0.30000000000000004,0.2,0.1,0.0],\"y\":[0.9991278050266227,0.9991278050266227,0.999134901951124,0.9990909924086013,0.9990327693431771,0.9988869851584582,0.9988869851584582,0.9985598182746284,0.997440981618975,0.9874484310947413,0.9861545642455722,0.9967912718587907,0.9982348127814881,0.9986783405963443,0.9986783405963443,0.9988807203841721,0.9989897303560855,0.9990713263582354,0.9991278050266222,0.9991278050266222],\"type\":\"scatter\",\"hovertemplate\":\"%{y:.4f}\"},{\"legendgroup\":\"HAR,shap\",\"line\":{\"color\":\"#00CC96\",\"dash\":\"solid\"},\"marker\":{\"color\":\"#00CC96\",\"size\":8},\"mode\":\"lines+markers\",\"name\":\"HAR,shap\",\"x\":[0.0,0.1,0.2,0.30000000000000004,0.4,0.5,0.6000000000000001,0.7000000000000001,0.8,0.9],\"y\":[0.9547205115725156,0.9583418336794828,0.9617677687968765,0.9652511270853131,0.967248506394419,0.9705300572652299,0.9721048401648077,0.9744786984366991,0.9752460305767089,0.9775189508220593],\"type\":\"scatter\",\"hovertemplate\":\"%{y:.4f}\"},{\"fill\":\"toself\",\"fillcolor\":\"rgba(0,204,150,0.15)\",\"hoverinfo\":\"skip\",\"legendgroup\":\"HAR,shap\",\"line\":{\"color\":\"rgba(255,255,255,0)\"},\"name\":\"HAR,shap\",\"showlegend\":false,\"visible\":true,\"x\":[0.0,0.1,0.2,0.30000000000000004,0.4,0.5,0.6000000000000001,0.7000000000000001,0.8,0.9,0.9,0.8,0.7000000000000001,0.6000000000000001,0.5,0.4,0.30000000000000004,0.2,0.1,0.0],\"y\":[0.9547205115725157,0.9588370786216218,0.9621916514946802,0.9656787839006757,0.9677188149761436,0.970793109468015,0.9723979647799498,0.9749731123262032,0.9755466487190505,0.977993331025786,0.9770445706183326,0.9749454124343673,0.973984284547195,0.9718117155496656,0.9702670050624448,0.9667781978126943,0.9648234702699505,0.9613438860990728,0.9578465887373437,0.9547205115725155],\"type\":\"scatter\",\"hovertemplate\":\"%{y:.4f}\"},{\"legendgroup\":\"HAR,random\",\"line\":{\"color\":\"#00CC96\",\"dash\":\"dash\"},\"marker\":{\"color\":\"#00CC96\",\"size\":8},\"mode\":\"lines+markers\",\"name\":\"HAR,random\",\"x\":[0.0,0.1,0.2,0.30000000000000004,0.4,0.5,0.6000000000000001,0.7000000000000001,0.8,0.9],\"y\":[0.9547205115725158,0.955462211765663,0.9559388313469398,0.9564629490305373,0.9563207818236795,0.9562527009710433,0.9560456574458706,0.9546037836647199,0.9504421235968646,0.9346692793561603],\"type\":\"scatter\",\"hovertemplate\":\"%{y:.4f}\"},{\"fill\":\"toself\",\"fillcolor\":\"rgba(0,204,150,0.15)\",\"hoverinfo\":\"skip\",\"legendgroup\":\"HAR,random\",\"line\":{\"color\":\"rgba(255,255,255,0)\"},\"name\":\"HAR,random\",\"showlegend\":false,\"visible\":true,\"x\":[0.0,0.1,0.2,0.30000000000000004,0.4,0.5,0.6000000000000001,0.7000000000000001,0.8,0.9,0.9,0.8,0.7000000000000001,0.6000000000000001,0.5,0.4,0.30000000000000004,0.2,0.1,0.0],\"y\":[0.9547205115725159,0.9559509517286352,0.9568119349339729,0.9573189799020052,0.9572615372436234,0.9572536241233582,0.9569586959598748,0.9557154112655499,0.951991358629964,0.9364243250695716,0.932914233642749,0.9488928885637653,0.9534921560638898,0.9551326189318663,0.9552517778187284,0.9553800264037356,0.9556069181590694,0.9550657277599067,0.9549734718026909,0.9547205115725157],\"type\":\"scatter\",\"hovertemplate\":\"%{y:.4f}\"}],                        {\"template\":{\"data\":{\"barpolar\":[{\"marker\":{\"line\":{\"color\":\"white\",\"width\":0.5},\"pattern\":{\"fillmode\":\"overlay\",\"size\":10,\"solidity\":0.2}},\"type\":\"barpolar\"}],\"bar\":[{\"error_x\":{\"color\":\"rgb(36,36,36)\"},\"error_y\":{\"color\":\"rgb(36,36,36)\"},\"marker\":{\"line\":{\"color\":\"white\",\"width\":0.5},\"pattern\":{\"fillmode\":\"overlay\",\"size\":10,\"solidity\":0.2}},\"type\":\"bar\"}],\"carpet\":[{\"aaxis\":{\"endlinecolor\":\"rgb(36,36,36)\",\"gridcolor\":\"white\",\"linecolor\":\"white\",\"minorgridcolor\":\"white\",\"startlinecolor\":\"rgb(36,36,36)\"},\"baxis\":{\"endlinecolor\":\"rgb(36,36,36)\",\"gridcolor\":\"white\",\"linecolor\":\"white\",\"minorgridcolor\":\"white\",\"startlinecolor\":\"rgb(36,36,36)\"},\"type\":\"carpet\"}],\"choropleth\":[{\"colorbar\":{\"outlinewidth\":1,\"tickcolor\":\"rgb(36,36,36)\",\"ticks\":\"outside\"},\"type\":\"choropleth\"}],\"contourcarpet\":[{\"colorbar\":{\"outlinewidth\":1,\"tickcolor\":\"rgb(36,36,36)\",\"ticks\":\"outside\"},\"type\":\"contourcarpet\"}],\"contour\":[{\"colorbar\":{\"outlinewidth\":1,\"tickcolor\":\"rgb(36,36,36)\",\"ticks\":\"outside\"},\"colorscale\":[[0.0,\"#440154\"],[0.1111111111111111,\"#482878\"],[0.2222222222222222,\"#3e4989\"],[0.3333333333333333,\"#31688e\"],[0.4444444444444444,\"#26828e\"],[0.5555555555555556,\"#1f9e89\"],[0.6666666666666666,\"#35b779\"],[0.7777777777777778,\"#6ece58\"],[0.8888888888888888,\"#b5de2b\"],[1.0,\"#fde725\"]],\"type\":\"contour\"}],\"heatmapgl\":[{\"colorbar\":{\"outlinewidth\":1,\"tickcolor\":\"rgb(36,36,36)\",\"ticks\":\"outside\"},\"colorscale\":[[0.0,\"#440154\"],[0.1111111111111111,\"#482878\"],[0.2222222222222222,\"#3e4989\"],[0.3333333333333333,\"#31688e\"],[0.4444444444444444,\"#26828e\"],[0.5555555555555556,\"#1f9e89\"],[0.6666666666666666,\"#35b779\"],[0.7777777777777778,\"#6ece58\"],[0.8888888888888888,\"#b5de2b\"],[1.0,\"#fde725\"]],\"type\":\"heatmapgl\"}],\"heatmap\":[{\"colorbar\":{\"outlinewidth\":1,\"tickcolor\":\"rgb(36,36,36)\",\"ticks\":\"outside\"},\"colorscale\":[[0.0,\"#440154\"],[0.1111111111111111,\"#482878\"],[0.2222222222222222,\"#3e4989\"],[0.3333333333333333,\"#31688e\"],[0.4444444444444444,\"#26828e\"],[0.5555555555555556,\"#1f9e89\"],[0.6666666666666666,\"#35b779\"],[0.7777777777777778,\"#6ece58\"],[0.8888888888888888,\"#b5de2b\"],[1.0,\"#fde725\"]],\"type\":\"heatmap\"}],\"histogram2dcontour\":[{\"colorbar\":{\"outlinewidth\":1,\"tickcolor\":\"rgb(36,36,36)\",\"ticks\":\"outside\"},\"colorscale\":[[0.0,\"#440154\"],[0.1111111111111111,\"#482878\"],[0.2222222222222222,\"#3e4989\"],[0.3333333333333333,\"#31688e\"],[0.4444444444444444,\"#26828e\"],[0.5555555555555556,\"#1f9e89\"],[0.6666666666666666,\"#35b779\"],[0.7777777777777778,\"#6ece58\"],[0.8888888888888888,\"#b5de2b\"],[1.0,\"#fde725\"]],\"type\":\"histogram2dcontour\"}],\"histogram2d\":[{\"colorbar\":{\"outlinewidth\":1,\"tickcolor\":\"rgb(36,36,36)\",\"ticks\":\"outside\"},\"colorscale\":[[0.0,\"#440154\"],[0.1111111111111111,\"#482878\"],[0.2222222222222222,\"#3e4989\"],[0.3333333333333333,\"#31688e\"],[0.4444444444444444,\"#26828e\"],[0.5555555555555556,\"#1f9e89\"],[0.6666666666666666,\"#35b779\"],[0.7777777777777778,\"#6ece58\"],[0.8888888888888888,\"#b5de2b\"],[1.0,\"#fde725\"]],\"type\":\"histogram2d\"}],\"histogram\":[{\"marker\":{\"line\":{\"color\":\"white\",\"width\":0.6}},\"type\":\"histogram\"}],\"mesh3d\":[{\"colorbar\":{\"outlinewidth\":1,\"tickcolor\":\"rgb(36,36,36)\",\"ticks\":\"outside\"},\"type\":\"mesh3d\"}],\"parcoords\":[{\"line\":{\"colorbar\":{\"outlinewidth\":1,\"tickcolor\":\"rgb(36,36,36)\",\"ticks\":\"outside\"}},\"type\":\"parcoords\"}],\"pie\":[{\"automargin\":true,\"type\":\"pie\"}],\"scatter3d\":[{\"line\":{\"colorbar\":{\"outlinewidth\":1,\"tickcolor\":\"rgb(36,36,36)\",\"ticks\":\"outside\"}},\"marker\":{\"colorbar\":{\"outlinewidth\":1,\"tickcolor\":\"rgb(36,36,36)\",\"ticks\":\"outside\"}},\"type\":\"scatter3d\"}],\"scattercarpet\":[{\"marker\":{\"colorbar\":{\"outlinewidth\":1,\"tickcolor\":\"rgb(36,36,36)\",\"ticks\":\"outside\"}},\"type\":\"scattercarpet\"}],\"scattergeo\":[{\"marker\":{\"colorbar\":{\"outlinewidth\":1,\"tickcolor\":\"rgb(36,36,36)\",\"ticks\":\"outside\"}},\"type\":\"scattergeo\"}],\"scattergl\":[{\"marker\":{\"colorbar\":{\"outlinewidth\":1,\"tickcolor\":\"rgb(36,36,36)\",\"ticks\":\"outside\"}},\"type\":\"scattergl\"}],\"scattermapbox\":[{\"marker\":{\"colorbar\":{\"outlinewidth\":1,\"tickcolor\":\"rgb(36,36,36)\",\"ticks\":\"outside\"}},\"type\":\"scattermapbox\"}],\"scatterpolargl\":[{\"marker\":{\"colorbar\":{\"outlinewidth\":1,\"tickcolor\":\"rgb(36,36,36)\",\"ticks\":\"outside\"}},\"type\":\"scatterpolargl\"}],\"scatterpolar\":[{\"marker\":{\"colorbar\":{\"outlinewidth\":1,\"tickcolor\":\"rgb(36,36,36)\",\"ticks\":\"outside\"}},\"type\":\"scatterpolar\"}],\"scatter\":[{\"fillpattern\":{\"fillmode\":\"overlay\",\"size\":10,\"solidity\":0.2},\"type\":\"scatter\"}],\"scatterternary\":[{\"marker\":{\"colorbar\":{\"outlinewidth\":1,\"tickcolor\":\"rgb(36,36,36)\",\"ticks\":\"outside\"}},\"type\":\"scatterternary\"}],\"surface\":[{\"colorbar\":{\"outlinewidth\":1,\"tickcolor\":\"rgb(36,36,36)\",\"ticks\":\"outside\"},\"colorscale\":[[0.0,\"#440154\"],[0.1111111111111111,\"#482878\"],[0.2222222222222222,\"#3e4989\"],[0.3333333333333333,\"#31688e\"],[0.4444444444444444,\"#26828e\"],[0.5555555555555556,\"#1f9e89\"],[0.6666666666666666,\"#35b779\"],[0.7777777777777778,\"#6ece58\"],[0.8888888888888888,\"#b5de2b\"],[1.0,\"#fde725\"]],\"type\":\"surface\"}],\"table\":[{\"cells\":{\"fill\":{\"color\":\"rgb(237,237,237)\"},\"line\":{\"color\":\"white\"}},\"header\":{\"fill\":{\"color\":\"rgb(217,217,217)\"},\"line\":{\"color\":\"white\"}},\"type\":\"table\"}]},\"layout\":{\"annotationdefaults\":{\"arrowhead\":0,\"arrowwidth\":1},\"autotypenumbers\":\"strict\",\"coloraxis\":{\"colorbar\":{\"outlinewidth\":1,\"tickcolor\":\"rgb(36,36,36)\",\"ticks\":\"outside\"}},\"colorscale\":{\"diverging\":[[0.0,\"rgb(103,0,31)\"],[0.1,\"rgb(178,24,43)\"],[0.2,\"rgb(214,96,77)\"],[0.3,\"rgb(244,165,130)\"],[0.4,\"rgb(253,219,199)\"],[0.5,\"rgb(247,247,247)\"],[0.6,\"rgb(209,229,240)\"],[0.7,\"rgb(146,197,222)\"],[0.8,\"rgb(67,147,195)\"],[0.9,\"rgb(33,102,172)\"],[1.0,\"rgb(5,48,97)\"]],\"sequential\":[[0.0,\"#440154\"],[0.1111111111111111,\"#482878\"],[0.2222222222222222,\"#3e4989\"],[0.3333333333333333,\"#31688e\"],[0.4444444444444444,\"#26828e\"],[0.5555555555555556,\"#1f9e89\"],[0.6666666666666666,\"#35b779\"],[0.7777777777777778,\"#6ece58\"],[0.8888888888888888,\"#b5de2b\"],[1.0,\"#fde725\"]],\"sequentialminus\":[[0.0,\"#440154\"],[0.1111111111111111,\"#482878\"],[0.2222222222222222,\"#3e4989\"],[0.3333333333333333,\"#31688e\"],[0.4444444444444444,\"#26828e\"],[0.5555555555555556,\"#1f9e89\"],[0.6666666666666666,\"#35b779\"],[0.7777777777777778,\"#6ece58\"],[0.8888888888888888,\"#b5de2b\"],[1.0,\"#fde725\"]]},\"colorway\":[\"#1F77B4\",\"#FF7F0E\",\"#2CA02C\",\"#D62728\",\"#9467BD\",\"#8C564B\",\"#E377C2\",\"#7F7F7F\",\"#BCBD22\",\"#17BECF\"],\"font\":{\"color\":\"rgb(36,36,36)\"},\"geo\":{\"bgcolor\":\"white\",\"lakecolor\":\"white\",\"landcolor\":\"white\",\"showlakes\":true,\"showland\":true,\"subunitcolor\":\"white\"},\"hoverlabel\":{\"align\":\"left\"},\"hovermode\":\"closest\",\"mapbox\":{\"style\":\"light\"},\"paper_bgcolor\":\"white\",\"plot_bgcolor\":\"white\",\"polar\":{\"angularaxis\":{\"gridcolor\":\"rgb(232,232,232)\",\"linecolor\":\"rgb(36,36,36)\",\"showgrid\":false,\"showline\":true,\"ticks\":\"outside\"},\"bgcolor\":\"white\",\"radialaxis\":{\"gridcolor\":\"rgb(232,232,232)\",\"linecolor\":\"rgb(36,36,36)\",\"showgrid\":false,\"showline\":true,\"ticks\":\"outside\"}},\"scene\":{\"xaxis\":{\"backgroundcolor\":\"white\",\"gridcolor\":\"rgb(232,232,232)\",\"gridwidth\":2,\"linecolor\":\"rgb(36,36,36)\",\"showbackground\":true,\"showgrid\":false,\"showline\":true,\"ticks\":\"outside\",\"zeroline\":false,\"zerolinecolor\":\"rgb(36,36,36)\"},\"yaxis\":{\"backgroundcolor\":\"white\",\"gridcolor\":\"rgb(232,232,232)\",\"gridwidth\":2,\"linecolor\":\"rgb(36,36,36)\",\"showbackground\":true,\"showgrid\":false,\"showline\":true,\"ticks\":\"outside\",\"zeroline\":false,\"zerolinecolor\":\"rgb(36,36,36)\"},\"zaxis\":{\"backgroundcolor\":\"white\",\"gridcolor\":\"rgb(232,232,232)\",\"gridwidth\":2,\"linecolor\":\"rgb(36,36,36)\",\"showbackground\":true,\"showgrid\":false,\"showline\":true,\"ticks\":\"outside\",\"zeroline\":false,\"zerolinecolor\":\"rgb(36,36,36)\"}},\"shapedefaults\":{\"fillcolor\":\"black\",\"line\":{\"width\":0},\"opacity\":0.3},\"ternary\":{\"aaxis\":{\"gridcolor\":\"rgb(232,232,232)\",\"linecolor\":\"rgb(36,36,36)\",\"showgrid\":false,\"showline\":true,\"ticks\":\"outside\"},\"baxis\":{\"gridcolor\":\"rgb(232,232,232)\",\"linecolor\":\"rgb(36,36,36)\",\"showgrid\":false,\"showline\":true,\"ticks\":\"outside\"},\"bgcolor\":\"white\",\"caxis\":{\"gridcolor\":\"rgb(232,232,232)\",\"linecolor\":\"rgb(36,36,36)\",\"showgrid\":false,\"showline\":true,\"ticks\":\"outside\"}},\"title\":{\"x\":0.05},\"xaxis\":{\"automargin\":true,\"gridcolor\":\"rgb(232,232,232)\",\"linecolor\":\"rgb(36,36,36)\",\"showgrid\":false,\"showline\":true,\"ticks\":\"outside\",\"title\":{\"standoff\":15},\"zeroline\":false,\"zerolinecolor\":\"rgb(36,36,36)\"},\"yaxis\":{\"automargin\":true,\"gridcolor\":\"rgb(232,232,232)\",\"linecolor\":\"rgb(36,36,36)\",\"showgrid\":false,\"showline\":true,\"ticks\":\"outside\",\"title\":{\"standoff\":15},\"zeroline\":false,\"zerolinecolor\":\"rgb(36,36,36)\"}}},\"margin\":{\"l\":10,\"r\":10,\"t\":20,\"b\":20},\"xaxis\":{\"showgrid\":true,\"gridcolor\":\"lightgray\",\"gridwidth\":1,\"tickmode\":\"array\",\"tickvals\":[0.0,0.1,0.2,0.30000000000000004,0.4,0.5,0.6000000000000001,0.7000000000000001,0.8,0.9],\"title\":{\"text\":\"Masked Percentage\"}},\"yaxis\":{\"showgrid\":true,\"gridcolor\":\"lightgray\",\"gridwidth\":1,\"title\":{\"text\":\"AUC OVO\"}},\"hovermode\":\"x\",\"showlegend\":false},                        {\"responsive\": true}                    ).then(function(){\n",
       "                            \n",
       "var gd = document.getElementById('7d88ad17-c357-46a1-a5dc-b72449174589');\n",
       "var x = new MutationObserver(function (mutations, observer) {{\n",
       "        var display = window.getComputedStyle(gd).display;\n",
       "        if (!display || display === 'none') {{\n",
       "            console.log([gd, 'removed!']);\n",
       "            Plotly.purge(gd);\n",
       "            observer.disconnect();\n",
       "        }}\n",
       "}});\n",
       "\n",
       "// Listen for the removal of the full notebook cells\n",
       "var notebookContainer = gd.closest('#notebook-container');\n",
       "if (notebookContainer) {{\n",
       "    x.observe(notebookContainer, {childList: true});\n",
       "}}\n",
       "\n",
       "// Listen for the clearing of the current output cell\n",
       "var outputEl = gd.closest('.output');\n",
       "if (outputEl) {{\n",
       "    x.observe(outputEl, {childList: true});\n",
       "}}\n",
       "\n",
       "                        })                };                });            </script>        </div>"
      ]
     },
     "metadata": {},
     "output_type": "display_data"
    }
   ],
   "source": [
    "fig3 = plot_masking_result(\n",
    "    masked_percentages,\n",
    "    *[\n",
    "        (f\"{dataset},{method}\", metric)\n",
    "        for dataset, results in auc_ovo_results.items()\n",
    "        for method, metric in results.items()\n",
    "    ],\n",
    ")\n",
    "for trace in fig3.data:\n",
    "    if \"FingerMovements\" in trace.name:\n",
    "        trace.visible = False\n",
    "fig3.update_layout(showlegend=False, yaxis_title=\"AUC OVO\")"
   ]
  },
  {
   "cell_type": "code",
   "execution_count": null,
   "metadata": {},
   "outputs": [
    {
     "name": "stderr",
     "output_type": "stream",
     "text": [
      "Computing evaluation: 100%|██████████| 6/6 [00:12<00:00,  2.02s/it]\n"
     ]
    }
   ],
   "source": [
    "from src.masking import masking_impact\n",
    "\n",
    "def auc_ovr(classifier, test_timesteps, test_labels, shap_values):\n",
    "    return np.array([\n",
    "        masking_impact(\n",
    "            classifier, test_timesteps, test_labels, \n",
    "            shapley_order(shap_values)[test_labels],\n",
    "            masked_percentages, metric=\"auc_ovr\"\n",
    "        )\n",
    "        for shap_values in shap_values\n",
    "    ])\n",
    "\n",
    "auc_ovr_results = {}\n",
    "for dataset, data in tqdm(results.items(), desc=\"Computing evaluation\", total=len(results)):\n",
    "    auc_ovr_results[dataset] = auc_ovr(\n",
    "        data[\"classifier\"],\n",
    "        data[\"test\"][\"timesteps\"],\n",
    "        data[\"test\"][\"labels\"],\n",
    "        data[\"shap_values\"],\n",
    "    )"
   ]
  },
  {
   "cell_type": "code",
   "execution_count": 9,
   "metadata": {},
   "outputs": [
    {
     "data": {
      "application/vnd.jupyter.widget-view+json": {
       "model_id": "bb83fc4d6d5041b8a2237bc6b305c622",
       "version_major": 2,
       "version_minor": 0
      },
      "text/plain": [
       "interactive(children=(Dropdown(description='dataset', options=('Epilepsy', 'FingerMovements', 'WISDM', 'Synthe…"
      ]
     },
     "metadata": {},
     "output_type": "display_data"
    },
    {
     "data": {
      "application/vnd.jupyter.widget-view+json": {
       "model_id": "82e69a5c801749e9b40d961aede11ab6",
       "version_major": 2,
       "version_minor": 0
      },
      "text/plain": [
       "FigureWidget({\n",
       "    'data': [{'hovertemplate': '%{y:.4f}',\n",
       "              'legendgroup': 'Epilepsy - Class 0',\n",
       "              'line': {'color': '#636EFA', 'dash': 'solid'},\n",
       "              'marker': {'color': '#636EFA', 'size': 8},\n",
       "              'mode': 'lines+markers',\n",
       "              'name': 'Epilepsy - Class 0',\n",
       "              'type': 'scatter',\n",
       "              'uid': 'ff17f331-c357-4307-8118-57d271836c2a',\n",
       "              'visible': True,\n",
       "              'x': array([0. , 0.1, 0.2, 0.3, 0.4, 0.5, 0.6, 0.7, 0.8, 0.9]),\n",
       "              'y': array([0.99629779, 0.99616771, 0.99607981, 0.99581964, 0.99565205, 0.99503443,\n",
       "                          0.99484574, 0.99271278, 0.98819021, 0.98856055])},\n",
       "             {'fill': 'toself',\n",
       "              'fillcolor': 'rgba(99,110,250,0.15)',\n",
       "              'hoverinfo': 'skip',\n",
       "              'hovertemplate': '%{y:.4f}',\n",
       "              'legendgroup': 'Epilepsy - Class 0',\n",
       "              'line': {'color': 'rgba(255,255,255,0)'},\n",
       "              'name': 'Epilepsy - Class 0',\n",
       "              'showlegend': False,\n",
       "              'type': 'scatter',\n",
       "              'uid': 'b417ab60-7957-4a77-9fa8-6aecbf8be867',\n",
       "              'visible': True,\n",
       "              'x': array([0. , 0.1, 0.2, 0.3, 0.4, 0.5, 0.6, 0.7, 0.8, 0.9, 0.9, 0.8, 0.7, 0.6,\n",
       "                          0.5, 0.4, 0.3, 0.2, 0.1, 0. ]),\n",
       "              'y': array([0.99629779, 0.99616771, 0.99607981, 0.99581964, 0.99565205, 0.99503443,\n",
       "                          0.99484574, 0.99271278, 0.98819021, 0.98856055, 0.98856055, 0.98819021,\n",
       "                          0.99271278, 0.99484574, 0.99503443, 0.99565205, 0.99581964, 0.99607981,\n",
       "                          0.99616771, 0.99629779])},\n",
       "             {'hovertemplate': '%{y:.4f}',\n",
       "              'legendgroup': 'Epilepsy - Class 1',\n",
       "              'line': {'color': '#EF553B', 'dash': 'solid'},\n",
       "              'marker': {'color': '#EF553B', 'size': 8},\n",
       "              'mode': 'lines+markers',\n",
       "              'name': 'Epilepsy - Class 1',\n",
       "              'type': 'scatter',\n",
       "              'uid': 'c3fa03a6-512e-495e-8177-8ef5e91e5900',\n",
       "              'visible': True,\n",
       "              'x': array([0. , 0.1, 0.2, 0.3, 0.4, 0.5, 0.6, 0.7, 0.8, 0.9]),\n",
       "              'y': array([0.99629779, 0.99616771, 0.99607981, 0.99581964, 0.99565205, 0.99503443,\n",
       "                          0.99484574, 0.99271278, 0.98819021, 0.98856055])},\n",
       "             {'fill': 'toself',\n",
       "              'fillcolor': 'rgba(239,85,59,0.15)',\n",
       "              'hoverinfo': 'skip',\n",
       "              'hovertemplate': '%{y:.4f}',\n",
       "              'legendgroup': 'Epilepsy - Class 1',\n",
       "              'line': {'color': 'rgba(255,255,255,0)'},\n",
       "              'name': 'Epilepsy - Class 1',\n",
       "              'showlegend': False,\n",
       "              'type': 'scatter',\n",
       "              'uid': '9a405342-70e7-4a71-b809-0c3f92ef0778',\n",
       "              'visible': True,\n",
       "              'x': array([0. , 0.1, 0.2, 0.3, 0.4, 0.5, 0.6, 0.7, 0.8, 0.9, 0.9, 0.8, 0.7, 0.6,\n",
       "                          0.5, 0.4, 0.3, 0.2, 0.1, 0. ]),\n",
       "              'y': array([0.99629779, 0.99616771, 0.99607981, 0.99581964, 0.99565205, 0.99503443,\n",
       "                          0.99484574, 0.99271278, 0.98819021, 0.98856055, 0.98856055, 0.98819021,\n",
       "                          0.99271278, 0.99484574, 0.99503443, 0.99565205, 0.99581964, 0.99607981,\n",
       "                          0.99616771, 0.99629779])},\n",
       "             {'hovertemplate': '%{y:.4f}',\n",
       "              'legendgroup': 'FingerMovements - Class 0',\n",
       "              'line': {'color': '#00CC96', 'dash': 'solid'},\n",
       "              'marker': {'color': '#00CC96', 'size': 8},\n",
       "              'mode': 'lines+markers',\n",
       "              'name': 'FingerMovements - Class 0',\n",
       "              'type': 'scatter',\n",
       "              'uid': 'e1746407-52de-4484-8aef-4864405fc5e3',\n",
       "              'visible': False,\n",
       "              'x': array([0. , 0.1, 0.2, 0.3, 0.4, 0.5, 0.6, 0.7, 0.8, 0.9]),\n",
       "              'y': array([0.47819128, 0.47819128, 0.505002  , 0.505002  , 0.4929972 , 0.484994  ,\n",
       "                          0.484994  , 0.49659864, 0.49659864, 0.47859144])},\n",
       "             {'fill': 'toself',\n",
       "              'fillcolor': 'rgba(0,204,150,0.15)',\n",
       "              'hoverinfo': 'skip',\n",
       "              'hovertemplate': '%{y:.4f}',\n",
       "              'legendgroup': 'FingerMovements - Class 0',\n",
       "              'line': {'color': 'rgba(255,255,255,0)'},\n",
       "              'name': 'FingerMovements - Class 0',\n",
       "              'showlegend': False,\n",
       "              'type': 'scatter',\n",
       "              'uid': 'b47bb55d-391b-4c71-aabc-48fa4e611cf5',\n",
       "              'visible': False,\n",
       "              'x': array([0. , 0.1, 0.2, 0.3, 0.4, 0.5, 0.6, 0.7, 0.8, 0.9, 0.9, 0.8, 0.7, 0.6,\n",
       "                          0.5, 0.4, 0.3, 0.2, 0.1, 0. ]),\n",
       "              'y': array([0.47819128, 0.47819128, 0.505002  , 0.505002  , 0.4929972 , 0.484994  ,\n",
       "                          0.484994  , 0.49659864, 0.49659864, 0.47859144, 0.47859144, 0.49659864,\n",
       "                          0.49659864, 0.484994  , 0.484994  , 0.4929972 , 0.505002  , 0.505002  ,\n",
       "                          0.47819128, 0.47819128])},\n",
       "             {'hovertemplate': '%{y:.4f}',\n",
       "              'legendgroup': 'FingerMovements - Class 1',\n",
       "              'line': {'color': '#AB63FA', 'dash': 'solid'},\n",
       "              'marker': {'color': '#AB63FA', 'size': 8},\n",
       "              'mode': 'lines+markers',\n",
       "              'name': 'FingerMovements - Class 1',\n",
       "              'type': 'scatter',\n",
       "              'uid': 'af251528-9e2d-4575-95a8-fcca00a10db3',\n",
       "              'visible': False,\n",
       "              'x': array([0. , 0.1, 0.2, 0.3, 0.4, 0.5, 0.6, 0.7, 0.8, 0.9]),\n",
       "              'y': array([0.47819128, 0.47819128, 0.505002  , 0.505002  , 0.4929972 , 0.484994  ,\n",
       "                          0.484994  , 0.49659864, 0.49659864, 0.47859144])},\n",
       "             {'fill': 'toself',\n",
       "              'fillcolor': 'rgba(171,99,250,0.15)',\n",
       "              'hoverinfo': 'skip',\n",
       "              'hovertemplate': '%{y:.4f}',\n",
       "              'legendgroup': 'FingerMovements - Class 1',\n",
       "              'line': {'color': 'rgba(255,255,255,0)'},\n",
       "              'name': 'FingerMovements - Class 1',\n",
       "              'showlegend': False,\n",
       "              'type': 'scatter',\n",
       "              'uid': 'fd746807-b98d-4662-a062-b9756c7329ca',\n",
       "              'visible': False,\n",
       "              'x': array([0. , 0.1, 0.2, 0.3, 0.4, 0.5, 0.6, 0.7, 0.8, 0.9, 0.9, 0.8, 0.7, 0.6,\n",
       "                          0.5, 0.4, 0.3, 0.2, 0.1, 0. ]),\n",
       "              'y': array([0.47819128, 0.47819128, 0.505002  , 0.505002  , 0.4929972 , 0.484994  ,\n",
       "                          0.484994  , 0.49659864, 0.49659864, 0.47859144, 0.47859144, 0.49659864,\n",
       "                          0.49659864, 0.484994  , 0.484994  , 0.4929972 , 0.505002  , 0.505002  ,\n",
       "                          0.47819128, 0.47819128])},\n",
       "             {'hovertemplate': '%{y:.4f}',\n",
       "              'legendgroup': 'WISDM - Class 0',\n",
       "              'line': {'color': '#FFA15A', 'dash': 'solid'},\n",
       "              'marker': {'color': '#FFA15A', 'size': 8},\n",
       "              'mode': 'lines+markers',\n",
       "              'name': 'WISDM - Class 0',\n",
       "              'type': 'scatter',\n",
       "              'uid': 'f9707d8e-d75b-48cb-a60e-ac47a86d0f7d',\n",
       "              'visible': False,\n",
       "              'x': array([0. , 0.1, 0.2, 0.3, 0.4, 0.5, 0.6, 0.7, 0.8, 0.9]),\n",
       "              'y': array([0.98419371, 0.98696841, 0.98815552, 0.9897257 , 0.99305351, 0.99484493,\n",
       "                          0.99685656, 0.99664864, 0.99743936, 0.99589274])},\n",
       "             {'fill': 'toself',\n",
       "              'fillcolor': 'rgba(255,161,90,0.15)',\n",
       "              'hoverinfo': 'skip',\n",
       "              'hovertemplate': '%{y:.4f}',\n",
       "              'legendgroup': 'WISDM - Class 0',\n",
       "              'line': {'color': 'rgba(255,255,255,0)'},\n",
       "              'name': 'WISDM - Class 0',\n",
       "              'showlegend': False,\n",
       "              'type': 'scatter',\n",
       "              'uid': '8059ea0e-3cab-4027-a6c9-ea2a5acf7a26',\n",
       "              'visible': False,\n",
       "              'x': array([0. , 0.1, 0.2, 0.3, 0.4, 0.5, 0.6, 0.7, 0.8, 0.9, 0.9, 0.8, 0.7, 0.6,\n",
       "                          0.5, 0.4, 0.3, 0.2, 0.1, 0. ]),\n",
       "              'y': array([0.98419371, 0.9874011 , 0.98866103, 0.99067791, 0.99358756, 0.99514331,\n",
       "                          0.9973349 , 0.99716451, 0.99785224, 0.99659853, 0.99518695, 0.99702649,\n",
       "                          0.99613277, 0.99637823, 0.99454654, 0.99251946, 0.9887735 , 0.98765002,\n",
       "                          0.98653572, 0.98419371])},\n",
       "             {'hovertemplate': '%{y:.4f}',\n",
       "              'legendgroup': 'WISDM - Class 1',\n",
       "              'line': {'color': '#19D3F3', 'dash': 'solid'},\n",
       "              'marker': {'color': '#19D3F3', 'size': 8},\n",
       "              'mode': 'lines+markers',\n",
       "              'name': 'WISDM - Class 1',\n",
       "              'type': 'scatter',\n",
       "              'uid': 'f41914ee-9d1c-4bec-9d00-974f530fb99a',\n",
       "              'visible': False,\n",
       "              'x': array([0. , 0.1, 0.2, 0.3, 0.4, 0.5, 0.6, 0.7, 0.8, 0.9]),\n",
       "              'y': array([0.99209261, 0.99223655, 0.99464665, 0.99482283, 0.99617124, 0.99726978,\n",
       "                          0.99807699, 0.99767626, 0.99668597, 0.99339726])},\n",
       "             {'fill': 'toself',\n",
       "              'fillcolor': 'rgba(25,211,243,0.15)',\n",
       "              'hoverinfo': 'skip',\n",
       "              'hovertemplate': '%{y:.4f}',\n",
       "              'legendgroup': 'WISDM - Class 1',\n",
       "              'line': {'color': 'rgba(255,255,255,0)'},\n",
       "              'name': 'WISDM - Class 1',\n",
       "              'showlegend': False,\n",
       "              'type': 'scatter',\n",
       "              'uid': '59638c3e-3f91-45b7-8866-863adac3c3a9',\n",
       "              'visible': False,\n",
       "              'x': array([0. , 0.1, 0.2, 0.3, 0.4, 0.5, 0.6, 0.7, 0.8, 0.9, 0.9, 0.8, 0.7, 0.6,\n",
       "                          0.5, 0.4, 0.3, 0.2, 0.1, 0. ]),\n",
       "              'y': array([0.99209261, 0.99314865, 0.99509448, 0.99530975, 0.99743565, 0.99790601,\n",
       "                          0.99843093, 0.99816787, 0.99694382, 0.99388353, 0.992911  , 0.99642811,\n",
       "                          0.99718466, 0.99772304, 0.99663355, 0.99490683, 0.99433591, 0.99419882,\n",
       "                          0.99132444, 0.99209261])},\n",
       "             {'hovertemplate': '%{y:.4f}',\n",
       "              'legendgroup': 'WISDM - Class 2',\n",
       "              'line': {'color': '#FF6692', 'dash': 'solid'},\n",
       "              'marker': {'color': '#FF6692', 'size': 8},\n",
       "              'mode': 'lines+markers',\n",
       "              'name': 'WISDM - Class 2',\n",
       "              'type': 'scatter',\n",
       "              'uid': '23f984df-1417-41f4-8a33-42098e1002ea',\n",
       "              'visible': False,\n",
       "              'x': array([0. , 0.1, 0.2, 0.3, 0.4, 0.5, 0.6, 0.7, 0.8, 0.9]),\n",
       "              'y': array([0.97880585, 0.97786239, 0.98904913, 0.98775187, 0.98912775, 0.98642092,\n",
       "                          0.98198441, 0.97084822, 0.85280904, 0.77205337])},\n",
       "             {'fill': 'toself',\n",
       "              'fillcolor': 'rgba(255,102,146,0.15)',\n",
       "              'hoverinfo': 'skip',\n",
       "              'hovertemplate': '%{y:.4f}',\n",
       "              'legendgroup': 'WISDM - Class 2',\n",
       "              'line': {'color': 'rgba(255,255,255,0)'},\n",
       "              'name': 'WISDM - Class 2',\n",
       "              'showlegend': False,\n",
       "              'type': 'scatter',\n",
       "              'uid': 'd1d0babf-61e5-4fc3-aecb-eadbc65a7fc8',\n",
       "              'visible': False,\n",
       "              'x': array([0. , 0.1, 0.2, 0.3, 0.4, 0.5, 0.6, 0.7, 0.8, 0.9, 0.9, 0.8, 0.7, 0.6,\n",
       "                          0.5, 0.4, 0.3, 0.2, 0.1, 0. ]),\n",
       "              'y': array([0.97880585, 0.97799361, 0.98968904, 0.98852917, 0.99034118, 0.98743886,\n",
       "                          0.98481229, 0.98103303, 0.89216739, 0.8282273 , 0.71587944, 0.81345069,\n",
       "                          0.9606634 , 0.97915653, 0.98540298, 0.98791431, 0.98697457, 0.98840922,\n",
       "                          0.97773117, 0.97880585])},\n",
       "             {'hovertemplate': '%{y:.4f}',\n",
       "              'legendgroup': 'WISDM - Class 3',\n",
       "              'line': {'color': '#B6E880', 'dash': 'solid'},\n",
       "              'marker': {'color': '#B6E880', 'size': 8},\n",
       "              'mode': 'lines+markers',\n",
       "              'name': 'WISDM - Class 3',\n",
       "              'type': 'scatter',\n",
       "              'uid': '5dd066d2-7013-42bd-a384-f76ed87f754d',\n",
       "              'visible': False,\n",
       "              'x': array([0. , 0.1, 0.2, 0.3, 0.4, 0.5, 0.6, 0.7, 0.8, 0.9]),\n",
       "              'y': array([0.94122788, 0.95898878, 0.96025417, 0.9785977 , 0.98430559, 0.98366834,\n",
       "                          0.98732794, 0.98365924, 0.98344986, 0.9887845 ])},\n",
       "             {'fill': 'toself',\n",
       "              'fillcolor': 'rgba(182,232,128,0.15)',\n",
       "              'hoverinfo': 'skip',\n",
       "              'hovertemplate': '%{y:.4f}',\n",
       "              'legendgroup': 'WISDM - Class 3',\n",
       "              'line': {'color': 'rgba(255,255,255,0)'},\n",
       "              'name': 'WISDM - Class 3',\n",
       "              'showlegend': False,\n",
       "              'type': 'scatter',\n",
       "              'uid': 'd9f19e06-dc83-43c0-8b89-524c6ac7e7b0',\n",
       "              'visible': False,\n",
       "              'x': array([0. , 0.1, 0.2, 0.3, 0.4, 0.5, 0.6, 0.7, 0.8, 0.9, 0.9, 0.8, 0.7, 0.6,\n",
       "                          0.5, 0.4, 0.3, 0.2, 0.1, 0. ]),\n",
       "              'y': array([0.94122788, 0.96015289, 0.96081535, 0.98118882, 0.98715054, 0.9878584 ,\n",
       "                          0.98914445, 0.98859734, 0.9843272 , 0.99214871, 0.9854203 , 0.98257252,\n",
       "                          0.97872113, 0.98551144, 0.97947828, 0.98146063, 0.97600658, 0.95969299,\n",
       "                          0.95782468, 0.94122788])},\n",
       "             {'hovertemplate': '%{y:.4f}',\n",
       "              'legendgroup': 'WISDM - Class 4',\n",
       "              'line': {'color': '#FF97FF', 'dash': 'solid'},\n",
       "              'marker': {'color': '#FF97FF', 'size': 8},\n",
       "              'mode': 'lines+markers',\n",
       "              'name': 'WISDM - Class 4',\n",
       "              'type': 'scatter',\n",
       "              'uid': '68f786d6-f526-4c2f-a8cb-776b8f246c90',\n",
       "              'visible': False,\n",
       "              'x': array([0. , 0.1, 0.2, 0.3, 0.4, 0.5, 0.6, 0.7, 0.8, 0.9]),\n",
       "              'y': array([0.94096222, 0.94120504, 0.94295115, 0.94151061, 0.94838594, 0.95155622,\n",
       "                          0.95259571, 0.95396259, 0.96923018, 0.97790073])},\n",
       "             {'fill': 'toself',\n",
       "              'fillcolor': 'rgba(255,151,255,0.15)',\n",
       "              'hoverinfo': 'skip',\n",
       "              'hovertemplate': '%{y:.4f}',\n",
       "              'legendgroup': 'WISDM - Class 4',\n",
       "              'line': {'color': 'rgba(255,255,255,0)'},\n",
       "              'name': 'WISDM - Class 4',\n",
       "              'showlegend': False,\n",
       "              'type': 'scatter',\n",
       "              'uid': 'ca01cd91-c173-4dcf-b1e0-ffb1584466cb',\n",
       "              'visible': False,\n",
       "              'x': array([0. , 0.1, 0.2, 0.3, 0.4, 0.5, 0.6, 0.7, 0.8, 0.9, 0.9, 0.8, 0.7, 0.6,\n",
       "                          0.5, 0.4, 0.3, 0.2, 0.1, 0. ]),\n",
       "              'y': array([0.94096222, 0.94365105, 0.94671803, 0.94382788, 0.94893913, 0.95243881,\n",
       "                          0.9554592 , 0.95863923, 0.97252748, 0.98322412, 0.97257734, 0.96593288,\n",
       "                          0.94928595, 0.94973222, 0.95067364, 0.94783274, 0.93919334, 0.93918427,\n",
       "                          0.93875903, 0.94096222])},\n",
       "             {'hovertemplate': '%{y:.4f}',\n",
       "              'legendgroup': 'WISDM - Class 5',\n",
       "              'line': {'color': '#FECB52', 'dash': 'solid'},\n",
       "              'marker': {'color': '#FECB52', 'size': 8},\n",
       "              'mode': 'lines+markers',\n",
       "              'name': 'WISDM - Class 5',\n",
       "              'type': 'scatter',\n",
       "              'uid': '0b7fb417-c410-4e1a-a8c9-65434d67c032',\n",
       "              'visible': False,\n",
       "              'x': array([0. , 0.1, 0.2, 0.3, 0.4, 0.5, 0.6, 0.7, 0.8, 0.9]),\n",
       "              'y': array([0.9466504 , 0.94472127, 0.9464918 , 0.94365434, 0.94222407, 0.94881887,\n",
       "                          0.94127248, 0.94646009, 0.9591393 , 0.9439254 ])},\n",
       "             {'fill': 'toself',\n",
       "              'fillcolor': 'rgba(254,203,82,0.15)',\n",
       "              'hoverinfo': 'skip',\n",
       "              'hovertemplate': '%{y:.4f}',\n",
       "              'legendgroup': 'WISDM - Class 5',\n",
       "              'line': {'color': 'rgba(255,255,255,0)'},\n",
       "              'name': 'WISDM - Class 5',\n",
       "              'showlegend': False,\n",
       "              'type': 'scatter',\n",
       "              'uid': '688f4ed0-327b-4b75-b7c6-065efab533a3',\n",
       "              'visible': False,\n",
       "              'x': array([0. , 0.1, 0.2, 0.3, 0.4, 0.5, 0.6, 0.7, 0.8, 0.9, 0.9, 0.8, 0.7, 0.6,\n",
       "                          0.5, 0.4, 0.3, 0.2, 0.1, 0. ]),\n",
       "              'y': array([0.9466504 , 0.94560315, 0.94776031, 0.94595376, 0.94613573, 0.95063173,\n",
       "                          0.94479594, 0.95301161, 0.96202939, 0.95708984, 0.93076095, 0.95624921,\n",
       "                          0.93990856, 0.93774902, 0.94700602, 0.9383124 , 0.94135492, 0.9452233 ,\n",
       "                          0.9438394 , 0.9466504 ])},\n",
       "             {'hovertemplate': '%{y:.4f}',\n",
       "              'legendgroup': 'Synthetic - Class 0',\n",
       "              'line': {'color': '#636EFA', 'dash': 'solid'},\n",
       "              'marker': {'color': '#636EFA', 'size': 8},\n",
       "              'mode': 'lines+markers',\n",
       "              'name': 'Synthetic - Class 0',\n",
       "              'type': 'scatter',\n",
       "              'uid': '9bd8711b-4081-4799-8490-df7118870737',\n",
       "              'visible': False,\n",
       "              'x': array([0. , 0.1, 0.2, 0.3, 0.4, 0.5, 0.6, 0.7, 0.8, 0.9]),\n",
       "              'y': array([0.99849232, 0.9985837 , 0.99808114, 0.99780702, 0.99812683, 0.99698465,\n",
       "                          0.99081689, 0.9900402 , 0.97174251, 0.95198282])},\n",
       "             {'fill': 'toself',\n",
       "              'fillcolor': 'rgba(99,110,250,0.15)',\n",
       "              'hoverinfo': 'skip',\n",
       "              'hovertemplate': '%{y:.4f}',\n",
       "              'legendgroup': 'Synthetic - Class 0',\n",
       "              'line': {'color': 'rgba(255,255,255,0)'},\n",
       "              'name': 'Synthetic - Class 0',\n",
       "              'showlegend': False,\n",
       "              'type': 'scatter',\n",
       "              'uid': '2547cfd0-c745-475b-8723-4ac30901e79b',\n",
       "              'visible': False,\n",
       "              'x': array([0. , 0.1, 0.2, 0.3, 0.4, 0.5, 0.6, 0.7, 0.8, 0.9, 0.9, 0.8, 0.7, 0.6,\n",
       "                          0.5, 0.4, 0.3, 0.2, 0.1, 0. ]),\n",
       "              'y': array([0.99849232, 0.99864831, 0.99848464, 0.99831985, 0.99885496, 0.99776802,\n",
       "                          0.99311309, 0.99346644, 0.97386905, 0.95792707, 0.94603858, 0.96961597,\n",
       "                          0.98661397, 0.98852068, 0.99620128, 0.99739869, 0.99729418, 0.99767764,\n",
       "                          0.99851909, 0.99849232])},\n",
       "             {'hovertemplate': '%{y:.4f}',\n",
       "              'legendgroup': 'Synthetic - Class 1',\n",
       "              'line': {'color': '#EF553B', 'dash': 'solid'},\n",
       "              'marker': {'color': '#EF553B', 'size': 8},\n",
       "              'mode': 'lines+markers',\n",
       "              'name': 'Synthetic - Class 1',\n",
       "              'type': 'scatter',\n",
       "              'uid': '88da6a6f-de8f-42b7-a62d-f62f01df6953',\n",
       "              'visible': False,\n",
       "              'x': array([0. , 0.1, 0.2, 0.3, 0.4, 0.5, 0.6, 0.7, 0.8, 0.9]),\n",
       "              'y': array([0.99871435, 0.99532492, 0.9920134 , 0.98959794, 0.99088359, 0.98987066,\n",
       "                          0.98264376, 0.98301387, 0.93665264, 0.88242169])},\n",
       "             {'fill': 'toself',\n",
       "              'fillcolor': 'rgba(239,85,59,0.15)',\n",
       "              'hoverinfo': 'skip',\n",
       "              'hovertemplate': '%{y:.4f}',\n",
       "              'legendgroup': 'Synthetic - Class 1',\n",
       "              'line': {'color': 'rgba(255,255,255,0)'},\n",
       "              'name': 'Synthetic - Class 1',\n",
       "              'showlegend': False,\n",
       "              'type': 'scatter',\n",
       "              'uid': 'f0e8ffb3-c55a-46a1-867d-a34e310644f0',\n",
       "              'visible': False,\n",
       "              'x': array([0. , 0.1, 0.2, 0.3, 0.4, 0.5, 0.6, 0.7, 0.8, 0.9, 0.9, 0.8, 0.7, 0.6,\n",
       "                          0.5, 0.4, 0.3, 0.2, 0.1, 0. ]),\n",
       "              'y': array([0.99871435, 0.99648194, 0.99355905, 0.99069849, 0.99232455, 0.99242478,\n",
       "                          0.98541245, 0.98373012, 0.93780967, 0.88490103, 0.87994236, 0.93549562,\n",
       "                          0.98229762, 0.97987506, 0.98731654, 0.98944263, 0.98849739, 0.99046775,\n",
       "                          0.99416789, 0.99871435])},\n",
       "             {'hovertemplate': '%{y:.4f}',\n",
       "              'legendgroup': 'Synthetic - Class 2',\n",
       "              'line': {'color': '#00CC96', 'dash': 'solid'},\n",
       "              'marker': {'color': '#00CC96', 'size': 8},\n",
       "              'mode': 'lines+markers',\n",
       "              'name': 'Synthetic - Class 2',\n",
       "              'type': 'scatter',\n",
       "              'uid': 'caf07ee3-a58c-4681-a406-0c2b15a89704',\n",
       "              'visible': False,\n",
       "              'x': array([0. , 0.1, 0.2, 0.3, 0.4, 0.5, 0.6, 0.7, 0.8, 0.9]),\n",
       "              'y': array([0.99469534, 0.990681  , 0.98805257, 0.98219833, 0.9837037 , 0.98671446,\n",
       "                          0.97729988, 0.96516129, 0.96119474, 0.91436081])},\n",
       "             {'fill': 'toself',\n",
       "              'fillcolor': 'rgba(0,204,150,0.15)',\n",
       "              'hoverinfo': 'skip',\n",
       "              'hovertemplate': '%{y:.4f}',\n",
       "              'legendgroup': 'Synthetic - Class 2',\n",
       "              'line': {'color': 'rgba(255,255,255,0)'},\n",
       "              'name': 'Synthetic - Class 2',\n",
       "              'showlegend': False,\n",
       "              'type': 'scatter',\n",
       "              'uid': '3446426d-b143-4426-ba9d-f1220b278093',\n",
       "              'visible': False,\n",
       "              'x': array([0. , 0.1, 0.2, 0.3, 0.4, 0.5, 0.6, 0.7, 0.8, 0.9, 0.9, 0.8, 0.7, 0.6,\n",
       "                          0.5, 0.4, 0.3, 0.2, 0.1, 0. ]),\n",
       "              'y': array([0.99469534, 0.99088376, 0.98818774, 0.98355002, 0.98581188, 0.98878326,\n",
       "                          0.97868661, 0.96974462, 0.96244643, 0.92301168, 0.90570995, 0.95994305,\n",
       "                          0.96057796, 0.97591315, 0.98464565, 0.98159553, 0.98084663, 0.9879174 ,\n",
       "                          0.99047825, 0.99469534])},\n",
       "             {'hovertemplate': '%{y:.4f}',\n",
       "              'legendgroup': 'Synthetic - Class 3',\n",
       "              'line': {'color': '#AB63FA', 'dash': 'solid'},\n",
       "              'marker': {'color': '#AB63FA', 'size': 8},\n",
       "              'mode': 'lines+markers',\n",
       "              'name': 'Synthetic - Class 3',\n",
       "              'type': 'scatter',\n",
       "              'uid': '13920533-8de5-4c12-b2b1-0359ada4c220',\n",
       "              'visible': False,\n",
       "              'x': array([0. , 0.1, 0.2, 0.3, 0.4, 0.5, 0.6, 0.7, 0.8, 0.9]),\n",
       "              'y': array([0.99885305, 0.99727599, 0.99737157, 0.99746714, 0.99397849, 0.98905615,\n",
       "                          0.96996416, 0.9753405 , 0.96358423, 0.9288411 ])},\n",
       "             {'fill': 'toself',\n",
       "              'fillcolor': 'rgba(171,99,250,0.15)',\n",
       "              'hoverinfo': 'skip',\n",
       "              'hovertemplate': '%{y:.4f}',\n",
       "              'legendgroup': 'Synthetic - Class 3',\n",
       "              'line': {'color': 'rgba(255,255,255,0)'},\n",
       "              'name': 'Synthetic - Class 3',\n",
       "              'showlegend': False,\n",
       "              'type': 'scatter',\n",
       "              'uid': '0008bdc7-57d4-4267-9f58-6dfcc61db230',\n",
       "              'visible': False,\n",
       "              'x': array([0. , 0.1, 0.2, 0.3, 0.4, 0.5, 0.6, 0.7, 0.8, 0.9, 0.9, 0.8, 0.7, 0.6,\n",
       "                          0.5, 0.4, 0.3, 0.2, 0.1, 0. ]),\n",
       "              'y': array([0.99885305, 0.99849251, 0.99823443, 0.99800782, 0.99643118, 0.99140126,\n",
       "                          0.97619233, 0.97817967, 0.96839227, 0.93904642, 0.91863578, 0.95877619,\n",
       "                          0.97250133, 0.96373598, 0.98671105, 0.99152581, 0.99692647, 0.9965087 ,\n",
       "                          0.99605946, 0.99885305])},\n",
       "             {'hovertemplate': '%{y:.4f}',\n",
       "              'legendgroup': 'PenDigits - Class 0',\n",
       "              'line': {'color': '#636EFA', 'dash': 'solid'},\n",
       "              'marker': {'color': '#636EFA', 'size': 8},\n",
       "              'mode': 'lines+markers',\n",
       "              'name': 'PenDigits - Class 0',\n",
       "              'type': 'scatter',\n",
       "              'uid': '3a873f67-8048-4e71-9cb4-9afc70ba9666',\n",
       "              'visible': False,\n",
       "              'x': array([0. , 0.1, 0.2, 0.3, 0.4, 0.5, 0.6, 0.7, 0.8, 0.9]),\n",
       "              'y': array([0.99935238, 0.99935238, 0.99927505, 0.99917604, 0.99968629, 0.99891067,\n",
       "                          0.99891067, 0.99853457, 0.99904043, 0.99983919])},\n",
       "             {'fill': 'toself',\n",
       "              'fillcolor': 'rgba(99,110,250,0.15)',\n",
       "              'hoverinfo': 'skip',\n",
       "              'hovertemplate': '%{y:.4f}',\n",
       "              'legendgroup': 'PenDigits - Class 0',\n",
       "              'line': {'color': 'rgba(255,255,255,0)'},\n",
       "              'name': 'PenDigits - Class 0',\n",
       "              'showlegend': False,\n",
       "              'type': 'scatter',\n",
       "              'uid': '9ec6cc8e-6673-466a-84bf-d41e2a8992bc',\n",
       "              'visible': False,\n",
       "              'x': array([0. , 0.1, 0.2, 0.3, 0.4, 0.5, 0.6, 0.7, 0.8, 0.9, 0.9, 0.8, 0.7, 0.6,\n",
       "                          0.5, 0.4, 0.3, 0.2, 0.1, 0. ]),\n",
       "              'y': array([0.99935238, 0.99935238, 0.99927505, 0.99918223, 0.99969251, 0.99896269,\n",
       "                          0.99896269, 0.99877276, 0.99906404, 0.99983919, 0.99983919, 0.99901681,\n",
       "                          0.99829638, 0.99885864, 0.99885864, 0.99968008, 0.99916986, 0.99927505,\n",
       "                          0.99935238, 0.99935238])},\n",
       "             {'hovertemplate': '%{y:.4f}',\n",
       "              'legendgroup': 'PenDigits - Class 1',\n",
       "              'line': {'color': '#EF553B', 'dash': 'solid'},\n",
       "              'marker': {'color': '#EF553B', 'size': 8},\n",
       "              'mode': 'lines+markers',\n",
       "              'name': 'PenDigits - Class 1',\n",
       "              'type': 'scatter',\n",
       "              'uid': 'dd2ec799-b35c-4495-98a0-b31a8a9778b9',\n",
       "              'visible': False,\n",
       "              'x': array([0. , 0.1, 0.2, 0.3, 0.4, 0.5, 0.6, 0.7, 0.8, 0.9]),\n",
       "              'y': array([0.99856326, 0.99856326, 0.99893494, 0.99870381, 0.99833271, 0.99838998,\n",
       "                          0.99838998, 0.99913889, 0.9981536 , 0.99634372])},\n",
       "             {'fill': 'toself',\n",
       "              'fillcolor': 'rgba(239,85,59,0.15)',\n",
       "              'hoverinfo': 'skip',\n",
       "              'hovertemplate': '%{y:.4f}',\n",
       "              'legendgroup': 'PenDigits - Class 1',\n",
       "              'line': {'color': 'rgba(255,255,255,0)'},\n",
       "              'name': 'PenDigits - Class 1',\n",
       "              'showlegend': False,\n",
       "              'type': 'scatter',\n",
       "              'uid': '7cb596d5-da4c-4cfd-a9b4-b349053954c5',\n",
       "              'visible': False,\n",
       "              'x': array([0. , 0.1, 0.2, 0.3, 0.4, 0.5, 0.6, 0.7, 0.8, 0.9, 0.9, 0.8, 0.7, 0.6,\n",
       "                          0.5, 0.4, 0.3, 0.2, 0.1, 0. ]),\n",
       "              'y': array([0.99856326, 0.99856326, 0.99893494, 0.99890546, 0.99850627, 0.99852595,\n",
       "                          0.99852595, 0.99917649, 0.99835236, 0.99634372, 0.99634372, 0.99795483,\n",
       "                          0.99910129, 0.99825402, 0.99825402, 0.99815916, 0.99850215, 0.99893494,\n",
       "                          0.99856326, 0.99856326])},\n",
       "             {'hovertemplate': '%{y:.4f}',\n",
       "              'legendgroup': 'PenDigits - Class 2',\n",
       "              'line': {'color': '#00CC96', 'dash': 'solid'},\n",
       "              'marker': {'color': '#00CC96', 'size': 8},\n",
       "              'mode': 'lines+markers',\n",
       "              'name': 'PenDigits - Class 2',\n",
       "              'type': 'scatter',\n",
       "              'uid': 'b8753adf-29e9-44e4-9fde-5e7135a68355',\n",
       "              'visible': False,\n",
       "              'x': array([0. , 0.1, 0.2, 0.3, 0.4, 0.5, 0.6, 0.7, 0.8, 0.9]),\n",
       "              'y': array([0.99985974, 0.99985974, 0.9999062 , 0.99989569, 0.99984367, 0.99976595,\n",
       "                          0.99976595, 0.99971686, 0.99950326, 0.99776205])},\n",
       "             {'fill': 'toself',\n",
       "              'fillcolor': 'rgba(0,204,150,0.15)',\n",
       "              'hoverinfo': 'skip',\n",
       "              'hovertemplate': '%{y:.4f}',\n",
       "              'legendgroup': 'PenDigits - Class 2',\n",
       "              'line': {'color': 'rgba(255,255,255,0)'},\n",
       "              'name': 'PenDigits - Class 2',\n",
       "              'showlegend': False,\n",
       "              'type': 'scatter',\n",
       "              'uid': '48c0b424-b5ad-432d-985f-0fe323ff4791',\n",
       "              'visible': False,\n",
       "              'x': array([0. , 0.1, 0.2, 0.3, 0.4, 0.5, 0.6, 0.7, 0.8, 0.9, 0.9, 0.8, 0.7, 0.6,\n",
       "                          0.5, 0.4, 0.3, 0.2, 0.1, 0. ]),\n",
       "              'y': array([0.99985974, 0.99985974, 0.9999062 , 0.99993103, 0.99989409, 0.99976595,\n",
       "                          0.99976595, 0.99971686, 0.99951773, 0.99776205, 0.99776205, 0.9994888 ,\n",
       "                          0.99971686, 0.99976595, 0.99976595, 0.99979326, 0.99986034, 0.9999062 ,\n",
       "                          0.99985974, 0.99985974])},\n",
       "             {'hovertemplate': '%{y:.4f}',\n",
       "              'legendgroup': 'PenDigits - Class 3',\n",
       "              'line': {'color': '#AB63FA', 'dash': 'solid'},\n",
       "              'marker': {'color': '#AB63FA', 'size': 8},\n",
       "              'mode': 'lines+markers',\n",
       "              'name': 'PenDigits - Class 3',\n",
       "              'type': 'scatter',\n",
       "              'uid': '9231afe4-2dde-42c1-88f5-d7243da51dcb',\n",
       "              'visible': False,\n",
       "              'x': array([0. , 0.1, 0.2, 0.3, 0.4, 0.5, 0.6, 0.7, 0.8, 0.9]),\n",
       "              'y': array([0.99751419, 0.99751419, 0.99715935, 0.99701283, 0.9967405 , 0.99634643,\n",
       "                          0.99634643, 0.99670787, 0.99673454, 0.99682991])},\n",
       "             {'fill': 'toself',\n",
       "              'fillcolor': 'rgba(171,99,250,0.15)',\n",
       "              'hoverinfo': 'skip',\n",
       "              'hovertemplate': '%{y:.4f}',\n",
       "              'legendgroup': 'PenDigits - Class 3',\n",
       "              'line': {'color': 'rgba(255,255,255,0)'},\n",
       "              'name': 'PenDigits - Class 3',\n",
       "              'showlegend': False,\n",
       "              'type': 'scatter',\n",
       "              'uid': '23d7a9b0-e021-4c19-bed4-50ecfd76724a',\n",
       "              'visible': False,\n",
       "              'x': array([0. , 0.1, 0.2, 0.3, 0.4, 0.5, 0.6, 0.7, 0.8, 0.9, 0.9, 0.8, 0.7, 0.6,\n",
       "                          0.5, 0.4, 0.3, 0.2, 0.1, 0. ]),\n",
       "              'y': array([0.99751419, 0.99751419, 0.99715935, 0.9970432 , 0.99674449, 0.99635768,\n",
       "                          0.99635768, 0.99674336, 0.99686853, 0.99682991, 0.99682991, 0.99660054,\n",
       "                          0.99667237, 0.99633518, 0.99633518, 0.9967365 , 0.99698246, 0.99715935,\n",
       "                          0.99751419, 0.99751419])},\n",
       "             {'hovertemplate': '%{y:.4f}',\n",
       "              'legendgroup': 'PenDigits - Class 4',\n",
       "              'line': {'color': '#FFA15A', 'dash': 'solid'},\n",
       "              'marker': {'color': '#FFA15A', 'size': 8},\n",
       "              'mode': 'lines+markers',\n",
       "              'name': 'PenDigits - Class 4',\n",
       "              'type': 'scatter',\n",
       "              'uid': 'c7fcb8a2-a792-498e-b2fc-4c4134cfc133',\n",
       "              'visible': False,\n",
       "              'x': array([0. , 0.1, 0.2, 0.3, 0.4, 0.5, 0.6, 0.7, 0.8, 0.9]),\n",
       "              'y': array([0.99992987, 0.99992987, 0.99990971, 0.99991672, 0.99986763, 0.9998016 ,\n",
       "                          0.9998016 , 0.99979634, 0.99985536, 0.99733164])},\n",
       "             {'fill': 'toself',\n",
       "              'fillcolor': 'rgba(255,161,90,0.15)',\n",
       "              'hoverinfo': 'skip',\n",
       "              'hovertemplate': '%{y:.4f}',\n",
       "              'legendgroup': 'PenDigits - Class 4',\n",
       "              'line': {'color': 'rgba(255,255,255,0)'},\n",
       "              'name': 'PenDigits - Class 4',\n",
       "              'showlegend': False,\n",
       "              'type': 'scatter',\n",
       "              'uid': 'b9dab2f2-0bbe-42fa-848e-733ece1dd4a2',\n",
       "              'visible': False,\n",
       "              'x': array([0. , 0.1, 0.2, 0.3, 0.4, 0.5, 0.6, 0.7, 0.8, 0.9, 0.9, 0.8, 0.7, 0.6,\n",
       "                          0.5, 0.4, 0.3, 0.2, 0.1, 0. ]),\n",
       "              'y': array([0.99992987, 0.99992987, 0.99990971, 0.99992755, 0.99986763, 0.99985641,\n",
       "                          0.99985641, 0.99980419, 0.9998566 , 0.99733164, 0.99733164, 0.99985412,\n",
       "                          0.99978849, 0.99974679, 0.99974679, 0.99986763, 0.99990589, 0.99990971,\n",
       "                          0.99992987, 0.99992987])},\n",
       "             {'hovertemplate': '%{y:.4f}',\n",
       "              'legendgroup': 'PenDigits - Class 5',\n",
       "              'line': {'color': '#19D3F3', 'dash': 'solid'},\n",
       "              'marker': {'color': '#19D3F3', 'size': 8},\n",
       "              'mode': 'lines+markers',\n",
       "              'name': 'PenDigits - Class 5',\n",
       "              'type': 'scatter',\n",
       "              'uid': '792d24dc-e325-475b-996c-57780521f838',\n",
       "              'visible': False,\n",
       "              'x': array([0. , 0.1, 0.2, 0.3, 0.4, 0.5, 0.6, 0.7, 0.8, 0.9]),\n",
       "              'y': array([0.99983484, 0.99983484, 0.99986221, 0.99988014, 0.9999245 , 0.9998383 ,\n",
       "                          0.9998383 , 0.99984743, 0.99968793, 0.99705645])},\n",
       "             {'fill': 'toself',\n",
       "              'fillcolor': 'rgba(25,211,243,0.15)',\n",
       "              'hoverinfo': 'skip',\n",
       "              'hovertemplate': '%{y:.4f}',\n",
       "              'legendgroup': 'PenDigits - Class 5',\n",
       "              'line': {'color': 'rgba(255,255,255,0)'},\n",
       "              'name': 'PenDigits - Class 5',\n",
       "              'showlegend': False,\n",
       "              'type': 'scatter',\n",
       "              'uid': '269427bc-1752-4950-ba08-02c4304a2801',\n",
       "              'visible': False,\n",
       "              'x': array([0. , 0.1, 0.2, 0.3, 0.4, 0.5, 0.6, 0.7, 0.8, 0.9, 0.9, 0.8, 0.7, 0.6,\n",
       "                          0.5, 0.4, 0.3, 0.2, 0.1, 0. ]),\n",
       "              'y': array([0.99983484, 0.99983484, 0.99986221, 0.99988014, 0.9999245 , 0.99993028,\n",
       "                          0.99993028, 0.9999017 , 0.99969906, 0.99705645, 0.99705645, 0.99967681,\n",
       "                          0.99979315, 0.99974633, 0.99974633, 0.9999245 , 0.99988014, 0.99986221,\n",
       "                          0.99983484, 0.99983484])},\n",
       "             {'hovertemplate': '%{y:.4f}',\n",
       "              'legendgroup': 'PenDigits - Class 6',\n",
       "              'line': {'color': '#FF6692', 'dash': 'solid'},\n",
       "              'marker': {'color': '#FF6692', 'size': 8},\n",
       "              'mode': 'lines+markers',\n",
       "              'name': 'PenDigits - Class 6',\n",
       "              'type': 'scatter',\n",
       "              'uid': '8312e6bb-b9dd-44bb-a5be-7fe4e66469a6',\n",
       "              'visible': False,\n",
       "              'x': array([0. , 0.1, 0.2, 0.3, 0.4, 0.5, 0.6, 0.7, 0.8, 0.9]),\n",
       "              'y': array([0.99998118, 0.99998118, 0.99999718, 0.99999812, 0.99997741, 0.99992031,\n",
       "                          0.99992031, 0.99988988, 0.99990274, 0.99914065])},\n",
       "             {'fill': 'toself',\n",
       "              'fillcolor': 'rgba(255,102,146,0.15)',\n",
       "              'hoverinfo': 'skip',\n",
       "              'hovertemplate': '%{y:.4f}',\n",
       "              'legendgroup': 'PenDigits - Class 6',\n",
       "              'line': {'color': 'rgba(255,255,255,0)'},\n",
       "              'name': 'PenDigits - Class 6',\n",
       "              'showlegend': False,\n",
       "              'type': 'scatter',\n",
       "              'uid': '1e4d40e6-884f-4547-b77a-4e6d0f9a40e0',\n",
       "              'visible': False,\n",
       "              'x': array([0. , 0.1, 0.2, 0.3, 0.4, 0.5, 0.6, 0.7, 0.8, 0.9, 0.9, 0.8, 0.7, 0.6,\n",
       "                          0.5, 0.4, 0.3, 0.2, 0.1, 0. ]),\n",
       "              'y': array([0.99998118, 0.99998118, 0.99999718, 0.99999812, 0.99997741, 0.99992253,\n",
       "                          0.99992253, 0.99988988, 0.99999902, 0.99914065, 0.99914065, 0.99980646,\n",
       "                          0.99988988, 0.99991809, 0.99991809, 0.99997741, 0.99999812, 0.99999718,\n",
       "                          0.99998118, 0.99998118])},\n",
       "             {'hovertemplate': '%{y:.4f}',\n",
       "              'legendgroup': 'PenDigits - Class 7',\n",
       "              'line': {'color': '#B6E880', 'dash': 'solid'},\n",
       "              'marker': {'color': '#B6E880', 'size': 8},\n",
       "              'mode': 'lines+markers',\n",
       "              'name': 'PenDigits - Class 7',\n",
       "              'type': 'scatter',\n",
       "              'uid': 'eac7be45-0615-46bf-b22e-b8062365f742',\n",
       "              'visible': False,\n",
       "              'x': array([0. , 0.1, 0.2, 0.3, 0.4, 0.5, 0.6, 0.7, 0.8, 0.9]),\n",
       "              'y': array([0.99951875, 0.99951875, 0.99933028, 0.99925606, 0.99889666, 0.99924379,\n",
       "                          0.99924379, 0.99981591, 0.99923619, 0.97739959])},\n",
       "             {'fill': 'toself',\n",
       "              'fillcolor': 'rgba(182,232,128,0.15)',\n",
       "              'hoverinfo': 'skip',\n",
       "              'hovertemplate': '%{y:.4f}',\n",
       "              'legendgroup': 'PenDigits - Class 7',\n",
       "              'line': {'color': 'rgba(255,255,255,0)'},\n",
       "              'name': 'PenDigits - Class 7',\n",
       "              'showlegend': False,\n",
       "              'type': 'scatter',\n",
       "              'uid': 'b966317a-bf24-4203-a95d-27cacf1b3b18',\n",
       "              'visible': False,\n",
       "              'x': array([0. , 0.1, 0.2, 0.3, 0.4, 0.5, 0.6, 0.7, 0.8, 0.9, 0.9, 0.8, 0.7, 0.6,\n",
       "                          0.5, 0.4, 0.3, 0.2, 0.1, 0. ]),\n",
       "              'y': array([0.99951875, 0.99951875, 0.99933028, 0.99939787, 0.99890823, 0.99928726,\n",
       "                          0.99928726, 0.99982583, 0.99924404, 0.97739959, 0.97739959, 0.99922834,\n",
       "                          0.999806  , 0.99920032, 0.99920032, 0.99888509, 0.99911425, 0.99933028,\n",
       "                          0.99951875, 0.99951875])},\n",
       "             {'hovertemplate': '%{y:.4f}',\n",
       "              'legendgroup': 'PenDigits - Class 8',\n",
       "              'line': {'color': '#FF97FF', 'dash': 'solid'},\n",
       "              'marker': {'color': '#FF97FF', 'size': 8},\n",
       "              'mode': 'lines+markers',\n",
       "              'name': 'PenDigits - Class 8',\n",
       "              'type': 'scatter',\n",
       "              'uid': '29193773-326c-44f5-b7bd-aa0c4825a702',\n",
       "              'visible': False,\n",
       "              'x': array([0. , 0.1, 0.2, 0.3, 0.4, 0.5, 0.6, 0.7, 0.8, 0.9]),\n",
       "              'y': array([0.99935337, 0.99935337, 0.99935666, 0.99938851, 0.99953785, 0.99933204,\n",
       "                          0.99933204, 0.99883883, 0.99961252, 0.9988611 ])},\n",
       "             {'fill': 'toself',\n",
       "              'fillcolor': 'rgba(255,151,255,0.15)',\n",
       "              'hoverinfo': 'skip',\n",
       "              'hovertemplate': '%{y:.4f}',\n",
       "              'legendgroup': 'PenDigits - Class 8',\n",
       "              'line': {'color': 'rgba(255,255,255,0)'},\n",
       "              'name': 'PenDigits - Class 8',\n",
       "              'showlegend': False,\n",
       "              'type': 'scatter',\n",
       "              'uid': 'f670e80b-dcb2-44cb-9ebd-f4c25978a491',\n",
       "              'visible': False,\n",
       "              'x': array([0. , 0.1, 0.2, 0.3, 0.4, 0.5, 0.6, 0.7, 0.8, 0.9, 0.9, 0.8, 0.7, 0.6,\n",
       "                          0.5, 0.4, 0.3, 0.2, 0.1, 0. ]),\n",
       "              'y': array([0.99935337, 0.99935337, 0.99935666, 0.99939206, 0.99953785, 0.99941545,\n",
       "                          0.99941545, 0.99885436, 0.99964003, 0.9988611 , 0.9988611 , 0.99958501,\n",
       "                          0.9988233 , 0.99924862, 0.99924862, 0.99953785, 0.99938496, 0.99935666,\n",
       "                          0.99935337, 0.99935337])},\n",
       "             {'hovertemplate': '%{y:.4f}',\n",
       "              'legendgroup': 'PenDigits - Class 9',\n",
       "              'line': {'color': '#FECB52', 'dash': 'solid'},\n",
       "              'marker': {'color': '#FECB52', 'size': 8},\n",
       "              'mode': 'lines+markers',\n",
       "              'name': 'PenDigits - Class 9',\n",
       "              'type': 'scatter',\n",
       "              'uid': '821eb9f1-4713-41b2-b7c3-db0a2111c327',\n",
       "              'visible': False,\n",
       "              'x': array([0. , 0.1, 0.2, 0.3, 0.4, 0.5, 0.6, 0.7, 0.8, 0.9]),\n",
       "              'y': array([0.99731748, 0.99731748, 0.99695698, 0.99700247, 0.99683776, 0.99668591,\n",
       "                          0.99668591, 0.99672732, 0.99601731, 0.99056128])},\n",
       "             {'fill': 'toself',\n",
       "              'fillcolor': 'rgba(254,203,82,0.15)',\n",
       "              'hoverinfo': 'skip',\n",
       "              'hovertemplate': '%{y:.4f}',\n",
       "              'legendgroup': 'PenDigits - Class 9',\n",
       "              'line': {'color': 'rgba(255,255,255,0)'},\n",
       "              'name': 'PenDigits - Class 9',\n",
       "              'showlegend': False,\n",
       "              'type': 'scatter',\n",
       "              'uid': '2867760d-d372-44eb-95df-076b4a23e2e6',\n",
       "              'visible': False,\n",
       "              'x': array([0. , 0.1, 0.2, 0.3, 0.4, 0.5, 0.6, 0.7, 0.8, 0.9, 0.9, 0.8, 0.7, 0.6,\n",
       "                          0.5, 0.4, 0.3, 0.2, 0.1, 0. ]),\n",
       "              'y': array([0.99731748, 0.99731748, 0.99695698, 0.99703189, 0.99684131, 0.99670217,\n",
       "                          0.99670217, 0.99690702, 0.9960182 , 0.99056128, 0.99056128, 0.99601643,\n",
       "                          0.99654762, 0.99666964, 0.99666964, 0.99683421, 0.99697306, 0.99695698,\n",
       "                          0.99731748, 0.99731748])},\n",
       "             {'hovertemplate': '%{y:.4f}',\n",
       "              'legendgroup': 'HAR - Class 0',\n",
       "              'line': {'color': '#FFA15A', 'dash': 'solid'},\n",
       "              'marker': {'color': '#FFA15A', 'size': 8},\n",
       "              'mode': 'lines+markers',\n",
       "              'name': 'HAR - Class 0',\n",
       "              'type': 'scatter',\n",
       "              'uid': '1b7f273e-db50-4e61-9651-880d378a7929',\n",
       "              'visible': False,\n",
       "              'x': array([0. , 0.1, 0.2, 0.3, 0.4, 0.5, 0.6, 0.7, 0.8, 0.9]),\n",
       "              'y': array([0.98842145, 0.9897691 , 0.9912171 , 0.99118516, 0.99311519, 0.99429298,\n",
       "                          0.99562185, 0.99591167, 0.99515476, 0.99326942])},\n",
       "             {'fill': 'toself',\n",
       "              'fillcolor': 'rgba(255,161,90,0.15)',\n",
       "              'hoverinfo': 'skip',\n",
       "              'hovertemplate': '%{y:.4f}',\n",
       "              'legendgroup': 'HAR - Class 0',\n",
       "              'line': {'color': 'rgba(255,255,255,0)'},\n",
       "              'name': 'HAR - Class 0',\n",
       "              'showlegend': False,\n",
       "              'type': 'scatter',\n",
       "              'uid': '5392a5ed-a189-4f86-b829-3246361cc14d',\n",
       "              'visible': False,\n",
       "              'x': array([0. , 0.1, 0.2, 0.3, 0.4, 0.5, 0.6, 0.7, 0.8, 0.9, 0.9, 0.8, 0.7, 0.6,\n",
       "                          0.5, 0.4, 0.3, 0.2, 0.1, 0. ]),\n",
       "              'y': array([0.98842145, 0.99081403, 0.99177193, 0.99244905, 0.99453285, 0.99451882,\n",
       "                          0.99600791, 0.99668908, 0.99608393, 0.99443996, 0.99209889, 0.9942256 ,\n",
       "                          0.99513426, 0.99523579, 0.99406714, 0.99169754, 0.98992127, 0.99066227,\n",
       "                          0.98872416, 0.98842145])},\n",
       "             {'hovertemplate': '%{y:.4f}',\n",
       "              'legendgroup': 'HAR - Class 1',\n",
       "              'line': {'color': '#19D3F3', 'dash': 'solid'},\n",
       "              'marker': {'color': '#19D3F3', 'size': 8},\n",
       "              'mode': 'lines+markers',\n",
       "              'name': 'HAR - Class 1',\n",
       "              'type': 'scatter',\n",
       "              'uid': '2db1d3fc-fa94-42a3-ab53-6d2c40ac9a60',\n",
       "              'visible': False,\n",
       "              'x': array([0. , 0.1, 0.2, 0.3, 0.4, 0.5, 0.6, 0.7, 0.8, 0.9]),\n",
       "              'y': array([0.96482195, 0.97262653, 0.97844502, 0.98493406, 0.98683083, 0.99128577,\n",
       "                          0.99359356, 0.99579702, 0.99618832, 0.99547275])},\n",
       "             {'fill': 'toself',\n",
       "              'fillcolor': 'rgba(25,211,243,0.15)',\n",
       "              'hoverinfo': 'skip',\n",
       "              'hovertemplate': '%{y:.4f}',\n",
       "              'legendgroup': 'HAR - Class 1',\n",
       "              'line': {'color': 'rgba(255,255,255,0)'},\n",
       "              'name': 'HAR - Class 1',\n",
       "              'showlegend': False,\n",
       "              'type': 'scatter',\n",
       "              'uid': '18b2103b-cad7-4c70-8c08-d191c4e15bbe',\n",
       "              'visible': False,\n",
       "              'x': array([0. , 0.1, 0.2, 0.3, 0.4, 0.5, 0.6, 0.7, 0.8, 0.9, 0.9, 0.8, 0.7, 0.6,\n",
       "                          0.5, 0.4, 0.3, 0.2, 0.1, 0. ]),\n",
       "              'y': array([0.96482195, 0.97363311, 0.98148988, 0.98712981, 0.98713457, 0.99259197,\n",
       "                          0.99431064, 0.99697043, 0.99681737, 0.99610546, 0.99484003, 0.99555927,\n",
       "                          0.99462361, 0.99287648, 0.98997957, 0.98652709, 0.98273832, 0.97540016,\n",
       "                          0.97161995, 0.96482195])},\n",
       "             {'hovertemplate': '%{y:.4f}',\n",
       "              'legendgroup': 'HAR - Class 2',\n",
       "              'line': {'color': '#FF6692', 'dash': 'solid'},\n",
       "              'marker': {'color': '#FF6692', 'size': 8},\n",
       "              'mode': 'lines+markers',\n",
       "              'name': 'HAR - Class 2',\n",
       "              'type': 'scatter',\n",
       "              'uid': '6dd22148-c000-446e-acc0-22eb3c17d79a',\n",
       "              'visible': False,\n",
       "              'x': array([0. , 0.1, 0.2, 0.3, 0.4, 0.5, 0.6, 0.7, 0.8, 0.9]),\n",
       "              'y': array([0.98985716, 0.9903548 , 0.99024064, 0.99207197, 0.99270545, 0.99370952,\n",
       "                          0.99376339, 0.99399831, 0.99331427, 0.99017578])},\n",
       "             {'fill': 'toself',\n",
       "              'fillcolor': 'rgba(255,102,146,0.15)',\n",
       "              'hoverinfo': 'skip',\n",
       "              'hovertemplate': '%{y:.4f}',\n",
       "              'legendgroup': 'HAR - Class 2',\n",
       "              'line': {'color': 'rgba(255,255,255,0)'},\n",
       "              'name': 'HAR - Class 2',\n",
       "              'showlegend': False,\n",
       "              'type': 'scatter',\n",
       "              'uid': '4d4cdc6e-78e5-4440-b3c9-b9c90075058e',\n",
       "              'visible': False,\n",
       "              'x': array([0. , 0.1, 0.2, 0.3, 0.4, 0.5, 0.6, 0.7, 0.8, 0.9, 0.9, 0.8, 0.7, 0.6,\n",
       "                          0.5, 0.4, 0.3, 0.2, 0.1, 0. ]),\n",
       "              'y': array([0.98985716, 0.99104583, 0.9911835 , 0.99244732, 0.99377631, 0.99432903,\n",
       "                          0.99405967, 0.99421702, 0.99414353, 0.9905796 , 0.98977197, 0.99248501,\n",
       "                          0.9937796 , 0.9934671 , 0.99309002, 0.99163458, 0.99169662, 0.98929778,\n",
       "                          0.98966378, 0.98985716])},\n",
       "             {'hovertemplate': '%{y:.4f}',\n",
       "              'legendgroup': 'HAR - Class 3',\n",
       "              'line': {'color': '#B6E880', 'dash': 'solid'},\n",
       "              'marker': {'color': '#B6E880', 'size': 8},\n",
       "              'mode': 'lines+markers',\n",
       "              'name': 'HAR - Class 3',\n",
       "              'type': 'scatter',\n",
       "              'uid': '20cb50b6-be92-41b0-9a3d-b642c9679285',\n",
       "              'visible': False,\n",
       "              'x': array([0. , 0.1, 0.2, 0.3, 0.4, 0.5, 0.6, 0.7, 0.8, 0.9]),\n",
       "              'y': array([0.93698088, 0.94438561, 0.94908668, 0.95224146, 0.95499045, 0.95844915,\n",
       "                          0.96112448, 0.96569771, 0.96524382, 0.96182672])},\n",
       "             {'fill': 'toself',\n",
       "              'fillcolor': 'rgba(182,232,128,0.15)',\n",
       "              'hoverinfo': 'skip',\n",
       "              'hovertemplate': '%{y:.4f}',\n",
       "              'legendgroup': 'HAR - Class 3',\n",
       "              'line': {'color': 'rgba(255,255,255,0)'},\n",
       "              'name': 'HAR - Class 3',\n",
       "              'showlegend': False,\n",
       "              'type': 'scatter',\n",
       "              'uid': 'f903de8c-1409-43f0-929a-dada5df0a61c',\n",
       "              'visible': False,\n",
       "              'x': array([0. , 0.1, 0.2, 0.3, 0.4, 0.5, 0.6, 0.7, 0.8, 0.9, 0.9, 0.8, 0.7, 0.6,\n",
       "                          0.5, 0.4, 0.3, 0.2, 0.1, 0. ]),\n",
       "              'y': array([0.93698088, 0.945453  , 0.95018628, 0.95322623, 0.9551895 , 0.95933832,\n",
       "                          0.96235054, 0.96692677, 0.96588569, 0.96313313, 0.96052032, 0.96460196,\n",
       "                          0.96446865, 0.95989842, 0.95755998, 0.9547914 , 0.95125669, 0.94798708,\n",
       "                          0.94331822, 0.93698088])},\n",
       "             {'hovertemplate': '%{y:.4f}',\n",
       "              'legendgroup': 'HAR - Class 4',\n",
       "              'line': {'color': '#FF97FF', 'dash': 'solid'},\n",
       "              'marker': {'color': '#FF97FF', 'size': 8},\n",
       "              'mode': 'lines+markers',\n",
       "              'name': 'HAR - Class 4',\n",
       "              'type': 'scatter',\n",
       "              'uid': '8c4ae1ab-c454-42f8-a148-af1e38a90854',\n",
       "              'visible': False,\n",
       "              'x': array([0. , 0.1, 0.2, 0.3, 0.4, 0.5, 0.6, 0.7, 0.8, 0.9]),\n",
       "              'y': array([0.95935569, 0.96139131, 0.96393235, 0.96782977, 0.96956716, 0.97487884,\n",
       "                          0.97773899, 0.98184319, 0.98195554, 0.98237558])},\n",
       "             {'fill': 'toself',\n",
       "              'fillcolor': 'rgba(255,151,255,0.15)',\n",
       "              'hoverinfo': 'skip',\n",
       "              'hovertemplate': '%{y:.4f}',\n",
       "              'legendgroup': 'HAR - Class 4',\n",
       "              'line': {'color': 'rgba(255,255,255,0)'},\n",
       "              'name': 'HAR - Class 4',\n",
       "              'showlegend': False,\n",
       "              'type': 'scatter',\n",
       "              'uid': '709946aa-f6cb-4364-95b2-3f2caa3e430c',\n",
       "              'visible': False,\n",
       "              'x': array([0. , 0.1, 0.2, 0.3, 0.4, 0.5, 0.6, 0.7, 0.8, 0.9, 0.9, 0.8, 0.7, 0.6,\n",
       "                          0.5, 0.4, 0.3, 0.2, 0.1, 0. ]),\n",
       "              'y': array([0.95935569, 0.9623158 , 0.96474991, 0.96864885, 0.97021812, 0.97629677,\n",
       "                          0.97847988, 0.98273474, 0.98230709, 0.9840837 , 0.98066747, 0.98160398,\n",
       "                          0.98095165, 0.9769981 , 0.97346091, 0.96891621, 0.96701069, 0.96311478,\n",
       "                          0.96046683, 0.95935569])},\n",
       "             {'hovertemplate': '%{y:.4f}',\n",
       "              'legendgroup': 'HAR - Class 5',\n",
       "              'line': {'color': '#FECB52', 'dash': 'solid'},\n",
       "              'marker': {'color': '#FECB52', 'size': 8},\n",
       "              'mode': 'lines+markers',\n",
       "              'name': 'HAR - Class 5',\n",
       "              'type': 'scatter',\n",
       "              'uid': '84ff3e08-dfe4-475f-ae90-d359d31c73ce',\n",
       "              'visible': False,\n",
       "              'x': array([0. , 0.1, 0.2, 0.3, 0.4, 0.5, 0.6, 0.7, 0.8, 0.9]),\n",
       "              'y': array([0.88552586, 0.88834929, 0.89459229, 0.90022163, 0.90338454, 0.907741  ,\n",
       "                          0.90805278, 0.91099675, 0.91695733, 0.93995882])},\n",
       "             {'fill': 'toself',\n",
       "              'fillcolor': 'rgba(254,203,82,0.15)',\n",
       "              'hoverinfo': 'skip',\n",
       "              'hovertemplate': '%{y:.4f}',\n",
       "              'legendgroup': 'HAR - Class 5',\n",
       "              'line': {'color': 'rgba(255,255,255,0)'},\n",
       "              'name': 'HAR - Class 5',\n",
       "              'showlegend': False,\n",
       "              'type': 'scatter',\n",
       "              'uid': '308481dd-1260-4a45-86bd-5457b2a5854d',\n",
       "              'visible': False,\n",
       "              'x': array([0. , 0.1, 0.2, 0.3, 0.4, 0.5, 0.6, 0.7, 0.8, 0.9, 0.9, 0.8, 0.7, 0.6,\n",
       "                          0.5, 0.4, 0.3, 0.2, 0.1, 0. ]),\n",
       "              'y': array([0.88552586, 0.88834929, 0.89542978, 0.90074093, 0.90338675, 0.9081812 ,\n",
       "                          0.9080712 , 0.91103129, 0.91739021, 0.94064863, 0.939269  , 0.91652445,\n",
       "                          0.91096221, 0.90803436, 0.9073008 , 0.90338232, 0.89970234, 0.8937548 ,\n",
       "                          0.88834929, 0.88552586])}],\n",
       "    'layout': {'hovermode': 'x',\n",
       "               'margin': {'b': 20, 'l': 10, 'r': 10, 't': 20},\n",
       "               'template': '...',\n",
       "               'xaxis': {'gridcolor': 'lightgray',\n",
       "                         'gridwidth': 1,\n",
       "                         'showgrid': True,\n",
       "                         'tickmode': 'array',\n",
       "                         'tickvals': array([0. , 0.1, 0.2, 0.3, 0.4, 0.5, 0.6, 0.7, 0.8, 0.9]),\n",
       "                         'title': {'text': 'Masked Percentage'}},\n",
       "               'yaxis': {'gridcolor': 'lightgray', 'gridwidth': 1, 'showgrid': True, 'title': {'text': 'Metric'}}}\n",
       "})"
      ]
     },
     "execution_count": 9,
     "metadata": {},
     "output_type": "execute_result"
    }
   ],
   "source": [
    "import plotly.graph_objects as go\n",
    "\n",
    "fig = plot_masking_result(\n",
    "    masked_percentages,\n",
    "    *[\n",
    "        (f\"{dataset} - Class {i}\", metric)\n",
    "        for dataset, results in auc_ovr_results.items()\n",
    "        for i, metric in enumerate(np.transpose(results, (2, 0, 1)))\n",
    "    ],\n",
    ")\n",
    "fig = go.FigureWidget(fig)\n",
    "\n",
    "\n",
    "import ipywidgets as widgets\n",
    "\n",
    "@widgets.interact(dataset=list(auc_ovr_results.keys()))\n",
    "def plot_dataset(dataset):\n",
    "    with fig.batch_update():\n",
    "        for trace in fig.data:\n",
    "            trace.visible = dataset in trace.name\n",
    "\n",
    "fig"
   ]
  }
 ],
 "metadata": {
  "kernelspec": {
   "display_name": "timeseries",
   "language": "python",
   "name": "python3"
  },
  "language_info": {
   "codemirror_mode": {
    "name": "ipython",
    "version": 3
   },
   "file_extension": ".py",
   "mimetype": "text/x-python",
   "name": "python",
   "nbconvert_exporter": "python",
   "pygments_lexer": "ipython3",
   "version": "3.9.21"
  }
 },
 "nbformat": 4,
 "nbformat_minor": 4
}
