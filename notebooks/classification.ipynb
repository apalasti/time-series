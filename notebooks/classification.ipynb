{
 "cells": [
  {
   "cell_type": "code",
   "execution_count": 1,
   "metadata": {},
   "outputs": [],
   "source": [
    "import sys\n",
    "from pathlib import Path\n",
    "\n",
    "import torch\n",
    "import numpy as np\n",
    "import pandas as pd\n",
    "import plotly.graph_objects as go\n",
    "\n",
    "sys.path.append(\"../\")\n",
    "from src.utils import imbalance_ratio, plot_classification_dataset"
   ]
  },
  {
   "cell_type": "code",
   "execution_count": 2,
   "metadata": {},
   "outputs": [],
   "source": [
    "DATASET_DIR = Path(\"../datasets\")\n",
    "CLASSIFICATION_DIR = DATASET_DIR / \"classification\""
   ]
  },
  {
   "cell_type": "code",
   "execution_count": 3,
   "metadata": {},
   "outputs": [
    {
     "data": {
      "text/plain": [
       "{'PenDigits': ['train', 'test'],\n",
       " 'WISDM': ['train', 'val', 'test'],\n",
       " 'FingerMovements': ['train', 'test'],\n",
       " 'Epilepsy': ['train', 'val', 'test'],\n",
       " 'HAR': ['train', 'val', 'test']}"
      ]
     },
     "execution_count": 3,
     "metadata": {},
     "output_type": "execute_result"
    }
   ],
   "source": [
    "datasets = {\n",
    "    dataset_path.name: {\n",
    "        split_path.stem: torch.load(split_path, map_location=\"cpu\")\n",
    "        for split_path in dataset_path.glob(\"*.pt\")\n",
    "    }\n",
    "    for dataset_path in CLASSIFICATION_DIR.iterdir()\n",
    "    if dataset_path.is_dir()\n",
    "}\n",
    "\n",
    "{dataset: list(datasets[dataset]) for dataset in datasets.keys()}"
   ]
  },
  {
   "cell_type": "code",
   "execution_count": 4,
   "metadata": {},
   "outputs": [
    {
     "data": {
      "text/plain": [
       "{'PenDigits': ['samples', 'labels'],\n",
       " 'WISDM': ['samples', 'labels'],\n",
       " 'FingerMovements': ['samples', 'labels'],\n",
       " 'Epilepsy': ['samples', 'labels'],\n",
       " 'HAR': ['samples', 'labels']}"
      ]
     },
     "execution_count": 4,
     "metadata": {},
     "output_type": "execute_result"
    }
   ],
   "source": [
    "{dataset: list(datasets[dataset][\"train\"].keys()) for dataset in datasets.keys()}"
   ]
  },
  {
   "cell_type": "code",
   "execution_count": 5,
   "metadata": {},
   "outputs": [
    {
     "data": {
      "application/vnd.plotly.v1+json": {
       "config": {
        "plotlyServerURL": "https://plot.ly"
       },
       "data": [
        {
         "hoverinfo": "text+name",
         "name": "Class 0",
         "orientation": "h",
         "text": [
          "10.4%"
         ],
         "type": "bar",
         "x": [
          10.408327102661133
         ],
         "y": [
          "PenDigits"
         ]
        },
        {
         "hoverinfo": "text+name",
         "name": "Class 1",
         "orientation": "h",
         "text": [
          "10.4%"
         ],
         "type": "bar",
         "x": [
          10.394983291625977
         ],
         "y": [
          "PenDigits"
         ]
        },
        {
         "hoverinfo": "text+name",
         "name": "Class 2",
         "orientation": "h",
         "text": [
          "10.4%"
         ],
         "type": "bar",
         "x": [
          10.408327102661133
         ],
         "y": [
          "PenDigits"
         ]
        },
        {
         "hoverinfo": "text+name",
         "name": "Class 3",
         "orientation": "h",
         "text": [
          "9.6%"
         ],
         "type": "bar",
         "x": [
          9.594342231750488
         ],
         "y": [
          "PenDigits"
         ]
        },
        {
         "hoverinfo": "text+name",
         "name": "Class 4",
         "orientation": "h",
         "text": [
          "10.4%"
         ],
         "type": "bar",
         "x": [
          10.408327102661133
         ],
         "y": [
          "PenDigits"
         ]
        },
        {
         "hoverinfo": "text+name",
         "name": "Class 5",
         "orientation": "h",
         "text": [
          "9.6%"
         ],
         "type": "bar",
         "x": [
          9.607686042785645
         ],
         "y": [
          "PenDigits"
         ]
        },
        {
         "hoverinfo": "text+name",
         "name": "Class 6",
         "orientation": "h",
         "text": [
          "9.6%"
         ],
         "type": "bar",
         "x": [
          9.607686042785645
         ],
         "y": [
          "PenDigits"
         ]
        },
        {
         "hoverinfo": "text+name",
         "name": "Class 7",
         "orientation": "h",
         "text": [
          "10.4%"
         ],
         "type": "bar",
         "x": [
          10.38163948059082
         ],
         "y": [
          "PenDigits"
         ]
        },
        {
         "hoverinfo": "text+name",
         "name": "Class 8",
         "orientation": "h",
         "text": [
          "9.6%"
         ],
         "type": "bar",
         "x": [
          9.594342231750488
         ],
         "y": [
          "PenDigits"
         ]
        },
        {
         "hoverinfo": "text+name",
         "name": "Class 9",
         "orientation": "h",
         "text": [
          "9.6%"
         ],
         "type": "bar",
         "x": [
          9.594342231750488
         ],
         "y": [
          "PenDigits"
         ]
        },
        {
         "hoverinfo": "text+name",
         "name": "Class 0",
         "orientation": "h",
         "text": [
          "39.2%"
         ],
         "type": "bar",
         "x": [
          39.243408203125
         ],
         "y": [
          "WISDM"
         ]
        },
        {
         "hoverinfo": "text+name",
         "name": "Class 1",
         "orientation": "h",
         "text": [
          "31.7%"
         ],
         "type": "bar",
         "x": [
          31.71570587158203
         ],
         "y": [
          "WISDM"
         ]
        },
        {
         "hoverinfo": "text+name",
         "name": "Class 2",
         "orientation": "h",
         "text": [
          "5.8%"
         ],
         "type": "bar",
         "x": [
          5.8081769943237305
         ],
         "y": [
          "WISDM"
         ]
        },
        {
         "hoverinfo": "text+name",
         "name": "Class 3",
         "orientation": "h",
         "text": [
          "4.7%"
         ],
         "type": "bar",
         "x": [
          4.6618266105651855
         ],
         "y": [
          "WISDM"
         ]
        },
        {
         "hoverinfo": "text+name",
         "name": "Class 4",
         "orientation": "h",
         "text": [
          "10.8%"
         ],
         "type": "bar",
         "x": [
          10.813908576965332
         ],
         "y": [
          "WISDM"
         ]
        },
        {
         "hoverinfo": "text+name",
         "name": "Class 5",
         "orientation": "h",
         "text": [
          "7.8%"
         ],
         "type": "bar",
         "x": [
          7.756973743438721
         ],
         "y": [
          "WISDM"
         ]
        },
        {
         "hoverinfo": "text+name",
         "name": "Class 0",
         "orientation": "h",
         "text": [
          "50.3%"
         ],
         "type": "bar",
         "x": [
          50.31645202636719
         ],
         "y": [
          "FingerMovements"
         ]
        },
        {
         "hoverinfo": "text+name",
         "name": "Class 1",
         "orientation": "h",
         "text": [
          "49.7%"
         ],
         "type": "bar",
         "x": [
          49.68354415893555
         ],
         "y": [
          "FingerMovements"
         ]
        },
        {
         "hoverinfo": "text+name",
         "name": "Class 0",
         "orientation": "h",
         "text": [
          "19.8%"
         ],
         "type": "bar",
         "x": [
          19.782608032226562
         ],
         "y": [
          "Epilepsy"
         ]
        },
        {
         "hoverinfo": "text+name",
         "name": "Class 1",
         "orientation": "h",
         "text": [
          "80.2%"
         ],
         "type": "bar",
         "x": [
          80.21739196777344
         ],
         "y": [
          "Epilepsy"
         ]
        },
        {
         "hoverinfo": "text+name",
         "name": "Class 0",
         "orientation": "h",
         "text": [
          "16.6%"
         ],
         "type": "bar",
         "x": [
          16.64682960510254
         ],
         "y": [
          "HAR"
         ]
        },
        {
         "hoverinfo": "text+name",
         "name": "Class 1",
         "orientation": "h",
         "text": [
          "14.8%"
         ],
         "type": "bar",
         "x": [
          14.844414710998535
         ],
         "y": [
          "HAR"
         ]
        },
        {
         "hoverinfo": "text+name",
         "name": "Class 2",
         "orientation": "h",
         "text": [
          "13.3%"
         ],
         "type": "bar",
         "x": [
          13.26305103302002
         ],
         "y": [
          "HAR"
         ]
        },
        {
         "hoverinfo": "text+name",
         "name": "Class 3",
         "orientation": "h",
         "text": [
          "17.4%"
         ],
         "type": "bar",
         "x": [
          17.412004470825195
         ],
         "y": [
          "HAR"
         ]
        },
        {
         "hoverinfo": "text+name",
         "name": "Class 4",
         "orientation": "h",
         "text": [
          "18.7%"
         ],
         "type": "bar",
         "x": [
          18.6702938079834
         ],
         "y": [
          "HAR"
         ]
        },
        {
         "hoverinfo": "text+name",
         "name": "Class 5",
         "orientation": "h",
         "text": [
          "19.2%"
         ],
         "type": "bar",
         "x": [
          19.163408279418945
         ],
         "y": [
          "HAR"
         ]
        }
       ],
       "layout": {
        "barmode": "stack",
        "showlegend": false,
        "template": {
         "data": {
          "bar": [
           {
            "error_x": {
             "color": "#2a3f5f"
            },
            "error_y": {
             "color": "#2a3f5f"
            },
            "marker": {
             "line": {
              "color": "#E5ECF6",
              "width": 0.5
             },
             "pattern": {
              "fillmode": "overlay",
              "size": 10,
              "solidity": 0.2
             }
            },
            "type": "bar"
           }
          ],
          "barpolar": [
           {
            "marker": {
             "line": {
              "color": "#E5ECF6",
              "width": 0.5
             },
             "pattern": {
              "fillmode": "overlay",
              "size": 10,
              "solidity": 0.2
             }
            },
            "type": "barpolar"
           }
          ],
          "carpet": [
           {
            "aaxis": {
             "endlinecolor": "#2a3f5f",
             "gridcolor": "white",
             "linecolor": "white",
             "minorgridcolor": "white",
             "startlinecolor": "#2a3f5f"
            },
            "baxis": {
             "endlinecolor": "#2a3f5f",
             "gridcolor": "white",
             "linecolor": "white",
             "minorgridcolor": "white",
             "startlinecolor": "#2a3f5f"
            },
            "type": "carpet"
           }
          ],
          "choropleth": [
           {
            "colorbar": {
             "outlinewidth": 0,
             "ticks": ""
            },
            "type": "choropleth"
           }
          ],
          "contour": [
           {
            "colorbar": {
             "outlinewidth": 0,
             "ticks": ""
            },
            "colorscale": [
             [
              0,
              "#0d0887"
             ],
             [
              0.1111111111111111,
              "#46039f"
             ],
             [
              0.2222222222222222,
              "#7201a8"
             ],
             [
              0.3333333333333333,
              "#9c179e"
             ],
             [
              0.4444444444444444,
              "#bd3786"
             ],
             [
              0.5555555555555556,
              "#d8576b"
             ],
             [
              0.6666666666666666,
              "#ed7953"
             ],
             [
              0.7777777777777778,
              "#fb9f3a"
             ],
             [
              0.8888888888888888,
              "#fdca26"
             ],
             [
              1,
              "#f0f921"
             ]
            ],
            "type": "contour"
           }
          ],
          "contourcarpet": [
           {
            "colorbar": {
             "outlinewidth": 0,
             "ticks": ""
            },
            "type": "contourcarpet"
           }
          ],
          "heatmap": [
           {
            "colorbar": {
             "outlinewidth": 0,
             "ticks": ""
            },
            "colorscale": [
             [
              0,
              "#0d0887"
             ],
             [
              0.1111111111111111,
              "#46039f"
             ],
             [
              0.2222222222222222,
              "#7201a8"
             ],
             [
              0.3333333333333333,
              "#9c179e"
             ],
             [
              0.4444444444444444,
              "#bd3786"
             ],
             [
              0.5555555555555556,
              "#d8576b"
             ],
             [
              0.6666666666666666,
              "#ed7953"
             ],
             [
              0.7777777777777778,
              "#fb9f3a"
             ],
             [
              0.8888888888888888,
              "#fdca26"
             ],
             [
              1,
              "#f0f921"
             ]
            ],
            "type": "heatmap"
           }
          ],
          "histogram": [
           {
            "marker": {
             "pattern": {
              "fillmode": "overlay",
              "size": 10,
              "solidity": 0.2
             }
            },
            "type": "histogram"
           }
          ],
          "histogram2d": [
           {
            "colorbar": {
             "outlinewidth": 0,
             "ticks": ""
            },
            "colorscale": [
             [
              0,
              "#0d0887"
             ],
             [
              0.1111111111111111,
              "#46039f"
             ],
             [
              0.2222222222222222,
              "#7201a8"
             ],
             [
              0.3333333333333333,
              "#9c179e"
             ],
             [
              0.4444444444444444,
              "#bd3786"
             ],
             [
              0.5555555555555556,
              "#d8576b"
             ],
             [
              0.6666666666666666,
              "#ed7953"
             ],
             [
              0.7777777777777778,
              "#fb9f3a"
             ],
             [
              0.8888888888888888,
              "#fdca26"
             ],
             [
              1,
              "#f0f921"
             ]
            ],
            "type": "histogram2d"
           }
          ],
          "histogram2dcontour": [
           {
            "colorbar": {
             "outlinewidth": 0,
             "ticks": ""
            },
            "colorscale": [
             [
              0,
              "#0d0887"
             ],
             [
              0.1111111111111111,
              "#46039f"
             ],
             [
              0.2222222222222222,
              "#7201a8"
             ],
             [
              0.3333333333333333,
              "#9c179e"
             ],
             [
              0.4444444444444444,
              "#bd3786"
             ],
             [
              0.5555555555555556,
              "#d8576b"
             ],
             [
              0.6666666666666666,
              "#ed7953"
             ],
             [
              0.7777777777777778,
              "#fb9f3a"
             ],
             [
              0.8888888888888888,
              "#fdca26"
             ],
             [
              1,
              "#f0f921"
             ]
            ],
            "type": "histogram2dcontour"
           }
          ],
          "mesh3d": [
           {
            "colorbar": {
             "outlinewidth": 0,
             "ticks": ""
            },
            "type": "mesh3d"
           }
          ],
          "parcoords": [
           {
            "line": {
             "colorbar": {
              "outlinewidth": 0,
              "ticks": ""
             }
            },
            "type": "parcoords"
           }
          ],
          "pie": [
           {
            "automargin": true,
            "type": "pie"
           }
          ],
          "scatter": [
           {
            "fillpattern": {
             "fillmode": "overlay",
             "size": 10,
             "solidity": 0.2
            },
            "type": "scatter"
           }
          ],
          "scatter3d": [
           {
            "line": {
             "colorbar": {
              "outlinewidth": 0,
              "ticks": ""
             }
            },
            "marker": {
             "colorbar": {
              "outlinewidth": 0,
              "ticks": ""
             }
            },
            "type": "scatter3d"
           }
          ],
          "scattercarpet": [
           {
            "marker": {
             "colorbar": {
              "outlinewidth": 0,
              "ticks": ""
             }
            },
            "type": "scattercarpet"
           }
          ],
          "scattergeo": [
           {
            "marker": {
             "colorbar": {
              "outlinewidth": 0,
              "ticks": ""
             }
            },
            "type": "scattergeo"
           }
          ],
          "scattergl": [
           {
            "marker": {
             "colorbar": {
              "outlinewidth": 0,
              "ticks": ""
             }
            },
            "type": "scattergl"
           }
          ],
          "scattermap": [
           {
            "marker": {
             "colorbar": {
              "outlinewidth": 0,
              "ticks": ""
             }
            },
            "type": "scattermap"
           }
          ],
          "scattermapbox": [
           {
            "marker": {
             "colorbar": {
              "outlinewidth": 0,
              "ticks": ""
             }
            },
            "type": "scattermapbox"
           }
          ],
          "scatterpolar": [
           {
            "marker": {
             "colorbar": {
              "outlinewidth": 0,
              "ticks": ""
             }
            },
            "type": "scatterpolar"
           }
          ],
          "scatterpolargl": [
           {
            "marker": {
             "colorbar": {
              "outlinewidth": 0,
              "ticks": ""
             }
            },
            "type": "scatterpolargl"
           }
          ],
          "scatterternary": [
           {
            "marker": {
             "colorbar": {
              "outlinewidth": 0,
              "ticks": ""
             }
            },
            "type": "scatterternary"
           }
          ],
          "surface": [
           {
            "colorbar": {
             "outlinewidth": 0,
             "ticks": ""
            },
            "colorscale": [
             [
              0,
              "#0d0887"
             ],
             [
              0.1111111111111111,
              "#46039f"
             ],
             [
              0.2222222222222222,
              "#7201a8"
             ],
             [
              0.3333333333333333,
              "#9c179e"
             ],
             [
              0.4444444444444444,
              "#bd3786"
             ],
             [
              0.5555555555555556,
              "#d8576b"
             ],
             [
              0.6666666666666666,
              "#ed7953"
             ],
             [
              0.7777777777777778,
              "#fb9f3a"
             ],
             [
              0.8888888888888888,
              "#fdca26"
             ],
             [
              1,
              "#f0f921"
             ]
            ],
            "type": "surface"
           }
          ],
          "table": [
           {
            "cells": {
             "fill": {
              "color": "#EBF0F8"
             },
             "line": {
              "color": "white"
             }
            },
            "header": {
             "fill": {
              "color": "#C8D4E3"
             },
             "line": {
              "color": "white"
             }
            },
            "type": "table"
           }
          ]
         },
         "layout": {
          "annotationdefaults": {
           "arrowcolor": "#2a3f5f",
           "arrowhead": 0,
           "arrowwidth": 1
          },
          "autotypenumbers": "strict",
          "coloraxis": {
           "colorbar": {
            "outlinewidth": 0,
            "ticks": ""
           }
          },
          "colorscale": {
           "diverging": [
            [
             0,
             "#8e0152"
            ],
            [
             0.1,
             "#c51b7d"
            ],
            [
             0.2,
             "#de77ae"
            ],
            [
             0.3,
             "#f1b6da"
            ],
            [
             0.4,
             "#fde0ef"
            ],
            [
             0.5,
             "#f7f7f7"
            ],
            [
             0.6,
             "#e6f5d0"
            ],
            [
             0.7,
             "#b8e186"
            ],
            [
             0.8,
             "#7fbc41"
            ],
            [
             0.9,
             "#4d9221"
            ],
            [
             1,
             "#276419"
            ]
           ],
           "sequential": [
            [
             0,
             "#0d0887"
            ],
            [
             0.1111111111111111,
             "#46039f"
            ],
            [
             0.2222222222222222,
             "#7201a8"
            ],
            [
             0.3333333333333333,
             "#9c179e"
            ],
            [
             0.4444444444444444,
             "#bd3786"
            ],
            [
             0.5555555555555556,
             "#d8576b"
            ],
            [
             0.6666666666666666,
             "#ed7953"
            ],
            [
             0.7777777777777778,
             "#fb9f3a"
            ],
            [
             0.8888888888888888,
             "#fdca26"
            ],
            [
             1,
             "#f0f921"
            ]
           ],
           "sequentialminus": [
            [
             0,
             "#0d0887"
            ],
            [
             0.1111111111111111,
             "#46039f"
            ],
            [
             0.2222222222222222,
             "#7201a8"
            ],
            [
             0.3333333333333333,
             "#9c179e"
            ],
            [
             0.4444444444444444,
             "#bd3786"
            ],
            [
             0.5555555555555556,
             "#d8576b"
            ],
            [
             0.6666666666666666,
             "#ed7953"
            ],
            [
             0.7777777777777778,
             "#fb9f3a"
            ],
            [
             0.8888888888888888,
             "#fdca26"
            ],
            [
             1,
             "#f0f921"
            ]
           ]
          },
          "colorway": [
           "#636efa",
           "#EF553B",
           "#00cc96",
           "#ab63fa",
           "#FFA15A",
           "#19d3f3",
           "#FF6692",
           "#B6E880",
           "#FF97FF",
           "#FECB52"
          ],
          "font": {
           "color": "#2a3f5f"
          },
          "geo": {
           "bgcolor": "white",
           "lakecolor": "white",
           "landcolor": "#E5ECF6",
           "showlakes": true,
           "showland": true,
           "subunitcolor": "white"
          },
          "hoverlabel": {
           "align": "left"
          },
          "hovermode": "closest",
          "mapbox": {
           "style": "light"
          },
          "paper_bgcolor": "white",
          "plot_bgcolor": "#E5ECF6",
          "polar": {
           "angularaxis": {
            "gridcolor": "white",
            "linecolor": "white",
            "ticks": ""
           },
           "bgcolor": "#E5ECF6",
           "radialaxis": {
            "gridcolor": "white",
            "linecolor": "white",
            "ticks": ""
           }
          },
          "scene": {
           "xaxis": {
            "backgroundcolor": "#E5ECF6",
            "gridcolor": "white",
            "gridwidth": 2,
            "linecolor": "white",
            "showbackground": true,
            "ticks": "",
            "zerolinecolor": "white"
           },
           "yaxis": {
            "backgroundcolor": "#E5ECF6",
            "gridcolor": "white",
            "gridwidth": 2,
            "linecolor": "white",
            "showbackground": true,
            "ticks": "",
            "zerolinecolor": "white"
           },
           "zaxis": {
            "backgroundcolor": "#E5ECF6",
            "gridcolor": "white",
            "gridwidth": 2,
            "linecolor": "white",
            "showbackground": true,
            "ticks": "",
            "zerolinecolor": "white"
           }
          },
          "shapedefaults": {
           "line": {
            "color": "#2a3f5f"
           }
          },
          "ternary": {
           "aaxis": {
            "gridcolor": "white",
            "linecolor": "white",
            "ticks": ""
           },
           "baxis": {
            "gridcolor": "white",
            "linecolor": "white",
            "ticks": ""
           },
           "bgcolor": "#E5ECF6",
           "caxis": {
            "gridcolor": "white",
            "linecolor": "white",
            "ticks": ""
           }
          },
          "title": {
           "x": 0.05
          },
          "xaxis": {
           "automargin": true,
           "gridcolor": "white",
           "linecolor": "white",
           "ticks": "",
           "title": {
            "standoff": 15
           },
           "zerolinecolor": "white",
           "zerolinewidth": 2
          },
          "yaxis": {
           "automargin": true,
           "gridcolor": "white",
           "linecolor": "white",
           "ticks": "",
           "title": {
            "standoff": 15
           },
           "zerolinecolor": "white",
           "zerolinewidth": 2
          }
         }
        },
        "title": {
         "text": "Class Distribution Across Datasets (Percentage)"
        },
        "xaxis": {
         "title": {
          "text": "Percentage of Samples"
         }
        },
        "yaxis": {
         "title": {
          "text": "Dataset"
         }
        }
       }
      }
     },
     "metadata": {},
     "output_type": "display_data"
    }
   ],
   "source": [
    "fig = go.Figure()\n",
    "\n",
    "for dataset_name in datasets:\n",
    "    labels = datasets[dataset_name][\"train\"][\"labels\"]\n",
    "    unique_classes, class_counts = torch.unique(labels, return_counts=True)\n",
    "    percentages = (class_counts / torch.sum(class_counts) * 100)\n",
    "    \n",
    "    for class_idx, (class_count, percentage) in enumerate(zip(class_counts, percentages)):\n",
    "        fig.add_trace(go.Bar(\n",
    "            y=[dataset_name],\n",
    "            x=[percentage],\n",
    "            name=f\"Class {class_idx}\",\n",
    "            orientation=\"h\",\n",
    "            text=[f\"{percentage:.1f}%\"],\n",
    "            hoverinfo=\"text+name\",\n",
    "        ))\n",
    "\n",
    "fig.update_layout(\n",
    "    title=\"Class Distribution Across Datasets (Percentage)\",\n",
    "    barmode=\"stack\",\n",
    "    xaxis_title=\"Percentage of Samples\",\n",
    "    yaxis_title=\"Dataset\",\n",
    "    showlegend=False\n",
    ")\n",
    "fig.show()"
   ]
  },
  {
   "cell_type": "code",
   "execution_count": 6,
   "metadata": {},
   "outputs": [
    {
     "data": {
      "text/html": [
       "<div>\n",
       "<style scoped>\n",
       "    .dataframe tbody tr th:only-of-type {\n",
       "        vertical-align: middle;\n",
       "    }\n",
       "\n",
       "    .dataframe tbody tr th {\n",
       "        vertical-align: top;\n",
       "    }\n",
       "\n",
       "    .dataframe thead th {\n",
       "        text-align: right;\n",
       "    }\n",
       "</style>\n",
       "<table border=\"1\" class=\"dataframe\">\n",
       "  <thead>\n",
       "    <tr style=\"text-align: right;\">\n",
       "      <th></th>\n",
       "      <th>samples</th>\n",
       "      <th>series_length</th>\n",
       "      <th>variables</th>\n",
       "      <th>num_classes</th>\n",
       "      <th>imbalance_ratio</th>\n",
       "    </tr>\n",
       "  </thead>\n",
       "  <tbody>\n",
       "    <tr>\n",
       "      <th>PenDigits</th>\n",
       "      <td>7494</td>\n",
       "      <td>8</td>\n",
       "      <td>2</td>\n",
       "      <td>10</td>\n",
       "      <td>1.084840</td>\n",
       "    </tr>\n",
       "    <tr>\n",
       "      <th>WISDM</th>\n",
       "      <td>2617</td>\n",
       "      <td>256</td>\n",
       "      <td>3</td>\n",
       "      <td>6</td>\n",
       "      <td>8.418033</td>\n",
       "    </tr>\n",
       "    <tr>\n",
       "      <th>FingerMovements</th>\n",
       "      <td>316</td>\n",
       "      <td>50</td>\n",
       "      <td>28</td>\n",
       "      <td>2</td>\n",
       "      <td>1.012739</td>\n",
       "    </tr>\n",
       "    <tr>\n",
       "      <th>Epilepsy</th>\n",
       "      <td>7360</td>\n",
       "      <td>178</td>\n",
       "      <td>1</td>\n",
       "      <td>2</td>\n",
       "      <td>4.054945</td>\n",
       "    </tr>\n",
       "    <tr>\n",
       "      <th>HAR</th>\n",
       "      <td>5881</td>\n",
       "      <td>128</td>\n",
       "      <td>9</td>\n",
       "      <td>6</td>\n",
       "      <td>1.444872</td>\n",
       "    </tr>\n",
       "  </tbody>\n",
       "</table>\n",
       "</div>"
      ],
      "text/plain": [
       "                 samples  series_length  variables  num_classes  \\\n",
       "PenDigits           7494              8          2           10   \n",
       "WISDM               2617            256          3            6   \n",
       "FingerMovements      316             50         28            2   \n",
       "Epilepsy            7360            178          1            2   \n",
       "HAR                 5881            128          9            6   \n",
       "\n",
       "                 imbalance_ratio  \n",
       "PenDigits               1.084840  \n",
       "WISDM                   8.418033  \n",
       "FingerMovements         1.012739  \n",
       "Epilepsy                4.054945  \n",
       "HAR                     1.444872  "
      ]
     },
     "execution_count": 6,
     "metadata": {},
     "output_type": "execute_result"
    }
   ],
   "source": [
    "df = pd.DataFrame(\n",
    "    [\n",
    "        (\n",
    "            *dataset[\"train\"][\"samples\"].shape,\n",
    "            len(np.unique(dataset[\"train\"][\"labels\"])),\n",
    "            imbalance_ratio(dataset[\"train\"][\"labels\"]),\n",
    "        )\n",
    "        for dataset in datasets.values()\n",
    "    ],\n",
    "    columns=[\"samples\", \"series_length\", \"variables\", \"num_classes\", \"imbalance_ratio\"],\n",
    "    index=datasets.keys(),\n",
    ")\n",
    "\n",
    "df"
   ]
  },
  {
   "cell_type": "code",
   "execution_count": 7,
   "metadata": {},
   "outputs": [
    {
     "data": {
      "application/vnd.plotly.v1+json": {
       "config": {
        "plotlyServerURL": "https://plot.ly"
       },
       "data": [
        {
         "mode": "lines",
         "name": "Var 0",
         "showlegend": false,
         "type": "scatter",
         "x": {
          "bdata": "AAECAwQFBgcICQoLDA0ODxAREhMUFRYXGBkaGxwdHh8gISIjJCUmJygpKissLS4vMDEyMzQ1Njc4OTo7PD0+P0BBQkNERUZHSElKS0xNTk8=",
          "dtype": "i1"
         },
         "xaxis": "x",
         "y": {
          "bdata": "AAA8QgAA2EEAAGRCAADQQQAAAAAAAGBCAADIQgAAIEIAAAAAAADYQQAAKEIAAOhBAABwQQAAFEIAAIpCAADIQgAAAAAAAPhBAACQQgAAyEIAAJhCAABIQgAA4EEAAIBBAAAAAAAA4EAAAKBAAACYQQAArEIAAMhCAACUQgAAhkIAAAAAAABEQgAAyEIAAKJCAABwQgAAIEIAAARCAAA8QgAAyEIAALBCAABEQgAAiEEAAAAAAAAUQgAAkkIAAKBBAAAAAAAAQEAAANBBAACqQgAAyEIAAJJCAACCQgAAhEIAAAAAAAAAQAAAMEEAAHxCAADIQgAAskIAABBCAAAAAAAAUEEAAEBBAACQQgAAYEIAAIBAAAAAAAAAAEIAAMhCAABkQgAAsEEAAAAAAADIQQAAlkIAAMhCAACWQgAA0EE=",
          "dtype": "f4"
         },
         "yaxis": "y"
        },
        {
         "mode": "lines",
         "name": "Var 1",
         "showlegend": false,
         "type": "scatter",
         "x": {
          "bdata": "AAECAwQFBgcICQoLDA0ODxAREhMUFRYXGBkaGxwdHh8gISIjJCUmJygpKissLS4vMDEyMzQ1Njc4OTo7PD0+P0BBQkNERUZHSElKS0xNTk8=",
          "dtype": "i1"
         },
         "xaxis": "x2",
         "y": {
          "bdata": "AADIQgAAokIAABRCAAAAAAAAuEEAAFRCAAC0QgAAxEIAALJCAADIQgAAlkIAADRCAABwQQAAAAAAAABAAADAQAAAZEIAAIhCAAC0QgAAyEIAAJZCAABMQgAAyEEAAAAAAADIQgAAuEIAAIhCAAA0QgAACEIAADRCAAC4QQAAAAAAAIZCAACmQgAAyEIAAKBCAABwQgAAIEIAAKBBAAAAAAAAyEIAAMZCAACUQgAAPEIAAIBBAAAAAAAAgEEAAKBBAADIQgAAkEIAAAxCAAAMQgAAjkIAAMJCAABEQgAAAAAAABxCAAB4QgAAoEAAAAAAAAAsQgAAxkIAAMhCAABkQgAAskIAAEhCAAAYQgAAAAAAAIhBAAB0QgAAvEIAAMhCAADIQgAAkEIAAPhBAAAAAAAAUEEAAEhCAACuQgAAqkI=",
          "dtype": "f4"
         },
         "yaxis": "y2"
        },
        {
         "marker": {
          "color": "rgb(139, 224, 164)"
         },
         "mode": "markers",
         "name": "Class 8",
         "showlegend": true,
         "type": "scatter",
         "x": [
          null
         ],
         "y": [
          null
         ]
        },
        {
         "marker": {
          "color": "rgb(248, 156, 116)"
         },
         "mode": "markers",
         "name": "Class 2",
         "showlegend": true,
         "type": "scatter",
         "x": [
          null
         ],
         "y": [
          null
         ]
        },
        {
         "marker": {
          "color": "rgb(246, 207, 113)"
         },
         "mode": "markers",
         "name": "Class 1",
         "showlegend": true,
         "type": "scatter",
         "x": [
          null
         ],
         "y": [
          null
         ]
        },
        {
         "marker": {
          "color": "rgb(135, 197, 95)"
         },
         "mode": "markers",
         "name": "Class 4",
         "showlegend": true,
         "type": "scatter",
         "x": [
          null
         ],
         "y": [
          null
         ]
        },
        {
         "marker": {
          "color": "rgb(254, 136, 177)"
         },
         "mode": "markers",
         "name": "Class 6",
         "showlegend": true,
         "type": "scatter",
         "x": [
          null
         ],
         "y": [
          null
         ]
        },
        {
         "marker": {
          "color": "rgb(102, 197, 204)"
         },
         "mode": "markers",
         "name": "Class 0",
         "showlegend": true,
         "type": "scatter",
         "x": [
          null
         ],
         "y": [
          null
         ]
        },
        {
         "marker": {
          "color": "rgb(158, 185, 243)"
         },
         "mode": "markers",
         "name": "Class 5",
         "showlegend": true,
         "type": "scatter",
         "x": [
          null
         ],
         "y": [
          null
         ]
        }
       ],
       "layout": {
        "height": 200,
        "legend": {
         "orientation": "h",
         "x": 1,
         "xanchor": "right",
         "y": 1.02,
         "yanchor": "bottom"
        },
        "margin": {
         "b": 30,
         "l": 15,
         "r": 15,
         "t": 30
        },
        "shapes": [
         {
          "fillcolor": "rgb(139, 224, 164)",
          "layer": "below",
          "line": {
           "width": 0
          },
          "name": "Class 8",
          "opacity": 0.4,
          "showlegend": false,
          "type": "rect",
          "x0": 0,
          "x1": 8,
          "xref": "x",
          "y0": 0,
          "y1": 1,
          "yref": "y domain"
         },
         {
          "fillcolor": "rgb(139, 224, 164)",
          "layer": "below",
          "line": {
           "width": 0
          },
          "name": "Class 8",
          "opacity": 0.4,
          "showlegend": false,
          "type": "rect",
          "x0": 0,
          "x1": 8,
          "xref": "x2",
          "y0": 0,
          "y1": 1,
          "yref": "y2 domain"
         },
         {
          "fillcolor": "rgb(248, 156, 116)",
          "layer": "below",
          "line": {
           "width": 0
          },
          "name": "Class 2",
          "opacity": 0.4,
          "showlegend": false,
          "type": "rect",
          "x0": 8,
          "x1": 16,
          "xref": "x",
          "y0": 0,
          "y1": 1,
          "yref": "y domain"
         },
         {
          "fillcolor": "rgb(248, 156, 116)",
          "layer": "below",
          "line": {
           "width": 0
          },
          "name": "Class 2",
          "opacity": 0.4,
          "showlegend": false,
          "type": "rect",
          "x0": 8,
          "x1": 16,
          "xref": "x2",
          "y0": 0,
          "y1": 1,
          "yref": "y2 domain"
         },
         {
          "line": {
           "color": "gray",
           "dash": "dash"
          },
          "type": "line",
          "x0": 8,
          "x1": 8,
          "xref": "x",
          "y0": 0,
          "y1": 1,
          "yref": "y domain"
         },
         {
          "line": {
           "color": "gray",
           "dash": "dash"
          },
          "type": "line",
          "x0": 8,
          "x1": 8,
          "xref": "x2",
          "y0": 0,
          "y1": 1,
          "yref": "y2 domain"
         },
         {
          "fillcolor": "rgb(246, 207, 113)",
          "layer": "below",
          "line": {
           "width": 0
          },
          "name": "Class 1",
          "opacity": 0.4,
          "showlegend": false,
          "type": "rect",
          "x0": 16,
          "x1": 24,
          "xref": "x",
          "y0": 0,
          "y1": 1,
          "yref": "y domain"
         },
         {
          "fillcolor": "rgb(246, 207, 113)",
          "layer": "below",
          "line": {
           "width": 0
          },
          "name": "Class 1",
          "opacity": 0.4,
          "showlegend": false,
          "type": "rect",
          "x0": 16,
          "x1": 24,
          "xref": "x2",
          "y0": 0,
          "y1": 1,
          "yref": "y2 domain"
         },
         {
          "line": {
           "color": "gray",
           "dash": "dash"
          },
          "type": "line",
          "x0": 16,
          "x1": 16,
          "xref": "x",
          "y0": 0,
          "y1": 1,
          "yref": "y domain"
         },
         {
          "line": {
           "color": "gray",
           "dash": "dash"
          },
          "type": "line",
          "x0": 16,
          "x1": 16,
          "xref": "x2",
          "y0": 0,
          "y1": 1,
          "yref": "y2 domain"
         },
         {
          "fillcolor": "rgb(135, 197, 95)",
          "layer": "below",
          "line": {
           "width": 0
          },
          "name": "Class 4",
          "opacity": 0.4,
          "showlegend": false,
          "type": "rect",
          "x0": 24,
          "x1": 32,
          "xref": "x",
          "y0": 0,
          "y1": 1,
          "yref": "y domain"
         },
         {
          "fillcolor": "rgb(135, 197, 95)",
          "layer": "below",
          "line": {
           "width": 0
          },
          "name": "Class 4",
          "opacity": 0.4,
          "showlegend": false,
          "type": "rect",
          "x0": 24,
          "x1": 32,
          "xref": "x2",
          "y0": 0,
          "y1": 1,
          "yref": "y2 domain"
         },
         {
          "line": {
           "color": "gray",
           "dash": "dash"
          },
          "type": "line",
          "x0": 24,
          "x1": 24,
          "xref": "x",
          "y0": 0,
          "y1": 1,
          "yref": "y domain"
         },
         {
          "line": {
           "color": "gray",
           "dash": "dash"
          },
          "type": "line",
          "x0": 24,
          "x1": 24,
          "xref": "x2",
          "y0": 0,
          "y1": 1,
          "yref": "y2 domain"
         },
         {
          "fillcolor": "rgb(246, 207, 113)",
          "layer": "below",
          "line": {
           "width": 0
          },
          "name": "Class 1",
          "opacity": 0.4,
          "showlegend": false,
          "type": "rect",
          "x0": 32,
          "x1": 40,
          "xref": "x",
          "y0": 0,
          "y1": 1,
          "yref": "y domain"
         },
         {
          "fillcolor": "rgb(246, 207, 113)",
          "layer": "below",
          "line": {
           "width": 0
          },
          "name": "Class 1",
          "opacity": 0.4,
          "showlegend": false,
          "type": "rect",
          "x0": 32,
          "x1": 40,
          "xref": "x2",
          "y0": 0,
          "y1": 1,
          "yref": "y2 domain"
         },
         {
          "line": {
           "color": "gray",
           "dash": "dash"
          },
          "type": "line",
          "x0": 32,
          "x1": 32,
          "xref": "x",
          "y0": 0,
          "y1": 1,
          "yref": "y domain"
         },
         {
          "line": {
           "color": "gray",
           "dash": "dash"
          },
          "type": "line",
          "x0": 32,
          "x1": 32,
          "xref": "x2",
          "y0": 0,
          "y1": 1,
          "yref": "y2 domain"
         },
         {
          "fillcolor": "rgb(254, 136, 177)",
          "layer": "below",
          "line": {
           "width": 0
          },
          "name": "Class 6",
          "opacity": 0.4,
          "showlegend": false,
          "type": "rect",
          "x0": 40,
          "x1": 48,
          "xref": "x",
          "y0": 0,
          "y1": 1,
          "yref": "y domain"
         },
         {
          "fillcolor": "rgb(254, 136, 177)",
          "layer": "below",
          "line": {
           "width": 0
          },
          "name": "Class 6",
          "opacity": 0.4,
          "showlegend": false,
          "type": "rect",
          "x0": 40,
          "x1": 48,
          "xref": "x2",
          "y0": 0,
          "y1": 1,
          "yref": "y2 domain"
         },
         {
          "line": {
           "color": "gray",
           "dash": "dash"
          },
          "type": "line",
          "x0": 40,
          "x1": 40,
          "xref": "x",
          "y0": 0,
          "y1": 1,
          "yref": "y domain"
         },
         {
          "line": {
           "color": "gray",
           "dash": "dash"
          },
          "type": "line",
          "x0": 40,
          "x1": 40,
          "xref": "x2",
          "y0": 0,
          "y1": 1,
          "yref": "y2 domain"
         },
         {
          "fillcolor": "rgb(135, 197, 95)",
          "layer": "below",
          "line": {
           "width": 0
          },
          "name": "Class 4",
          "opacity": 0.4,
          "showlegend": false,
          "type": "rect",
          "x0": 48,
          "x1": 56,
          "xref": "x",
          "y0": 0,
          "y1": 1,
          "yref": "y domain"
         },
         {
          "fillcolor": "rgb(135, 197, 95)",
          "layer": "below",
          "line": {
           "width": 0
          },
          "name": "Class 4",
          "opacity": 0.4,
          "showlegend": false,
          "type": "rect",
          "x0": 48,
          "x1": 56,
          "xref": "x2",
          "y0": 0,
          "y1": 1,
          "yref": "y2 domain"
         },
         {
          "line": {
           "color": "gray",
           "dash": "dash"
          },
          "type": "line",
          "x0": 48,
          "x1": 48,
          "xref": "x",
          "y0": 0,
          "y1": 1,
          "yref": "y domain"
         },
         {
          "line": {
           "color": "gray",
           "dash": "dash"
          },
          "type": "line",
          "x0": 48,
          "x1": 48,
          "xref": "x2",
          "y0": 0,
          "y1": 1,
          "yref": "y2 domain"
         },
         {
          "fillcolor": "rgb(102, 197, 204)",
          "layer": "below",
          "line": {
           "width": 0
          },
          "name": "Class 0",
          "opacity": 0.4,
          "showlegend": false,
          "type": "rect",
          "x0": 56,
          "x1": 64,
          "xref": "x",
          "y0": 0,
          "y1": 1,
          "yref": "y domain"
         },
         {
          "fillcolor": "rgb(102, 197, 204)",
          "layer": "below",
          "line": {
           "width": 0
          },
          "name": "Class 0",
          "opacity": 0.4,
          "showlegend": false,
          "type": "rect",
          "x0": 56,
          "x1": 64,
          "xref": "x2",
          "y0": 0,
          "y1": 1,
          "yref": "y2 domain"
         },
         {
          "line": {
           "color": "gray",
           "dash": "dash"
          },
          "type": "line",
          "x0": 56,
          "x1": 56,
          "xref": "x",
          "y0": 0,
          "y1": 1,
          "yref": "y domain"
         },
         {
          "line": {
           "color": "gray",
           "dash": "dash"
          },
          "type": "line",
          "x0": 56,
          "x1": 56,
          "xref": "x2",
          "y0": 0,
          "y1": 1,
          "yref": "y2 domain"
         },
         {
          "fillcolor": "rgb(158, 185, 243)",
          "layer": "below",
          "line": {
           "width": 0
          },
          "name": "Class 5",
          "opacity": 0.4,
          "showlegend": false,
          "type": "rect",
          "x0": 64,
          "x1": 72,
          "xref": "x",
          "y0": 0,
          "y1": 1,
          "yref": "y domain"
         },
         {
          "fillcolor": "rgb(158, 185, 243)",
          "layer": "below",
          "line": {
           "width": 0
          },
          "name": "Class 5",
          "opacity": 0.4,
          "showlegend": false,
          "type": "rect",
          "x0": 64,
          "x1": 72,
          "xref": "x2",
          "y0": 0,
          "y1": 1,
          "yref": "y2 domain"
         },
         {
          "line": {
           "color": "gray",
           "dash": "dash"
          },
          "type": "line",
          "x0": 64,
          "x1": 64,
          "xref": "x",
          "y0": 0,
          "y1": 1,
          "yref": "y domain"
         },
         {
          "line": {
           "color": "gray",
           "dash": "dash"
          },
          "type": "line",
          "x0": 64,
          "x1": 64,
          "xref": "x2",
          "y0": 0,
          "y1": 1,
          "yref": "y2 domain"
         },
         {
          "fillcolor": "rgb(102, 197, 204)",
          "layer": "below",
          "line": {
           "width": 0
          },
          "name": "Class 0",
          "opacity": 0.4,
          "showlegend": false,
          "type": "rect",
          "x0": 72,
          "x1": 80,
          "xref": "x",
          "y0": 0,
          "y1": 1,
          "yref": "y domain"
         },
         {
          "fillcolor": "rgb(102, 197, 204)",
          "layer": "below",
          "line": {
           "width": 0
          },
          "name": "Class 0",
          "opacity": 0.4,
          "showlegend": false,
          "type": "rect",
          "x0": 72,
          "x1": 80,
          "xref": "x2",
          "y0": 0,
          "y1": 1,
          "yref": "y2 domain"
         },
         {
          "line": {
           "color": "gray",
           "dash": "dash"
          },
          "type": "line",
          "x0": 72,
          "x1": 72,
          "xref": "x",
          "y0": 0,
          "y1": 1,
          "yref": "y domain"
         },
         {
          "line": {
           "color": "gray",
           "dash": "dash"
          },
          "type": "line",
          "x0": 72,
          "x1": 72,
          "xref": "x2",
          "y0": 0,
          "y1": 1,
          "yref": "y2 domain"
         }
        ],
        "showlegend": true,
        "template": {
         "data": {
          "bar": [
           {
            "error_x": {
             "color": "#2a3f5f"
            },
            "error_y": {
             "color": "#2a3f5f"
            },
            "marker": {
             "line": {
              "color": "#E5ECF6",
              "width": 0.5
             },
             "pattern": {
              "fillmode": "overlay",
              "size": 10,
              "solidity": 0.2
             }
            },
            "type": "bar"
           }
          ],
          "barpolar": [
           {
            "marker": {
             "line": {
              "color": "#E5ECF6",
              "width": 0.5
             },
             "pattern": {
              "fillmode": "overlay",
              "size": 10,
              "solidity": 0.2
             }
            },
            "type": "barpolar"
           }
          ],
          "carpet": [
           {
            "aaxis": {
             "endlinecolor": "#2a3f5f",
             "gridcolor": "white",
             "linecolor": "white",
             "minorgridcolor": "white",
             "startlinecolor": "#2a3f5f"
            },
            "baxis": {
             "endlinecolor": "#2a3f5f",
             "gridcolor": "white",
             "linecolor": "white",
             "minorgridcolor": "white",
             "startlinecolor": "#2a3f5f"
            },
            "type": "carpet"
           }
          ],
          "choropleth": [
           {
            "colorbar": {
             "outlinewidth": 0,
             "ticks": ""
            },
            "type": "choropleth"
           }
          ],
          "contour": [
           {
            "colorbar": {
             "outlinewidth": 0,
             "ticks": ""
            },
            "colorscale": [
             [
              0,
              "#0d0887"
             ],
             [
              0.1111111111111111,
              "#46039f"
             ],
             [
              0.2222222222222222,
              "#7201a8"
             ],
             [
              0.3333333333333333,
              "#9c179e"
             ],
             [
              0.4444444444444444,
              "#bd3786"
             ],
             [
              0.5555555555555556,
              "#d8576b"
             ],
             [
              0.6666666666666666,
              "#ed7953"
             ],
             [
              0.7777777777777778,
              "#fb9f3a"
             ],
             [
              0.8888888888888888,
              "#fdca26"
             ],
             [
              1,
              "#f0f921"
             ]
            ],
            "type": "contour"
           }
          ],
          "contourcarpet": [
           {
            "colorbar": {
             "outlinewidth": 0,
             "ticks": ""
            },
            "type": "contourcarpet"
           }
          ],
          "heatmap": [
           {
            "colorbar": {
             "outlinewidth": 0,
             "ticks": ""
            },
            "colorscale": [
             [
              0,
              "#0d0887"
             ],
             [
              0.1111111111111111,
              "#46039f"
             ],
             [
              0.2222222222222222,
              "#7201a8"
             ],
             [
              0.3333333333333333,
              "#9c179e"
             ],
             [
              0.4444444444444444,
              "#bd3786"
             ],
             [
              0.5555555555555556,
              "#d8576b"
             ],
             [
              0.6666666666666666,
              "#ed7953"
             ],
             [
              0.7777777777777778,
              "#fb9f3a"
             ],
             [
              0.8888888888888888,
              "#fdca26"
             ],
             [
              1,
              "#f0f921"
             ]
            ],
            "type": "heatmap"
           }
          ],
          "histogram": [
           {
            "marker": {
             "pattern": {
              "fillmode": "overlay",
              "size": 10,
              "solidity": 0.2
             }
            },
            "type": "histogram"
           }
          ],
          "histogram2d": [
           {
            "colorbar": {
             "outlinewidth": 0,
             "ticks": ""
            },
            "colorscale": [
             [
              0,
              "#0d0887"
             ],
             [
              0.1111111111111111,
              "#46039f"
             ],
             [
              0.2222222222222222,
              "#7201a8"
             ],
             [
              0.3333333333333333,
              "#9c179e"
             ],
             [
              0.4444444444444444,
              "#bd3786"
             ],
             [
              0.5555555555555556,
              "#d8576b"
             ],
             [
              0.6666666666666666,
              "#ed7953"
             ],
             [
              0.7777777777777778,
              "#fb9f3a"
             ],
             [
              0.8888888888888888,
              "#fdca26"
             ],
             [
              1,
              "#f0f921"
             ]
            ],
            "type": "histogram2d"
           }
          ],
          "histogram2dcontour": [
           {
            "colorbar": {
             "outlinewidth": 0,
             "ticks": ""
            },
            "colorscale": [
             [
              0,
              "#0d0887"
             ],
             [
              0.1111111111111111,
              "#46039f"
             ],
             [
              0.2222222222222222,
              "#7201a8"
             ],
             [
              0.3333333333333333,
              "#9c179e"
             ],
             [
              0.4444444444444444,
              "#bd3786"
             ],
             [
              0.5555555555555556,
              "#d8576b"
             ],
             [
              0.6666666666666666,
              "#ed7953"
             ],
             [
              0.7777777777777778,
              "#fb9f3a"
             ],
             [
              0.8888888888888888,
              "#fdca26"
             ],
             [
              1,
              "#f0f921"
             ]
            ],
            "type": "histogram2dcontour"
           }
          ],
          "mesh3d": [
           {
            "colorbar": {
             "outlinewidth": 0,
             "ticks": ""
            },
            "type": "mesh3d"
           }
          ],
          "parcoords": [
           {
            "line": {
             "colorbar": {
              "outlinewidth": 0,
              "ticks": ""
             }
            },
            "type": "parcoords"
           }
          ],
          "pie": [
           {
            "automargin": true,
            "type": "pie"
           }
          ],
          "scatter": [
           {
            "fillpattern": {
             "fillmode": "overlay",
             "size": 10,
             "solidity": 0.2
            },
            "type": "scatter"
           }
          ],
          "scatter3d": [
           {
            "line": {
             "colorbar": {
              "outlinewidth": 0,
              "ticks": ""
             }
            },
            "marker": {
             "colorbar": {
              "outlinewidth": 0,
              "ticks": ""
             }
            },
            "type": "scatter3d"
           }
          ],
          "scattercarpet": [
           {
            "marker": {
             "colorbar": {
              "outlinewidth": 0,
              "ticks": ""
             }
            },
            "type": "scattercarpet"
           }
          ],
          "scattergeo": [
           {
            "marker": {
             "colorbar": {
              "outlinewidth": 0,
              "ticks": ""
             }
            },
            "type": "scattergeo"
           }
          ],
          "scattergl": [
           {
            "marker": {
             "colorbar": {
              "outlinewidth": 0,
              "ticks": ""
             }
            },
            "type": "scattergl"
           }
          ],
          "scattermap": [
           {
            "marker": {
             "colorbar": {
              "outlinewidth": 0,
              "ticks": ""
             }
            },
            "type": "scattermap"
           }
          ],
          "scattermapbox": [
           {
            "marker": {
             "colorbar": {
              "outlinewidth": 0,
              "ticks": ""
             }
            },
            "type": "scattermapbox"
           }
          ],
          "scatterpolar": [
           {
            "marker": {
             "colorbar": {
              "outlinewidth": 0,
              "ticks": ""
             }
            },
            "type": "scatterpolar"
           }
          ],
          "scatterpolargl": [
           {
            "marker": {
             "colorbar": {
              "outlinewidth": 0,
              "ticks": ""
             }
            },
            "type": "scatterpolargl"
           }
          ],
          "scatterternary": [
           {
            "marker": {
             "colorbar": {
              "outlinewidth": 0,
              "ticks": ""
             }
            },
            "type": "scatterternary"
           }
          ],
          "surface": [
           {
            "colorbar": {
             "outlinewidth": 0,
             "ticks": ""
            },
            "colorscale": [
             [
              0,
              "#0d0887"
             ],
             [
              0.1111111111111111,
              "#46039f"
             ],
             [
              0.2222222222222222,
              "#7201a8"
             ],
             [
              0.3333333333333333,
              "#9c179e"
             ],
             [
              0.4444444444444444,
              "#bd3786"
             ],
             [
              0.5555555555555556,
              "#d8576b"
             ],
             [
              0.6666666666666666,
              "#ed7953"
             ],
             [
              0.7777777777777778,
              "#fb9f3a"
             ],
             [
              0.8888888888888888,
              "#fdca26"
             ],
             [
              1,
              "#f0f921"
             ]
            ],
            "type": "surface"
           }
          ],
          "table": [
           {
            "cells": {
             "fill": {
              "color": "#EBF0F8"
             },
             "line": {
              "color": "white"
             }
            },
            "header": {
             "fill": {
              "color": "#C8D4E3"
             },
             "line": {
              "color": "white"
             }
            },
            "type": "table"
           }
          ]
         },
         "layout": {
          "annotationdefaults": {
           "arrowcolor": "#2a3f5f",
           "arrowhead": 0,
           "arrowwidth": 1
          },
          "autotypenumbers": "strict",
          "coloraxis": {
           "colorbar": {
            "outlinewidth": 0,
            "ticks": ""
           }
          },
          "colorscale": {
           "diverging": [
            [
             0,
             "#8e0152"
            ],
            [
             0.1,
             "#c51b7d"
            ],
            [
             0.2,
             "#de77ae"
            ],
            [
             0.3,
             "#f1b6da"
            ],
            [
             0.4,
             "#fde0ef"
            ],
            [
             0.5,
             "#f7f7f7"
            ],
            [
             0.6,
             "#e6f5d0"
            ],
            [
             0.7,
             "#b8e186"
            ],
            [
             0.8,
             "#7fbc41"
            ],
            [
             0.9,
             "#4d9221"
            ],
            [
             1,
             "#276419"
            ]
           ],
           "sequential": [
            [
             0,
             "#0d0887"
            ],
            [
             0.1111111111111111,
             "#46039f"
            ],
            [
             0.2222222222222222,
             "#7201a8"
            ],
            [
             0.3333333333333333,
             "#9c179e"
            ],
            [
             0.4444444444444444,
             "#bd3786"
            ],
            [
             0.5555555555555556,
             "#d8576b"
            ],
            [
             0.6666666666666666,
             "#ed7953"
            ],
            [
             0.7777777777777778,
             "#fb9f3a"
            ],
            [
             0.8888888888888888,
             "#fdca26"
            ],
            [
             1,
             "#f0f921"
            ]
           ],
           "sequentialminus": [
            [
             0,
             "#0d0887"
            ],
            [
             0.1111111111111111,
             "#46039f"
            ],
            [
             0.2222222222222222,
             "#7201a8"
            ],
            [
             0.3333333333333333,
             "#9c179e"
            ],
            [
             0.4444444444444444,
             "#bd3786"
            ],
            [
             0.5555555555555556,
             "#d8576b"
            ],
            [
             0.6666666666666666,
             "#ed7953"
            ],
            [
             0.7777777777777778,
             "#fb9f3a"
            ],
            [
             0.8888888888888888,
             "#fdca26"
            ],
            [
             1,
             "#f0f921"
            ]
           ]
          },
          "colorway": [
           "#636efa",
           "#EF553B",
           "#00cc96",
           "#ab63fa",
           "#FFA15A",
           "#19d3f3",
           "#FF6692",
           "#B6E880",
           "#FF97FF",
           "#FECB52"
          ],
          "font": {
           "color": "#2a3f5f"
          },
          "geo": {
           "bgcolor": "white",
           "lakecolor": "white",
           "landcolor": "#E5ECF6",
           "showlakes": true,
           "showland": true,
           "subunitcolor": "white"
          },
          "hoverlabel": {
           "align": "left"
          },
          "hovermode": "closest",
          "mapbox": {
           "style": "light"
          },
          "paper_bgcolor": "white",
          "plot_bgcolor": "#E5ECF6",
          "polar": {
           "angularaxis": {
            "gridcolor": "white",
            "linecolor": "white",
            "ticks": ""
           },
           "bgcolor": "#E5ECF6",
           "radialaxis": {
            "gridcolor": "white",
            "linecolor": "white",
            "ticks": ""
           }
          },
          "scene": {
           "xaxis": {
            "backgroundcolor": "#E5ECF6",
            "gridcolor": "white",
            "gridwidth": 2,
            "linecolor": "white",
            "showbackground": true,
            "ticks": "",
            "zerolinecolor": "white"
           },
           "yaxis": {
            "backgroundcolor": "#E5ECF6",
            "gridcolor": "white",
            "gridwidth": 2,
            "linecolor": "white",
            "showbackground": true,
            "ticks": "",
            "zerolinecolor": "white"
           },
           "zaxis": {
            "backgroundcolor": "#E5ECF6",
            "gridcolor": "white",
            "gridwidth": 2,
            "linecolor": "white",
            "showbackground": true,
            "ticks": "",
            "zerolinecolor": "white"
           }
          },
          "shapedefaults": {
           "line": {
            "color": "#2a3f5f"
           }
          },
          "ternary": {
           "aaxis": {
            "gridcolor": "white",
            "linecolor": "white",
            "ticks": ""
           },
           "baxis": {
            "gridcolor": "white",
            "linecolor": "white",
            "ticks": ""
           },
           "bgcolor": "#E5ECF6",
           "caxis": {
            "gridcolor": "white",
            "linecolor": "white",
            "ticks": ""
           }
          },
          "title": {
           "x": 0.05
          },
          "xaxis": {
           "automargin": true,
           "gridcolor": "white",
           "linecolor": "white",
           "ticks": "",
           "title": {
            "standoff": 15
           },
           "zerolinecolor": "white",
           "zerolinewidth": 2
          },
          "yaxis": {
           "automargin": true,
           "gridcolor": "white",
           "linecolor": "white",
           "ticks": "",
           "title": {
            "standoff": 15
           },
           "zerolinecolor": "white",
           "zerolinewidth": 2
          }
         }
        },
        "xaxis": {
         "anchor": "y",
         "domain": [
          0,
          1
         ],
         "matches": "x2",
         "showticklabels": false
        },
        "xaxis2": {
         "anchor": "y2",
         "domain": [
          0,
          1
         ],
         "title": {
          "text": "Time"
         }
        },
        "yaxis": {
         "anchor": "x",
         "domain": [
          0.515,
          1
         ],
         "title": {
          "text": "Var 0"
         }
        },
        "yaxis2": {
         "anchor": "x2",
         "domain": [
          0,
          0.485
         ],
         "title": {
          "text": "Var 1"
         }
        }
       }
      }
     },
     "metadata": {},
     "output_type": "display_data"
    }
   ],
   "source": [
    "fig = plot_classification_dataset(\n",
    "    datasets[\"PenDigits\"][\"train\"][\"samples\"][:10, :].numpy(),\n",
    "    datasets[\"PenDigits\"][\"train\"][\"labels\"][:10].numpy(),\n",
    ")\n",
    "fig.show()"
   ]
  },
  {
   "cell_type": "code",
   "execution_count": 8,
   "metadata": {},
   "outputs": [
    {
     "data": {
      "application/vnd.plotly.v1+json": {
       "config": {
        "plotlyServerURL": "https://plot.ly"
       },
       "data": [
        {
         "mode": "lines",
         "name": "Var 0",
         "showlegend": false,
         "type": "scatter",
         "x": {
          "bdata": "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",
          "dtype": "i2"
         },
         "xaxis": "x",
         "y": {
          "bdata": "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",
          "dtype": "f8"
         },
         "yaxis": "y"
        },
        {
         "mode": "lines",
         "name": "Var 1",
         "showlegend": false,
         "type": "scatter",
         "x": {
          "bdata": "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",
          "dtype": "i2"
         },
         "xaxis": "x2",
         "y": {
          "bdata": "FK5H4XoUJ0CuR+F6FC4rQFK4HoXr0StAAAAAAACAL0AzMzMzMzMtQLgehetR+DBAXI/C9ShcKEB7FK5H4XogQIXrUbgehRJAPQrXo3A98j+uR+F6FK7vPwAAAAAAgCdAAAAAAACAJ0BmZmZmZmYvQHsUrkfhei5AXI/C9Shc9z+kcD0K1yMpQFyPwvUoXChAexSuR+H6J0AK16NwPYokQI/C9ShcjyBAMzMzMzOzJkApXI/C9agpQFK4HoXr0StAXI/C9SjcLkDD9Shcj0IuQFK4HoXr0TBAMzMzMzMzKUAfhetRuJ4hQDMzMzMzMxhAKVyPwvUo/D+4HoXrUbj2PwAAAAAAAB5AexSuR+E6M0DNzMzMzMwMQHE9CtejcClAAAAAAAAAE0A9CtejcD0gQAAAAAAAgCxAMzMzMzOzI0CamZmZmZknQMP1KFyPwiJA16NwPQrXI0BSuB6F69EmQArXo3A9CipAXI/C9ShcKkCkcD0K16MrQHE9Ctej8C5AAAAAAACAMkCuR+F6FK4nQI/C9Shcjx9AH4XrUbgeFUDD9Shcj8LtP8P1KFyPwvk/mpmZmZmZJUCPwvUoXE8yQM3MzMzMTChAAAAAAAAAHUAzMzMzMzMBQHsUrkfhei5Aj8L1KFwPKEBcj8L1KFwpQOF6FK5HYSJAexSuR+F6HEBI4XoUrkcmQOF6FK5HYSdASOF6FK5HKkBcj8L1KFwsQJqZmZmZmStACtejcD0KMEBI4XoUrkcwQArXo3A9iiRAw/UoXI/CHUAK16NwPQoLQIXrUbgeheM/ZmZmZmZmCkA9CtejcD0xQFK4HoXr0SZACtejcD2KIUBmZmZmZmYgQDMzMzMzMxhAhetRuB6FK0AzMzMzM7MmQKRwPQrXIyhAPQrXo3A9I0Bcj8L1KNwiQGZmZmZm5iVAFK5H4XqUKkBSuB6F69EsQMP1KFyPQi5AZmZmZmZmL0AAAAAAAIAyQFK4HoXr0SZAPQrXo3A9HEAfhetRuB4NQOF6FK5H4do/KVyPwvUo/D/hehSuR+EvQB+F61G4HidAhetRuB6FFEAUrkfhepQpQJqZmZmZmQ9APQrXo3C9K0CamZmZmZkmQPYoXI/CdSdAUrgehetRI0BxPQrXo/AiQFyPwvUoXCZAexSuR+H6K0CkcD0K1yMrQB+F61G4HixACtejcD0KLkCamZmZmVkyQEjhehSuRylASOF6FK5HKUDXo3A9CtcdQArXo3A9CgtAmpmZmZmZ6T+uR+F6FK4HQK5H4XoUbjFAXI/C9ShcGkAzMzMzMzMpQLgehetRuBVAmpmZmZmZJkAAAAAAAAAnQM3MzMzMzCpArkfhehSuJEAAAAAAAAAhQHsUrkfh+iVAUrgehevRKUBxPQrXo3ArQPYoXI/C9SxAw/UoXI9CK0A9CtejcD0yQHsUrkfhei5AmpmZmZmZIkBxPQrXo3AZQKRwPQrXo/g/PQrXo3A94j/hehSuR+EUQAAAAAAAgDNAH4XrUbgeKkDhehSuR+EbQEjhehSuR9E/SOF6FK5HMEAUrkfhehQnQOxRuB6Fay1AMzMzMzOzIUCF61G4HoUaQMP1KFyPwidArkfhehSuKEBxPQrXo3ArQM3MzMzMzCpACtejcD0KLUC4HoXrUfgxQBSuR+F6lC1A9ihcj8J1IUCF61G4HoUYQOF6FK5H4QBAZmZmZmZm7j/NzMzMzMwaQI/C9ShcTzNAhetRuB6FFEDD9Shcj0ItQM3MzMzMzPw/PQrXo3A9IECF61G4HoUpQOxRuB6F6ydA4XoUrkdhJ0DXo3A9CtcjQAAAAAAAACdAAAAAAAAAJ0CkcD0K16MrQAAAAAAAgCpAj8L1KFwPK0AzMzMzMzMxQBSuR+F6FDFAw/UoXI/CIkDD9Shcj8IdQNejcD0K1wdAcT0K16NwzT8UrkfhehQSQJqZmZmZ2TJAhetRuB6FHkDD9Shcj8IdQB+F61G4niNAexSuR+F6FUAzMzMzMzMsQIXrUbgehSVAj8L1KFwPKECPwvUoXI8fQK5H4XoUriVAuB6F61E4KEBmZmZmZuYoQJqZmZmZmStACtejcD0KLkDhehSuR+EtQLgehetReDJAmpmZmZmZJ0DNzMzMzMweQAAAAAAAABNA7FG4HoXr8T+PwvUoXI8AQFK4HoXr0SZAKVyPwvUoMUAfhetRuB4VQJqZmZmZGS9ASOF6FK5HB0ApXI/C9agpQHsUrkfh+iVAUrgehevRKEDD9Shcj8IiQDMzMzMzsyFA7FG4HoXrJ0CuR+F6FK4oQB+F61G4HipAexSuR+F6LkDNzMzMzMwtQM3MzMzMDDJAAAAAAACAKkDhehSuR+EfQFK4HoXrURVAw/UoXI/C7T9I4XoUrkfxP4XrUbgehSVAzczMzMwMMkDhehSuR2EkQMP1KFyPwiJAexSuR+F6CEC4HoXrUbguQKRwPQrXIyhAFK5H4XqUKUDhehSuR2EkQHE9CtejcBdAmpmZmZmZJ0D2KFyPwnUnQMP1KFyPwipA9ihcj8L1KkBcj8L1KNwuQClcj8L1KDFA7FG4HoVrLUCPwvUoXA8jQNejcD0K1xhAzczMzMzM/D9I4XoUrkcDQMP1KFyPwhdA9ihcj8L1MkDXo3A9CtchQD0K16NwPRxA16NwPQrXJ0BmZmZmZmbuP0jhehSuxzBA4XoUrkdhJ0Bcj8L1KFwoQOF6FK5HYSFAPQrXo3A9JEAAAAAAAAAAAAAAAAAAAAAAAAAAAAAAAABxPQrXo3ATQHE9CtejcBNA4XoUrkfhGUAAAAAAAAAAAPYoXI/C9fS/9ihcj8L19L9SuB6F65EzQPYoXI/C9SxASOF6FK5HKkApXI/C9SgTQHE9CtejcM2/cT0K16Nwzb9xPQrXo3DNvwAAAAAAAAAAAAAAAAAAAAAAAAAAAAAAAAAAAAAAAAAAKVyPwvUoE8BSuB6F61EGwEjhehSuR/W/9ihcj8J1IUBSuB6F65EzQK5H4XoUriJAXI/C9ShcKUDNzMzMzMwMQIXrUbgeheO/zczMzMzM/D+PwvUoXE8zQI/C9ShcTzFAj8L1KFxPMUCPwvUoXE8xQAAAAAAAAAAAAAAAAAAAAACkcD0K12MyQEjhehSuhzNAPQrXo3A9I0BxPQrXo3D9P3sUrkfherS/exSuR+F6tL8fhetRuB4nQAAAAAAAAAAAAAAAAAAAAAB7FK5H4XoIwHsUrkfhegjAAAAAAAAAAAAzMzMzMzPDv3E9CtejcDBApHA9CtdjMUCF61G4HoUYQEjhehSuRxtACtejcD0K+z/hehSuR+Hav/YoXI/CdSJAUrgeheuRM0A9CtejcD0kQFK4HoXrUfQ/CtejcD0KFMBSuB6F61EOwPYoXI/C9fS/PQrXo3A98j8UrkfhehQzQK5H4XoULi5AH4XrUbgeJ0AfhetRuB4nQMP1KFyPwhFAKVyPwvUovL8pXI/C9Si8v7gehetRuC5AUrgeheuRM0BSuB6F65EzQFK4HoXrkTNAw/UoXI/CE8AAAAAAAAAAAM3MzMzMzOQ/MzMzMzMzMUAzMzMzMzMxQD0K16NwvTBAPQrXo3A9HEApXI/C9Si8vylcj8L1KLy/AAAAAAAAAADhehSuR2EzQOF6FK5HYTNAAAAAAAAAAAAAAAAAAAAAAFyPwvUoXAnArkfhehSu+79mZmZmZmYbQFK4HoXrkTNAPQrXo3A9JEDNzMzMzEwkQNejcD0K1/8/7FG4HoXr8b9SuB6F61Hov6RwPQrXoy1AAAAAAAAAAAC4HoXrUbj2v7gehetRuPa/AAAAAAAAAAB7FK5H4XoIwK5H4XoUru+/9ihcj8J1JUBSuB6F65EzQEjhehSuRxNA16NwPQrXI0A9CtejcD0AQD0K16NwPQBA9ihcj8L14L8AAAAAAAAAAAAAAAAAAAAAmpmZmZmZ6T9SuB6F61HIv/YoXI/C9RjAFK5H4XoU/r8zMzMzMzPDv4/C9ShcTzNAFK5H4XqUKkCF61G4HoUoQHsUrkfhegRAAAAAAAAAAAAAAAAAAAAAAOF6FK5HYSVAUrgeheuRM0CPwvUoXI8QQLgehetRuP6/hetRuB6FGMDsUbgehesDwFK4HoXrUci/uB6F61E4JUBI4XoUroczQKRwPQrXoxVAH4XrUbieIUC4HoXrUbj+PwAAAAAAAAAAzczMzMzM5L8zMzMzMzMyQFK4HoXrkTNAcT0K16NwGUBmZmZmZmb6PzMzMzMzMwnASOF6FK5HA8DhehSuR+Hyv6RwPQrXYzFAw/UoXI8CMkCF61G4HoUaQD0K16NwPRxAH4XrUbge+T/NzMzMzMzkv65H4XoUrvM/SOF6FK6HM0B7FK5H4boxQLgehetRuBRAAAAAAAAA+L+F61G4HoUYwEjhehSuR/W/w/UoXI9CLUDD9Shcj0ItQMP1KFyPQi1Aw/UoXI9CLUCPwvUoXA8jQKRwPQrXoxVAw/UoXI/C1T8pXI/C9Sj8v3E9Ctej8CBAAAAAAAAAAAAAAAAAAAAAAOxRuB6F6/E/7FG4HoXr8T9I4XoUrkcPwAAAAAAAAAAAZmZmZmZmL0B7FK5H4TozQEjhehSuRwdAw/UoXI/CHUApXI/C9Sj8P1K4HoXrUei/SOF6FK5H9T9SuB6F65EzQIXrUbgexTJAw/UoXI/CGUDhehSuR+Hyv/YoXI/C9RTA16NwPQrX/79SuB6F61H0PwrXo3A9ijJAFK5H4XqUMkAUrkfhepQyQMP1KFyPwhdAcT0K16Nw3T9xPQrXo3DdPzMzMzMzM/+/rkfhehSuIkBSuB6F65EzQOF6FK5HYSVAuB6F61G4CkC4HoXrUbgKQHsUrkfhehXAexSuR+F6FcAAAAAAAAAAAFK4HoXrkTNApHA9CtcjJUB7FK5H4fooQGZmZmZmZhBAUrgehetR9L9SuB6F61H0v1K4HoXrUfS/AAAAAAAAAAAAAAAAAAAAAAAAAAAAADNAAAAAAAAAM0D2KFyPwvUOQB+F61G4HgHAH4XrUbgeAcAAAAAAAAAAAAAAAAAAAAAAUrgeheuRM0BI4XoUrschQAAAAAAAACRAmpmZmZmZC0AUrkfhehT+v0jhehSuR9E/SOF6FK7HMEBI4XoUrscwQLgehetReDJAuB6F61F4MkC4HoXrUXgyQLgehetReDJA7FG4HoXrA0DsUbgehesDQDMzMzMzszJA16NwPQpXM0CkcD0K1yMmQOxRuB6F6xVAw/UoXI/CDcDhehSuR+EIwBSuR+F6FAJAUrgeheuRM0BmZmZmZmYvQIXrUbgehRpAmpmZmZmZA8CPwvUoXI8MwGZmZmZmZvq/KVyPwvUoEUCF61G4HkUzQHsUrkfhujJAj8L1KFwPJUD2KFyPwvUGQFyPwvUoXBLAH4XrUbieIMBxPQrXo3ANQFK4HoXrkTNA4XoUrkfhLEBmZmZmZmYKQOxRuB6FazPArkfhehTuMMBcj8L1KJwzwMP1KFyPwifAj8L1KFwPK8B7FK5H4Xqkv4XrUbgehRpAmpmZmZlZMsBcj8L1KJwzwFyPwvUonDPAexSuR+F6LsCuR+F6FK4JQEjhehSuxyFAuB6F61G49j9xPQrXo3ANwJqZmZmZWTHAXI/C9SicM8D2KFyPwnUxwKRwPQrX4zLA9ihcj8L1L8AzMzMzM7MvwBSuR+F6FCLAexSuR+F6BEApXI/C9SggwFyPwvUonDPAXI/C9SicM8CF61G4HgUwwOF6FK5H4QrAmpmZmZmZC0A9CtejcD0QQBSuR+F6FOY/zczMzMxMJcBxPQrXozAzwFyPwvUonDPAXI/C9SicM8BxPQrXo7AywIXrUbgehSnA4XoUrkdhJMBI4XoUrkfRvz0K16NwPQzAMzMzMzOzMMBcj8L1KJwzwFyPwvUonDPAH4XrUbieIMBcj8L1KFwJwIXrUbgeBSBAZmZmZmZmEkBcj8L1KNwgwHE9CtejcDDAXI/C9SicM8CamZmZmdkywFyPwvUonDPAj8L1KFyPK8DD9Shcj8IlwFK4HoXrURHA4XoUrkfh2r89CtejcL0wwFyPwvUonDPAXI/C9SicM8BI4XoUrkcpwK5H4XoUrhbAAAAAAAAAJ0ApXI/C9SghQEjhehSuRx/A16NwPQrXJ8CF61G4HsUywFyPwvUonDPAXI/C9SicM8CPwvUoXE8xwOxRuB6F6yHAAAAAAAAAIcCF61G4HoUeQJqZmZmZGSDAUrgehesRMsBcj8L1KJwzwMP1KFyPgjDAmpmZmZmZGcAAAAAAAADgv83MzMzMzAxAw/UoXI/C+b/NzMzMzEwiwM3MzMzMTDPAXI/C9SicM8Bcj8L1KJwzwIXrUbgexTLAKVyPwvUoI8CamZmZmZkTwDMzMzMzMxhAPQrXo3A9AMBxPQrXo/AuwFyPwvUonDPACtejcD2KI8CF61G4HoUUwMP1KFyPwtU/exSuR+F6IEBmZmZmZmYWwM3MzMzMTCTACtejcD2KJMDsUbgehWszwOxRuB6FazPAAAAAAACAKsAAAAAAAIAqwClcj8L1KCTAUrgehetRI0AUrkfhehQOwHsUrkfhujHAXI/C9SicM8D2KFyPwvUvwHsUrkfh+iXAexSuR+H6JcAfhetRuJ4jQD0K16NwPQzAcT0K16NwDcCamZmZmZkmwFyPwvUonDPAXI/C9SicM8Bcj8L1KJwzwDMzMzMzMy3AUrgehetRIcDXo3A9CtcSQFyPwvUoXAnAw/UoXI+CMMBcj8L1KJwzwMP1KFyPQivAAAAAAAAAEcCF61G4HoUSQD0K16NwPSNAcT0K16Nwzb8pXI/C9SgxwFyPwvUonDPAMzMzMzOzMMDD9ShcjwIywJqZmZmZWTHArkfhehTuMMCamZmZmZkewKRwPQrXoxVA7FG4HoXrI8DsUbgehesywFyPwvUonDPA7FG4HoVrM8AUrkfhehQiwFK4HoXrUSFAH4XrUbgeJ0DD9Shcj8L5v4XrUbgehSbA16NwPQpXM8Bcj8L1KJwzwFyPwvUonDPApHA9CtfjMsBI4XoUrkcpwKRwPQrXoxrAMzMzMzMzAUAAAAAAAIAnwEjhehSuhzPAXI/C9SicM8CamZmZmVkxwFK4HoXrUei/SOF6FK5HC0DD9Shcj8L5P65H4XoUrvO/zczMzMxMIsBI4XoUrscwwFyPwvUonDPAuB6F61H4MMBcj8L1KJwzwFyPwvUo3CLAMzMzMzMzHsD2KFyPwvUCQAAAAAAAAB1A16NwPQpXM8Bcj8L1KJwzwAAAAAAAgDPACtejcD2KI8DNzMzMzMwMQPYoXI/C9QJAPQrXo3A9BMA9CtejcD0hwFyPwvUonDPAXI/C9SicM8Bcj8L1KJwzwBSuR+F6lCnAFK5H4XoUIsBSuB6F61ERwOF6FK5H4RlAcT0K16Nw3T9cj8L1KJwzwFyPwvUonDPA4XoUrkfhL8DsUbgehesjwLgehetRuB9AMzMzMzMzAUC4HoXrUbgCwDMzMzMzMx7AXI/C9SicM8Bcj8L1KJwzwFyPwvUonDPAXI/C9SicM8AAAAAAAAAewAAAAAAAAOA/H4XrUbieIEBmZmZmZmb6v1yPwvUonDPA4XoUrkdhM8BxPQrXo/AiwPYoXI/C9Q7AhetRuB6FFkAAAAAAAAD4v7gehetRuBnA16NwPQpXK8CamZmZmdkywEjhehSuRzLAXI/C9SicM8AzMzMzMzMywD0K16NwPRDA16NwPQrXEEDsUbgehesRQDMzMzMzMyfAXI/C9SicM8CamZmZmdkywM3MzMzMTCfAAAAAAAAAF8A9CtejcD0gQM3MzMzMzAzA7FG4HoXrJMB7FK5H4foowGZmZmZmJjPAAAAAAAAAM8Bcj8L1KJwzwEjhehSuxzDAUrgehetRI8CPwvUoXA8lQMP1KFyPwhFArkfhehSuJ8Bcj8L1KJwzwArXo3A9CirA16NwPQrXEsBI4XoUrkcDwD0K16NwPR1AuB6F61G4EMDXo3A9CtcWwFK4HoXrUSPAXI/C9SicM8BSuB6F65EzwJqZmZmZ2TLA7FG4HoXrJMAAAAAAAAAewBSuR+F6FArAFK5H4XoUCsCkcD0K1+MwwFyPwvUonDPA7FG4HoXrMsAfhetRuJ4jwD0K16NwPQxAzczMzMxMJUDD9Shcj8IFwClcj8L1qDDAXI/C9ShcGkCF61G4HoUaQFyPwvUoXBpAhetRuB6FGkCF61G4HoUaQIXrUbgehRpAXI/C9ShcGkCF61G4HoUaQIXrUbgehRpAXI/C9ShcGkBcj8L1KFwaQIXrUbgehRpAXI/C9ShcGkAzMzMzMzMaQDMzMzMzMxpAMzMzMzMzGkAzMzMzMzMaQFyPwvUoXBpAXI/C9ShcGkBcj8L1KFwaQDMzMzMzMxpAMzMzMzMzGkAK16NwPQoaQDMzMzMzMxpAMzMzMzMzGkBI4XoUrkcbQFyPwvUoXBpAXI/C9ShcGkAK16NwPQoaQDMzMzMzMxpAMzMzMzMzGkAK16NwPQoaQPYoXI/C9RpA9ihcj8L1GkCkcD0K16MaQGZmZmZmZhtAexSuR+F6HEAAAAAAAAAeQJqZmZmZmR1AXI/C9ShcHkBI4XoUrscgQI/C9ShcjyJACtejcD0KGkCuR+F6FK4WQJqZmZmZmSVAuB6F61G4G0DXo3A9CtccQNejcD0K1xxA16NwPQrXGEC4HoXrUbgfQEjhehSuRxlAPQrXo3A9HUDXo3A9CtcdQD0K16NwPRxAw/UoXI/CHUAUrkfhehQdQNejcD0K1xxAFK5H4XoUHUDXo3A9CtccQAAAAAAAAB1AFK5H4XoUHUDXo3A9CtccQNejcD0K1xxAAAAAAAAAHUAAAAAAAAAdQAAAAAAAAB1AAAAAAAAAHUAAAAAAAAAdQAAAAAAAAB1AAAAAAAAAHUAAAAAAAAAdQAAAAAAAAB1A16NwPQrXHEDXo3A9CtccQNejcD0K1xxA16NwPQrXHEAAAAAAAAAdQNejcD0K1xxA16NwPQrXHEDXo3A9CtccQNejcD0K1xxA16NwPQrXHEDXo3A9CtccQNejcD0K1xxAFK5H4XoUHUDXo3A9CtccQAAAAAAAAB1AAAAAAAAAHUAAAAAAAAAdQAAAAAAAAB1AAAAAAAAAHUDXo3A9CtccQAAAAAAAAB1A16NwPQrXHEAAAAAAAAAdQNejcD0K1xxA16NwPQrXHEDXo3A9CtccQAAAAAAAAB1A16NwPQrXHEDXo3A9CtccQAAAAAAAAB1A16NwPQrXHEDXo3A9CtccQAAAAAAAAB1AAAAAAAAAHUAAAAAAAAAdQBSuR+F6FB1AFK5H4XoUHUAAAAAAAAAdQAAAAAAAAB1AAAAAAAAAHUAAAAAAAAAdQAAAAAAAAB1AAAAAAAAAHUAAAAAAAAAdQNejcD0K1xxAFK5H4XoUHUDXo3A9CtccQAAAAAAAAB1AAAAAAAAAHUAAAAAAAAAdQNejcD0K1xxA16NwPQrXHEDXo3A9CtccQNejcD0K1xxAFK5H4XoUHUAUrkfhehQdQNejcD0K1xxApHA9CtejHEDXo3A9CtccQAAAAAAAAB1A16NwPQrXHEDXo3A9CtccQAAAAAAAAB1AAAAAAAAAHUAAAAAAAAAdQNejcD0K1xxA16NwPQrXHEAAAAAAAAAdQNejcD0K1xxA16NwPQrXHEDXo3A9CtccQNejcD0K1xxA16NwPQrXHEDXo3A9CtccQNejcD0K1xxA16NwPQrXHEAAAAAAAAAdQBSuR+F6FB1ApHA9CtejHEDXo3A9CtccQAAAAAAAAB1A16NwPQrXHEAUrkfhehQdQNejcD0K1xxA16NwPQrXHEAAAAAAAAAdQAAAAAAAAB1AmpmZmZmZHUCkcD0K16MaQAAAAAAAAB1AmpmZmZmZHUBSuB6F61EcQGZmZmZmZh1ApHA9CtejHEAAAAAAAAAdQNejcD0K1xxAAAAAAAAAHUCkcD0K16McQBSuR+F6FB1ApHA9CtejHEAAAAAAAAAdQNejcD0K1xxAAAAAAAAAHUDXo3A9CtccQKRwPQrXoxxAexSuR+F6HEDXo3A9CtcdQD0K16NwPRxAPQrXo3A9HEA9CtejcD0dQKRwPQrXoxxAZmZmZmZmHUDXo3A9CtccQBSuR+F6FB1AAAAAAAAAHUAAAAAAAAAdQAAAAAAAAB1AAAAAAAAAHUDXo3A9CtccQAAAAAAAAB1A16NwPQrXHEAUrkfhehQdQAAAAAAAAB1AAAAAAAAAHUDXo3A9CtccQAAAAAAAAB1AAAAAAAAAHUDD9Shcj8IdQNejcD0K1xxA16NwPQrXHECkcD0K16McQBSuR+F6FB1APQrXo3A9HUCkcD0K16McQKRwPQrXoxxA16NwPQrXHEDXo3A9CtccQAAAAAAAAB1A16NwPQrXHEAAAAAAAAAdQAAAAAAAAB1A16NwPQrXHEAAAAAAAAAdQNejcD0K1xxA16NwPQrXHEDXo3A9CtccQNejcD0K1xxApHA9CtejHEDXo3A9CtccQAAAAAAAAB1A16NwPQrXHEDXo3A9CtccQNejcD0K1xxApHA9CtejHEAAAAAAAAAdQNejcD0K1xxA16NwPQrXHEDXo3A9CtccQNejcD0K1xxA16NwPQrXHEAAAAAAAAAdQNejcD0K1xxApHA9CtejHEDXo3A9CtccQKRwPQrXoxxApHA9CtejHECkcD0K16McQNejcD0K1xxApHA9CtejHEDXo3A9CtccQNejcD0K1xxA16NwPQrXHEDXo3A9CtccQKRwPQrXoxxA16NwPQrXHEDXo3A9CtccQNejcD0K1xxA16NwPQrXHEAAAAAAAAAdQNejcD0K1xxApHA9CtejHEDXo3A9CtccQNejcD0K1xxApHA9CtejHEDNzMzMzMweQBSuR+F6lCxApHA9CtcjKUC4HoXrUTgmQOF6FK5HYSRA9ihcj8L1DkBSuB6F61EOQD0K16NwPSBArkfhehSuIkCPwvUoXA8jQEjhehSuRyZAXI/C9SjcMEAzMzMzM7MhQPYoXI/C9SxAPQrXo3A9HEAfhetRuJ4hQLgehetRuBtAw/UoXI/CF0C4HoXrUTgiQBSuR+F6FCJAmpmZmZmZHUBxPQrXo3AwQJqZmZmZGS5AFK5H4XoUJEBmZmZmZmYgQAAAAAAAABdAKVyPwvUoCEApXI/C9SgRQI/C9ShcjyJAMzMzMzOzI0A9CtejcL0pQFyPwvUoXCZASOF6FK5HMkDD9Shcj8IkQFyPwvUoXCZAXI/C9ShcJkDXo3A9CtchQGZmZmZmZiBAmpmZmZkZIED2KFyPwvUaQFK4HoXrURxAAAAAAAAAIUB7FK5H4folQPYoXI/CdSRAhetRuB6FKEBSuB6F69EsQArXo3A9Ci5AFK5H4XqULUA9CtejcD0dQAAAAAAAAB1AAAAAAAAAHUC4HoXrUTgiQEjhehSuxyNAXI/C9SjcIkBSuB6F69ErQNejcD0K1x1AZmZmZmbmKED2KFyPwnUhQFK4HoXrUSNAmpmZmZmZIkDNzMzMzEwkQLgehetROCJArkfhehSuIkAK16NwPYokQArXo3A9iiNAcT0K16NwJkAAAAAAAIAqQDMzMzMzMydAcT0K16NwK0Bcj8L1KFwmQBSuR+F6FCRACtejcD0KHEDD9Shcj8IXQBSuR+F6FBZAZmZmZmZmFkA9CtejcD0cQIXrUbgehRpAAAAAAAAAJEAzMzMzM7MjQHE9CtejcCZACtejcD0KKkD2KFyPwjUwQK5H4XoUriJAexSuR+F6IEBcj8L1KFweQK5H4XoUrh5Aj8L1KFyPH0BxPQrXo/AiQM3MzMzMzB5AFK5H4XqUKkBxPQrXo3ApQArXo3A9Ci1Aw/UoXI/CHUCamZmZmZkTQIXrUbgehRRAj8L1KFwPI0ApXI/C9SgjQHE9CtejcCNAj8L1KFwPI0DsUbgehWsqQMP1KFyPQitArkfhehSuJ0AzMzMzMzMUQHE9Ctej8CJArkfhehSuHkCPwvUoXI8iQD0K16NwPSBAKVyPwvUoIECPwvUoXI8iQFyPwvUoXCxAPQrXo3C9KEBxPQrXo3ApQOF6FK5H4RRAw/UoXI/CDUCPwvUoXI8fQPYoXI/CdSFA16NwPQrXHUDD9Shcj8IlQFK4HoXr0SxASOF6FK7HMEBSuB6F61EgQM3MzMzMTCJAAAAAAAAAHUDhehSuR+EbQOF6FK5H4R9APQrXo3A9IECkcD0K1yMmQIXrUbgehStAPQrXo3C9K0B7FK5H4fonQHsUrkfhehVA9ihcj8L1FECPwvUoXI8QQK5H4XoUrh5AmpmZmZmZJ0D2KFyPwnUiQArXo3A9CipAPQrXo3C9LECPwvUoXI8iQPYoXI/CdSFA9ihcj8J1IUD2KFyPwvUaQEjhehSuRx9A9ihcj8J1JUC4HoXrUbgtQB+F61G4HixA16NwPQrXHUCuR+F6FK4WQMP1KFyPwhFAMzMzMzOzIUBxPQrXo3AjQDMzMzMzMxhA9ihcj8I1MEBcj8L1KFwoQAAAAAAAACVAUrgehetRIUCPwvUoXA8lQB+F61G4HhtAexSuR+F6IEB7FK5H4XogQClcj8L1KCFAj8L1KFyPLkCkcD0K16MuQD0K16NwvSZAPQrXo3A9IEAzMzMzMzMaQOxRuB6F6xVA9ihcj8L1GEBcj8L1KNwgQArXo3A9iiFAj8L1KFyPIkAUrkfhehQiQM3MzMzMTCVACtejcD0KLUDhehSuR+EvQPYoXI/CdSRA7FG4HoXrI0AzMzMzMzMeQD0K16NwPR1Aj8L1KFyPG0CamZmZmRkgQArXo3A9iiNAZmZmZmZmI0Bcj8L1KNwgQFyPwvUo3C5AH4XrUbgeLUAzMzMzMzMvQOxRuB6FayxAmpmZmZkZIEAK16NwPQocQEjhehSuRxlAZmZmZmZmIEBI4XoUrscjQArXo3A9iiRA9ihcj8L1KUC4HoXrUbgfQGZmZmZm5iZAPQrXo3A9I0DsUbgeheskQMP1KFyPwiJAhetRuB4FI0CuR+F6FK4iQHE9CtejcCNAzczMzMxMJEDhehSuR2ElQEjhehSuRypAexSuR+H6JUCPwvUoXI8iQI/C9ShcDytApHA9CtcjJUCamZmZmZklQJqZmZmZmSVA4XoUrkdhIkB7FK5H4XocQB+F61G4HhlACtejcD0KHEBmZmZmZmYbQB+F61G4HhVAPQrXo3A9IUCPwvUoXA8lQOxRuB6F6ydAj8L1KFwPKEAfhetRuJ4xQBSuR+F6FCRA4XoUrkdhIkA9CtejcD0kQD0K16NwPSBAcT0K16NwH0BI4XoUrscgQPYoXI/CdSJArkfhehSuHkAAAAAAAAAXQMP1KFyPQi1ASOF6FK7HMEAK16NwPQoqQFK4HoXrUSNAZmZmZmZmHUDsUbgehesRQIXrUbgehRRACtejcD0KFEBmZmZmZmYjQI/C9ShcjyBAw/UoXI/CJECamZmZmdkyQPYoXI/C9R5A4XoUrkdhJUBcj8L1KFweQHsUrkfhehxAMzMzMzMzHkDhehSuR+EfQHE9Ctej8CJAw/UoXI9CLkApXI/C9agvQGZmZmZm5ilAZmZmZmZmG0DsUbgehesPQHsUrkfheqS/UrgehetR2L+amZmZmZnpPwAAAAAAAPg/pHA9Ctej8D9SuB6F61HIv5qZmZmZmek/ZmZmZmZm+j9xPQrXo3D9P1K4HoXrURFAH4XrUbgeBUAzMzMzMzP/P7gehetRuPY/w/UoXI/CBcCF61G4HoXjv/YoXI/C9fS/w/UoXI/CBUAfhetRuB4ZQB+F61G4HhVAcT0K16NwKEBxPQrXo3AZQMP1KFyPwhNAFK5H4XoUCkA9CtejcD3iP+F6FK5H4QjAw/UoXI/C+T97FK5H4XoRQFK4HoXr0SlA16NwPQrXEEApXI/C9SgTQLgehetR+DBA16NwPQrXJUA9CtejcD0cQMP1KFyPAjFA9ihcj8J1M0AAAAAAAIAsQAAAAAAAABNApHA9Ctej8D/hehSuR+HyP9ejcD0K19M/CtejcD0K+z8UrkfhehQhQD0K16NwPR1A4XoUrkfhG0BxPQrXo3ApQNejcD0KVzNA9ihcj8L1LUCkcD0K16MVQMP1KFyPwhlA16NwPQrXEkApXI/C9Sj8P7gehetRuPa/KVyPwvUoEUBxPQrXo3ANQIXrUbgeBS9APQrXo3A9JEAUrkfhehQCQHE9CtejcAVAmpmZmZmZKEBSuB6F69EmQIXrUbgeBSBAhetRuB6FFEBI4XoUrkcDwK5H4XoUrvu/cT0K16NwzT8AAAAAAAAkQBSuR+F6lClAMzMzMzMz/z8UrkfhehTmPylcj8L1KBNArkfhehSuB0AUrkfhehT2P8P1KFyPwhNAmpmZmZmZGUAAAAAAAAAeQArXo3A9CipASOF6FK5HG0BSuB6F61EVQLgehetReDBAFK5H4XoU/j8UrkfhehQOQClcj8L1KLy/7FG4HoXrD0A9CtejcD0yQDMzMzMzMy1AhetRuB6FKEAfhetRuB75P9ejcD0K1xJA9ihcj8L1GEDD9Shcj8IFQD0K16NwPSRAAAAAAAAAJEBSuB6F69EpQDMzMzMzMyxA16NwPQrX/z/Xo3A9CtfTP9ejcD0K1xhA16NwPQqXMEBxPQrXo3AoQEjhehSuRxNA16NwPQrXFkBcj8L1KFwmQI/C9ShcTzJAzczMzMwMMUDXo3A9CtcjQKRwPQrXIyXAw/UoXI/CF8D2KFyPwvUvQFK4HoXrUS9AUrgehetR2L8zMzMzMzMeQDMzMzMzMx5A16NwPQpXLUC4HoXrUTgoQOxRuB6F6xVA7FG4HoXr8b9I4XoUrkfRv4XrUbgehRJAUrgehetRL0CF61G4HgUjQHsUrkfhehxAmpmZmZmZA0AUrkfhepQxQMP1KFyPQitAhetRuB6FFkDhehSuR+EAQK5H4XoUru+/cT0K16PwIEC4HoXrUfgwQJqZmZmZmStA7FG4HoXrFUBI4XoUrkcHQDMzMzMzMypAFK5H4XqULEDsUbgehesPQGZmZmZmZvq/SOF6FK5HE8CuR+F6FK4HQClcj8L1qCxAMzMzMzMzKkA9CtejcD0hQEjhehSuRwNAAAAAAAAA+D8fhetRuJ4kQPYoXI/C9RRAUrgehetRHED2KFyPwvX0v65H4XoUrgnASOF6FK5H8T9I4XoUrkfxP65H4XoU7jBArkfhehTuMEAAAAAAAAAhQPYoXI/C9R5AXI/C9ShcGkBI4XoUrkcLwKRwPQrXo/A/4XoUrkfhCED2KFyPwnUiQDMzMzMzsyNASOF6FK5HJkC4HoXrUTgoQJqZmZmZmR1AcT0K16NwKED2KFyPwvUtQArXo3A9iiFAKVyPwvUoEUAfhetRuB75P65H4XoUru8/zczMzMzM/D/2KFyPwvUqQPYoXI/CdTNAmpmZmZmZJkCPwvUoXI8gQBSuR+F6FBZAAAAAAAAAE0AzMzMzMzMYQM3MzMzMzPw/H4XrUbgeG0ApXI/C9SghQGZmZmZmZiNArkfhehQuK0AUrkfhepQpQBSuR+F6FBhAPQrXo3A9AEB7FK5H4Xq0vwAAAAAAACRA16NwPQoXMkA9CtejcD0kQFyPwvUoXAlAexSuR+F6HECuR+F6FK4lQI/C9ShcDyNAj8L1KFwPI0B7FK5H4XogQMP1KFyPwhlAPQrXo3A9FkAzMzMzMzPDPx+F61G4Hvm/SOF6FK7HIEBSuB6F65EzQClcj8L1qC9AuB6F61G4FUCkcD0K1yMlQK5H4XoUriRAFK5H4XoUBkBxPQrXo3AjQBSuR+F6FCFAAAAAAAAAHUCPwvUoXI8bQDMzMzMzMxhAAAAAAAAA+D9I4XoUrkcbQJqZmZmZGS5AexSuR+G6MUBmZmZmZiYzQDMzMzMzsyBAAAAAAAAAIUDsUbgehesnQEjhehSuRzJA16NwPQrXJEApXI/C9SgjQK5H4XoUrglAH4XrUbge+b/sUbgehesLwHE9CtejcN0/9ihcj8J1JUBSuB6F65EzQB+F61G4niBAmpmZmZkZIECkcD0K16MtQMP1KFyPQi1AH4XrUbieI0AK16NwPQocQBSuR+F6FApA7FG4HoXr8b97FK5H4XoIwClcj8L1KLy/FK5H4XqUKkBSuB6F65EzQLgehetRuC5AZmZmZmZmHUDsUbgehasxQD0K16NwPRZAexSuR+F6HEBmZmZmZmYSQGZmZmZmZgLAH4XrUbgeAcAAAAAAAADgPylcj8L1KDJAKVyPwvUoMkApXI/C9SgyQB+F61G4niFA16NwPQrXHEBSuB6F61EvQFK4HoXrUSBAKVyPwvUoIUAzMzMzM7MhQClcj8L1KCBApHA9CtejHECF61G4HoUeQK5H4XoUrh5AXI/C9ShcHkAfhetRuB4bQK5H4XoUrh5AAAAAAAAAHkCF61G4HgUgQOF6FK5H4RtAMzMzMzMzGkAfhetRuB4bQIXrUbgehRpAAAAAAAAAHUBcj8L1KFweQDMzMzMzMx5ApHA9CtejGkAK16NwPQocQD0K16NwPR1Aj8L1KFyPG0C4HoXrUbgbQAAAAAAAAB5A9ihcj8L1HkAfhetRuB4bQI/C9ShcjxtAUrgehetRHEAAAAAAAAAdQHsUrkfhehxAFK5H4XoUHUA9CtejcD0cQHsUrkfhehxA16NwPQrXHEA9CtejcD0dQGZmZmZmZh1AFK5H4XoUHUAAAAAAAAAeQNejcD0K1x1Aw/UoXI/CHUAAAAAAAAAdQJqZmZmZmR1Aw/UoXI/CHUDXo3A9CtcdQD0K16NwPR1A16NwPQrXHUA9CtejcD0dQAAAAAAAAB5A16NwPQrXHEDXo3A9CtcdQNejcD0K1xxAZmZmZmZmHUA9CtejcD0dQGZmZmZmZh1AFK5H4XoUHUDXo3A9CtcdQNejcD0K1xxAZmZmZmZmHUCamZmZmZkdQNejcD0K1x1APQrXo3A9HUCkcD0K16McQAAAAAAAAB1A16NwPQrXHEDXo3A9CtccQBSuR+F6FB1A16NwPQrXHEB7FK5H4XocQGZmZmZmZh1AhetRuB6FHkBI4XoUrkcZQD0K16NwPRxAUrgehetRHEDhehSuR+EbQHE9CtejcBlAUrgehetRHEBmZmZmZmYbQLgehetRuBtACtejcD0KGkBmZmZmZmYbQKRwPQrXoxxApHA9CtejHECkcD0K16McQNejcD0K1xxAuB6F61G4G0Bcj8L1KFwaQNejcD0K1xxApHA9CtejHEA9CtejcD0cQFK4HoXrURxAPQrXo3A9HEDD9Shcj8IdQFyPwvUoXB5AhetRuB6FHkAK16NwPQoaQB+F61G4HhtASOF6FK5HH0AAAAAAAAAeQPYoXI/C9RpAcT0K16NwGUA9CtejcD0cQM3MzMzMzB5AXI/C9ShcHkDNzMzMzMwaQLgehetRuBtA16NwPQrXHUA9CtejcD0dQEjhehSuRxtA16NwPQrXHEA9CtejcD0cQHsUrkfhehxAhetRuB6FHkBI4XoUrkcZQIXrUbgehRhAhetRuB6FFECF61G4HoUaQFK4HoXrURxAH4XrUbgeG0D2KFyPwvUaQArXo3A9ChpAmpmZmZmZF0BmZmZmZmYdQAAAAAAAAB5AmpmZmZmZGUBI4XoUrkcZQD0K16NwPRxAPQrXo3A9HEAzMzMzMzMeQFK4HoXrURxA9ihcj8L1FEB7FK5H4XoRQEjhehSuRxlAMzMzMzMzHkAzMzMzMzMaQHsUrkfhehxAuB6F61G4H0DsUbgehesRQI/C9ShcjwxASOF6FK5HB0CuR+F6FK4SQIXrUbgehRhAhetRuB6FGkBcj8L1KFwaQBSuR+F6FBZA9ihcj8L1GkD2KFyPwvUaQPYoXI/C9RpAw/UoXI/CGUDNzMzMzMweQEjhehSuRxlA4XoUrkfhGUAUrkfhehQYQM3MzMzMzB5A16NwPQrXGEAzMzMzMzMaQD0K16NwPR1Aw/UoXI/CGUC4HoXrUbgbQB+F61G4HhtAhetRuB6FHkBxPQrXo3AZQFyPwvUoXBhA9ihcj8L1GEDhehSuR+EbQKRwPQrXoxxA4XoUrkfhGUCkcD0K16McQK5H4XoUrhhAXI/C9ShcGED2KFyPwvUYQPYoXI/C9RpAFK5H4XoUHUCPwvUoXI8fQI/C9ShcjxtACtejcD0KGkDhehSuR+EZQNejcD0K1xxAmpmZmZmZF0AK16NwPQoaQMP1KFyPwhlAexSuR+F6IEBI4XoUrkcfQArXo3A9ChxAcT0K16NwF0CuR+F6FK4WQEjhehSuRxlASOF6FK5HG0AUrkfhehQdQD0K16NwPRxAFK5H4XoUHUC4HoXrUbgbQGZmZmZmZhtA16NwPQrXHEAAAAAAAAAeQBSuR+F6FB1A4XoUrkfhG0D2KFyPwvUaQLgehetRuBtApHA9CtejHECkcD0K16McQOF6FK5H4RtAj8L1KFyPG0CPwvUoXI8bQPYoXI/C9RpAj8L1KFyPG0CPwvUoXI8bQD0K16NwPRxA4XoUrkfhG0CPwvUoXI8bQI/C9ShcjxtAuB6F61G4G0DhehSuR+EbQArXo3A9ChxAZmZmZmZmG0BSuB6F61EcQOF6FK5H4RtACtejcD0KHEAK16NwPQocQFK4HoXrURxA4XoUrkfhG0AK16NwPQocQLgehetRuBtACtejcD0KHECPwvUoXI8bQGZmZmZmZhtA4XoUrkfhG0DhehSuR+EbQEjhehSuRxtAuB6F61G4G0C4HoXrUbgbQOF6FK5H4RtAZmZmZmZmG0BSuB6F61EcQD0K16NwPRxAuB6F61G4G0DhehSuR+EbQKRwPQrXoxxAuB6F61G4G0BSuB6F61EcQArXo3A9ChxAj8L1KFyPG0BSuB6F61EcQFK4HoXrURxApHA9CtejHEC4HoXrUbgbQKRwPQrXoxxAPQrXo3A9HEB7FK5H4XocQGZmZmZmZhtAmpmZmZmZHUAAAAAAAAAdQAAAAAAAAB1ASOF6FK5HG0AK16NwPQocQKRwPQrXoxxA4XoUrkfhG0CF61G4HoUUQArXo3A9CgtAFK5H4XoUDkDhehSuR+HyPwrXo3A9ChpAZmZmZmbmK0CF61G4HgUwQM3MzMzMTCJAuB6F61E4KEAfhetRuJ4gQAAAAAAAABdAXI/C9ShcFEB7FK5H4XocQFK4HoXrUSFAH4XrUbgeLEBI4XoUrscwQJqZmZmZmSVAzczMzMxMIkDNzMzMzEwkQKRwPQrXIyVA7FG4HoXrC0CF61G4HoUUQLgehetRuApAuB6F61G4AkAUrkfhehQkQLgehetReDBAH4XrUbgeJ0BxPQrXo/AgQClcj8L1KCRAzczMzMzMGkDXo3A9CtcHQM3MzMzMzAxA9ihcj8L1GECkcD0K1yMmQEjhehSuRypAhetRuB4FL0CPwvUoXI8gQI/C9ShcjyBAPQrXo3A9I0AK16NwPYojQNejcD0K1x1AZmZmZmZmCkBSuB6F61EOQDMzMzMzMxRAcT0K16NwF0DXo3A9CtcdQAAAAAAAACVAmpmZmZmZIkAK16NwPQocQGZmZmZmZiNA7FG4HoXrJEDsUbgeheskQM3MzMzMzBpAFK5H4XoUCkApXI/C9SgXQI/C9ShcDyZArkfhehSuJUCF61G4HoUrQFyPwvUoXClAw/UoXI/CF0DD9Shcj8IXQMP1KFyPwhdAhetRuB6FGkCF61G4HoUaQEjhehSuRwdAuB6F61G4AkCF61G4HoUSQIXrUbgehSVASOF6FK5HKUBI4XoUrkcfQNejcD0K1yFAXI/C9ShcHkA9CtejcD0MQOF6FK5H4RlAAAAAAAAAHUDNzMzMzEwiQOF6FK5H4S9AexSuR+H6KECF61G4HoUeQHsUrkfhehxASOF6FK7HIUBmZmZmZmYWQFK4HoXrUQ5AcT0K16NwBUBxPQrXo3ANQHE9Ctej8CBAzczMzMwMMUBI4XoUrkcqQHE9CtejcCNAFK5H4XoUJEApXI/C9SgXQEjhehSuRwtAhetRuB4FIEBI4XoUrkcfQHE9CtejcCNAzczMzMxMJ0CuR+F6FK4eQIXrUbgehR5AFK5H4XoUJ0DhehSuR2EnQClcj8L1KBFAAAAAAAAAEUDsUbgehesDQHsUrkfheuw/H4XrUbgeLUAK16NwPQouQArXo3A9ChpACtejcD0KGkB7FK5H4XogQOxRuB6F6xdA9ihcj8L1E0CkcD0K16McQOF6FK5H4R9ArkfhehSuJUC4HoXrUTglQBSuR+F6FBhAhetRuB6FJkBcj8L1KFwmQEjhehSuRx9AKVyPwvUoE0CkcD0K16MGQBSuR+F6FAJAexSuR+F6FUBI4XoUrkcmQArXo3A9ChpASOF6FK5HGUDNzMzMzEwkQPYoXI/C9R5AUrgehetRFUAAAAAAAAAXQPYoXI/C9RhAUrgehetRHECuR+F6FK4kQOF6FK5HYSRAcT0K16PwIEDXo3A9CtchQFyPwvUoXChAuB6F61G4H0CuR+F6FK4SQMP1KFyPwg1Aj8L1KFyPEEDsUbgehesLQBSuR+F6FBZA4XoUrkdhJ0BI4XoUrscgQDMzMzMzMx5AZmZmZmZmI0AzMzMzMzMYQGZmZmZmZhJAKVyPwvUoE0DXo3A9CtcWQClcj8L1KCJAhetRuB6FKUDXo3A9CtchQK5H4XoUrh5Aj8L1KFwPK0Bcj8L1KNwiQAAAAAAAABFAcT0K16NwDUAzMzMzMzMBQGZmZmZmZgJArkfhehSuHkAUrkfhepQsQFK4HoXrURxAcT0K16NwDUAAAAAAAAAiQHE9CtejcBdAcT0K16NwF0BxPQrXo3ATQMP1KFyPwhNAXI/C9ShcFEAUrkfhehQWQJqZmZmZmRlA16NwPQrXIUCPwvUoXI8fQAAAAAAAABNAexSuR+F6IEAzMzMzMzMeQDMzMzMzM/8/9ihcj8L1FECPwvUoXI8iQClcj8L1KCBAXI/C9ShcHkDNzMzMzEwkQHE9CtejcB9AUrgehetRIUD2KFyPwvUYQPYoXI/CdSFAMzMzMzMzHkCamZmZmZkPQFK4HoXrURdAMzMzMzOzIUAfhetRuB4nQB+F61G4niRA16NwPQrXI0DhehSuR+EbQOxRuB6F6yFAcT0K16NwH0AUrkfhehQdQClcj8L1KBNAPQrXo3A9DEDsUbgehWssQOxRuB6FayxA7FG4HoVrLEAK16NwPYokQOF6FK5H4R9AKVyPwvUoIUD2KFyPwvUYQEjhehSuRw9A16NwPQrXFkApXI/C9SgXQHE9CtejcB9AhetRuB6FJkCF61G4HgUgQFK4HoXrURxAPQrXo3A9I0DXo3A9CtclQOF6FK5H4QhAexSuR+F6EUBSuB6F61ERQPYoXI/C9QZA9ihcj8J1IkDhehSuR+EqQArXo3A9ChRACtejcD0KGkCF61G4HgUgQFK4HoXrURFA4XoUrkfhAEAAAAAAAAARQD0K16NwPRxAUrgehetRIEBSuB6F69EoQArXo3A9iiRAFK5H4XoUJEAzMzMzMzMnQEjhehSuxyFA16NwPQrXFkC4HoXrUbgKQNejcD0K1/8/XI/C9ShcCUCuR+F6FK4HQAAAAAAAgC1AexSuR+F6FUCamZmZmZkdQOF6FK5HYSRAUrgehetREUCkcD0K16MGQJqZmZmZmQtA7FG4HoXrF0BSuB6F61EgQHE9CtejcChAuB6F61E4KEDD9Shcj8IXQDMzMzMzsyNAhetRuB4FI0D2KFyPwvUYQArXo3A9Cvs/KVyPwvUo/D+uR+F6FK77P65H4XoUrvs/KVyPwvUo/D8pXI/C9Sj8P65H4XoUrvs/CtejcD0K+z+uR+F6FK77Pylcj8L1KPw/KVyPwvUo/D+uR+F6FK77P65H4XoUrvs/CtejcD0K+z+uR+F6FK77P65H4XoUrvs/rkfhehSu+z8pXI/C9Sj8P65H4XoUrvs/KVyPwvUo/D8pXI/C9Sj8Pylcj8L1KPw/KVyPwvUo/D+uR+F6FK77P2ZmZmZmZvo/rkfhehSu+z8pXI/C9Sj8P3E9CtejcP0/CtejcD0K+z8K16NwPQr7P65H4XoUrvs/rkfhehSu+z+uR+F6FK77Pylcj8L1KPw/rkfhehSu+z+uR+F6FK77P65H4XoUrvs/rkfhehSu+z+uR+F6FK77Pylcj8L1KPw/KVyPwvUo/D8pXI/C9Sj8P65H4XoUrvs/KVyPwvUo/D+uR+F6FK77Pylcj8L1KPw/rkfhehSu+z8pXI/C9Sj8Pylcj8L1KPw/CtejcD0K+z+uR+F6FK77Pylcj8L1KPw/KVyPwvUo/D+uR+F6FK77P65H4XoUrvs/rkfhehSu+z+uR+F6FK77P65H4XoUrvs/rkfhehSu+z+uR+F6FK77P65H4XoUrvs/CtejcD0K+z+uR+F6FK77Pylcj8L1KPw/KVyPwvUo/D+uR+F6FK77Pylcj8L1KPw/rkfhehSu+z/NzMzMzMz8P65H4XoUrvs/rkfhehSu+z8pXI/C9Sj8Pylcj8L1KPw/rkfhehSu+z8K16NwPQr7Pylcj8L1KPw/KVyPwvUo/D+uR+F6FK77P65H4XoUrvs/KVyPwvUo/D+uR+F6FK77P65H4XoUrvs/rkfhehSu+z+uR+F6FK77P65H4XoUrvs/rkfhehSu+z+uR+F6FK77Pylcj8L1KPw/rkfhehSu+z8pXI/C9Sj8Pylcj8L1KPw/rkfhehSu+z+uR+F6FK77P65H4XoUrvs/rkfhehSu+z/NzMzMzMz8P65H4XoUrvs/rkfhehSu+z+uR+F6FK77Pylcj8L1KPw/rkfhehSu+z8pXI/C9Sj8P65H4XoUrvs/KVyPwvUo/D+uR+F6FK77Pylcj8L1KPw/KVyPwvUo/D8pXI/C9Sj8Pylcj8L1KPw/KVyPwvUo/D+uR+F6FK77P65H4XoUrvs/CtejcD0K+z+uR+F6FK77Pylcj8L1KPw/KVyPwvUo/D+uR+F6FK77Pylcj8L1KPw/KVyPwvUo/D+uR+F6FK77P65H4XoUrvs/rkfhehSu+z+uR+F6FK77Pylcj8L1KPw/zczMzMzM/D+uR+F6FK77P65H4XoUrvs/KVyPwvUo/D+uR+F6FK77Pylcj8L1KPw/rkfhehSu+z8pXI/C9Sj8P65H4XoUrvs/rkfhehSu+z+uR+F6FK77Pylcj8L1KPw/rkfhehSu+z+uR+F6FK77Pylcj8L1KPw/rkfhehSu+z8pXI/C9Sj8Pylcj8L1KPw/KVyPwvUo/D8pXI/C9Sj8P65H4XoUrvs/KVyPwvUo/D8pXI/C9Sj8Pylcj8L1KPw/KVyPwvUo/D+uR+F6FK77P83MzMzMzPw/KVyPwvUo/D+uR+F6FK77Pylcj8L1KPw/KVyPwvUo/D8pXI/C9Sj8Pylcj8L1KPw/KVyPwvUo/D8pXI/C9Sj8Pylcj8L1KPw/KVyPwvUo/D8pXI/C9Sj8Pylcj8L1KPw/KVyPwvUo/D8pXI/C9Sj8P65H4XoUrvs/rkfhehSu+z8pXI/C9Sj8Pylcj8L1KPw/CtejcD0K+z/NzMzMzMz8Pylcj8L1KPw/KVyPwvUo/D8pXI/C9Sj8Pylcj8L1KPw/KVyPwvUo/D8pXI/C9Sj8P65H4XoUrvs/rkfhehSu+z+uR+F6FK77Pylcj8L1KPw/rkfhehSu+z+uR+F6FK77P65H4XoUrvs/KVyPwvUo/D8K16NwPQr7Pylcj8L1KPw/KVyPwvUo/D+uR+F6FK77Pylcj8L1KPw/KVyPwvUo/D8pXI/C9Sj8Pylcj8L1KPw/KVyPwvUo/D8pXI/C9Sj8P83MzMzMzPw/rkfhehSu+z8pXI/C9Sj8Pylcj8L1KPw/KVyPwvUo/D/NzMzMzMz8P83MzMzMzPw/KVyPwvUo/D8pXI/C9Sj8Pylcj8L1KPw/KVyPwvUo/D8pXI/C9Sj8P65H4XoUrvs/KVyPwvUo/D8pXI/C9Sj8Pylcj8L1KPw/KVyPwvUo/D8pXI/C9Sj8P83MzMzMzPw/KVyPwvUo/D8pXI/C9Sj8Pylcj8L1KPw/KVyPwvUo/D/NzMzMzMz8Pylcj8L1KPw/KVyPwvUo/D/NzMzMzMz8Pylcj8L1KPw/KVyPwvUo/D/NzMzMzMz8P83MzMzMzPw/KVyPwvUo/D8pXI/C9Sj8Pylcj8L1KPw/zczMzMzM/D8pXI/C9Sj8Pylcj8L1KPw/KVyPwvUo/D+uR+F6FK77P83MzMzMzPw/zczMzMzM/D8pXI/C9Sj8Pylcj8L1KPw/cT0K16Nw/T/NzMzMzMz8Pylcj8L1KPw/KVyPwvUo/D/NzMzMzMz8Pylcj8L1KPw/KVyPwvUo/D8pXI/C9Sj8P83MzMzMzPw/zczMzMzM/D/NzMzMzMz8Pylcj8L1KPw/zczMzMzM/D8pXI/C9Sj8Pylcj8L1KPw/KVyPwvUo/D/NzMzMzMz8Pylcj8L1KPw/rkfhehSuFkBSuB6F61EgQMP1KFyPwh1Aj8L1KFyPG0AzMzMzMzMaQFK4HoXr0StAFK5H4XqUKkAzMzMzMzMsQMP1KFyPwiRArkfhehSuB0B7FK5H4XoEQI/C9ShcjwxAAAAAAAAAE0AUrkfhehQGQBSuR+F6FAZAFK5H4XoUHUAfhetRuB75Pz0K16NwPSRAAAAAAAAAE0DD9Shcj8IdQBSuR+F6FCRAH4XrUbgeGUCuR+F6FK4SQKRwPQrXoxxAcT0K16NwH0DD9Shcj8IdQIXrUbgehRpAmpmZmZmZGUCPwvUoXA8lQBSuR+F6lCpAj8L1KFwPKUD2KFyPwnUkQPYoXI/C9RNAcT0K16NwBUA9CtejcD0EQClcj8L1KBFAmpmZmZmZA0BSuB6F61EXQK5H4XoUrhZA7FG4HoXrD0C4HoXrUbguQMP1KFyPwh1ASOF6FK5HB0AUrkfhehQnQPYoXI/C9R5A9ihcj8L1E0B7FK5H4XocQHE9Ctej8CBAzczMzMzMHkCF61G4HoUeQGZmZmZmZhZAj8L1KFwPKEAAAAAAAIAtQFK4HoXr0SxASOF6FK7HL0AzMzMzMzMJQM3MzMzMzOQ/16NwPQrX/z/D9Shcj8INQPYoXI/C9fQ/SOF6FK7HI0CuR+F6FO4wQGZmZmZmZgJA9ihcj8L1LEDXo3A9CtchQHE9CtejcBdACtejcD2KIUDsUbgehesXQNejcD0K1xBAMzMzMzMzFEAAAAAAAAAdQNejcD0K1x1AexSuR+F6IEBI4XoUrkcbQJqZmZmZmSJAzczMzMxMKEDNzMzMzEwoQM3MzMzMTChAH4XrUbgeBUDXo3A9Ctf/P+xRuB6F6wtAPQrXo3A9EkDNzMzMzMwEQPYoXI/C9S9AexSuR+H6J0CkcD0K16MGQDMzMzMzsyFAexSuR+F6FUAzMzMzM7MjQJqZmZmZmSdAuB6F61G4G0BSuB6F61EVQOxRuB6F6xVAcT0K16NwH0BmZmZmZmYgQB+F61G4Hh9AhetRuB6FGkCuR+F6FK4iQOxRuB6FayxACtejcD0KLEDXo3A9CtclQBSuR+F6FBhAUrgehetRBkDD9Shcj8IFQD0K16NwPQxAuB6F61G4AkDsUbgehesnQM3MzMzMzC5AXI/C9ShcHkCPwvUoXA8oQAAAAAAAABdAFK5H4XoUHUBxPQrXo3AjQB+F61G4HhVAhetRuB6FEkAfhetRuB4bQK5H4XoUrh5AAAAAAAAAIUCPwvUoXI8fQB+F61G4HhVAAAAAAAAAJUA9CtejcL0rQDMzMzMzMypAmpmZmZkZLkC4HoXrUbgQQDMzMzMzMwFArkfhehSuCUAzMzMzMzMJQB+F61G4HgVACtejcD0KLUBSuB6F69EpQEjhehSuR/E/FK5H4XqUKkBmZmZmZmYbQB+F61G4niFAH4XrUbieIUDsUbgehesVQK5H4XoUrhJAmpmZmZmZHUAfhetRuB4fQB+F61G4Hh9AMzMzMzMzGEBI4XoUrkcZQOF6FK5HYSVAXI/C9ShcKECuR+F6FK4oQFyPwvUoXClAFK5H4XoUHUCamZmZmZkLQB+F61G4Hg1AKVyPwvUoEUDhehSuR+EIQOxRuB6FayxAAAAAAACALEApXI/C9SgRQEjhehSuRx9AexSuR+F6FUApXI/C9SgjQD0K16NwvShAw/UoXI/CE0BI4XoUrkcLQDMzMzMzMxhASOF6FK7HIEApXI/C9SghQEjhehSuRxlAw/UoXI/CE0A9CtejcD0kQIXrUbgehStA4XoUrkfhKkAfhetRuJ4hQClcj8L1KBFAUrgehetR6D+kcD0K16MGQAAAAAAAABFASOF6FK5HC0AfhetRuJ4jQD0K16NwPTFAexSuR+F6IEDhehSuR2EiQD0K16NwPRJAexSuR+F6HEAAAAAAAAAkQDMzMzMzMxRArkfhehSuB0BI4XoUrkcbQB+F61G4niNAZmZmZmZmHUAK16NwPQoUQHE9CtejcBlAUrgehevRJkDhehSuR+EsQJqZmZmZGS5AzczMzMxMIkDNzMzMzMwMQOF6FK5H4eo/j8L1KFyPEEA9CtejcD0MQClcj8L1KBFAcT0K16PwLkAK16NwPQoLQHE9Ctej8CJAcT0K16PwIEAAAAAAAAATQI/C9ShcDylAZmZmZmZmI0D2KFyPwvUTQGZmZmZmZhBAhetRuB4FIECuR+F6FK4eQIXrUbgehR5AH4XrUbgeG0DD9Shcj8IiQB+F61G4HipApHA9CtcjK0Bcj8L1KFwpQB+F61G4HhtAMzMzMzMzCUC4HoXrUbgUQLgehetRuBRAuB6F61G4FEC4HoXrUbgUQClcj8L1KDFA16NwPQrXJEAAAAAAAAAiQEjhehSuRyZAuB6F61G4G0D2KFyPwvUeQAAAAAAAACJAhetRuB6FEkD2KFyPwvUOQPYoXI/CdSFAFK5H4XoUIUA9CtejcD0hQFyPwvUoXBpA9ihcj8L1FECamZmZmZkoQKRwPQrXoytAzczMzMzMKkBmZmZmZuYoQKRwPQrXowZA9ihcj8L1AkCPwvUoXI8QQKRwPQrXoxVAKVyPwvUoEUB7FK5H4boxQB+F61G4Hh9A4XoUrkfhAEB7FK5H4XogQIXrUbgehRpAzczMzMxMJECPwvUoXA8mQOxRuB6F6wtAmpmZmZmZEUBI4XoUrkcfQAAAAAAAACJASOF6FK5HH0A=",
          "dtype": "f8"
         },
         "yaxis": "y2"
        },
        {
         "mode": "lines",
         "name": "Var 2",
         "showlegend": false,
         "type": "scatter",
         "x": {
          "bdata": "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",
          "dtype": "i2"
         },
         "xaxis": "x3",
         "y": {
          "bdata": "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",
          "dtype": "f8"
         },
         "yaxis": "y3"
        },
        {
         "marker": {
          "color": "rgb(102, 197, 204)"
         },
         "mode": "markers",
         "name": "Class 0",
         "showlegend": true,
         "type": "scatter",
         "x": [
          null
         ],
         "y": [
          null
         ]
        },
        {
         "marker": {
          "color": "rgb(246, 207, 113)"
         },
         "mode": "markers",
         "name": "Class 1",
         "showlegend": true,
         "type": "scatter",
         "x": [
          null
         ],
         "y": [
          null
         ]
        },
        {
         "marker": {
          "color": "rgb(248, 156, 116)"
         },
         "mode": "markers",
         "name": "Class 2",
         "showlegend": true,
         "type": "scatter",
         "x": [
          null
         ],
         "y": [
          null
         ]
        },
        {
         "marker": {
          "color": "rgb(158, 185, 243)"
         },
         "mode": "markers",
         "name": "Class 5",
         "showlegend": true,
         "type": "scatter",
         "x": [
          null
         ],
         "y": [
          null
         ]
        },
        {
         "marker": {
          "color": "rgb(220, 176, 242)"
         },
         "mode": "markers",
         "name": "Class 3",
         "showlegend": true,
         "type": "scatter",
         "x": [
          null
         ],
         "y": [
          null
         ]
        },
        {
         "marker": {
          "color": "rgb(135, 197, 95)"
         },
         "mode": "markers",
         "name": "Class 4",
         "showlegend": true,
         "type": "scatter",
         "x": [
          null
         ],
         "y": [
          null
         ]
        }
       ],
       "layout": {
        "height": 300,
        "legend": {
         "orientation": "h",
         "x": 1,
         "xanchor": "right",
         "y": 1.02,
         "yanchor": "bottom"
        },
        "margin": {
         "b": 30,
         "l": 15,
         "r": 15,
         "t": 30
        },
        "shapes": [
         {
          "fillcolor": "rgb(102, 197, 204)",
          "layer": "below",
          "line": {
           "width": 0
          },
          "name": "Class 0",
          "opacity": 0.4,
          "showlegend": false,
          "type": "rect",
          "x0": 0,
          "x1": 256,
          "xref": "x",
          "y0": 0,
          "y1": 1,
          "yref": "y domain"
         },
         {
          "fillcolor": "rgb(102, 197, 204)",
          "layer": "below",
          "line": {
           "width": 0
          },
          "name": "Class 0",
          "opacity": 0.4,
          "showlegend": false,
          "type": "rect",
          "x0": 0,
          "x1": 256,
          "xref": "x2",
          "y0": 0,
          "y1": 1,
          "yref": "y2 domain"
         },
         {
          "fillcolor": "rgb(102, 197, 204)",
          "layer": "below",
          "line": {
           "width": 0
          },
          "name": "Class 0",
          "opacity": 0.4,
          "showlegend": false,
          "type": "rect",
          "x0": 0,
          "x1": 256,
          "xref": "x3",
          "y0": 0,
          "y1": 1,
          "yref": "y3 domain"
         },
         {
          "fillcolor": "rgb(246, 207, 113)",
          "layer": "below",
          "line": {
           "width": 0
          },
          "name": "Class 1",
          "opacity": 0.4,
          "showlegend": false,
          "type": "rect",
          "x0": 256,
          "x1": 512,
          "xref": "x",
          "y0": 0,
          "y1": 1,
          "yref": "y domain"
         },
         {
          "fillcolor": "rgb(246, 207, 113)",
          "layer": "below",
          "line": {
           "width": 0
          },
          "name": "Class 1",
          "opacity": 0.4,
          "showlegend": false,
          "type": "rect",
          "x0": 256,
          "x1": 512,
          "xref": "x2",
          "y0": 0,
          "y1": 1,
          "yref": "y2 domain"
         },
         {
          "fillcolor": "rgb(246, 207, 113)",
          "layer": "below",
          "line": {
           "width": 0
          },
          "name": "Class 1",
          "opacity": 0.4,
          "showlegend": false,
          "type": "rect",
          "x0": 256,
          "x1": 512,
          "xref": "x3",
          "y0": 0,
          "y1": 1,
          "yref": "y3 domain"
         },
         {
          "line": {
           "color": "gray",
           "dash": "dash"
          },
          "type": "line",
          "x0": 256,
          "x1": 256,
          "xref": "x",
          "y0": 0,
          "y1": 1,
          "yref": "y domain"
         },
         {
          "line": {
           "color": "gray",
           "dash": "dash"
          },
          "type": "line",
          "x0": 256,
          "x1": 256,
          "xref": "x2",
          "y0": 0,
          "y1": 1,
          "yref": "y2 domain"
         },
         {
          "line": {
           "color": "gray",
           "dash": "dash"
          },
          "type": "line",
          "x0": 256,
          "x1": 256,
          "xref": "x3",
          "y0": 0,
          "y1": 1,
          "yref": "y3 domain"
         },
         {
          "fillcolor": "rgb(246, 207, 113)",
          "layer": "below",
          "line": {
           "width": 0
          },
          "name": "Class 1",
          "opacity": 0.4,
          "showlegend": false,
          "type": "rect",
          "x0": 512,
          "x1": 768,
          "xref": "x",
          "y0": 0,
          "y1": 1,
          "yref": "y domain"
         },
         {
          "fillcolor": "rgb(246, 207, 113)",
          "layer": "below",
          "line": {
           "width": 0
          },
          "name": "Class 1",
          "opacity": 0.4,
          "showlegend": false,
          "type": "rect",
          "x0": 512,
          "x1": 768,
          "xref": "x2",
          "y0": 0,
          "y1": 1,
          "yref": "y2 domain"
         },
         {
          "fillcolor": "rgb(246, 207, 113)",
          "layer": "below",
          "line": {
           "width": 0
          },
          "name": "Class 1",
          "opacity": 0.4,
          "showlegend": false,
          "type": "rect",
          "x0": 512,
          "x1": 768,
          "xref": "x3",
          "y0": 0,
          "y1": 1,
          "yref": "y3 domain"
         },
         {
          "line": {
           "color": "gray",
           "dash": "dash"
          },
          "type": "line",
          "x0": 512,
          "x1": 512,
          "xref": "x",
          "y0": 0,
          "y1": 1,
          "yref": "y domain"
         },
         {
          "line": {
           "color": "gray",
           "dash": "dash"
          },
          "type": "line",
          "x0": 512,
          "x1": 512,
          "xref": "x2",
          "y0": 0,
          "y1": 1,
          "yref": "y2 domain"
         },
         {
          "line": {
           "color": "gray",
           "dash": "dash"
          },
          "type": "line",
          "x0": 512,
          "x1": 512,
          "xref": "x3",
          "y0": 0,
          "y1": 1,
          "yref": "y3 domain"
         },
         {
          "fillcolor": "rgb(248, 156, 116)",
          "layer": "below",
          "line": {
           "width": 0
          },
          "name": "Class 2",
          "opacity": 0.4,
          "showlegend": false,
          "type": "rect",
          "x0": 768,
          "x1": 1024,
          "xref": "x",
          "y0": 0,
          "y1": 1,
          "yref": "y domain"
         },
         {
          "fillcolor": "rgb(248, 156, 116)",
          "layer": "below",
          "line": {
           "width": 0
          },
          "name": "Class 2",
          "opacity": 0.4,
          "showlegend": false,
          "type": "rect",
          "x0": 768,
          "x1": 1024,
          "xref": "x2",
          "y0": 0,
          "y1": 1,
          "yref": "y2 domain"
         },
         {
          "fillcolor": "rgb(248, 156, 116)",
          "layer": "below",
          "line": {
           "width": 0
          },
          "name": "Class 2",
          "opacity": 0.4,
          "showlegend": false,
          "type": "rect",
          "x0": 768,
          "x1": 1024,
          "xref": "x3",
          "y0": 0,
          "y1": 1,
          "yref": "y3 domain"
         },
         {
          "line": {
           "color": "gray",
           "dash": "dash"
          },
          "type": "line",
          "x0": 768,
          "x1": 768,
          "xref": "x",
          "y0": 0,
          "y1": 1,
          "yref": "y domain"
         },
         {
          "line": {
           "color": "gray",
           "dash": "dash"
          },
          "type": "line",
          "x0": 768,
          "x1": 768,
          "xref": "x2",
          "y0": 0,
          "y1": 1,
          "yref": "y2 domain"
         },
         {
          "line": {
           "color": "gray",
           "dash": "dash"
          },
          "type": "line",
          "x0": 768,
          "x1": 768,
          "xref": "x3",
          "y0": 0,
          "y1": 1,
          "yref": "y3 domain"
         },
         {
          "fillcolor": "rgb(158, 185, 243)",
          "layer": "below",
          "line": {
           "width": 0
          },
          "name": "Class 5",
          "opacity": 0.4,
          "showlegend": false,
          "type": "rect",
          "x0": 1024,
          "x1": 1280,
          "xref": "x",
          "y0": 0,
          "y1": 1,
          "yref": "y domain"
         },
         {
          "fillcolor": "rgb(158, 185, 243)",
          "layer": "below",
          "line": {
           "width": 0
          },
          "name": "Class 5",
          "opacity": 0.4,
          "showlegend": false,
          "type": "rect",
          "x0": 1024,
          "x1": 1280,
          "xref": "x2",
          "y0": 0,
          "y1": 1,
          "yref": "y2 domain"
         },
         {
          "fillcolor": "rgb(158, 185, 243)",
          "layer": "below",
          "line": {
           "width": 0
          },
          "name": "Class 5",
          "opacity": 0.4,
          "showlegend": false,
          "type": "rect",
          "x0": 1024,
          "x1": 1280,
          "xref": "x3",
          "y0": 0,
          "y1": 1,
          "yref": "y3 domain"
         },
         {
          "line": {
           "color": "gray",
           "dash": "dash"
          },
          "type": "line",
          "x0": 1024,
          "x1": 1024,
          "xref": "x",
          "y0": 0,
          "y1": 1,
          "yref": "y domain"
         },
         {
          "line": {
           "color": "gray",
           "dash": "dash"
          },
          "type": "line",
          "x0": 1024,
          "x1": 1024,
          "xref": "x2",
          "y0": 0,
          "y1": 1,
          "yref": "y2 domain"
         },
         {
          "line": {
           "color": "gray",
           "dash": "dash"
          },
          "type": "line",
          "x0": 1024,
          "x1": 1024,
          "xref": "x3",
          "y0": 0,
          "y1": 1,
          "yref": "y3 domain"
         },
         {
          "fillcolor": "rgb(158, 185, 243)",
          "layer": "below",
          "line": {
           "width": 0
          },
          "name": "Class 5",
          "opacity": 0.4,
          "showlegend": false,
          "type": "rect",
          "x0": 1280,
          "x1": 1536,
          "xref": "x",
          "y0": 0,
          "y1": 1,
          "yref": "y domain"
         },
         {
          "fillcolor": "rgb(158, 185, 243)",
          "layer": "below",
          "line": {
           "width": 0
          },
          "name": "Class 5",
          "opacity": 0.4,
          "showlegend": false,
          "type": "rect",
          "x0": 1280,
          "x1": 1536,
          "xref": "x2",
          "y0": 0,
          "y1": 1,
          "yref": "y2 domain"
         },
         {
          "fillcolor": "rgb(158, 185, 243)",
          "layer": "below",
          "line": {
           "width": 0
          },
          "name": "Class 5",
          "opacity": 0.4,
          "showlegend": false,
          "type": "rect",
          "x0": 1280,
          "x1": 1536,
          "xref": "x3",
          "y0": 0,
          "y1": 1,
          "yref": "y3 domain"
         },
         {
          "line": {
           "color": "gray",
           "dash": "dash"
          },
          "type": "line",
          "x0": 1280,
          "x1": 1280,
          "xref": "x",
          "y0": 0,
          "y1": 1,
          "yref": "y domain"
         },
         {
          "line": {
           "color": "gray",
           "dash": "dash"
          },
          "type": "line",
          "x0": 1280,
          "x1": 1280,
          "xref": "x2",
          "y0": 0,
          "y1": 1,
          "yref": "y2 domain"
         },
         {
          "line": {
           "color": "gray",
           "dash": "dash"
          },
          "type": "line",
          "x0": 1280,
          "x1": 1280,
          "xref": "x3",
          "y0": 0,
          "y1": 1,
          "yref": "y3 domain"
         },
         {
          "fillcolor": "rgb(220, 176, 242)",
          "layer": "below",
          "line": {
           "width": 0
          },
          "name": "Class 3",
          "opacity": 0.4,
          "showlegend": false,
          "type": "rect",
          "x0": 1536,
          "x1": 1792,
          "xref": "x",
          "y0": 0,
          "y1": 1,
          "yref": "y domain"
         },
         {
          "fillcolor": "rgb(220, 176, 242)",
          "layer": "below",
          "line": {
           "width": 0
          },
          "name": "Class 3",
          "opacity": 0.4,
          "showlegend": false,
          "type": "rect",
          "x0": 1536,
          "x1": 1792,
          "xref": "x2",
          "y0": 0,
          "y1": 1,
          "yref": "y2 domain"
         },
         {
          "fillcolor": "rgb(220, 176, 242)",
          "layer": "below",
          "line": {
           "width": 0
          },
          "name": "Class 3",
          "opacity": 0.4,
          "showlegend": false,
          "type": "rect",
          "x0": 1536,
          "x1": 1792,
          "xref": "x3",
          "y0": 0,
          "y1": 1,
          "yref": "y3 domain"
         },
         {
          "line": {
           "color": "gray",
           "dash": "dash"
          },
          "type": "line",
          "x0": 1536,
          "x1": 1536,
          "xref": "x",
          "y0": 0,
          "y1": 1,
          "yref": "y domain"
         },
         {
          "line": {
           "color": "gray",
           "dash": "dash"
          },
          "type": "line",
          "x0": 1536,
          "x1": 1536,
          "xref": "x2",
          "y0": 0,
          "y1": 1,
          "yref": "y2 domain"
         },
         {
          "line": {
           "color": "gray",
           "dash": "dash"
          },
          "type": "line",
          "x0": 1536,
          "x1": 1536,
          "xref": "x3",
          "y0": 0,
          "y1": 1,
          "yref": "y3 domain"
         },
         {
          "fillcolor": "rgb(135, 197, 95)",
          "layer": "below",
          "line": {
           "width": 0
          },
          "name": "Class 4",
          "opacity": 0.4,
          "showlegend": false,
          "type": "rect",
          "x0": 1792,
          "x1": 2048,
          "xref": "x",
          "y0": 0,
          "y1": 1,
          "yref": "y domain"
         },
         {
          "fillcolor": "rgb(135, 197, 95)",
          "layer": "below",
          "line": {
           "width": 0
          },
          "name": "Class 4",
          "opacity": 0.4,
          "showlegend": false,
          "type": "rect",
          "x0": 1792,
          "x1": 2048,
          "xref": "x2",
          "y0": 0,
          "y1": 1,
          "yref": "y2 domain"
         },
         {
          "fillcolor": "rgb(135, 197, 95)",
          "layer": "below",
          "line": {
           "width": 0
          },
          "name": "Class 4",
          "opacity": 0.4,
          "showlegend": false,
          "type": "rect",
          "x0": 1792,
          "x1": 2048,
          "xref": "x3",
          "y0": 0,
          "y1": 1,
          "yref": "y3 domain"
         },
         {
          "line": {
           "color": "gray",
           "dash": "dash"
          },
          "type": "line",
          "x0": 1792,
          "x1": 1792,
          "xref": "x",
          "y0": 0,
          "y1": 1,
          "yref": "y domain"
         },
         {
          "line": {
           "color": "gray",
           "dash": "dash"
          },
          "type": "line",
          "x0": 1792,
          "x1": 1792,
          "xref": "x2",
          "y0": 0,
          "y1": 1,
          "yref": "y2 domain"
         },
         {
          "line": {
           "color": "gray",
           "dash": "dash"
          },
          "type": "line",
          "x0": 1792,
          "x1": 1792,
          "xref": "x3",
          "y0": 0,
          "y1": 1,
          "yref": "y3 domain"
         },
         {
          "fillcolor": "rgb(248, 156, 116)",
          "layer": "below",
          "line": {
           "width": 0
          },
          "name": "Class 2",
          "opacity": 0.4,
          "showlegend": false,
          "type": "rect",
          "x0": 2048,
          "x1": 2304,
          "xref": "x",
          "y0": 0,
          "y1": 1,
          "yref": "y domain"
         },
         {
          "fillcolor": "rgb(248, 156, 116)",
          "layer": "below",
          "line": {
           "width": 0
          },
          "name": "Class 2",
          "opacity": 0.4,
          "showlegend": false,
          "type": "rect",
          "x0": 2048,
          "x1": 2304,
          "xref": "x2",
          "y0": 0,
          "y1": 1,
          "yref": "y2 domain"
         },
         {
          "fillcolor": "rgb(248, 156, 116)",
          "layer": "below",
          "line": {
           "width": 0
          },
          "name": "Class 2",
          "opacity": 0.4,
          "showlegend": false,
          "type": "rect",
          "x0": 2048,
          "x1": 2304,
          "xref": "x3",
          "y0": 0,
          "y1": 1,
          "yref": "y3 domain"
         },
         {
          "line": {
           "color": "gray",
           "dash": "dash"
          },
          "type": "line",
          "x0": 2048,
          "x1": 2048,
          "xref": "x",
          "y0": 0,
          "y1": 1,
          "yref": "y domain"
         },
         {
          "line": {
           "color": "gray",
           "dash": "dash"
          },
          "type": "line",
          "x0": 2048,
          "x1": 2048,
          "xref": "x2",
          "y0": 0,
          "y1": 1,
          "yref": "y2 domain"
         },
         {
          "line": {
           "color": "gray",
           "dash": "dash"
          },
          "type": "line",
          "x0": 2048,
          "x1": 2048,
          "xref": "x3",
          "y0": 0,
          "y1": 1,
          "yref": "y3 domain"
         },
         {
          "fillcolor": "rgb(102, 197, 204)",
          "layer": "below",
          "line": {
           "width": 0
          },
          "name": "Class 0",
          "opacity": 0.4,
          "showlegend": false,
          "type": "rect",
          "x0": 2304,
          "x1": 2560,
          "xref": "x",
          "y0": 0,
          "y1": 1,
          "yref": "y domain"
         },
         {
          "fillcolor": "rgb(102, 197, 204)",
          "layer": "below",
          "line": {
           "width": 0
          },
          "name": "Class 0",
          "opacity": 0.4,
          "showlegend": false,
          "type": "rect",
          "x0": 2304,
          "x1": 2560,
          "xref": "x2",
          "y0": 0,
          "y1": 1,
          "yref": "y2 domain"
         },
         {
          "fillcolor": "rgb(102, 197, 204)",
          "layer": "below",
          "line": {
           "width": 0
          },
          "name": "Class 0",
          "opacity": 0.4,
          "showlegend": false,
          "type": "rect",
          "x0": 2304,
          "x1": 2560,
          "xref": "x3",
          "y0": 0,
          "y1": 1,
          "yref": "y3 domain"
         },
         {
          "line": {
           "color": "gray",
           "dash": "dash"
          },
          "type": "line",
          "x0": 2304,
          "x1": 2304,
          "xref": "x",
          "y0": 0,
          "y1": 1,
          "yref": "y domain"
         },
         {
          "line": {
           "color": "gray",
           "dash": "dash"
          },
          "type": "line",
          "x0": 2304,
          "x1": 2304,
          "xref": "x2",
          "y0": 0,
          "y1": 1,
          "yref": "y2 domain"
         },
         {
          "line": {
           "color": "gray",
           "dash": "dash"
          },
          "type": "line",
          "x0": 2304,
          "x1": 2304,
          "xref": "x3",
          "y0": 0,
          "y1": 1,
          "yref": "y3 domain"
         }
        ],
        "showlegend": true,
        "template": {
         "data": {
          "bar": [
           {
            "error_x": {
             "color": "#2a3f5f"
            },
            "error_y": {
             "color": "#2a3f5f"
            },
            "marker": {
             "line": {
              "color": "#E5ECF6",
              "width": 0.5
             },
             "pattern": {
              "fillmode": "overlay",
              "size": 10,
              "solidity": 0.2
             }
            },
            "type": "bar"
           }
          ],
          "barpolar": [
           {
            "marker": {
             "line": {
              "color": "#E5ECF6",
              "width": 0.5
             },
             "pattern": {
              "fillmode": "overlay",
              "size": 10,
              "solidity": 0.2
             }
            },
            "type": "barpolar"
           }
          ],
          "carpet": [
           {
            "aaxis": {
             "endlinecolor": "#2a3f5f",
             "gridcolor": "white",
             "linecolor": "white",
             "minorgridcolor": "white",
             "startlinecolor": "#2a3f5f"
            },
            "baxis": {
             "endlinecolor": "#2a3f5f",
             "gridcolor": "white",
             "linecolor": "white",
             "minorgridcolor": "white",
             "startlinecolor": "#2a3f5f"
            },
            "type": "carpet"
           }
          ],
          "choropleth": [
           {
            "colorbar": {
             "outlinewidth": 0,
             "ticks": ""
            },
            "type": "choropleth"
           }
          ],
          "contour": [
           {
            "colorbar": {
             "outlinewidth": 0,
             "ticks": ""
            },
            "colorscale": [
             [
              0,
              "#0d0887"
             ],
             [
              0.1111111111111111,
              "#46039f"
             ],
             [
              0.2222222222222222,
              "#7201a8"
             ],
             [
              0.3333333333333333,
              "#9c179e"
             ],
             [
              0.4444444444444444,
              "#bd3786"
             ],
             [
              0.5555555555555556,
              "#d8576b"
             ],
             [
              0.6666666666666666,
              "#ed7953"
             ],
             [
              0.7777777777777778,
              "#fb9f3a"
             ],
             [
              0.8888888888888888,
              "#fdca26"
             ],
             [
              1,
              "#f0f921"
             ]
            ],
            "type": "contour"
           }
          ],
          "contourcarpet": [
           {
            "colorbar": {
             "outlinewidth": 0,
             "ticks": ""
            },
            "type": "contourcarpet"
           }
          ],
          "heatmap": [
           {
            "colorbar": {
             "outlinewidth": 0,
             "ticks": ""
            },
            "colorscale": [
             [
              0,
              "#0d0887"
             ],
             [
              0.1111111111111111,
              "#46039f"
             ],
             [
              0.2222222222222222,
              "#7201a8"
             ],
             [
              0.3333333333333333,
              "#9c179e"
             ],
             [
              0.4444444444444444,
              "#bd3786"
             ],
             [
              0.5555555555555556,
              "#d8576b"
             ],
             [
              0.6666666666666666,
              "#ed7953"
             ],
             [
              0.7777777777777778,
              "#fb9f3a"
             ],
             [
              0.8888888888888888,
              "#fdca26"
             ],
             [
              1,
              "#f0f921"
             ]
            ],
            "type": "heatmap"
           }
          ],
          "histogram": [
           {
            "marker": {
             "pattern": {
              "fillmode": "overlay",
              "size": 10,
              "solidity": 0.2
             }
            },
            "type": "histogram"
           }
          ],
          "histogram2d": [
           {
            "colorbar": {
             "outlinewidth": 0,
             "ticks": ""
            },
            "colorscale": [
             [
              0,
              "#0d0887"
             ],
             [
              0.1111111111111111,
              "#46039f"
             ],
             [
              0.2222222222222222,
              "#7201a8"
             ],
             [
              0.3333333333333333,
              "#9c179e"
             ],
             [
              0.4444444444444444,
              "#bd3786"
             ],
             [
              0.5555555555555556,
              "#d8576b"
             ],
             [
              0.6666666666666666,
              "#ed7953"
             ],
             [
              0.7777777777777778,
              "#fb9f3a"
             ],
             [
              0.8888888888888888,
              "#fdca26"
             ],
             [
              1,
              "#f0f921"
             ]
            ],
            "type": "histogram2d"
           }
          ],
          "histogram2dcontour": [
           {
            "colorbar": {
             "outlinewidth": 0,
             "ticks": ""
            },
            "colorscale": [
             [
              0,
              "#0d0887"
             ],
             [
              0.1111111111111111,
              "#46039f"
             ],
             [
              0.2222222222222222,
              "#7201a8"
             ],
             [
              0.3333333333333333,
              "#9c179e"
             ],
             [
              0.4444444444444444,
              "#bd3786"
             ],
             [
              0.5555555555555556,
              "#d8576b"
             ],
             [
              0.6666666666666666,
              "#ed7953"
             ],
             [
              0.7777777777777778,
              "#fb9f3a"
             ],
             [
              0.8888888888888888,
              "#fdca26"
             ],
             [
              1,
              "#f0f921"
             ]
            ],
            "type": "histogram2dcontour"
           }
          ],
          "mesh3d": [
           {
            "colorbar": {
             "outlinewidth": 0,
             "ticks": ""
            },
            "type": "mesh3d"
           }
          ],
          "parcoords": [
           {
            "line": {
             "colorbar": {
              "outlinewidth": 0,
              "ticks": ""
             }
            },
            "type": "parcoords"
           }
          ],
          "pie": [
           {
            "automargin": true,
            "type": "pie"
           }
          ],
          "scatter": [
           {
            "fillpattern": {
             "fillmode": "overlay",
             "size": 10,
             "solidity": 0.2
            },
            "type": "scatter"
           }
          ],
          "scatter3d": [
           {
            "line": {
             "colorbar": {
              "outlinewidth": 0,
              "ticks": ""
             }
            },
            "marker": {
             "colorbar": {
              "outlinewidth": 0,
              "ticks": ""
             }
            },
            "type": "scatter3d"
           }
          ],
          "scattercarpet": [
           {
            "marker": {
             "colorbar": {
              "outlinewidth": 0,
              "ticks": ""
             }
            },
            "type": "scattercarpet"
           }
          ],
          "scattergeo": [
           {
            "marker": {
             "colorbar": {
              "outlinewidth": 0,
              "ticks": ""
             }
            },
            "type": "scattergeo"
           }
          ],
          "scattergl": [
           {
            "marker": {
             "colorbar": {
              "outlinewidth": 0,
              "ticks": ""
             }
            },
            "type": "scattergl"
           }
          ],
          "scattermap": [
           {
            "marker": {
             "colorbar": {
              "outlinewidth": 0,
              "ticks": ""
             }
            },
            "type": "scattermap"
           }
          ],
          "scattermapbox": [
           {
            "marker": {
             "colorbar": {
              "outlinewidth": 0,
              "ticks": ""
             }
            },
            "type": "scattermapbox"
           }
          ],
          "scatterpolar": [
           {
            "marker": {
             "colorbar": {
              "outlinewidth": 0,
              "ticks": ""
             }
            },
            "type": "scatterpolar"
           }
          ],
          "scatterpolargl": [
           {
            "marker": {
             "colorbar": {
              "outlinewidth": 0,
              "ticks": ""
             }
            },
            "type": "scatterpolargl"
           }
          ],
          "scatterternary": [
           {
            "marker": {
             "colorbar": {
              "outlinewidth": 0,
              "ticks": ""
             }
            },
            "type": "scatterternary"
           }
          ],
          "surface": [
           {
            "colorbar": {
             "outlinewidth": 0,
             "ticks": ""
            },
            "colorscale": [
             [
              0,
              "#0d0887"
             ],
             [
              0.1111111111111111,
              "#46039f"
             ],
             [
              0.2222222222222222,
              "#7201a8"
             ],
             [
              0.3333333333333333,
              "#9c179e"
             ],
             [
              0.4444444444444444,
              "#bd3786"
             ],
             [
              0.5555555555555556,
              "#d8576b"
             ],
             [
              0.6666666666666666,
              "#ed7953"
             ],
             [
              0.7777777777777778,
              "#fb9f3a"
             ],
             [
              0.8888888888888888,
              "#fdca26"
             ],
             [
              1,
              "#f0f921"
             ]
            ],
            "type": "surface"
           }
          ],
          "table": [
           {
            "cells": {
             "fill": {
              "color": "#EBF0F8"
             },
             "line": {
              "color": "white"
             }
            },
            "header": {
             "fill": {
              "color": "#C8D4E3"
             },
             "line": {
              "color": "white"
             }
            },
            "type": "table"
           }
          ]
         },
         "layout": {
          "annotationdefaults": {
           "arrowcolor": "#2a3f5f",
           "arrowhead": 0,
           "arrowwidth": 1
          },
          "autotypenumbers": "strict",
          "coloraxis": {
           "colorbar": {
            "outlinewidth": 0,
            "ticks": ""
           }
          },
          "colorscale": {
           "diverging": [
            [
             0,
             "#8e0152"
            ],
            [
             0.1,
             "#c51b7d"
            ],
            [
             0.2,
             "#de77ae"
            ],
            [
             0.3,
             "#f1b6da"
            ],
            [
             0.4,
             "#fde0ef"
            ],
            [
             0.5,
             "#f7f7f7"
            ],
            [
             0.6,
             "#e6f5d0"
            ],
            [
             0.7,
             "#b8e186"
            ],
            [
             0.8,
             "#7fbc41"
            ],
            [
             0.9,
             "#4d9221"
            ],
            [
             1,
             "#276419"
            ]
           ],
           "sequential": [
            [
             0,
             "#0d0887"
            ],
            [
             0.1111111111111111,
             "#46039f"
            ],
            [
             0.2222222222222222,
             "#7201a8"
            ],
            [
             0.3333333333333333,
             "#9c179e"
            ],
            [
             0.4444444444444444,
             "#bd3786"
            ],
            [
             0.5555555555555556,
             "#d8576b"
            ],
            [
             0.6666666666666666,
             "#ed7953"
            ],
            [
             0.7777777777777778,
             "#fb9f3a"
            ],
            [
             0.8888888888888888,
             "#fdca26"
            ],
            [
             1,
             "#f0f921"
            ]
           ],
           "sequentialminus": [
            [
             0,
             "#0d0887"
            ],
            [
             0.1111111111111111,
             "#46039f"
            ],
            [
             0.2222222222222222,
             "#7201a8"
            ],
            [
             0.3333333333333333,
             "#9c179e"
            ],
            [
             0.4444444444444444,
             "#bd3786"
            ],
            [
             0.5555555555555556,
             "#d8576b"
            ],
            [
             0.6666666666666666,
             "#ed7953"
            ],
            [
             0.7777777777777778,
             "#fb9f3a"
            ],
            [
             0.8888888888888888,
             "#fdca26"
            ],
            [
             1,
             "#f0f921"
            ]
           ]
          },
          "colorway": [
           "#636efa",
           "#EF553B",
           "#00cc96",
           "#ab63fa",
           "#FFA15A",
           "#19d3f3",
           "#FF6692",
           "#B6E880",
           "#FF97FF",
           "#FECB52"
          ],
          "font": {
           "color": "#2a3f5f"
          },
          "geo": {
           "bgcolor": "white",
           "lakecolor": "white",
           "landcolor": "#E5ECF6",
           "showlakes": true,
           "showland": true,
           "subunitcolor": "white"
          },
          "hoverlabel": {
           "align": "left"
          },
          "hovermode": "closest",
          "mapbox": {
           "style": "light"
          },
          "paper_bgcolor": "white",
          "plot_bgcolor": "#E5ECF6",
          "polar": {
           "angularaxis": {
            "gridcolor": "white",
            "linecolor": "white",
            "ticks": ""
           },
           "bgcolor": "#E5ECF6",
           "radialaxis": {
            "gridcolor": "white",
            "linecolor": "white",
            "ticks": ""
           }
          },
          "scene": {
           "xaxis": {
            "backgroundcolor": "#E5ECF6",
            "gridcolor": "white",
            "gridwidth": 2,
            "linecolor": "white",
            "showbackground": true,
            "ticks": "",
            "zerolinecolor": "white"
           },
           "yaxis": {
            "backgroundcolor": "#E5ECF6",
            "gridcolor": "white",
            "gridwidth": 2,
            "linecolor": "white",
            "showbackground": true,
            "ticks": "",
            "zerolinecolor": "white"
           },
           "zaxis": {
            "backgroundcolor": "#E5ECF6",
            "gridcolor": "white",
            "gridwidth": 2,
            "linecolor": "white",
            "showbackground": true,
            "ticks": "",
            "zerolinecolor": "white"
           }
          },
          "shapedefaults": {
           "line": {
            "color": "#2a3f5f"
           }
          },
          "ternary": {
           "aaxis": {
            "gridcolor": "white",
            "linecolor": "white",
            "ticks": ""
           },
           "baxis": {
            "gridcolor": "white",
            "linecolor": "white",
            "ticks": ""
           },
           "bgcolor": "#E5ECF6",
           "caxis": {
            "gridcolor": "white",
            "linecolor": "white",
            "ticks": ""
           }
          },
          "title": {
           "x": 0.05
          },
          "xaxis": {
           "automargin": true,
           "gridcolor": "white",
           "linecolor": "white",
           "ticks": "",
           "title": {
            "standoff": 15
           },
           "zerolinecolor": "white",
           "zerolinewidth": 2
          },
          "yaxis": {
           "automargin": true,
           "gridcolor": "white",
           "linecolor": "white",
           "ticks": "",
           "title": {
            "standoff": 15
           },
           "zerolinecolor": "white",
           "zerolinewidth": 2
          }
         }
        },
        "xaxis": {
         "anchor": "y",
         "domain": [
          0,
          1
         ],
         "matches": "x3",
         "showticklabels": false
        },
        "xaxis2": {
         "anchor": "y2",
         "domain": [
          0,
          1
         ],
         "matches": "x3",
         "showticklabels": false
        },
        "xaxis3": {
         "anchor": "y3",
         "domain": [
          0,
          1
         ],
         "title": {
          "text": "Time"
         }
        },
        "yaxis": {
         "anchor": "x",
         "domain": [
          0.6866666666666665,
          0.9999999999999998
         ],
         "title": {
          "text": "Var 0"
         }
        },
        "yaxis2": {
         "anchor": "x2",
         "domain": [
          0.34333333333333327,
          0.6566666666666665
         ],
         "title": {
          "text": "Var 1"
         }
        },
        "yaxis3": {
         "anchor": "x3",
         "domain": [
          0,
          0.3133333333333333
         ],
         "title": {
          "text": "Var 2"
         }
        }
       }
      }
     },
     "metadata": {},
     "output_type": "display_data"
    }
   ],
   "source": [
    "fig = plot_classification_dataset(\n",
    "    datasets[\"WISDM\"][\"train\"][\"samples\"][:10, :].numpy(),\n",
    "    datasets[\"WISDM\"][\"train\"][\"labels\"][:10].numpy(),\n",
    ")\n",
    "fig.show()"
   ]
  },
  {
   "cell_type": "code",
   "execution_count": 9,
   "metadata": {},
   "outputs": [
    {
     "data": {
      "application/vnd.plotly.v1+json": {
       "config": {
        "plotlyServerURL": "https://plot.ly"
       },
       "data": [
        {
         "mode": "lines",
         "name": "Var 0",
         "showlegend": false,
         "type": "scatter",
         "x": {
          "bdata": "AAABAAIAAwAEAAUABgAHAAgACQAKAAsADAANAA4ADwAQABEAEgATABQAFQAWABcAGAAZABoAGwAcAB0AHgAfACAAIQAiACMAJAAlACYAJwAoACkAKgArACwALQAuAC8AMAAxADIAMwA0ADUANgA3ADgAOQA6ADsAPAA9AD4APwBAAEEAQgBDAEQARQBGAEcASABJAEoASwBMAE0ATgBPAFAAUQBSAFMAVABVAFYAVwBYAFkAWgBbAFwAXQBeAF8AYABhAGIAYwBkAGUAZgBnAGgAaQBqAGsAbABtAG4AbwBwAHEAcgBzAHQAdQB2AHcAeAB5AHoAewB8AH0AfgB/AIAAgQCCAIMAhACFAIYAhwCIAIkAigCLAIwAjQCOAI8AkACRAJIAkwCUAJUAlgCXAJgAmQCaAJsAnACdAJ4AnwCgAKEAogCjAKQApQCmAKcAqACpAKoAqwCsAK0ArgCvALAAsQCyALMAtAC1ALYAtwC4ALkAugC7ALwAvQC+AL8AwADBAMIAwwDEAMUAxgDHAMgAyQDKAMsAzADNAM4AzwDQANEA0gDTANQA1QDWANcA2ADZANoA2wDcAN0A3gDfAOAA4QDiAOMA5ADlAOYA5wDoAOkA6gDrAOwA7QDuAO8A8ADxAPIA8wD0APUA9gD3APgA+QD6APsA/AD9AP4A/wAAAQEBAgEDAQQBBQEGAQcBCAEJAQoBCwEMAQ0BDgEPARABEQESARMBFAEVARYBFwEYARkBGgEbARwBHQEeAR8BIAEhASIBIwEkASUBJgEnASgBKQEqASsBLAEtAS4BLwEwATEBMgEzATQBNQE2ATcBOAE5AToBOwE8AT0BPgE/AUABQQFCAUMBRAFFAUYBRwFIAUkBSgFLAUwBTQFOAU8BUAFRAVIBUwFUAVUBVgFXAVgBWQFaAVsBXAFdAV4BXwFgAWEBYgFjAWQBZQFmAWcBaAFpAWoBawFsAW0BbgFvAXABcQFyAXMBdAF1AXYBdwF4AXkBegF7AXwBfQF+AX8BgAGBAYIBgwGEAYUBhgGHAYgBiQGKAYsBjAGNAY4BjwGQAZEBkgGTAZQBlQGWAZcBmAGZAZoBmwGcAZ0BngGfAaABoQGiAaMBpAGlAaYBpwGoAakBqgGrAawBrQGuAa8BsAGxAbIBswG0AbUBtgG3AbgBuQG6AbsBvAG9Ab4BvwHAAcEBwgHDAcQBxQHGAccByAHJAcoBywHMAc0BzgHPAdAB0QHSAdMB1AHVAdYB1wHYAdkB2gHbAdwB3QHeAd8B4AHhAeIB4wHkAeUB5gHnAegB6QHqAesB7AHtAe4B7wHwAfEB8gHzAQ==",
          "dtype": "i2"
         },
         "xaxis": "x",
         "y": {
          "bdata": "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",
          "dtype": "f4"
         },
         "yaxis": "y"
        },
        {
         "mode": "lines",
         "name": "Var 1",
         "showlegend": false,
         "type": "scatter",
         "x": {
          "bdata": "AAABAAIAAwAEAAUABgAHAAgACQAKAAsADAANAA4ADwAQABEAEgATABQAFQAWABcAGAAZABoAGwAcAB0AHgAfACAAIQAiACMAJAAlACYAJwAoACkAKgArACwALQAuAC8AMAAxADIAMwA0ADUANgA3ADgAOQA6ADsAPAA9AD4APwBAAEEAQgBDAEQARQBGAEcASABJAEoASwBMAE0ATgBPAFAAUQBSAFMAVABVAFYAVwBYAFkAWgBbAFwAXQBeAF8AYABhAGIAYwBkAGUAZgBnAGgAaQBqAGsAbABtAG4AbwBwAHEAcgBzAHQAdQB2AHcAeAB5AHoAewB8AH0AfgB/AIAAgQCCAIMAhACFAIYAhwCIAIkAigCLAIwAjQCOAI8AkACRAJIAkwCUAJUAlgCXAJgAmQCaAJsAnACdAJ4AnwCgAKEAogCjAKQApQCmAKcAqACpAKoAqwCsAK0ArgCvALAAsQCyALMAtAC1ALYAtwC4ALkAugC7ALwAvQC+AL8AwADBAMIAwwDEAMUAxgDHAMgAyQDKAMsAzADNAM4AzwDQANEA0gDTANQA1QDWANcA2ADZANoA2wDcAN0A3gDfAOAA4QDiAOMA5ADlAOYA5wDoAOkA6gDrAOwA7QDuAO8A8ADxAPIA8wD0APUA9gD3APgA+QD6APsA/AD9AP4A/wAAAQEBAgEDAQQBBQEGAQcBCAEJAQoBCwEMAQ0BDgEPARABEQESARMBFAEVARYBFwEYARkBGgEbARwBHQEeAR8BIAEhASIBIwEkASUBJgEnASgBKQEqASsBLAEtAS4BLwEwATEBMgEzATQBNQE2ATcBOAE5AToBOwE8AT0BPgE/AUABQQFCAUMBRAFFAUYBRwFIAUkBSgFLAUwBTQFOAU8BUAFRAVIBUwFUAVUBVgFXAVgBWQFaAVsBXAFdAV4BXwFgAWEBYgFjAWQBZQFmAWcBaAFpAWoBawFsAW0BbgFvAXABcQFyAXMBdAF1AXYBdwF4AXkBegF7AXwBfQF+AX8BgAGBAYIBgwGEAYUBhgGHAYgBiQGKAYsBjAGNAY4BjwGQAZEBkgGTAZQBlQGWAZcBmAGZAZoBmwGcAZ0BngGfAaABoQGiAaMBpAGlAaYBpwGoAakBqgGrAawBrQGuAa8BsAGxAbIBswG0AbUBtgG3AbgBuQG6AbsBvAG9Ab4BvwHAAcEBwgHDAcQBxQHGAccByAHJAcoBywHMAc0BzgHPAdAB0QHSAdMB1AHVAdYB1wHYAdkB2gHbAdwB3QHeAd8B4AHhAeIB4wHkAeUB5gHnAegB6QHqAesB7AHtAe4B7wHwAfEB8gHzAQ==",
          "dtype": "i2"
         },
         "xaxis": "x2",
         "y": {
          "bdata": "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",
          "dtype": "f4"
         },
         "yaxis": "y2"
        },
        {
         "mode": "lines",
         "name": "Var 2",
         "showlegend": false,
         "type": "scatter",
         "x": {
          "bdata": "AAABAAIAAwAEAAUABgAHAAgACQAKAAsADAANAA4ADwAQABEAEgATABQAFQAWABcAGAAZABoAGwAcAB0AHgAfACAAIQAiACMAJAAlACYAJwAoACkAKgArACwALQAuAC8AMAAxADIAMwA0ADUANgA3ADgAOQA6ADsAPAA9AD4APwBAAEEAQgBDAEQARQBGAEcASABJAEoASwBMAE0ATgBPAFAAUQBSAFMAVABVAFYAVwBYAFkAWgBbAFwAXQBeAF8AYABhAGIAYwBkAGUAZgBnAGgAaQBqAGsAbABtAG4AbwBwAHEAcgBzAHQAdQB2AHcAeAB5AHoAewB8AH0AfgB/AIAAgQCCAIMAhACFAIYAhwCIAIkAigCLAIwAjQCOAI8AkACRAJIAkwCUAJUAlgCXAJgAmQCaAJsAnACdAJ4AnwCgAKEAogCjAKQApQCmAKcAqACpAKoAqwCsAK0ArgCvALAAsQCyALMAtAC1ALYAtwC4ALkAugC7ALwAvQC+AL8AwADBAMIAwwDEAMUAxgDHAMgAyQDKAMsAzADNAM4AzwDQANEA0gDTANQA1QDWANcA2ADZANoA2wDcAN0A3gDfAOAA4QDiAOMA5ADlAOYA5wDoAOkA6gDrAOwA7QDuAO8A8ADxAPIA8wD0APUA9gD3APgA+QD6APsA/AD9AP4A/wAAAQEBAgEDAQQBBQEGAQcBCAEJAQoBCwEMAQ0BDgEPARABEQESARMBFAEVARYBFwEYARkBGgEbARwBHQEeAR8BIAEhASIBIwEkASUBJgEnASgBKQEqASsBLAEtAS4BLwEwATEBMgEzATQBNQE2ATcBOAE5AToBOwE8AT0BPgE/AUABQQFCAUMBRAFFAUYBRwFIAUkBSgFLAUwBTQFOAU8BUAFRAVIBUwFUAVUBVgFXAVgBWQFaAVsBXAFdAV4BXwFgAWEBYgFjAWQBZQFmAWcBaAFpAWoBawFsAW0BbgFvAXABcQFyAXMBdAF1AXYBdwF4AXkBegF7AXwBfQF+AX8BgAGBAYIBgwGEAYUBhgGHAYgBiQGKAYsBjAGNAY4BjwGQAZEBkgGTAZQBlQGWAZcBmAGZAZoBmwGcAZ0BngGfAaABoQGiAaMBpAGlAaYBpwGoAakBqgGrAawBrQGuAa8BsAGxAbIBswG0AbUBtgG3AbgBuQG6AbsBvAG9Ab4BvwHAAcEBwgHDAcQBxQHGAccByAHJAcoBywHMAc0BzgHPAdAB0QHSAdMB1AHVAdYB1wHYAdkB2gHbAdwB3QHeAd8B4AHhAeIB4wHkAeUB5gHnAegB6QHqAesB7AHtAe4B7wHwAfEB8gHzAQ==",
          "dtype": "i2"
         },
         "xaxis": "x3",
         "y": {
          "bdata": "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",
          "dtype": "f4"
         },
         "yaxis": "y3"
        },
        {
         "mode": "lines",
         "name": "Var 3",
         "showlegend": false,
         "type": "scatter",
         "x": {
          "bdata": "AAABAAIAAwAEAAUABgAHAAgACQAKAAsADAANAA4ADwAQABEAEgATABQAFQAWABcAGAAZABoAGwAcAB0AHgAfACAAIQAiACMAJAAlACYAJwAoACkAKgArACwALQAuAC8AMAAxADIAMwA0ADUANgA3ADgAOQA6ADsAPAA9AD4APwBAAEEAQgBDAEQARQBGAEcASABJAEoASwBMAE0ATgBPAFAAUQBSAFMAVABVAFYAVwBYAFkAWgBbAFwAXQBeAF8AYABhAGIAYwBkAGUAZgBnAGgAaQBqAGsAbABtAG4AbwBwAHEAcgBzAHQAdQB2AHcAeAB5AHoAewB8AH0AfgB/AIAAgQCCAIMAhACFAIYAhwCIAIkAigCLAIwAjQCOAI8AkACRAJIAkwCUAJUAlgCXAJgAmQCaAJsAnACdAJ4AnwCgAKEAogCjAKQApQCmAKcAqACpAKoAqwCsAK0ArgCvALAAsQCyALMAtAC1ALYAtwC4ALkAugC7ALwAvQC+AL8AwADBAMIAwwDEAMUAxgDHAMgAyQDKAMsAzADNAM4AzwDQANEA0gDTANQA1QDWANcA2ADZANoA2wDcAN0A3gDfAOAA4QDiAOMA5ADlAOYA5wDoAOkA6gDrAOwA7QDuAO8A8ADxAPIA8wD0APUA9gD3APgA+QD6APsA/AD9AP4A/wAAAQEBAgEDAQQBBQEGAQcBCAEJAQoBCwEMAQ0BDgEPARABEQESARMBFAEVARYBFwEYARkBGgEbARwBHQEeAR8BIAEhASIBIwEkASUBJgEnASgBKQEqASsBLAEtAS4BLwEwATEBMgEzATQBNQE2ATcBOAE5AToBOwE8AT0BPgE/AUABQQFCAUMBRAFFAUYBRwFIAUkBSgFLAUwBTQFOAU8BUAFRAVIBUwFUAVUBVgFXAVgBWQFaAVsBXAFdAV4BXwFgAWEBYgFjAWQBZQFmAWcBaAFpAWoBawFsAW0BbgFvAXABcQFyAXMBdAF1AXYBdwF4AXkBegF7AXwBfQF+AX8BgAGBAYIBgwGEAYUBhgGHAYgBiQGKAYsBjAGNAY4BjwGQAZEBkgGTAZQBlQGWAZcBmAGZAZoBmwGcAZ0BngGfAaABoQGiAaMBpAGlAaYBpwGoAakBqgGrAawBrQGuAa8BsAGxAbIBswG0AbUBtgG3AbgBuQG6AbsBvAG9Ab4BvwHAAcEBwgHDAcQBxQHGAccByAHJAcoBywHMAc0BzgHPAdAB0QHSAdMB1AHVAdYB1wHYAdkB2gHbAdwB3QHeAd8B4AHhAeIB4wHkAeUB5gHnAegB6QHqAesB7AHtAe4B7wHwAfEB8gHzAQ==",
          "dtype": "i2"
         },
         "xaxis": "x4",
         "y": {
          "bdata": "MzOnQc3MREEAALxBzcxUQTMzs0EzM7NBZmbOQWZmskGamaFBMzMzQTMzi0EzM6dBmpnRQZqZSUEAAMBBAADUQWZmGEKamclBAAA4QmZmukGamQ9Cmpm5QWZmKkJmZgBCMzOHQpqZXUKamZ1CMzOFQjMzrULNzGpCmpmRQpqZQUIAAJlCzcxUQmZmhkJmZiZCzcxyQjMzDUIzM2VCmpkvQs3MkEKamVVCMzOdQmZmOkKamV1CMzMPQmZmYEKamSdCzcxUQjMzQ0JmZo7BmpklwmZmosEAAETCMzOPwTMza8JmZuLBmpk7wjMzm8GamVnCzcyIwQAAMsIAAITBZmYuwgAAMMFmZhLCZmbCQWZmpkDNzPRBZmZmP83M/EGamelAAADYQQAAsEBmZu5BZmamwGZmgkEAAKjBmpkRQc3MvMGamQHBmpkbws3MhMEzMyvCMzMzwWZmDsJmZj7BAAAIwgAAWMEAAADCmpnZwGZm7sGamdk/mpnJwc3MzD5mZq7BZmYGQAAAvMEzMzPAAADkwQAAhEEAAIDBAACYQQAACMEAAMRBzcxEwc3MdEEAAFDBzcysQTMzo8AzM4tBZmZOwWZmgkEAABjBzcx0QWZmDsGamX1CmpmtQTMzh0KamZVBmpldQmZmLkFmZmhCAADEQWZmg0LNzMRBAABwQjMzm0FmZlpCZmaCQc3MTkLNzHxBZmZ6QpqZ6UEzM4JCMzMjQTMzb0IAAEhBZmZYQpqZEUHNzFhCZmaaQc3MbkIAAKBBMzNtQpqZgUEzM1NCmpkJQZqZS0KamUlBzczcwM3M3EBmZgbBzcxkQTMzg8CamUFBAACQwJqZGUGamZm/AAAAQTMza8EzM3PAAABYwQAAQEAzMwPBMzPjQGZm+kFmZkxCmpmxQWZmREIAAKhBMzNHQjMzE0IzM41CZmZCQs3MmEKamUNCAACVQpqZNULNzI5CAAAgQjMzcUIzMwdCAAB4QjMzA0KamXFCmpktQmZmcEJmZspBmplFQs3M2EFmZk5CzczoQWZmWkLNzAJCMzNzQgAAFEIAAIVCMzMZQjMzYUIAAJTBAAAQwc3MjMHNzFzBAACEwTMzW8EzM4fBMzODwDMzg8EzM4PBMzO/wWZmPsGama3Bmplhwc3MpMHNzPzAZmZ2Qs3MikJmZoVCmpmXQgAAmELNzLpCMzPOQgAA4kIAANRCZmbnQmZm10KamdtCMzPTQs3M0EJmZrxCMzPBQpqZqkIAAK5CAACWQgAAnEIzM3VCMzOHQmZmbkLNzH5CzcxmQpqZi0IAAIlCMzOiQs3MdkIzM4JCZmZKQmZmYkJmZkRCMzNVQs3MPEEAABZCMzOfQc3M9EHNzHxBmpnxQQAAYEEAABJCzcxsQc3MyEEzMztBzcyoQQAAIMCamQFBAACEwTMzE0DNzFBCZmakQjMzUUIzM59CAABOQpqZpELNzGRCZmaqQgAASkKamZdCmplJQs3MkkLNzDBCAACOQgAARkLNzJJCMzMxQpqZlEIAAFhCmpmoQs3MZEKambRCMzOFQs3My0LNzJ1Cmpm3QjMzc0IzM65CMzNNQmZmn0JmZipCMzOLQjMzLUKamZBCmpk5wc3MXMEAAMjBZmZmwc3MXMHNzETBzcyswDMzq8EAAKTBmplxwTMzc8BmZtbAmpkBwZqZeUBmZvbAzcwMwAAAckKamWVCAAAUQs3MJkLNzORBzcw+QmZm0kFmZhBCMzOTQWZmgkHNzCRBAABgQWZmxkAzM8tBAAAAQAAAlEEzMzNBAAC4Qc3MVEEzM8tBmpmRQWZm5kFmZjZBZmbKQc3MXEEAAARCMzOfQWZm2kEzMwNBzcz4QQAAYEGamdlBAABAQTMzCULNzLzAZmYuQQAAGMEAABBBzcyswc3MZMEzMwXCzcwUwWZmbsFmZq5BMzN7QQAA1EGamXlAzcxcQWZmlsCamZlAMzNTQmZmikJmZjhCzcyKQpqZjkJmZrJCAACAQmZmj0LNzDRCZmaIQgAANkIzM59CZmaIQjMzykIzM5pCzcyyQgAAWEIzM4ZCMzP7QWZmdkKamUtCZmabQs3MOkIAAFpCmpndQWZmYEKamWdCMzOzQpqZbUJmZqZCzcxUQs3MkELNzGJCZmacQjMz80AAANDAmpkhQZqZucBmZj5BzczMPWZmDkEzM5PAAAAAQQAAQEDNzPxAZmZmvzMzg0FmZgZBMzO7QZqZWUEzM+9BAABYQZqZDULNzIxBMzPfQTMz00AAAMhBAAAYQWZmxkEzMwtBzczUQTMzS0EzM5tBZmbmPwAAuEEAANBAZmb2Qc3MLEFmZv5Bzcw0QTMz80HNzJxAAACsQQAAQEHNzCJCZma6QWZmJEIAAJBBZmYEQpqZaUFmZtJBAADwQJqZtUFmZiZBmpmZPpqZcUGamXlAzczIQQAAAEGambFBmpnZQM3MsEEzMytBzcyoQWZmpkCamc1BZmZWQZqZsUEzMzNBZmbuQc3MfkIAAK5CzcyFQs3MtULNzIVCAAChQmZmKkLNzHxCMzMXQpqZgULNzEhCMzOhQs3MPkLNzJpCzcx+QgAAoEJmZjpCzcyYQs3MMEJmZoBCAAAaQs3McELNzApCZmaDQgAACEIzM3lCAAAEQpqZV0IzM7tBZmZwQmZm3kEAAFhCzczQQZqZeUI=",
          "dtype": "f4"
         },
         "yaxis": "y4"
        },
        {
         "marker": {
          "color": "rgb(102, 197, 204)"
         },
         "mode": "markers",
         "name": "Class 0",
         "showlegend": true,
         "type": "scatter",
         "x": [
          null
         ],
         "y": [
          null
         ]
        },
        {
         "marker": {
          "color": "rgb(246, 207, 113)"
         },
         "mode": "markers",
         "name": "Class 1",
         "showlegend": true,
         "type": "scatter",
         "x": [
          null
         ],
         "y": [
          null
         ]
        }
       ],
       "layout": {
        "height": 400,
        "legend": {
         "orientation": "h",
         "x": 1,
         "xanchor": "right",
         "y": 1.02,
         "yanchor": "bottom"
        },
        "margin": {
         "b": 30,
         "l": 15,
         "r": 15,
         "t": 30
        },
        "shapes": [
         {
          "fillcolor": "rgb(102, 197, 204)",
          "layer": "below",
          "line": {
           "width": 0
          },
          "name": "Class 0",
          "opacity": 0.4,
          "showlegend": false,
          "type": "rect",
          "x0": 0,
          "x1": 50,
          "xref": "x",
          "y0": 0,
          "y1": 1,
          "yref": "y domain"
         },
         {
          "fillcolor": "rgb(102, 197, 204)",
          "layer": "below",
          "line": {
           "width": 0
          },
          "name": "Class 0",
          "opacity": 0.4,
          "showlegend": false,
          "type": "rect",
          "x0": 0,
          "x1": 50,
          "xref": "x2",
          "y0": 0,
          "y1": 1,
          "yref": "y2 domain"
         },
         {
          "fillcolor": "rgb(102, 197, 204)",
          "layer": "below",
          "line": {
           "width": 0
          },
          "name": "Class 0",
          "opacity": 0.4,
          "showlegend": false,
          "type": "rect",
          "x0": 0,
          "x1": 50,
          "xref": "x3",
          "y0": 0,
          "y1": 1,
          "yref": "y3 domain"
         },
         {
          "fillcolor": "rgb(102, 197, 204)",
          "layer": "below",
          "line": {
           "width": 0
          },
          "name": "Class 0",
          "opacity": 0.4,
          "showlegend": false,
          "type": "rect",
          "x0": 0,
          "x1": 50,
          "xref": "x4",
          "y0": 0,
          "y1": 1,
          "yref": "y4 domain"
         },
         {
          "fillcolor": "rgb(246, 207, 113)",
          "layer": "below",
          "line": {
           "width": 0
          },
          "name": "Class 1",
          "opacity": 0.4,
          "showlegend": false,
          "type": "rect",
          "x0": 50,
          "x1": 100,
          "xref": "x",
          "y0": 0,
          "y1": 1,
          "yref": "y domain"
         },
         {
          "fillcolor": "rgb(246, 207, 113)",
          "layer": "below",
          "line": {
           "width": 0
          },
          "name": "Class 1",
          "opacity": 0.4,
          "showlegend": false,
          "type": "rect",
          "x0": 50,
          "x1": 100,
          "xref": "x2",
          "y0": 0,
          "y1": 1,
          "yref": "y2 domain"
         },
         {
          "fillcolor": "rgb(246, 207, 113)",
          "layer": "below",
          "line": {
           "width": 0
          },
          "name": "Class 1",
          "opacity": 0.4,
          "showlegend": false,
          "type": "rect",
          "x0": 50,
          "x1": 100,
          "xref": "x3",
          "y0": 0,
          "y1": 1,
          "yref": "y3 domain"
         },
         {
          "fillcolor": "rgb(246, 207, 113)",
          "layer": "below",
          "line": {
           "width": 0
          },
          "name": "Class 1",
          "opacity": 0.4,
          "showlegend": false,
          "type": "rect",
          "x0": 50,
          "x1": 100,
          "xref": "x4",
          "y0": 0,
          "y1": 1,
          "yref": "y4 domain"
         },
         {
          "line": {
           "color": "gray",
           "dash": "dash"
          },
          "type": "line",
          "x0": 50,
          "x1": 50,
          "xref": "x",
          "y0": 0,
          "y1": 1,
          "yref": "y domain"
         },
         {
          "line": {
           "color": "gray",
           "dash": "dash"
          },
          "type": "line",
          "x0": 50,
          "x1": 50,
          "xref": "x2",
          "y0": 0,
          "y1": 1,
          "yref": "y2 domain"
         },
         {
          "line": {
           "color": "gray",
           "dash": "dash"
          },
          "type": "line",
          "x0": 50,
          "x1": 50,
          "xref": "x3",
          "y0": 0,
          "y1": 1,
          "yref": "y3 domain"
         },
         {
          "line": {
           "color": "gray",
           "dash": "dash"
          },
          "type": "line",
          "x0": 50,
          "x1": 50,
          "xref": "x4",
          "y0": 0,
          "y1": 1,
          "yref": "y4 domain"
         },
         {
          "fillcolor": "rgb(102, 197, 204)",
          "layer": "below",
          "line": {
           "width": 0
          },
          "name": "Class 0",
          "opacity": 0.4,
          "showlegend": false,
          "type": "rect",
          "x0": 100,
          "x1": 150,
          "xref": "x",
          "y0": 0,
          "y1": 1,
          "yref": "y domain"
         },
         {
          "fillcolor": "rgb(102, 197, 204)",
          "layer": "below",
          "line": {
           "width": 0
          },
          "name": "Class 0",
          "opacity": 0.4,
          "showlegend": false,
          "type": "rect",
          "x0": 100,
          "x1": 150,
          "xref": "x2",
          "y0": 0,
          "y1": 1,
          "yref": "y2 domain"
         },
         {
          "fillcolor": "rgb(102, 197, 204)",
          "layer": "below",
          "line": {
           "width": 0
          },
          "name": "Class 0",
          "opacity": 0.4,
          "showlegend": false,
          "type": "rect",
          "x0": 100,
          "x1": 150,
          "xref": "x3",
          "y0": 0,
          "y1": 1,
          "yref": "y3 domain"
         },
         {
          "fillcolor": "rgb(102, 197, 204)",
          "layer": "below",
          "line": {
           "width": 0
          },
          "name": "Class 0",
          "opacity": 0.4,
          "showlegend": false,
          "type": "rect",
          "x0": 100,
          "x1": 150,
          "xref": "x4",
          "y0": 0,
          "y1": 1,
          "yref": "y4 domain"
         },
         {
          "line": {
           "color": "gray",
           "dash": "dash"
          },
          "type": "line",
          "x0": 100,
          "x1": 100,
          "xref": "x",
          "y0": 0,
          "y1": 1,
          "yref": "y domain"
         },
         {
          "line": {
           "color": "gray",
           "dash": "dash"
          },
          "type": "line",
          "x0": 100,
          "x1": 100,
          "xref": "x2",
          "y0": 0,
          "y1": 1,
          "yref": "y2 domain"
         },
         {
          "line": {
           "color": "gray",
           "dash": "dash"
          },
          "type": "line",
          "x0": 100,
          "x1": 100,
          "xref": "x3",
          "y0": 0,
          "y1": 1,
          "yref": "y3 domain"
         },
         {
          "line": {
           "color": "gray",
           "dash": "dash"
          },
          "type": "line",
          "x0": 100,
          "x1": 100,
          "xref": "x4",
          "y0": 0,
          "y1": 1,
          "yref": "y4 domain"
         },
         {
          "fillcolor": "rgb(246, 207, 113)",
          "layer": "below",
          "line": {
           "width": 0
          },
          "name": "Class 1",
          "opacity": 0.4,
          "showlegend": false,
          "type": "rect",
          "x0": 150,
          "x1": 200,
          "xref": "x",
          "y0": 0,
          "y1": 1,
          "yref": "y domain"
         },
         {
          "fillcolor": "rgb(246, 207, 113)",
          "layer": "below",
          "line": {
           "width": 0
          },
          "name": "Class 1",
          "opacity": 0.4,
          "showlegend": false,
          "type": "rect",
          "x0": 150,
          "x1": 200,
          "xref": "x2",
          "y0": 0,
          "y1": 1,
          "yref": "y2 domain"
         },
         {
          "fillcolor": "rgb(246, 207, 113)",
          "layer": "below",
          "line": {
           "width": 0
          },
          "name": "Class 1",
          "opacity": 0.4,
          "showlegend": false,
          "type": "rect",
          "x0": 150,
          "x1": 200,
          "xref": "x3",
          "y0": 0,
          "y1": 1,
          "yref": "y3 domain"
         },
         {
          "fillcolor": "rgb(246, 207, 113)",
          "layer": "below",
          "line": {
           "width": 0
          },
          "name": "Class 1",
          "opacity": 0.4,
          "showlegend": false,
          "type": "rect",
          "x0": 150,
          "x1": 200,
          "xref": "x4",
          "y0": 0,
          "y1": 1,
          "yref": "y4 domain"
         },
         {
          "line": {
           "color": "gray",
           "dash": "dash"
          },
          "type": "line",
          "x0": 150,
          "x1": 150,
          "xref": "x",
          "y0": 0,
          "y1": 1,
          "yref": "y domain"
         },
         {
          "line": {
           "color": "gray",
           "dash": "dash"
          },
          "type": "line",
          "x0": 150,
          "x1": 150,
          "xref": "x2",
          "y0": 0,
          "y1": 1,
          "yref": "y2 domain"
         },
         {
          "line": {
           "color": "gray",
           "dash": "dash"
          },
          "type": "line",
          "x0": 150,
          "x1": 150,
          "xref": "x3",
          "y0": 0,
          "y1": 1,
          "yref": "y3 domain"
         },
         {
          "line": {
           "color": "gray",
           "dash": "dash"
          },
          "type": "line",
          "x0": 150,
          "x1": 150,
          "xref": "x4",
          "y0": 0,
          "y1": 1,
          "yref": "y4 domain"
         },
         {
          "fillcolor": "rgb(102, 197, 204)",
          "layer": "below",
          "line": {
           "width": 0
          },
          "name": "Class 0",
          "opacity": 0.4,
          "showlegend": false,
          "type": "rect",
          "x0": 200,
          "x1": 250,
          "xref": "x",
          "y0": 0,
          "y1": 1,
          "yref": "y domain"
         },
         {
          "fillcolor": "rgb(102, 197, 204)",
          "layer": "below",
          "line": {
           "width": 0
          },
          "name": "Class 0",
          "opacity": 0.4,
          "showlegend": false,
          "type": "rect",
          "x0": 200,
          "x1": 250,
          "xref": "x2",
          "y0": 0,
          "y1": 1,
          "yref": "y2 domain"
         },
         {
          "fillcolor": "rgb(102, 197, 204)",
          "layer": "below",
          "line": {
           "width": 0
          },
          "name": "Class 0",
          "opacity": 0.4,
          "showlegend": false,
          "type": "rect",
          "x0": 200,
          "x1": 250,
          "xref": "x3",
          "y0": 0,
          "y1": 1,
          "yref": "y3 domain"
         },
         {
          "fillcolor": "rgb(102, 197, 204)",
          "layer": "below",
          "line": {
           "width": 0
          },
          "name": "Class 0",
          "opacity": 0.4,
          "showlegend": false,
          "type": "rect",
          "x0": 200,
          "x1": 250,
          "xref": "x4",
          "y0": 0,
          "y1": 1,
          "yref": "y4 domain"
         },
         {
          "line": {
           "color": "gray",
           "dash": "dash"
          },
          "type": "line",
          "x0": 200,
          "x1": 200,
          "xref": "x",
          "y0": 0,
          "y1": 1,
          "yref": "y domain"
         },
         {
          "line": {
           "color": "gray",
           "dash": "dash"
          },
          "type": "line",
          "x0": 200,
          "x1": 200,
          "xref": "x2",
          "y0": 0,
          "y1": 1,
          "yref": "y2 domain"
         },
         {
          "line": {
           "color": "gray",
           "dash": "dash"
          },
          "type": "line",
          "x0": 200,
          "x1": 200,
          "xref": "x3",
          "y0": 0,
          "y1": 1,
          "yref": "y3 domain"
         },
         {
          "line": {
           "color": "gray",
           "dash": "dash"
          },
          "type": "line",
          "x0": 200,
          "x1": 200,
          "xref": "x4",
          "y0": 0,
          "y1": 1,
          "yref": "y4 domain"
         },
         {
          "fillcolor": "rgb(246, 207, 113)",
          "layer": "below",
          "line": {
           "width": 0
          },
          "name": "Class 1",
          "opacity": 0.4,
          "showlegend": false,
          "type": "rect",
          "x0": 250,
          "x1": 300,
          "xref": "x",
          "y0": 0,
          "y1": 1,
          "yref": "y domain"
         },
         {
          "fillcolor": "rgb(246, 207, 113)",
          "layer": "below",
          "line": {
           "width": 0
          },
          "name": "Class 1",
          "opacity": 0.4,
          "showlegend": false,
          "type": "rect",
          "x0": 250,
          "x1": 300,
          "xref": "x2",
          "y0": 0,
          "y1": 1,
          "yref": "y2 domain"
         },
         {
          "fillcolor": "rgb(246, 207, 113)",
          "layer": "below",
          "line": {
           "width": 0
          },
          "name": "Class 1",
          "opacity": 0.4,
          "showlegend": false,
          "type": "rect",
          "x0": 250,
          "x1": 300,
          "xref": "x3",
          "y0": 0,
          "y1": 1,
          "yref": "y3 domain"
         },
         {
          "fillcolor": "rgb(246, 207, 113)",
          "layer": "below",
          "line": {
           "width": 0
          },
          "name": "Class 1",
          "opacity": 0.4,
          "showlegend": false,
          "type": "rect",
          "x0": 250,
          "x1": 300,
          "xref": "x4",
          "y0": 0,
          "y1": 1,
          "yref": "y4 domain"
         },
         {
          "line": {
           "color": "gray",
           "dash": "dash"
          },
          "type": "line",
          "x0": 250,
          "x1": 250,
          "xref": "x",
          "y0": 0,
          "y1": 1,
          "yref": "y domain"
         },
         {
          "line": {
           "color": "gray",
           "dash": "dash"
          },
          "type": "line",
          "x0": 250,
          "x1": 250,
          "xref": "x2",
          "y0": 0,
          "y1": 1,
          "yref": "y2 domain"
         },
         {
          "line": {
           "color": "gray",
           "dash": "dash"
          },
          "type": "line",
          "x0": 250,
          "x1": 250,
          "xref": "x3",
          "y0": 0,
          "y1": 1,
          "yref": "y3 domain"
         },
         {
          "line": {
           "color": "gray",
           "dash": "dash"
          },
          "type": "line",
          "x0": 250,
          "x1": 250,
          "xref": "x4",
          "y0": 0,
          "y1": 1,
          "yref": "y4 domain"
         },
         {
          "fillcolor": "rgb(102, 197, 204)",
          "layer": "below",
          "line": {
           "width": 0
          },
          "name": "Class 0",
          "opacity": 0.4,
          "showlegend": false,
          "type": "rect",
          "x0": 300,
          "x1": 350,
          "xref": "x",
          "y0": 0,
          "y1": 1,
          "yref": "y domain"
         },
         {
          "fillcolor": "rgb(102, 197, 204)",
          "layer": "below",
          "line": {
           "width": 0
          },
          "name": "Class 0",
          "opacity": 0.4,
          "showlegend": false,
          "type": "rect",
          "x0": 300,
          "x1": 350,
          "xref": "x2",
          "y0": 0,
          "y1": 1,
          "yref": "y2 domain"
         },
         {
          "fillcolor": "rgb(102, 197, 204)",
          "layer": "below",
          "line": {
           "width": 0
          },
          "name": "Class 0",
          "opacity": 0.4,
          "showlegend": false,
          "type": "rect",
          "x0": 300,
          "x1": 350,
          "xref": "x3",
          "y0": 0,
          "y1": 1,
          "yref": "y3 domain"
         },
         {
          "fillcolor": "rgb(102, 197, 204)",
          "layer": "below",
          "line": {
           "width": 0
          },
          "name": "Class 0",
          "opacity": 0.4,
          "showlegend": false,
          "type": "rect",
          "x0": 300,
          "x1": 350,
          "xref": "x4",
          "y0": 0,
          "y1": 1,
          "yref": "y4 domain"
         },
         {
          "line": {
           "color": "gray",
           "dash": "dash"
          },
          "type": "line",
          "x0": 300,
          "x1": 300,
          "xref": "x",
          "y0": 0,
          "y1": 1,
          "yref": "y domain"
         },
         {
          "line": {
           "color": "gray",
           "dash": "dash"
          },
          "type": "line",
          "x0": 300,
          "x1": 300,
          "xref": "x2",
          "y0": 0,
          "y1": 1,
          "yref": "y2 domain"
         },
         {
          "line": {
           "color": "gray",
           "dash": "dash"
          },
          "type": "line",
          "x0": 300,
          "x1": 300,
          "xref": "x3",
          "y0": 0,
          "y1": 1,
          "yref": "y3 domain"
         },
         {
          "line": {
           "color": "gray",
           "dash": "dash"
          },
          "type": "line",
          "x0": 300,
          "x1": 300,
          "xref": "x4",
          "y0": 0,
          "y1": 1,
          "yref": "y4 domain"
         },
         {
          "fillcolor": "rgb(246, 207, 113)",
          "layer": "below",
          "line": {
           "width": 0
          },
          "name": "Class 1",
          "opacity": 0.4,
          "showlegend": false,
          "type": "rect",
          "x0": 350,
          "x1": 400,
          "xref": "x",
          "y0": 0,
          "y1": 1,
          "yref": "y domain"
         },
         {
          "fillcolor": "rgb(246, 207, 113)",
          "layer": "below",
          "line": {
           "width": 0
          },
          "name": "Class 1",
          "opacity": 0.4,
          "showlegend": false,
          "type": "rect",
          "x0": 350,
          "x1": 400,
          "xref": "x2",
          "y0": 0,
          "y1": 1,
          "yref": "y2 domain"
         },
         {
          "fillcolor": "rgb(246, 207, 113)",
          "layer": "below",
          "line": {
           "width": 0
          },
          "name": "Class 1",
          "opacity": 0.4,
          "showlegend": false,
          "type": "rect",
          "x0": 350,
          "x1": 400,
          "xref": "x3",
          "y0": 0,
          "y1": 1,
          "yref": "y3 domain"
         },
         {
          "fillcolor": "rgb(246, 207, 113)",
          "layer": "below",
          "line": {
           "width": 0
          },
          "name": "Class 1",
          "opacity": 0.4,
          "showlegend": false,
          "type": "rect",
          "x0": 350,
          "x1": 400,
          "xref": "x4",
          "y0": 0,
          "y1": 1,
          "yref": "y4 domain"
         },
         {
          "line": {
           "color": "gray",
           "dash": "dash"
          },
          "type": "line",
          "x0": 350,
          "x1": 350,
          "xref": "x",
          "y0": 0,
          "y1": 1,
          "yref": "y domain"
         },
         {
          "line": {
           "color": "gray",
           "dash": "dash"
          },
          "type": "line",
          "x0": 350,
          "x1": 350,
          "xref": "x2",
          "y0": 0,
          "y1": 1,
          "yref": "y2 domain"
         },
         {
          "line": {
           "color": "gray",
           "dash": "dash"
          },
          "type": "line",
          "x0": 350,
          "x1": 350,
          "xref": "x3",
          "y0": 0,
          "y1": 1,
          "yref": "y3 domain"
         },
         {
          "line": {
           "color": "gray",
           "dash": "dash"
          },
          "type": "line",
          "x0": 350,
          "x1": 350,
          "xref": "x4",
          "y0": 0,
          "y1": 1,
          "yref": "y4 domain"
         },
         {
          "fillcolor": "rgb(102, 197, 204)",
          "layer": "below",
          "line": {
           "width": 0
          },
          "name": "Class 0",
          "opacity": 0.4,
          "showlegend": false,
          "type": "rect",
          "x0": 400,
          "x1": 450,
          "xref": "x",
          "y0": 0,
          "y1": 1,
          "yref": "y domain"
         },
         {
          "fillcolor": "rgb(102, 197, 204)",
          "layer": "below",
          "line": {
           "width": 0
          },
          "name": "Class 0",
          "opacity": 0.4,
          "showlegend": false,
          "type": "rect",
          "x0": 400,
          "x1": 450,
          "xref": "x2",
          "y0": 0,
          "y1": 1,
          "yref": "y2 domain"
         },
         {
          "fillcolor": "rgb(102, 197, 204)",
          "layer": "below",
          "line": {
           "width": 0
          },
          "name": "Class 0",
          "opacity": 0.4,
          "showlegend": false,
          "type": "rect",
          "x0": 400,
          "x1": 450,
          "xref": "x3",
          "y0": 0,
          "y1": 1,
          "yref": "y3 domain"
         },
         {
          "fillcolor": "rgb(102, 197, 204)",
          "layer": "below",
          "line": {
           "width": 0
          },
          "name": "Class 0",
          "opacity": 0.4,
          "showlegend": false,
          "type": "rect",
          "x0": 400,
          "x1": 450,
          "xref": "x4",
          "y0": 0,
          "y1": 1,
          "yref": "y4 domain"
         },
         {
          "line": {
           "color": "gray",
           "dash": "dash"
          },
          "type": "line",
          "x0": 400,
          "x1": 400,
          "xref": "x",
          "y0": 0,
          "y1": 1,
          "yref": "y domain"
         },
         {
          "line": {
           "color": "gray",
           "dash": "dash"
          },
          "type": "line",
          "x0": 400,
          "x1": 400,
          "xref": "x2",
          "y0": 0,
          "y1": 1,
          "yref": "y2 domain"
         },
         {
          "line": {
           "color": "gray",
           "dash": "dash"
          },
          "type": "line",
          "x0": 400,
          "x1": 400,
          "xref": "x3",
          "y0": 0,
          "y1": 1,
          "yref": "y3 domain"
         },
         {
          "line": {
           "color": "gray",
           "dash": "dash"
          },
          "type": "line",
          "x0": 400,
          "x1": 400,
          "xref": "x4",
          "y0": 0,
          "y1": 1,
          "yref": "y4 domain"
         },
         {
          "fillcolor": "rgb(102, 197, 204)",
          "layer": "below",
          "line": {
           "width": 0
          },
          "name": "Class 0",
          "opacity": 0.4,
          "showlegend": false,
          "type": "rect",
          "x0": 450,
          "x1": 500,
          "xref": "x",
          "y0": 0,
          "y1": 1,
          "yref": "y domain"
         },
         {
          "fillcolor": "rgb(102, 197, 204)",
          "layer": "below",
          "line": {
           "width": 0
          },
          "name": "Class 0",
          "opacity": 0.4,
          "showlegend": false,
          "type": "rect",
          "x0": 450,
          "x1": 500,
          "xref": "x2",
          "y0": 0,
          "y1": 1,
          "yref": "y2 domain"
         },
         {
          "fillcolor": "rgb(102, 197, 204)",
          "layer": "below",
          "line": {
           "width": 0
          },
          "name": "Class 0",
          "opacity": 0.4,
          "showlegend": false,
          "type": "rect",
          "x0": 450,
          "x1": 500,
          "xref": "x3",
          "y0": 0,
          "y1": 1,
          "yref": "y3 domain"
         },
         {
          "fillcolor": "rgb(102, 197, 204)",
          "layer": "below",
          "line": {
           "width": 0
          },
          "name": "Class 0",
          "opacity": 0.4,
          "showlegend": false,
          "type": "rect",
          "x0": 450,
          "x1": 500,
          "xref": "x4",
          "y0": 0,
          "y1": 1,
          "yref": "y4 domain"
         },
         {
          "line": {
           "color": "gray",
           "dash": "dash"
          },
          "type": "line",
          "x0": 450,
          "x1": 450,
          "xref": "x",
          "y0": 0,
          "y1": 1,
          "yref": "y domain"
         },
         {
          "line": {
           "color": "gray",
           "dash": "dash"
          },
          "type": "line",
          "x0": 450,
          "x1": 450,
          "xref": "x2",
          "y0": 0,
          "y1": 1,
          "yref": "y2 domain"
         },
         {
          "line": {
           "color": "gray",
           "dash": "dash"
          },
          "type": "line",
          "x0": 450,
          "x1": 450,
          "xref": "x3",
          "y0": 0,
          "y1": 1,
          "yref": "y3 domain"
         },
         {
          "line": {
           "color": "gray",
           "dash": "dash"
          },
          "type": "line",
          "x0": 450,
          "x1": 450,
          "xref": "x4",
          "y0": 0,
          "y1": 1,
          "yref": "y4 domain"
         }
        ],
        "showlegend": true,
        "template": {
         "data": {
          "bar": [
           {
            "error_x": {
             "color": "#2a3f5f"
            },
            "error_y": {
             "color": "#2a3f5f"
            },
            "marker": {
             "line": {
              "color": "#E5ECF6",
              "width": 0.5
             },
             "pattern": {
              "fillmode": "overlay",
              "size": 10,
              "solidity": 0.2
             }
            },
            "type": "bar"
           }
          ],
          "barpolar": [
           {
            "marker": {
             "line": {
              "color": "#E5ECF6",
              "width": 0.5
             },
             "pattern": {
              "fillmode": "overlay",
              "size": 10,
              "solidity": 0.2
             }
            },
            "type": "barpolar"
           }
          ],
          "carpet": [
           {
            "aaxis": {
             "endlinecolor": "#2a3f5f",
             "gridcolor": "white",
             "linecolor": "white",
             "minorgridcolor": "white",
             "startlinecolor": "#2a3f5f"
            },
            "baxis": {
             "endlinecolor": "#2a3f5f",
             "gridcolor": "white",
             "linecolor": "white",
             "minorgridcolor": "white",
             "startlinecolor": "#2a3f5f"
            },
            "type": "carpet"
           }
          ],
          "choropleth": [
           {
            "colorbar": {
             "outlinewidth": 0,
             "ticks": ""
            },
            "type": "choropleth"
           }
          ],
          "contour": [
           {
            "colorbar": {
             "outlinewidth": 0,
             "ticks": ""
            },
            "colorscale": [
             [
              0,
              "#0d0887"
             ],
             [
              0.1111111111111111,
              "#46039f"
             ],
             [
              0.2222222222222222,
              "#7201a8"
             ],
             [
              0.3333333333333333,
              "#9c179e"
             ],
             [
              0.4444444444444444,
              "#bd3786"
             ],
             [
              0.5555555555555556,
              "#d8576b"
             ],
             [
              0.6666666666666666,
              "#ed7953"
             ],
             [
              0.7777777777777778,
              "#fb9f3a"
             ],
             [
              0.8888888888888888,
              "#fdca26"
             ],
             [
              1,
              "#f0f921"
             ]
            ],
            "type": "contour"
           }
          ],
          "contourcarpet": [
           {
            "colorbar": {
             "outlinewidth": 0,
             "ticks": ""
            },
            "type": "contourcarpet"
           }
          ],
          "heatmap": [
           {
            "colorbar": {
             "outlinewidth": 0,
             "ticks": ""
            },
            "colorscale": [
             [
              0,
              "#0d0887"
             ],
             [
              0.1111111111111111,
              "#46039f"
             ],
             [
              0.2222222222222222,
              "#7201a8"
             ],
             [
              0.3333333333333333,
              "#9c179e"
             ],
             [
              0.4444444444444444,
              "#bd3786"
             ],
             [
              0.5555555555555556,
              "#d8576b"
             ],
             [
              0.6666666666666666,
              "#ed7953"
             ],
             [
              0.7777777777777778,
              "#fb9f3a"
             ],
             [
              0.8888888888888888,
              "#fdca26"
             ],
             [
              1,
              "#f0f921"
             ]
            ],
            "type": "heatmap"
           }
          ],
          "histogram": [
           {
            "marker": {
             "pattern": {
              "fillmode": "overlay",
              "size": 10,
              "solidity": 0.2
             }
            },
            "type": "histogram"
           }
          ],
          "histogram2d": [
           {
            "colorbar": {
             "outlinewidth": 0,
             "ticks": ""
            },
            "colorscale": [
             [
              0,
              "#0d0887"
             ],
             [
              0.1111111111111111,
              "#46039f"
             ],
             [
              0.2222222222222222,
              "#7201a8"
             ],
             [
              0.3333333333333333,
              "#9c179e"
             ],
             [
              0.4444444444444444,
              "#bd3786"
             ],
             [
              0.5555555555555556,
              "#d8576b"
             ],
             [
              0.6666666666666666,
              "#ed7953"
             ],
             [
              0.7777777777777778,
              "#fb9f3a"
             ],
             [
              0.8888888888888888,
              "#fdca26"
             ],
             [
              1,
              "#f0f921"
             ]
            ],
            "type": "histogram2d"
           }
          ],
          "histogram2dcontour": [
           {
            "colorbar": {
             "outlinewidth": 0,
             "ticks": ""
            },
            "colorscale": [
             [
              0,
              "#0d0887"
             ],
             [
              0.1111111111111111,
              "#46039f"
             ],
             [
              0.2222222222222222,
              "#7201a8"
             ],
             [
              0.3333333333333333,
              "#9c179e"
             ],
             [
              0.4444444444444444,
              "#bd3786"
             ],
             [
              0.5555555555555556,
              "#d8576b"
             ],
             [
              0.6666666666666666,
              "#ed7953"
             ],
             [
              0.7777777777777778,
              "#fb9f3a"
             ],
             [
              0.8888888888888888,
              "#fdca26"
             ],
             [
              1,
              "#f0f921"
             ]
            ],
            "type": "histogram2dcontour"
           }
          ],
          "mesh3d": [
           {
            "colorbar": {
             "outlinewidth": 0,
             "ticks": ""
            },
            "type": "mesh3d"
           }
          ],
          "parcoords": [
           {
            "line": {
             "colorbar": {
              "outlinewidth": 0,
              "ticks": ""
             }
            },
            "type": "parcoords"
           }
          ],
          "pie": [
           {
            "automargin": true,
            "type": "pie"
           }
          ],
          "scatter": [
           {
            "fillpattern": {
             "fillmode": "overlay",
             "size": 10,
             "solidity": 0.2
            },
            "type": "scatter"
           }
          ],
          "scatter3d": [
           {
            "line": {
             "colorbar": {
              "outlinewidth": 0,
              "ticks": ""
             }
            },
            "marker": {
             "colorbar": {
              "outlinewidth": 0,
              "ticks": ""
             }
            },
            "type": "scatter3d"
           }
          ],
          "scattercarpet": [
           {
            "marker": {
             "colorbar": {
              "outlinewidth": 0,
              "ticks": ""
             }
            },
            "type": "scattercarpet"
           }
          ],
          "scattergeo": [
           {
            "marker": {
             "colorbar": {
              "outlinewidth": 0,
              "ticks": ""
             }
            },
            "type": "scattergeo"
           }
          ],
          "scattergl": [
           {
            "marker": {
             "colorbar": {
              "outlinewidth": 0,
              "ticks": ""
             }
            },
            "type": "scattergl"
           }
          ],
          "scattermap": [
           {
            "marker": {
             "colorbar": {
              "outlinewidth": 0,
              "ticks": ""
             }
            },
            "type": "scattermap"
           }
          ],
          "scattermapbox": [
           {
            "marker": {
             "colorbar": {
              "outlinewidth": 0,
              "ticks": ""
             }
            },
            "type": "scattermapbox"
           }
          ],
          "scatterpolar": [
           {
            "marker": {
             "colorbar": {
              "outlinewidth": 0,
              "ticks": ""
             }
            },
            "type": "scatterpolar"
           }
          ],
          "scatterpolargl": [
           {
            "marker": {
             "colorbar": {
              "outlinewidth": 0,
              "ticks": ""
             }
            },
            "type": "scatterpolargl"
           }
          ],
          "scatterternary": [
           {
            "marker": {
             "colorbar": {
              "outlinewidth": 0,
              "ticks": ""
             }
            },
            "type": "scatterternary"
           }
          ],
          "surface": [
           {
            "colorbar": {
             "outlinewidth": 0,
             "ticks": ""
            },
            "colorscale": [
             [
              0,
              "#0d0887"
             ],
             [
              0.1111111111111111,
              "#46039f"
             ],
             [
              0.2222222222222222,
              "#7201a8"
             ],
             [
              0.3333333333333333,
              "#9c179e"
             ],
             [
              0.4444444444444444,
              "#bd3786"
             ],
             [
              0.5555555555555556,
              "#d8576b"
             ],
             [
              0.6666666666666666,
              "#ed7953"
             ],
             [
              0.7777777777777778,
              "#fb9f3a"
             ],
             [
              0.8888888888888888,
              "#fdca26"
             ],
             [
              1,
              "#f0f921"
             ]
            ],
            "type": "surface"
           }
          ],
          "table": [
           {
            "cells": {
             "fill": {
              "color": "#EBF0F8"
             },
             "line": {
              "color": "white"
             }
            },
            "header": {
             "fill": {
              "color": "#C8D4E3"
             },
             "line": {
              "color": "white"
             }
            },
            "type": "table"
           }
          ]
         },
         "layout": {
          "annotationdefaults": {
           "arrowcolor": "#2a3f5f",
           "arrowhead": 0,
           "arrowwidth": 1
          },
          "autotypenumbers": "strict",
          "coloraxis": {
           "colorbar": {
            "outlinewidth": 0,
            "ticks": ""
           }
          },
          "colorscale": {
           "diverging": [
            [
             0,
             "#8e0152"
            ],
            [
             0.1,
             "#c51b7d"
            ],
            [
             0.2,
             "#de77ae"
            ],
            [
             0.3,
             "#f1b6da"
            ],
            [
             0.4,
             "#fde0ef"
            ],
            [
             0.5,
             "#f7f7f7"
            ],
            [
             0.6,
             "#e6f5d0"
            ],
            [
             0.7,
             "#b8e186"
            ],
            [
             0.8,
             "#7fbc41"
            ],
            [
             0.9,
             "#4d9221"
            ],
            [
             1,
             "#276419"
            ]
           ],
           "sequential": [
            [
             0,
             "#0d0887"
            ],
            [
             0.1111111111111111,
             "#46039f"
            ],
            [
             0.2222222222222222,
             "#7201a8"
            ],
            [
             0.3333333333333333,
             "#9c179e"
            ],
            [
             0.4444444444444444,
             "#bd3786"
            ],
            [
             0.5555555555555556,
             "#d8576b"
            ],
            [
             0.6666666666666666,
             "#ed7953"
            ],
            [
             0.7777777777777778,
             "#fb9f3a"
            ],
            [
             0.8888888888888888,
             "#fdca26"
            ],
            [
             1,
             "#f0f921"
            ]
           ],
           "sequentialminus": [
            [
             0,
             "#0d0887"
            ],
            [
             0.1111111111111111,
             "#46039f"
            ],
            [
             0.2222222222222222,
             "#7201a8"
            ],
            [
             0.3333333333333333,
             "#9c179e"
            ],
            [
             0.4444444444444444,
             "#bd3786"
            ],
            [
             0.5555555555555556,
             "#d8576b"
            ],
            [
             0.6666666666666666,
             "#ed7953"
            ],
            [
             0.7777777777777778,
             "#fb9f3a"
            ],
            [
             0.8888888888888888,
             "#fdca26"
            ],
            [
             1,
             "#f0f921"
            ]
           ]
          },
          "colorway": [
           "#636efa",
           "#EF553B",
           "#00cc96",
           "#ab63fa",
           "#FFA15A",
           "#19d3f3",
           "#FF6692",
           "#B6E880",
           "#FF97FF",
           "#FECB52"
          ],
          "font": {
           "color": "#2a3f5f"
          },
          "geo": {
           "bgcolor": "white",
           "lakecolor": "white",
           "landcolor": "#E5ECF6",
           "showlakes": true,
           "showland": true,
           "subunitcolor": "white"
          },
          "hoverlabel": {
           "align": "left"
          },
          "hovermode": "closest",
          "mapbox": {
           "style": "light"
          },
          "paper_bgcolor": "white",
          "plot_bgcolor": "#E5ECF6",
          "polar": {
           "angularaxis": {
            "gridcolor": "white",
            "linecolor": "white",
            "ticks": ""
           },
           "bgcolor": "#E5ECF6",
           "radialaxis": {
            "gridcolor": "white",
            "linecolor": "white",
            "ticks": ""
           }
          },
          "scene": {
           "xaxis": {
            "backgroundcolor": "#E5ECF6",
            "gridcolor": "white",
            "gridwidth": 2,
            "linecolor": "white",
            "showbackground": true,
            "ticks": "",
            "zerolinecolor": "white"
           },
           "yaxis": {
            "backgroundcolor": "#E5ECF6",
            "gridcolor": "white",
            "gridwidth": 2,
            "linecolor": "white",
            "showbackground": true,
            "ticks": "",
            "zerolinecolor": "white"
           },
           "zaxis": {
            "backgroundcolor": "#E5ECF6",
            "gridcolor": "white",
            "gridwidth": 2,
            "linecolor": "white",
            "showbackground": true,
            "ticks": "",
            "zerolinecolor": "white"
           }
          },
          "shapedefaults": {
           "line": {
            "color": "#2a3f5f"
           }
          },
          "ternary": {
           "aaxis": {
            "gridcolor": "white",
            "linecolor": "white",
            "ticks": ""
           },
           "baxis": {
            "gridcolor": "white",
            "linecolor": "white",
            "ticks": ""
           },
           "bgcolor": "#E5ECF6",
           "caxis": {
            "gridcolor": "white",
            "linecolor": "white",
            "ticks": ""
           }
          },
          "title": {
           "x": 0.05
          },
          "xaxis": {
           "automargin": true,
           "gridcolor": "white",
           "linecolor": "white",
           "ticks": "",
           "title": {
            "standoff": 15
           },
           "zerolinecolor": "white",
           "zerolinewidth": 2
          },
          "yaxis": {
           "automargin": true,
           "gridcolor": "white",
           "linecolor": "white",
           "ticks": "",
           "title": {
            "standoff": 15
           },
           "zerolinecolor": "white",
           "zerolinewidth": 2
          }
         }
        },
        "xaxis": {
         "anchor": "y",
         "domain": [
          0,
          1
         ],
         "matches": "x4",
         "showticklabels": false
        },
        "xaxis2": {
         "anchor": "y2",
         "domain": [
          0,
          1
         ],
         "matches": "x4",
         "showticklabels": false
        },
        "xaxis3": {
         "anchor": "y3",
         "domain": [
          0,
          1
         ],
         "matches": "x4",
         "showticklabels": false
        },
        "xaxis4": {
         "anchor": "y4",
         "domain": [
          0,
          1
         ],
         "title": {
          "text": "Time"
         }
        },
        "yaxis": {
         "anchor": "x",
         "domain": [
          0.7725,
          1
         ],
         "title": {
          "text": "Var 0"
         }
        },
        "yaxis2": {
         "anchor": "x2",
         "domain": [
          0.515,
          0.7425
         ],
         "title": {
          "text": "Var 1"
         }
        },
        "yaxis3": {
         "anchor": "x3",
         "domain": [
          0.2575,
          0.485
         ],
         "title": {
          "text": "Var 2"
         }
        },
        "yaxis4": {
         "anchor": "x4",
         "domain": [
          0,
          0.2275
         ],
         "title": {
          "text": "Var 3"
         }
        }
       }
      }
     },
     "metadata": {},
     "output_type": "display_data"
    }
   ],
   "source": [
    "# Only the first 4 variables are plotted here since the whole dataset has 28\n",
    "fig = plot_classification_dataset(\n",
    "    datasets[\"FingerMovements\"][\"train\"][\"samples\"][:10, :, :4].numpy(),\n",
    "    datasets[\"FingerMovements\"][\"train\"][\"labels\"][:10].numpy(),\n",
    ")\n",
    "fig.show()"
   ]
  },
  {
   "cell_type": "code",
   "execution_count": 10,
   "metadata": {},
   "outputs": [
    {
     "data": {
      "application/vnd.plotly.v1+json": {
       "config": {
        "plotlyServerURL": "https://plot.ly"
       },
       "data": [
        {
         "mode": "lines",
         "name": "Var 0",
         "showlegend": false,
         "type": "scatter",
         "x": {
          "bdata": "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",
          "dtype": "i2"
         },
         "xaxis": "x",
         "y": {
          "bdata": "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",
          "dtype": "f8"
         },
         "yaxis": "y"
        },
        {
         "marker": {
          "color": "rgb(246, 207, 113)"
         },
         "mode": "markers",
         "name": "Class 1",
         "showlegend": true,
         "type": "scatter",
         "x": [
          null
         ],
         "y": [
          null
         ]
        },
        {
         "marker": {
          "color": "rgb(102, 197, 204)"
         },
         "mode": "markers",
         "name": "Class 0",
         "showlegend": true,
         "type": "scatter",
         "x": [
          null
         ],
         "y": [
          null
         ]
        }
       ],
       "layout": {
        "height": 100,
        "legend": {
         "orientation": "h",
         "x": 1,
         "xanchor": "right",
         "y": 1.02,
         "yanchor": "bottom"
        },
        "margin": {
         "b": 30,
         "l": 15,
         "r": 15,
         "t": 30
        },
        "shapes": [
         {
          "fillcolor": "rgb(246, 207, 113)",
          "layer": "below",
          "line": {
           "width": 0
          },
          "name": "Class 1",
          "opacity": 0.4,
          "showlegend": false,
          "type": "rect",
          "x0": 0,
          "x1": 178,
          "xref": "x",
          "y0": 0,
          "y1": 1,
          "yref": "y domain"
         },
         {
          "fillcolor": "rgb(246, 207, 113)",
          "layer": "below",
          "line": {
           "width": 0
          },
          "name": "Class 1",
          "opacity": 0.4,
          "showlegend": false,
          "type": "rect",
          "x0": 178,
          "x1": 356,
          "xref": "x",
          "y0": 0,
          "y1": 1,
          "yref": "y domain"
         },
         {
          "line": {
           "color": "gray",
           "dash": "dash"
          },
          "type": "line",
          "x0": 178,
          "x1": 178,
          "xref": "x",
          "y0": 0,
          "y1": 1,
          "yref": "y domain"
         },
         {
          "fillcolor": "rgb(246, 207, 113)",
          "layer": "below",
          "line": {
           "width": 0
          },
          "name": "Class 1",
          "opacity": 0.4,
          "showlegend": false,
          "type": "rect",
          "x0": 356,
          "x1": 534,
          "xref": "x",
          "y0": 0,
          "y1": 1,
          "yref": "y domain"
         },
         {
          "line": {
           "color": "gray",
           "dash": "dash"
          },
          "type": "line",
          "x0": 356,
          "x1": 356,
          "xref": "x",
          "y0": 0,
          "y1": 1,
          "yref": "y domain"
         },
         {
          "fillcolor": "rgb(102, 197, 204)",
          "layer": "below",
          "line": {
           "width": 0
          },
          "name": "Class 0",
          "opacity": 0.4,
          "showlegend": false,
          "type": "rect",
          "x0": 534,
          "x1": 712,
          "xref": "x",
          "y0": 0,
          "y1": 1,
          "yref": "y domain"
         },
         {
          "line": {
           "color": "gray",
           "dash": "dash"
          },
          "type": "line",
          "x0": 534,
          "x1": 534,
          "xref": "x",
          "y0": 0,
          "y1": 1,
          "yref": "y domain"
         },
         {
          "fillcolor": "rgb(246, 207, 113)",
          "layer": "below",
          "line": {
           "width": 0
          },
          "name": "Class 1",
          "opacity": 0.4,
          "showlegend": false,
          "type": "rect",
          "x0": 712,
          "x1": 890,
          "xref": "x",
          "y0": 0,
          "y1": 1,
          "yref": "y domain"
         },
         {
          "line": {
           "color": "gray",
           "dash": "dash"
          },
          "type": "line",
          "x0": 712,
          "x1": 712,
          "xref": "x",
          "y0": 0,
          "y1": 1,
          "yref": "y domain"
         },
         {
          "fillcolor": "rgb(102, 197, 204)",
          "layer": "below",
          "line": {
           "width": 0
          },
          "name": "Class 0",
          "opacity": 0.4,
          "showlegend": false,
          "type": "rect",
          "x0": 890,
          "x1": 1068,
          "xref": "x",
          "y0": 0,
          "y1": 1,
          "yref": "y domain"
         },
         {
          "line": {
           "color": "gray",
           "dash": "dash"
          },
          "type": "line",
          "x0": 890,
          "x1": 890,
          "xref": "x",
          "y0": 0,
          "y1": 1,
          "yref": "y domain"
         },
         {
          "fillcolor": "rgb(246, 207, 113)",
          "layer": "below",
          "line": {
           "width": 0
          },
          "name": "Class 1",
          "opacity": 0.4,
          "showlegend": false,
          "type": "rect",
          "x0": 1068,
          "x1": 1246,
          "xref": "x",
          "y0": 0,
          "y1": 1,
          "yref": "y domain"
         },
         {
          "line": {
           "color": "gray",
           "dash": "dash"
          },
          "type": "line",
          "x0": 1068,
          "x1": 1068,
          "xref": "x",
          "y0": 0,
          "y1": 1,
          "yref": "y domain"
         },
         {
          "fillcolor": "rgb(246, 207, 113)",
          "layer": "below",
          "line": {
           "width": 0
          },
          "name": "Class 1",
          "opacity": 0.4,
          "showlegend": false,
          "type": "rect",
          "x0": 1246,
          "x1": 1424,
          "xref": "x",
          "y0": 0,
          "y1": 1,
          "yref": "y domain"
         },
         {
          "line": {
           "color": "gray",
           "dash": "dash"
          },
          "type": "line",
          "x0": 1246,
          "x1": 1246,
          "xref": "x",
          "y0": 0,
          "y1": 1,
          "yref": "y domain"
         },
         {
          "fillcolor": "rgb(246, 207, 113)",
          "layer": "below",
          "line": {
           "width": 0
          },
          "name": "Class 1",
          "opacity": 0.4,
          "showlegend": false,
          "type": "rect",
          "x0": 1424,
          "x1": 1602,
          "xref": "x",
          "y0": 0,
          "y1": 1,
          "yref": "y domain"
         },
         {
          "line": {
           "color": "gray",
           "dash": "dash"
          },
          "type": "line",
          "x0": 1424,
          "x1": 1424,
          "xref": "x",
          "y0": 0,
          "y1": 1,
          "yref": "y domain"
         },
         {
          "fillcolor": "rgb(102, 197, 204)",
          "layer": "below",
          "line": {
           "width": 0
          },
          "name": "Class 0",
          "opacity": 0.4,
          "showlegend": false,
          "type": "rect",
          "x0": 1602,
          "x1": 1780,
          "xref": "x",
          "y0": 0,
          "y1": 1,
          "yref": "y domain"
         },
         {
          "line": {
           "color": "gray",
           "dash": "dash"
          },
          "type": "line",
          "x0": 1602,
          "x1": 1602,
          "xref": "x",
          "y0": 0,
          "y1": 1,
          "yref": "y domain"
         }
        ],
        "showlegend": true,
        "template": {
         "data": {
          "bar": [
           {
            "error_x": {
             "color": "#2a3f5f"
            },
            "error_y": {
             "color": "#2a3f5f"
            },
            "marker": {
             "line": {
              "color": "#E5ECF6",
              "width": 0.5
             },
             "pattern": {
              "fillmode": "overlay",
              "size": 10,
              "solidity": 0.2
             }
            },
            "type": "bar"
           }
          ],
          "barpolar": [
           {
            "marker": {
             "line": {
              "color": "#E5ECF6",
              "width": 0.5
             },
             "pattern": {
              "fillmode": "overlay",
              "size": 10,
              "solidity": 0.2
             }
            },
            "type": "barpolar"
           }
          ],
          "carpet": [
           {
            "aaxis": {
             "endlinecolor": "#2a3f5f",
             "gridcolor": "white",
             "linecolor": "white",
             "minorgridcolor": "white",
             "startlinecolor": "#2a3f5f"
            },
            "baxis": {
             "endlinecolor": "#2a3f5f",
             "gridcolor": "white",
             "linecolor": "white",
             "minorgridcolor": "white",
             "startlinecolor": "#2a3f5f"
            },
            "type": "carpet"
           }
          ],
          "choropleth": [
           {
            "colorbar": {
             "outlinewidth": 0,
             "ticks": ""
            },
            "type": "choropleth"
           }
          ],
          "contour": [
           {
            "colorbar": {
             "outlinewidth": 0,
             "ticks": ""
            },
            "colorscale": [
             [
              0,
              "#0d0887"
             ],
             [
              0.1111111111111111,
              "#46039f"
             ],
             [
              0.2222222222222222,
              "#7201a8"
             ],
             [
              0.3333333333333333,
              "#9c179e"
             ],
             [
              0.4444444444444444,
              "#bd3786"
             ],
             [
              0.5555555555555556,
              "#d8576b"
             ],
             [
              0.6666666666666666,
              "#ed7953"
             ],
             [
              0.7777777777777778,
              "#fb9f3a"
             ],
             [
              0.8888888888888888,
              "#fdca26"
             ],
             [
              1,
              "#f0f921"
             ]
            ],
            "type": "contour"
           }
          ],
          "contourcarpet": [
           {
            "colorbar": {
             "outlinewidth": 0,
             "ticks": ""
            },
            "type": "contourcarpet"
           }
          ],
          "heatmap": [
           {
            "colorbar": {
             "outlinewidth": 0,
             "ticks": ""
            },
            "colorscale": [
             [
              0,
              "#0d0887"
             ],
             [
              0.1111111111111111,
              "#46039f"
             ],
             [
              0.2222222222222222,
              "#7201a8"
             ],
             [
              0.3333333333333333,
              "#9c179e"
             ],
             [
              0.4444444444444444,
              "#bd3786"
             ],
             [
              0.5555555555555556,
              "#d8576b"
             ],
             [
              0.6666666666666666,
              "#ed7953"
             ],
             [
              0.7777777777777778,
              "#fb9f3a"
             ],
             [
              0.8888888888888888,
              "#fdca26"
             ],
             [
              1,
              "#f0f921"
             ]
            ],
            "type": "heatmap"
           }
          ],
          "histogram": [
           {
            "marker": {
             "pattern": {
              "fillmode": "overlay",
              "size": 10,
              "solidity": 0.2
             }
            },
            "type": "histogram"
           }
          ],
          "histogram2d": [
           {
            "colorbar": {
             "outlinewidth": 0,
             "ticks": ""
            },
            "colorscale": [
             [
              0,
              "#0d0887"
             ],
             [
              0.1111111111111111,
              "#46039f"
             ],
             [
              0.2222222222222222,
              "#7201a8"
             ],
             [
              0.3333333333333333,
              "#9c179e"
             ],
             [
              0.4444444444444444,
              "#bd3786"
             ],
             [
              0.5555555555555556,
              "#d8576b"
             ],
             [
              0.6666666666666666,
              "#ed7953"
             ],
             [
              0.7777777777777778,
              "#fb9f3a"
             ],
             [
              0.8888888888888888,
              "#fdca26"
             ],
             [
              1,
              "#f0f921"
             ]
            ],
            "type": "histogram2d"
           }
          ],
          "histogram2dcontour": [
           {
            "colorbar": {
             "outlinewidth": 0,
             "ticks": ""
            },
            "colorscale": [
             [
              0,
              "#0d0887"
             ],
             [
              0.1111111111111111,
              "#46039f"
             ],
             [
              0.2222222222222222,
              "#7201a8"
             ],
             [
              0.3333333333333333,
              "#9c179e"
             ],
             [
              0.4444444444444444,
              "#bd3786"
             ],
             [
              0.5555555555555556,
              "#d8576b"
             ],
             [
              0.6666666666666666,
              "#ed7953"
             ],
             [
              0.7777777777777778,
              "#fb9f3a"
             ],
             [
              0.8888888888888888,
              "#fdca26"
             ],
             [
              1,
              "#f0f921"
             ]
            ],
            "type": "histogram2dcontour"
           }
          ],
          "mesh3d": [
           {
            "colorbar": {
             "outlinewidth": 0,
             "ticks": ""
            },
            "type": "mesh3d"
           }
          ],
          "parcoords": [
           {
            "line": {
             "colorbar": {
              "outlinewidth": 0,
              "ticks": ""
             }
            },
            "type": "parcoords"
           }
          ],
          "pie": [
           {
            "automargin": true,
            "type": "pie"
           }
          ],
          "scatter": [
           {
            "fillpattern": {
             "fillmode": "overlay",
             "size": 10,
             "solidity": 0.2
            },
            "type": "scatter"
           }
          ],
          "scatter3d": [
           {
            "line": {
             "colorbar": {
              "outlinewidth": 0,
              "ticks": ""
             }
            },
            "marker": {
             "colorbar": {
              "outlinewidth": 0,
              "ticks": ""
             }
            },
            "type": "scatter3d"
           }
          ],
          "scattercarpet": [
           {
            "marker": {
             "colorbar": {
              "outlinewidth": 0,
              "ticks": ""
             }
            },
            "type": "scattercarpet"
           }
          ],
          "scattergeo": [
           {
            "marker": {
             "colorbar": {
              "outlinewidth": 0,
              "ticks": ""
             }
            },
            "type": "scattergeo"
           }
          ],
          "scattergl": [
           {
            "marker": {
             "colorbar": {
              "outlinewidth": 0,
              "ticks": ""
             }
            },
            "type": "scattergl"
           }
          ],
          "scattermap": [
           {
            "marker": {
             "colorbar": {
              "outlinewidth": 0,
              "ticks": ""
             }
            },
            "type": "scattermap"
           }
          ],
          "scattermapbox": [
           {
            "marker": {
             "colorbar": {
              "outlinewidth": 0,
              "ticks": ""
             }
            },
            "type": "scattermapbox"
           }
          ],
          "scatterpolar": [
           {
            "marker": {
             "colorbar": {
              "outlinewidth": 0,
              "ticks": ""
             }
            },
            "type": "scatterpolar"
           }
          ],
          "scatterpolargl": [
           {
            "marker": {
             "colorbar": {
              "outlinewidth": 0,
              "ticks": ""
             }
            },
            "type": "scatterpolargl"
           }
          ],
          "scatterternary": [
           {
            "marker": {
             "colorbar": {
              "outlinewidth": 0,
              "ticks": ""
             }
            },
            "type": "scatterternary"
           }
          ],
          "surface": [
           {
            "colorbar": {
             "outlinewidth": 0,
             "ticks": ""
            },
            "colorscale": [
             [
              0,
              "#0d0887"
             ],
             [
              0.1111111111111111,
              "#46039f"
             ],
             [
              0.2222222222222222,
              "#7201a8"
             ],
             [
              0.3333333333333333,
              "#9c179e"
             ],
             [
              0.4444444444444444,
              "#bd3786"
             ],
             [
              0.5555555555555556,
              "#d8576b"
             ],
             [
              0.6666666666666666,
              "#ed7953"
             ],
             [
              0.7777777777777778,
              "#fb9f3a"
             ],
             [
              0.8888888888888888,
              "#fdca26"
             ],
             [
              1,
              "#f0f921"
             ]
            ],
            "type": "surface"
           }
          ],
          "table": [
           {
            "cells": {
             "fill": {
              "color": "#EBF0F8"
             },
             "line": {
              "color": "white"
             }
            },
            "header": {
             "fill": {
              "color": "#C8D4E3"
             },
             "line": {
              "color": "white"
             }
            },
            "type": "table"
           }
          ]
         },
         "layout": {
          "annotationdefaults": {
           "arrowcolor": "#2a3f5f",
           "arrowhead": 0,
           "arrowwidth": 1
          },
          "autotypenumbers": "strict",
          "coloraxis": {
           "colorbar": {
            "outlinewidth": 0,
            "ticks": ""
           }
          },
          "colorscale": {
           "diverging": [
            [
             0,
             "#8e0152"
            ],
            [
             0.1,
             "#c51b7d"
            ],
            [
             0.2,
             "#de77ae"
            ],
            [
             0.3,
             "#f1b6da"
            ],
            [
             0.4,
             "#fde0ef"
            ],
            [
             0.5,
             "#f7f7f7"
            ],
            [
             0.6,
             "#e6f5d0"
            ],
            [
             0.7,
             "#b8e186"
            ],
            [
             0.8,
             "#7fbc41"
            ],
            [
             0.9,
             "#4d9221"
            ],
            [
             1,
             "#276419"
            ]
           ],
           "sequential": [
            [
             0,
             "#0d0887"
            ],
            [
             0.1111111111111111,
             "#46039f"
            ],
            [
             0.2222222222222222,
             "#7201a8"
            ],
            [
             0.3333333333333333,
             "#9c179e"
            ],
            [
             0.4444444444444444,
             "#bd3786"
            ],
            [
             0.5555555555555556,
             "#d8576b"
            ],
            [
             0.6666666666666666,
             "#ed7953"
            ],
            [
             0.7777777777777778,
             "#fb9f3a"
            ],
            [
             0.8888888888888888,
             "#fdca26"
            ],
            [
             1,
             "#f0f921"
            ]
           ],
           "sequentialminus": [
            [
             0,
             "#0d0887"
            ],
            [
             0.1111111111111111,
             "#46039f"
            ],
            [
             0.2222222222222222,
             "#7201a8"
            ],
            [
             0.3333333333333333,
             "#9c179e"
            ],
            [
             0.4444444444444444,
             "#bd3786"
            ],
            [
             0.5555555555555556,
             "#d8576b"
            ],
            [
             0.6666666666666666,
             "#ed7953"
            ],
            [
             0.7777777777777778,
             "#fb9f3a"
            ],
            [
             0.8888888888888888,
             "#fdca26"
            ],
            [
             1,
             "#f0f921"
            ]
           ]
          },
          "colorway": [
           "#636efa",
           "#EF553B",
           "#00cc96",
           "#ab63fa",
           "#FFA15A",
           "#19d3f3",
           "#FF6692",
           "#B6E880",
           "#FF97FF",
           "#FECB52"
          ],
          "font": {
           "color": "#2a3f5f"
          },
          "geo": {
           "bgcolor": "white",
           "lakecolor": "white",
           "landcolor": "#E5ECF6",
           "showlakes": true,
           "showland": true,
           "subunitcolor": "white"
          },
          "hoverlabel": {
           "align": "left"
          },
          "hovermode": "closest",
          "mapbox": {
           "style": "light"
          },
          "paper_bgcolor": "white",
          "plot_bgcolor": "#E5ECF6",
          "polar": {
           "angularaxis": {
            "gridcolor": "white",
            "linecolor": "white",
            "ticks": ""
           },
           "bgcolor": "#E5ECF6",
           "radialaxis": {
            "gridcolor": "white",
            "linecolor": "white",
            "ticks": ""
           }
          },
          "scene": {
           "xaxis": {
            "backgroundcolor": "#E5ECF6",
            "gridcolor": "white",
            "gridwidth": 2,
            "linecolor": "white",
            "showbackground": true,
            "ticks": "",
            "zerolinecolor": "white"
           },
           "yaxis": {
            "backgroundcolor": "#E5ECF6",
            "gridcolor": "white",
            "gridwidth": 2,
            "linecolor": "white",
            "showbackground": true,
            "ticks": "",
            "zerolinecolor": "white"
           },
           "zaxis": {
            "backgroundcolor": "#E5ECF6",
            "gridcolor": "white",
            "gridwidth": 2,
            "linecolor": "white",
            "showbackground": true,
            "ticks": "",
            "zerolinecolor": "white"
           }
          },
          "shapedefaults": {
           "line": {
            "color": "#2a3f5f"
           }
          },
          "ternary": {
           "aaxis": {
            "gridcolor": "white",
            "linecolor": "white",
            "ticks": ""
           },
           "baxis": {
            "gridcolor": "white",
            "linecolor": "white",
            "ticks": ""
           },
           "bgcolor": "#E5ECF6",
           "caxis": {
            "gridcolor": "white",
            "linecolor": "white",
            "ticks": ""
           }
          },
          "title": {
           "x": 0.05
          },
          "xaxis": {
           "automargin": true,
           "gridcolor": "white",
           "linecolor": "white",
           "ticks": "",
           "title": {
            "standoff": 15
           },
           "zerolinecolor": "white",
           "zerolinewidth": 2
          },
          "yaxis": {
           "automargin": true,
           "gridcolor": "white",
           "linecolor": "white",
           "ticks": "",
           "title": {
            "standoff": 15
           },
           "zerolinecolor": "white",
           "zerolinewidth": 2
          }
         }
        },
        "xaxis": {
         "anchor": "y",
         "domain": [
          0,
          1
         ],
         "title": {
          "text": "Time"
         }
        },
        "yaxis": {
         "anchor": "x",
         "domain": [
          0,
          1
         ],
         "title": {
          "text": "Var 0"
         }
        }
       }
      }
     },
     "metadata": {},
     "output_type": "display_data"
    }
   ],
   "source": [
    "fig = plot_classification_dataset(\n",
    "    datasets[\"Epilepsy\"][\"train\"][\"samples\"][:10, :].numpy(),\n",
    "    datasets[\"Epilepsy\"][\"train\"][\"labels\"][:10].numpy(),\n",
    ")\n",
    "fig.show()"
   ]
  },
  {
   "cell_type": "code",
   "execution_count": 11,
   "metadata": {},
   "outputs": [
    {
     "data": {
      "application/vnd.plotly.v1+json": {
       "config": {
        "plotlyServerURL": "https://plot.ly"
       },
       "data": [
        {
         "mode": "lines",
         "name": "Var 0",
         "showlegend": false,
         "type": "scatter",
         "x": {
          "bdata": "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",
          "dtype": "i2"
         },
         "xaxis": "x",
         "y": {
          "bdata": "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",
          "dtype": "f8"
         },
         "yaxis": "y"
        },
        {
         "mode": "lines",
         "name": "Var 1",
         "showlegend": false,
         "type": "scatter",
         "x": {
          "bdata": "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",
          "dtype": "i2"
         },
         "xaxis": "x2",
         "y": {
          "bdata": "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",
          "dtype": "f8"
         },
         "yaxis": "y2"
        },
        {
         "mode": "lines",
         "name": "Var 2",
         "showlegend": false,
         "type": "scatter",
         "x": {
          "bdata": "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",
          "dtype": "i2"
         },
         "xaxis": "x3",
         "y": {
          "bdata": "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",
          "dtype": "f8"
         },
         "yaxis": "y3"
        },
        {
         "mode": "lines",
         "name": "Var 3",
         "showlegend": false,
         "type": "scatter",
         "x": {
          "bdata": "AAABAAIAAwAEAAUABgAHAAgACQAKAAsADAANAA4ADwAQABEAEgATABQAFQAWABcAGAAZABoAGwAcAB0AHgAfACAAIQAiACMAJAAlACYAJwAoACkAKgArACwALQAuAC8AMAAxADIAMwA0ADUANgA3ADgAOQA6ADsAPAA9AD4APwBAAEEAQgBDAEQARQBGAEcASABJAEoASwBMAE0ATgBPAFAAUQBSAFMAVABVAFYAVwBYAFkAWgBbAFwAXQBeAF8AYABhAGIAYwBkAGUAZgBnAGgAaQBqAGsAbABtAG4AbwBwAHEAcgBzAHQAdQB2AHcAeAB5AHoAewB8AH0AfgB/AIAAgQCCAIMAhACFAIYAhwCIAIkAigCLAIwAjQCOAI8AkACRAJIAkwCUAJUAlgCXAJgAmQCaAJsAnACdAJ4AnwCgAKEAogCjAKQApQCmAKcAqACpAKoAqwCsAK0ArgCvALAAsQCyALMAtAC1ALYAtwC4ALkAugC7ALwAvQC+AL8AwADBAMIAwwDEAMUAxgDHAMgAyQDKAMsAzADNAM4AzwDQANEA0gDTANQA1QDWANcA2ADZANoA2wDcAN0A3gDfAOAA4QDiAOMA5ADlAOYA5wDoAOkA6gDrAOwA7QDuAO8A8ADxAPIA8wD0APUA9gD3APgA+QD6APsA/AD9AP4A/wAAAQEBAgEDAQQBBQEGAQcBCAEJAQoBCwEMAQ0BDgEPARABEQESARMBFAEVARYBFwEYARkBGgEbARwBHQEeAR8BIAEhASIBIwEkASUBJgEnASgBKQEqASsBLAEtAS4BLwEwATEBMgEzATQBNQE2ATcBOAE5AToBOwE8AT0BPgE/AUABQQFCAUMBRAFFAUYBRwFIAUkBSgFLAUwBTQFOAU8BUAFRAVIBUwFUAVUBVgFXAVgBWQFaAVsBXAFdAV4BXwFgAWEBYgFjAWQBZQFmAWcBaAFpAWoBawFsAW0BbgFvAXABcQFyAXMBdAF1AXYBdwF4AXkBegF7AXwBfQF+AX8BgAGBAYIBgwGEAYUBhgGHAYgBiQGKAYsBjAGNAY4BjwGQAZEBkgGTAZQBlQGWAZcBmAGZAZoBmwGcAZ0BngGfAaABoQGiAaMBpAGlAaYBpwGoAakBqgGrAawBrQGuAa8BsAGxAbIBswG0AbUBtgG3AbgBuQG6AbsBvAG9Ab4BvwHAAcEBwgHDAcQBxQHGAccByAHJAcoBywHMAc0BzgHPAdAB0QHSAdMB1AHVAdYB1wHYAdkB2gHbAdwB3QHeAd8B4AHhAeIB4wHkAeUB5gHnAegB6QHqAesB7AHtAe4B7wHwAfEB8gHzAfQB9QH2AfcB+AH5AfoB+wH8Af0B/gH/AQACAQICAgMCBAIFAgYCBwIIAgkCCgILAgwCDQIOAg8CEAIRAhICEwIUAhUCFgIXAhgCGQIaAhsCHAIdAh4CHwIgAiECIgIjAiQCJQImAicCKAIpAioCKwIsAi0CLgIvAjACMQIyAjMCNAI1AjYCNwI4AjkCOgI7AjwCPQI+Aj8CQAJBAkICQwJEAkUCRgJHAkgCSQJKAksCTAJNAk4CTwJQAlECUgJTAlQCVQJWAlcCWAJZAloCWwJcAl0CXgJfAmACYQJiAmMCZAJlAmYCZwJoAmkCagJrAmwCbQJuAm8CcAJxAnICcwJ0AnUCdgJ3AngCeQJ6AnsCfAJ9An4CfwKAAoECggKDAoQChQKGAocCiAKJAooCiwKMAo0CjgKPApACkQKSApMClAKVApYClwKYApkCmgKbApwCnQKeAp8CoAKhAqICowKkAqUCpgKnAqgCqQKqAqsCrAKtAq4CrwKwArECsgKzArQCtQK2ArcCuAK5AroCuwK8Ar0CvgK/AsACwQLCAsMCxALFAsYCxwLIAskCygLLAswCzQLOAs8C0ALRAtIC0wLUAtUC1gLXAtgC2QLaAtsC3ALdAt4C3wLgAuEC4gLjAuQC5QLmAucC6ALpAuoC6wLsAu0C7gLvAvAC8QLyAvMC9AL1AvYC9wL4AvkC+gL7AvwC/QL+Av8CAAMBAwIDAwMEAwUDBgMHAwgDCQMKAwsDDAMNAw4DDwMQAxEDEgMTAxQDFQMWAxcDGAMZAxoDGwMcAx0DHgMfAyADIQMiAyMDJAMlAyYDJwMoAykDKgMrAywDLQMuAy8DMAMxAzIDMwM0AzUDNgM3AzgDOQM6AzsDPAM9Az4DPwNAA0EDQgNDA0QDRQNGA0cDSANJA0oDSwNMA00DTgNPA1ADUQNSA1MDVANVA1YDVwNYA1kDWgNbA1wDXQNeA18DYANhA2IDYwNkA2UDZgNnA2gDaQNqA2sDbANtA24DbwNwA3EDcgNzA3QDdQN2A3cDeAN5A3oDewN8A30DfgN/A4ADgQOCA4MDhAOFA4YDhwOIA4kDigOLA4wDjQOOA48DkAORA5IDkwOUA5UDlgOXA5gDmQOaA5sDnAOdA54DnwOgA6EDogOjA6QDpQOmA6cDqAOpA6oDqwOsA60DrgOvA7ADsQOyA7MDtAO1A7YDtwO4A7kDugO7A7wDvQO+A78DwAPBA8IDwwPEA8UDxgPHA8gDyQPKA8sDzAPNA84DzwPQA9ED0gPTA9QD1QPWA9cD2APZA9oD2wPcA90D3gPfA+AD4QPiA+MD5APlA+YD5wPoA+kD6gPrA+wD7QPuA+8D8APxA/ID8wP0A/UD9gP3A/gD+QP6A/sD/AP9A/4D/wMABAEEAgQDBAQEBQQGBAcECAQJBAoECwQMBA0EDgQPBBAEEQQSBBMEFAQVBBYEFwQYBBkEGgQbBBwEHQQeBB8EIAQhBCIEIwQkBCUEJgQnBCgEKQQqBCsELAQtBC4ELwQwBDEEMgQzBDQENQQ2BDcEOAQ5BDoEOwQ8BD0EPgQ/BEAEQQRCBEMERARFBEYERwRIBEkESgRLBEwETQROBE8EUARRBFIEUwRUBFUEVgRXBFgEWQRaBFsEXARdBF4EXwRgBGEEYgRjBGQEZQRmBGcEaARpBGoEawRsBG0EbgRvBHAEcQRyBHMEdAR1BHYEdwR4BHkEegR7BHwEfQR+BH8EgASBBIIEgwSEBIUEhgSHBIgEiQSKBIsEjASNBI4EjwSQBJEEkgSTBJQElQSWBJcEmASZBJoEmwScBJ0EngSfBKAEoQSiBKMEpASlBKYEpwSoBKkEqgSrBKwErQSuBK8EsASxBLIEswS0BLUEtgS3BLgEuQS6BLsEvAS9BL4EvwTABMEEwgTDBMQExQTGBMcEyATJBMoEywTMBM0EzgTPBNAE0QTSBNME1ATVBNYE1wTYBNkE2gTbBNwE3QTeBN8E4AThBOIE4wTkBOUE5gTnBOgE6QTqBOsE7ATtBO4E7wTwBPEE8gTzBPQE9QT2BPcE+AT5BPoE+wT8BP0E/gT/BA==",
          "dtype": "i2"
         },
         "xaxis": "x4",
         "y": {
          "bdata": "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",
          "dtype": "f8"
         },
         "yaxis": "y4"
        },
        {
         "mode": "lines",
         "name": "Var 4",
         "showlegend": false,
         "type": "scatter",
         "x": {
          "bdata": "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",
          "dtype": "i2"
         },
         "xaxis": "x5",
         "y": {
          "bdata": "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",
          "dtype": "f8"
         },
         "yaxis": "y5"
        },
        {
         "mode": "lines",
         "name": "Var 5",
         "showlegend": false,
         "type": "scatter",
         "x": {
          "bdata": "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",
          "dtype": "i2"
         },
         "xaxis": "x6",
         "y": {
          "bdata": "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",
          "dtype": "f8"
         },
         "yaxis": "y6"
        },
        {
         "mode": "lines",
         "name": "Var 6",
         "showlegend": false,
         "type": "scatter",
         "x": {
          "bdata": "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",
          "dtype": "i2"
         },
         "xaxis": "x7",
         "y": {
          "bdata": "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",
          "dtype": "f8"
         },
         "yaxis": "y7"
        },
        {
         "mode": "lines",
         "name": "Var 7",
         "showlegend": false,
         "type": "scatter",
         "x": {
          "bdata": "AAABAAIAAwAEAAUABgAHAAgACQAKAAsADAANAA4ADwAQABEAEgATABQAFQAWABcAGAAZABoAGwAcAB0AHgAfACAAIQAiACMAJAAlACYAJwAoACkAKgArACwALQAuAC8AMAAxADIAMwA0ADUANgA3ADgAOQA6ADsAPAA9AD4APwBAAEEAQgBDAEQARQBGAEcASABJAEoASwBMAE0ATgBPAFAAUQBSAFMAVABVAFYAVwBYAFkAWgBbAFwAXQBeAF8AYABhAGIAYwBkAGUAZgBnAGgAaQBqAGsAbABtAG4AbwBwAHEAcgBzAHQAdQB2AHcAeAB5AHoAewB8AH0AfgB/AIAAgQCCAIMAhACFAIYAhwCIAIkAigCLAIwAjQCOAI8AkACRAJIAkwCUAJUAlgCXAJgAmQCaAJsAnACdAJ4AnwCgAKEAogCjAKQApQCmAKcAqACpAKoAqwCsAK0ArgCvALAAsQCyALMAtAC1ALYAtwC4ALkAugC7ALwAvQC+AL8AwADBAMIAwwDEAMUAxgDHAMgAyQDKAMsAzADNAM4AzwDQANEA0gDTANQA1QDWANcA2ADZANoA2wDcAN0A3gDfAOAA4QDiAOMA5ADlAOYA5wDoAOkA6gDrAOwA7QDuAO8A8ADxAPIA8wD0APUA9gD3APgA+QD6APsA/AD9AP4A/wAAAQEBAgEDAQQBBQEGAQcBCAEJAQoBCwEMAQ0BDgEPARABEQESARMBFAEVARYBFwEYARkBGgEbARwBHQEeAR8BIAEhASIBIwEkASUBJgEnASgBKQEqASsBLAEtAS4BLwEwATEBMgEzATQBNQE2ATcBOAE5AToBOwE8AT0BPgE/AUABQQFCAUMBRAFFAUYBRwFIAUkBSgFLAUwBTQFOAU8BUAFRAVIBUwFUAVUBVgFXAVgBWQFaAVsBXAFdAV4BXwFgAWEBYgFjAWQBZQFmAWcBaAFpAWoBawFsAW0BbgFvAXABcQFyAXMBdAF1AXYBdwF4AXkBegF7AXwBfQF+AX8BgAGBAYIBgwGEAYUBhgGHAYgBiQGKAYsBjAGNAY4BjwGQAZEBkgGTAZQBlQGWAZcBmAGZAZoBmwGcAZ0BngGfAaABoQGiAaMBpAGlAaYBpwGoAakBqgGrAawBrQGuAa8BsAGxAbIBswG0AbUBtgG3AbgBuQG6AbsBvAG9Ab4BvwHAAcEBwgHDAcQBxQHGAccByAHJAcoBywHMAc0BzgHPAdAB0QHSAdMB1AHVAdYB1wHYAdkB2gHbAdwB3QHeAd8B4AHhAeIB4wHkAeUB5gHnAegB6QHqAesB7AHtAe4B7wHwAfEB8gHzAfQB9QH2AfcB+AH5AfoB+wH8Af0B/gH/AQACAQICAgMCBAIFAgYCBwIIAgkCCgILAgwCDQIOAg8CEAIRAhICEwIUAhUCFgIXAhgCGQIaAhsCHAIdAh4CHwIgAiECIgIjAiQCJQImAicCKAIpAioCKwIsAi0CLgIvAjACMQIyAjMCNAI1AjYCNwI4AjkCOgI7AjwCPQI+Aj8CQAJBAkICQwJEAkUCRgJHAkgCSQJKAksCTAJNAk4CTwJQAlECUgJTAlQCVQJWAlcCWAJZAloCWwJcAl0CXgJfAmACYQJiAmMCZAJlAmYCZwJoAmkCagJrAmwCbQJuAm8CcAJxAnICcwJ0AnUCdgJ3AngCeQJ6AnsCfAJ9An4CfwKAAoECggKDAoQChQKGAocCiAKJAooCiwKMAo0CjgKPApACkQKSApMClAKVApYClwKYApkCmgKbApwCnQKeAp8CoAKhAqICowKkAqUCpgKnAqgCqQKqAqsCrAKtAq4CrwKwArECsgKzArQCtQK2ArcCuAK5AroCuwK8Ar0CvgK/AsACwQLCAsMCxALFAsYCxwLIAskCygLLAswCzQLOAs8C0ALRAtIC0wLUAtUC1gLXAtgC2QLaAtsC3ALdAt4C3wLgAuEC4gLjAuQC5QLmAucC6ALpAuoC6wLsAu0C7gLvAvAC8QLyAvMC9AL1AvYC9wL4AvkC+gL7AvwC/QL+Av8CAAMBAwIDAwMEAwUDBgMHAwgDCQMKAwsDDAMNAw4DDwMQAxEDEgMTAxQDFQMWAxcDGAMZAxoDGwMcAx0DHgMfAyADIQMiAyMDJAMlAyYDJwMoAykDKgMrAywDLQMuAy8DMAMxAzIDMwM0AzUDNgM3AzgDOQM6AzsDPAM9Az4DPwNAA0EDQgNDA0QDRQNGA0cDSANJA0oDSwNMA00DTgNPA1ADUQNSA1MDVANVA1YDVwNYA1kDWgNbA1wDXQNeA18DYANhA2IDYwNkA2UDZgNnA2gDaQNqA2sDbANtA24DbwNwA3EDcgNzA3QDdQN2A3cDeAN5A3oDewN8A30DfgN/A4ADgQOCA4MDhAOFA4YDhwOIA4kDigOLA4wDjQOOA48DkAORA5IDkwOUA5UDlgOXA5gDmQOaA5sDnAOdA54DnwOgA6EDogOjA6QDpQOmA6cDqAOpA6oDqwOsA60DrgOvA7ADsQOyA7MDtAO1A7YDtwO4A7kDugO7A7wDvQO+A78DwAPBA8IDwwPEA8UDxgPHA8gDyQPKA8sDzAPNA84DzwPQA9ED0gPTA9QD1QPWA9cD2APZA9oD2wPcA90D3gPfA+AD4QPiA+MD5APlA+YD5wPoA+kD6gPrA+wD7QPuA+8D8APxA/ID8wP0A/UD9gP3A/gD+QP6A/sD/AP9A/4D/wMABAEEAgQDBAQEBQQGBAcECAQJBAoECwQMBA0EDgQPBBAEEQQSBBMEFAQVBBYEFwQYBBkEGgQbBBwEHQQeBB8EIAQhBCIEIwQkBCUEJgQnBCgEKQQqBCsELAQtBC4ELwQwBDEEMgQzBDQENQQ2BDcEOAQ5BDoEOwQ8BD0EPgQ/BEAEQQRCBEMERARFBEYERwRIBEkESgRLBEwETQROBE8EUARRBFIEUwRUBFUEVgRXBFgEWQRaBFsEXARdBF4EXwRgBGEEYgRjBGQEZQRmBGcEaARpBGoEawRsBG0EbgRvBHAEcQRyBHMEdAR1BHYEdwR4BHkEegR7BHwEfQR+BH8EgASBBIIEgwSEBIUEhgSHBIgEiQSKBIsEjASNBI4EjwSQBJEEkgSTBJQElQSWBJcEmASZBJoEmwScBJ0EngSfBKAEoQSiBKMEpASlBKYEpwSoBKkEqgSrBKwErQSuBK8EsASxBLIEswS0BLUEtgS3BLgEuQS6BLsEvAS9BL4EvwTABMEEwgTDBMQExQTGBMcEyATJBMoEywTMBM0EzgTPBNAE0QTSBNME1ATVBNYE1wTYBNkE2gTbBNwE3QTeBN8E4AThBOIE4wTkBOUE5gTnBOgE6QTqBOsE7ATtBO4E7wTwBPEE8gTzBPQE9QT2BPcE+AT5BPoE+wT8BP0E/gT/BA==",
          "dtype": "i2"
         },
         "xaxis": "x8",
         "y": {
          "bdata": "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",
          "dtype": "f8"
         },
         "yaxis": "y8"
        },
        {
         "mode": "lines",
         "name": "Var 8",
         "showlegend": false,
         "type": "scatter",
         "x": {
          "bdata": "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",
          "dtype": "i2"
         },
         "xaxis": "x9",
         "y": {
          "bdata": "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",
          "dtype": "f8"
         },
         "yaxis": "y9"
        },
        {
         "marker": {
          "color": "rgb(158, 185, 243)"
         },
         "mode": "markers",
         "name": "Class 5",
         "showlegend": true,
         "type": "scatter",
         "x": [
          null
         ],
         "y": [
          null
         ]
        },
        {
         "marker": {
          "color": "rgb(246, 207, 113)"
         },
         "mode": "markers",
         "name": "Class 1",
         "showlegend": true,
         "type": "scatter",
         "x": [
          null
         ],
         "y": [
          null
         ]
        },
        {
         "marker": {
          "color": "rgb(135, 197, 95)"
         },
         "mode": "markers",
         "name": "Class 4",
         "showlegend": true,
         "type": "scatter",
         "x": [
          null
         ],
         "y": [
          null
         ]
        },
        {
         "marker": {
          "color": "rgb(102, 197, 204)"
         },
         "mode": "markers",
         "name": "Class 0",
         "showlegend": true,
         "type": "scatter",
         "x": [
          null
         ],
         "y": [
          null
         ]
        },
        {
         "marker": {
          "color": "rgb(220, 176, 242)"
         },
         "mode": "markers",
         "name": "Class 3",
         "showlegend": true,
         "type": "scatter",
         "x": [
          null
         ],
         "y": [
          null
         ]
        },
        {
         "marker": {
          "color": "rgb(248, 156, 116)"
         },
         "mode": "markers",
         "name": "Class 2",
         "showlegend": true,
         "type": "scatter",
         "x": [
          null
         ],
         "y": [
          null
         ]
        }
       ],
       "layout": {
        "height": 900,
        "legend": {
         "orientation": "h",
         "x": 1,
         "xanchor": "right",
         "y": 1.02,
         "yanchor": "bottom"
        },
        "margin": {
         "b": 30,
         "l": 15,
         "r": 15,
         "t": 30
        },
        "shapes": [
         {
          "fillcolor": "rgb(158, 185, 243)",
          "layer": "below",
          "line": {
           "width": 0
          },
          "name": "Class 5",
          "opacity": 0.4,
          "showlegend": false,
          "type": "rect",
          "x0": 0,
          "x1": 128,
          "xref": "x",
          "y0": 0,
          "y1": 1,
          "yref": "y domain"
         },
         {
          "fillcolor": "rgb(158, 185, 243)",
          "layer": "below",
          "line": {
           "width": 0
          },
          "name": "Class 5",
          "opacity": 0.4,
          "showlegend": false,
          "type": "rect",
          "x0": 0,
          "x1": 128,
          "xref": "x2",
          "y0": 0,
          "y1": 1,
          "yref": "y2 domain"
         },
         {
          "fillcolor": "rgb(158, 185, 243)",
          "layer": "below",
          "line": {
           "width": 0
          },
          "name": "Class 5",
          "opacity": 0.4,
          "showlegend": false,
          "type": "rect",
          "x0": 0,
          "x1": 128,
          "xref": "x3",
          "y0": 0,
          "y1": 1,
          "yref": "y3 domain"
         },
         {
          "fillcolor": "rgb(158, 185, 243)",
          "layer": "below",
          "line": {
           "width": 0
          },
          "name": "Class 5",
          "opacity": 0.4,
          "showlegend": false,
          "type": "rect",
          "x0": 0,
          "x1": 128,
          "xref": "x4",
          "y0": 0,
          "y1": 1,
          "yref": "y4 domain"
         },
         {
          "fillcolor": "rgb(158, 185, 243)",
          "layer": "below",
          "line": {
           "width": 0
          },
          "name": "Class 5",
          "opacity": 0.4,
          "showlegend": false,
          "type": "rect",
          "x0": 0,
          "x1": 128,
          "xref": "x5",
          "y0": 0,
          "y1": 1,
          "yref": "y5 domain"
         },
         {
          "fillcolor": "rgb(158, 185, 243)",
          "layer": "below",
          "line": {
           "width": 0
          },
          "name": "Class 5",
          "opacity": 0.4,
          "showlegend": false,
          "type": "rect",
          "x0": 0,
          "x1": 128,
          "xref": "x6",
          "y0": 0,
          "y1": 1,
          "yref": "y6 domain"
         },
         {
          "fillcolor": "rgb(158, 185, 243)",
          "layer": "below",
          "line": {
           "width": 0
          },
          "name": "Class 5",
          "opacity": 0.4,
          "showlegend": false,
          "type": "rect",
          "x0": 0,
          "x1": 128,
          "xref": "x7",
          "y0": 0,
          "y1": 1,
          "yref": "y7 domain"
         },
         {
          "fillcolor": "rgb(158, 185, 243)",
          "layer": "below",
          "line": {
           "width": 0
          },
          "name": "Class 5",
          "opacity": 0.4,
          "showlegend": false,
          "type": "rect",
          "x0": 0,
          "x1": 128,
          "xref": "x8",
          "y0": 0,
          "y1": 1,
          "yref": "y8 domain"
         },
         {
          "fillcolor": "rgb(158, 185, 243)",
          "layer": "below",
          "line": {
           "width": 0
          },
          "name": "Class 5",
          "opacity": 0.4,
          "showlegend": false,
          "type": "rect",
          "x0": 0,
          "x1": 128,
          "xref": "x9",
          "y0": 0,
          "y1": 1,
          "yref": "y9 domain"
         },
         {
          "fillcolor": "rgb(246, 207, 113)",
          "layer": "below",
          "line": {
           "width": 0
          },
          "name": "Class 1",
          "opacity": 0.4,
          "showlegend": false,
          "type": "rect",
          "x0": 128,
          "x1": 256,
          "xref": "x",
          "y0": 0,
          "y1": 1,
          "yref": "y domain"
         },
         {
          "fillcolor": "rgb(246, 207, 113)",
          "layer": "below",
          "line": {
           "width": 0
          },
          "name": "Class 1",
          "opacity": 0.4,
          "showlegend": false,
          "type": "rect",
          "x0": 128,
          "x1": 256,
          "xref": "x2",
          "y0": 0,
          "y1": 1,
          "yref": "y2 domain"
         },
         {
          "fillcolor": "rgb(246, 207, 113)",
          "layer": "below",
          "line": {
           "width": 0
          },
          "name": "Class 1",
          "opacity": 0.4,
          "showlegend": false,
          "type": "rect",
          "x0": 128,
          "x1": 256,
          "xref": "x3",
          "y0": 0,
          "y1": 1,
          "yref": "y3 domain"
         },
         {
          "fillcolor": "rgb(246, 207, 113)",
          "layer": "below",
          "line": {
           "width": 0
          },
          "name": "Class 1",
          "opacity": 0.4,
          "showlegend": false,
          "type": "rect",
          "x0": 128,
          "x1": 256,
          "xref": "x4",
          "y0": 0,
          "y1": 1,
          "yref": "y4 domain"
         },
         {
          "fillcolor": "rgb(246, 207, 113)",
          "layer": "below",
          "line": {
           "width": 0
          },
          "name": "Class 1",
          "opacity": 0.4,
          "showlegend": false,
          "type": "rect",
          "x0": 128,
          "x1": 256,
          "xref": "x5",
          "y0": 0,
          "y1": 1,
          "yref": "y5 domain"
         },
         {
          "fillcolor": "rgb(246, 207, 113)",
          "layer": "below",
          "line": {
           "width": 0
          },
          "name": "Class 1",
          "opacity": 0.4,
          "showlegend": false,
          "type": "rect",
          "x0": 128,
          "x1": 256,
          "xref": "x6",
          "y0": 0,
          "y1": 1,
          "yref": "y6 domain"
         },
         {
          "fillcolor": "rgb(246, 207, 113)",
          "layer": "below",
          "line": {
           "width": 0
          },
          "name": "Class 1",
          "opacity": 0.4,
          "showlegend": false,
          "type": "rect",
          "x0": 128,
          "x1": 256,
          "xref": "x7",
          "y0": 0,
          "y1": 1,
          "yref": "y7 domain"
         },
         {
          "fillcolor": "rgb(246, 207, 113)",
          "layer": "below",
          "line": {
           "width": 0
          },
          "name": "Class 1",
          "opacity": 0.4,
          "showlegend": false,
          "type": "rect",
          "x0": 128,
          "x1": 256,
          "xref": "x8",
          "y0": 0,
          "y1": 1,
          "yref": "y8 domain"
         },
         {
          "fillcolor": "rgb(246, 207, 113)",
          "layer": "below",
          "line": {
           "width": 0
          },
          "name": "Class 1",
          "opacity": 0.4,
          "showlegend": false,
          "type": "rect",
          "x0": 128,
          "x1": 256,
          "xref": "x9",
          "y0": 0,
          "y1": 1,
          "yref": "y9 domain"
         },
         {
          "line": {
           "color": "gray",
           "dash": "dash"
          },
          "type": "line",
          "x0": 128,
          "x1": 128,
          "xref": "x",
          "y0": 0,
          "y1": 1,
          "yref": "y domain"
         },
         {
          "line": {
           "color": "gray",
           "dash": "dash"
          },
          "type": "line",
          "x0": 128,
          "x1": 128,
          "xref": "x2",
          "y0": 0,
          "y1": 1,
          "yref": "y2 domain"
         },
         {
          "line": {
           "color": "gray",
           "dash": "dash"
          },
          "type": "line",
          "x0": 128,
          "x1": 128,
          "xref": "x3",
          "y0": 0,
          "y1": 1,
          "yref": "y3 domain"
         },
         {
          "line": {
           "color": "gray",
           "dash": "dash"
          },
          "type": "line",
          "x0": 128,
          "x1": 128,
          "xref": "x4",
          "y0": 0,
          "y1": 1,
          "yref": "y4 domain"
         },
         {
          "line": {
           "color": "gray",
           "dash": "dash"
          },
          "type": "line",
          "x0": 128,
          "x1": 128,
          "xref": "x5",
          "y0": 0,
          "y1": 1,
          "yref": "y5 domain"
         },
         {
          "line": {
           "color": "gray",
           "dash": "dash"
          },
          "type": "line",
          "x0": 128,
          "x1": 128,
          "xref": "x6",
          "y0": 0,
          "y1": 1,
          "yref": "y6 domain"
         },
         {
          "line": {
           "color": "gray",
           "dash": "dash"
          },
          "type": "line",
          "x0": 128,
          "x1": 128,
          "xref": "x7",
          "y0": 0,
          "y1": 1,
          "yref": "y7 domain"
         },
         {
          "line": {
           "color": "gray",
           "dash": "dash"
          },
          "type": "line",
          "x0": 128,
          "x1": 128,
          "xref": "x8",
          "y0": 0,
          "y1": 1,
          "yref": "y8 domain"
         },
         {
          "line": {
           "color": "gray",
           "dash": "dash"
          },
          "type": "line",
          "x0": 128,
          "x1": 128,
          "xref": "x9",
          "y0": 0,
          "y1": 1,
          "yref": "y9 domain"
         },
         {
          "fillcolor": "rgb(246, 207, 113)",
          "layer": "below",
          "line": {
           "width": 0
          },
          "name": "Class 1",
          "opacity": 0.4,
          "showlegend": false,
          "type": "rect",
          "x0": 256,
          "x1": 384,
          "xref": "x",
          "y0": 0,
          "y1": 1,
          "yref": "y domain"
         },
         {
          "fillcolor": "rgb(246, 207, 113)",
          "layer": "below",
          "line": {
           "width": 0
          },
          "name": "Class 1",
          "opacity": 0.4,
          "showlegend": false,
          "type": "rect",
          "x0": 256,
          "x1": 384,
          "xref": "x2",
          "y0": 0,
          "y1": 1,
          "yref": "y2 domain"
         },
         {
          "fillcolor": "rgb(246, 207, 113)",
          "layer": "below",
          "line": {
           "width": 0
          },
          "name": "Class 1",
          "opacity": 0.4,
          "showlegend": false,
          "type": "rect",
          "x0": 256,
          "x1": 384,
          "xref": "x3",
          "y0": 0,
          "y1": 1,
          "yref": "y3 domain"
         },
         {
          "fillcolor": "rgb(246, 207, 113)",
          "layer": "below",
          "line": {
           "width": 0
          },
          "name": "Class 1",
          "opacity": 0.4,
          "showlegend": false,
          "type": "rect",
          "x0": 256,
          "x1": 384,
          "xref": "x4",
          "y0": 0,
          "y1": 1,
          "yref": "y4 domain"
         },
         {
          "fillcolor": "rgb(246, 207, 113)",
          "layer": "below",
          "line": {
           "width": 0
          },
          "name": "Class 1",
          "opacity": 0.4,
          "showlegend": false,
          "type": "rect",
          "x0": 256,
          "x1": 384,
          "xref": "x5",
          "y0": 0,
          "y1": 1,
          "yref": "y5 domain"
         },
         {
          "fillcolor": "rgb(246, 207, 113)",
          "layer": "below",
          "line": {
           "width": 0
          },
          "name": "Class 1",
          "opacity": 0.4,
          "showlegend": false,
          "type": "rect",
          "x0": 256,
          "x1": 384,
          "xref": "x6",
          "y0": 0,
          "y1": 1,
          "yref": "y6 domain"
         },
         {
          "fillcolor": "rgb(246, 207, 113)",
          "layer": "below",
          "line": {
           "width": 0
          },
          "name": "Class 1",
          "opacity": 0.4,
          "showlegend": false,
          "type": "rect",
          "x0": 256,
          "x1": 384,
          "xref": "x7",
          "y0": 0,
          "y1": 1,
          "yref": "y7 domain"
         },
         {
          "fillcolor": "rgb(246, 207, 113)",
          "layer": "below",
          "line": {
           "width": 0
          },
          "name": "Class 1",
          "opacity": 0.4,
          "showlegend": false,
          "type": "rect",
          "x0": 256,
          "x1": 384,
          "xref": "x8",
          "y0": 0,
          "y1": 1,
          "yref": "y8 domain"
         },
         {
          "fillcolor": "rgb(246, 207, 113)",
          "layer": "below",
          "line": {
           "width": 0
          },
          "name": "Class 1",
          "opacity": 0.4,
          "showlegend": false,
          "type": "rect",
          "x0": 256,
          "x1": 384,
          "xref": "x9",
          "y0": 0,
          "y1": 1,
          "yref": "y9 domain"
         },
         {
          "line": {
           "color": "gray",
           "dash": "dash"
          },
          "type": "line",
          "x0": 256,
          "x1": 256,
          "xref": "x",
          "y0": 0,
          "y1": 1,
          "yref": "y domain"
         },
         {
          "line": {
           "color": "gray",
           "dash": "dash"
          },
          "type": "line",
          "x0": 256,
          "x1": 256,
          "xref": "x2",
          "y0": 0,
          "y1": 1,
          "yref": "y2 domain"
         },
         {
          "line": {
           "color": "gray",
           "dash": "dash"
          },
          "type": "line",
          "x0": 256,
          "x1": 256,
          "xref": "x3",
          "y0": 0,
          "y1": 1,
          "yref": "y3 domain"
         },
         {
          "line": {
           "color": "gray",
           "dash": "dash"
          },
          "type": "line",
          "x0": 256,
          "x1": 256,
          "xref": "x4",
          "y0": 0,
          "y1": 1,
          "yref": "y4 domain"
         },
         {
          "line": {
           "color": "gray",
           "dash": "dash"
          },
          "type": "line",
          "x0": 256,
          "x1": 256,
          "xref": "x5",
          "y0": 0,
          "y1": 1,
          "yref": "y5 domain"
         },
         {
          "line": {
           "color": "gray",
           "dash": "dash"
          },
          "type": "line",
          "x0": 256,
          "x1": 256,
          "xref": "x6",
          "y0": 0,
          "y1": 1,
          "yref": "y6 domain"
         },
         {
          "line": {
           "color": "gray",
           "dash": "dash"
          },
          "type": "line",
          "x0": 256,
          "x1": 256,
          "xref": "x7",
          "y0": 0,
          "y1": 1,
          "yref": "y7 domain"
         },
         {
          "line": {
           "color": "gray",
           "dash": "dash"
          },
          "type": "line",
          "x0": 256,
          "x1": 256,
          "xref": "x8",
          "y0": 0,
          "y1": 1,
          "yref": "y8 domain"
         },
         {
          "line": {
           "color": "gray",
           "dash": "dash"
          },
          "type": "line",
          "x0": 256,
          "x1": 256,
          "xref": "x9",
          "y0": 0,
          "y1": 1,
          "yref": "y9 domain"
         },
         {
          "fillcolor": "rgb(135, 197, 95)",
          "layer": "below",
          "line": {
           "width": 0
          },
          "name": "Class 4",
          "opacity": 0.4,
          "showlegend": false,
          "type": "rect",
          "x0": 384,
          "x1": 512,
          "xref": "x",
          "y0": 0,
          "y1": 1,
          "yref": "y domain"
         },
         {
          "fillcolor": "rgb(135, 197, 95)",
          "layer": "below",
          "line": {
           "width": 0
          },
          "name": "Class 4",
          "opacity": 0.4,
          "showlegend": false,
          "type": "rect",
          "x0": 384,
          "x1": 512,
          "xref": "x2",
          "y0": 0,
          "y1": 1,
          "yref": "y2 domain"
         },
         {
          "fillcolor": "rgb(135, 197, 95)",
          "layer": "below",
          "line": {
           "width": 0
          },
          "name": "Class 4",
          "opacity": 0.4,
          "showlegend": false,
          "type": "rect",
          "x0": 384,
          "x1": 512,
          "xref": "x3",
          "y0": 0,
          "y1": 1,
          "yref": "y3 domain"
         },
         {
          "fillcolor": "rgb(135, 197, 95)",
          "layer": "below",
          "line": {
           "width": 0
          },
          "name": "Class 4",
          "opacity": 0.4,
          "showlegend": false,
          "type": "rect",
          "x0": 384,
          "x1": 512,
          "xref": "x4",
          "y0": 0,
          "y1": 1,
          "yref": "y4 domain"
         },
         {
          "fillcolor": "rgb(135, 197, 95)",
          "layer": "below",
          "line": {
           "width": 0
          },
          "name": "Class 4",
          "opacity": 0.4,
          "showlegend": false,
          "type": "rect",
          "x0": 384,
          "x1": 512,
          "xref": "x5",
          "y0": 0,
          "y1": 1,
          "yref": "y5 domain"
         },
         {
          "fillcolor": "rgb(135, 197, 95)",
          "layer": "below",
          "line": {
           "width": 0
          },
          "name": "Class 4",
          "opacity": 0.4,
          "showlegend": false,
          "type": "rect",
          "x0": 384,
          "x1": 512,
          "xref": "x6",
          "y0": 0,
          "y1": 1,
          "yref": "y6 domain"
         },
         {
          "fillcolor": "rgb(135, 197, 95)",
          "layer": "below",
          "line": {
           "width": 0
          },
          "name": "Class 4",
          "opacity": 0.4,
          "showlegend": false,
          "type": "rect",
          "x0": 384,
          "x1": 512,
          "xref": "x7",
          "y0": 0,
          "y1": 1,
          "yref": "y7 domain"
         },
         {
          "fillcolor": "rgb(135, 197, 95)",
          "layer": "below",
          "line": {
           "width": 0
          },
          "name": "Class 4",
          "opacity": 0.4,
          "showlegend": false,
          "type": "rect",
          "x0": 384,
          "x1": 512,
          "xref": "x8",
          "y0": 0,
          "y1": 1,
          "yref": "y8 domain"
         },
         {
          "fillcolor": "rgb(135, 197, 95)",
          "layer": "below",
          "line": {
           "width": 0
          },
          "name": "Class 4",
          "opacity": 0.4,
          "showlegend": false,
          "type": "rect",
          "x0": 384,
          "x1": 512,
          "xref": "x9",
          "y0": 0,
          "y1": 1,
          "yref": "y9 domain"
         },
         {
          "line": {
           "color": "gray",
           "dash": "dash"
          },
          "type": "line",
          "x0": 384,
          "x1": 384,
          "xref": "x",
          "y0": 0,
          "y1": 1,
          "yref": "y domain"
         },
         {
          "line": {
           "color": "gray",
           "dash": "dash"
          },
          "type": "line",
          "x0": 384,
          "x1": 384,
          "xref": "x2",
          "y0": 0,
          "y1": 1,
          "yref": "y2 domain"
         },
         {
          "line": {
           "color": "gray",
           "dash": "dash"
          },
          "type": "line",
          "x0": 384,
          "x1": 384,
          "xref": "x3",
          "y0": 0,
          "y1": 1,
          "yref": "y3 domain"
         },
         {
          "line": {
           "color": "gray",
           "dash": "dash"
          },
          "type": "line",
          "x0": 384,
          "x1": 384,
          "xref": "x4",
          "y0": 0,
          "y1": 1,
          "yref": "y4 domain"
         },
         {
          "line": {
           "color": "gray",
           "dash": "dash"
          },
          "type": "line",
          "x0": 384,
          "x1": 384,
          "xref": "x5",
          "y0": 0,
          "y1": 1,
          "yref": "y5 domain"
         },
         {
          "line": {
           "color": "gray",
           "dash": "dash"
          },
          "type": "line",
          "x0": 384,
          "x1": 384,
          "xref": "x6",
          "y0": 0,
          "y1": 1,
          "yref": "y6 domain"
         },
         {
          "line": {
           "color": "gray",
           "dash": "dash"
          },
          "type": "line",
          "x0": 384,
          "x1": 384,
          "xref": "x7",
          "y0": 0,
          "y1": 1,
          "yref": "y7 domain"
         },
         {
          "line": {
           "color": "gray",
           "dash": "dash"
          },
          "type": "line",
          "x0": 384,
          "x1": 384,
          "xref": "x8",
          "y0": 0,
          "y1": 1,
          "yref": "y8 domain"
         },
         {
          "line": {
           "color": "gray",
           "dash": "dash"
          },
          "type": "line",
          "x0": 384,
          "x1": 384,
          "xref": "x9",
          "y0": 0,
          "y1": 1,
          "yref": "y9 domain"
         },
         {
          "fillcolor": "rgb(135, 197, 95)",
          "layer": "below",
          "line": {
           "width": 0
          },
          "name": "Class 4",
          "opacity": 0.4,
          "showlegend": false,
          "type": "rect",
          "x0": 512,
          "x1": 640,
          "xref": "x",
          "y0": 0,
          "y1": 1,
          "yref": "y domain"
         },
         {
          "fillcolor": "rgb(135, 197, 95)",
          "layer": "below",
          "line": {
           "width": 0
          },
          "name": "Class 4",
          "opacity": 0.4,
          "showlegend": false,
          "type": "rect",
          "x0": 512,
          "x1": 640,
          "xref": "x2",
          "y0": 0,
          "y1": 1,
          "yref": "y2 domain"
         },
         {
          "fillcolor": "rgb(135, 197, 95)",
          "layer": "below",
          "line": {
           "width": 0
          },
          "name": "Class 4",
          "opacity": 0.4,
          "showlegend": false,
          "type": "rect",
          "x0": 512,
          "x1": 640,
          "xref": "x3",
          "y0": 0,
          "y1": 1,
          "yref": "y3 domain"
         },
         {
          "fillcolor": "rgb(135, 197, 95)",
          "layer": "below",
          "line": {
           "width": 0
          },
          "name": "Class 4",
          "opacity": 0.4,
          "showlegend": false,
          "type": "rect",
          "x0": 512,
          "x1": 640,
          "xref": "x4",
          "y0": 0,
          "y1": 1,
          "yref": "y4 domain"
         },
         {
          "fillcolor": "rgb(135, 197, 95)",
          "layer": "below",
          "line": {
           "width": 0
          },
          "name": "Class 4",
          "opacity": 0.4,
          "showlegend": false,
          "type": "rect",
          "x0": 512,
          "x1": 640,
          "xref": "x5",
          "y0": 0,
          "y1": 1,
          "yref": "y5 domain"
         },
         {
          "fillcolor": "rgb(135, 197, 95)",
          "layer": "below",
          "line": {
           "width": 0
          },
          "name": "Class 4",
          "opacity": 0.4,
          "showlegend": false,
          "type": "rect",
          "x0": 512,
          "x1": 640,
          "xref": "x6",
          "y0": 0,
          "y1": 1,
          "yref": "y6 domain"
         },
         {
          "fillcolor": "rgb(135, 197, 95)",
          "layer": "below",
          "line": {
           "width": 0
          },
          "name": "Class 4",
          "opacity": 0.4,
          "showlegend": false,
          "type": "rect",
          "x0": 512,
          "x1": 640,
          "xref": "x7",
          "y0": 0,
          "y1": 1,
          "yref": "y7 domain"
         },
         {
          "fillcolor": "rgb(135, 197, 95)",
          "layer": "below",
          "line": {
           "width": 0
          },
          "name": "Class 4",
          "opacity": 0.4,
          "showlegend": false,
          "type": "rect",
          "x0": 512,
          "x1": 640,
          "xref": "x8",
          "y0": 0,
          "y1": 1,
          "yref": "y8 domain"
         },
         {
          "fillcolor": "rgb(135, 197, 95)",
          "layer": "below",
          "line": {
           "width": 0
          },
          "name": "Class 4",
          "opacity": 0.4,
          "showlegend": false,
          "type": "rect",
          "x0": 512,
          "x1": 640,
          "xref": "x9",
          "y0": 0,
          "y1": 1,
          "yref": "y9 domain"
         },
         {
          "line": {
           "color": "gray",
           "dash": "dash"
          },
          "type": "line",
          "x0": 512,
          "x1": 512,
          "xref": "x",
          "y0": 0,
          "y1": 1,
          "yref": "y domain"
         },
         {
          "line": {
           "color": "gray",
           "dash": "dash"
          },
          "type": "line",
          "x0": 512,
          "x1": 512,
          "xref": "x2",
          "y0": 0,
          "y1": 1,
          "yref": "y2 domain"
         },
         {
          "line": {
           "color": "gray",
           "dash": "dash"
          },
          "type": "line",
          "x0": 512,
          "x1": 512,
          "xref": "x3",
          "y0": 0,
          "y1": 1,
          "yref": "y3 domain"
         },
         {
          "line": {
           "color": "gray",
           "dash": "dash"
          },
          "type": "line",
          "x0": 512,
          "x1": 512,
          "xref": "x4",
          "y0": 0,
          "y1": 1,
          "yref": "y4 domain"
         },
         {
          "line": {
           "color": "gray",
           "dash": "dash"
          },
          "type": "line",
          "x0": 512,
          "x1": 512,
          "xref": "x5",
          "y0": 0,
          "y1": 1,
          "yref": "y5 domain"
         },
         {
          "line": {
           "color": "gray",
           "dash": "dash"
          },
          "type": "line",
          "x0": 512,
          "x1": 512,
          "xref": "x6",
          "y0": 0,
          "y1": 1,
          "yref": "y6 domain"
         },
         {
          "line": {
           "color": "gray",
           "dash": "dash"
          },
          "type": "line",
          "x0": 512,
          "x1": 512,
          "xref": "x7",
          "y0": 0,
          "y1": 1,
          "yref": "y7 domain"
         },
         {
          "line": {
           "color": "gray",
           "dash": "dash"
          },
          "type": "line",
          "x0": 512,
          "x1": 512,
          "xref": "x8",
          "y0": 0,
          "y1": 1,
          "yref": "y8 domain"
         },
         {
          "line": {
           "color": "gray",
           "dash": "dash"
          },
          "type": "line",
          "x0": 512,
          "x1": 512,
          "xref": "x9",
          "y0": 0,
          "y1": 1,
          "yref": "y9 domain"
         },
         {
          "fillcolor": "rgb(102, 197, 204)",
          "layer": "below",
          "line": {
           "width": 0
          },
          "name": "Class 0",
          "opacity": 0.4,
          "showlegend": false,
          "type": "rect",
          "x0": 640,
          "x1": 768,
          "xref": "x",
          "y0": 0,
          "y1": 1,
          "yref": "y domain"
         },
         {
          "fillcolor": "rgb(102, 197, 204)",
          "layer": "below",
          "line": {
           "width": 0
          },
          "name": "Class 0",
          "opacity": 0.4,
          "showlegend": false,
          "type": "rect",
          "x0": 640,
          "x1": 768,
          "xref": "x2",
          "y0": 0,
          "y1": 1,
          "yref": "y2 domain"
         },
         {
          "fillcolor": "rgb(102, 197, 204)",
          "layer": "below",
          "line": {
           "width": 0
          },
          "name": "Class 0",
          "opacity": 0.4,
          "showlegend": false,
          "type": "rect",
          "x0": 640,
          "x1": 768,
          "xref": "x3",
          "y0": 0,
          "y1": 1,
          "yref": "y3 domain"
         },
         {
          "fillcolor": "rgb(102, 197, 204)",
          "layer": "below",
          "line": {
           "width": 0
          },
          "name": "Class 0",
          "opacity": 0.4,
          "showlegend": false,
          "type": "rect",
          "x0": 640,
          "x1": 768,
          "xref": "x4",
          "y0": 0,
          "y1": 1,
          "yref": "y4 domain"
         },
         {
          "fillcolor": "rgb(102, 197, 204)",
          "layer": "below",
          "line": {
           "width": 0
          },
          "name": "Class 0",
          "opacity": 0.4,
          "showlegend": false,
          "type": "rect",
          "x0": 640,
          "x1": 768,
          "xref": "x5",
          "y0": 0,
          "y1": 1,
          "yref": "y5 domain"
         },
         {
          "fillcolor": "rgb(102, 197, 204)",
          "layer": "below",
          "line": {
           "width": 0
          },
          "name": "Class 0",
          "opacity": 0.4,
          "showlegend": false,
          "type": "rect",
          "x0": 640,
          "x1": 768,
          "xref": "x6",
          "y0": 0,
          "y1": 1,
          "yref": "y6 domain"
         },
         {
          "fillcolor": "rgb(102, 197, 204)",
          "layer": "below",
          "line": {
           "width": 0
          },
          "name": "Class 0",
          "opacity": 0.4,
          "showlegend": false,
          "type": "rect",
          "x0": 640,
          "x1": 768,
          "xref": "x7",
          "y0": 0,
          "y1": 1,
          "yref": "y7 domain"
         },
         {
          "fillcolor": "rgb(102, 197, 204)",
          "layer": "below",
          "line": {
           "width": 0
          },
          "name": "Class 0",
          "opacity": 0.4,
          "showlegend": false,
          "type": "rect",
          "x0": 640,
          "x1": 768,
          "xref": "x8",
          "y0": 0,
          "y1": 1,
          "yref": "y8 domain"
         },
         {
          "fillcolor": "rgb(102, 197, 204)",
          "layer": "below",
          "line": {
           "width": 0
          },
          "name": "Class 0",
          "opacity": 0.4,
          "showlegend": false,
          "type": "rect",
          "x0": 640,
          "x1": 768,
          "xref": "x9",
          "y0": 0,
          "y1": 1,
          "yref": "y9 domain"
         },
         {
          "line": {
           "color": "gray",
           "dash": "dash"
          },
          "type": "line",
          "x0": 640,
          "x1": 640,
          "xref": "x",
          "y0": 0,
          "y1": 1,
          "yref": "y domain"
         },
         {
          "line": {
           "color": "gray",
           "dash": "dash"
          },
          "type": "line",
          "x0": 640,
          "x1": 640,
          "xref": "x2",
          "y0": 0,
          "y1": 1,
          "yref": "y2 domain"
         },
         {
          "line": {
           "color": "gray",
           "dash": "dash"
          },
          "type": "line",
          "x0": 640,
          "x1": 640,
          "xref": "x3",
          "y0": 0,
          "y1": 1,
          "yref": "y3 domain"
         },
         {
          "line": {
           "color": "gray",
           "dash": "dash"
          },
          "type": "line",
          "x0": 640,
          "x1": 640,
          "xref": "x4",
          "y0": 0,
          "y1": 1,
          "yref": "y4 domain"
         },
         {
          "line": {
           "color": "gray",
           "dash": "dash"
          },
          "type": "line",
          "x0": 640,
          "x1": 640,
          "xref": "x5",
          "y0": 0,
          "y1": 1,
          "yref": "y5 domain"
         },
         {
          "line": {
           "color": "gray",
           "dash": "dash"
          },
          "type": "line",
          "x0": 640,
          "x1": 640,
          "xref": "x6",
          "y0": 0,
          "y1": 1,
          "yref": "y6 domain"
         },
         {
          "line": {
           "color": "gray",
           "dash": "dash"
          },
          "type": "line",
          "x0": 640,
          "x1": 640,
          "xref": "x7",
          "y0": 0,
          "y1": 1,
          "yref": "y7 domain"
         },
         {
          "line": {
           "color": "gray",
           "dash": "dash"
          },
          "type": "line",
          "x0": 640,
          "x1": 640,
          "xref": "x8",
          "y0": 0,
          "y1": 1,
          "yref": "y8 domain"
         },
         {
          "line": {
           "color": "gray",
           "dash": "dash"
          },
          "type": "line",
          "x0": 640,
          "x1": 640,
          "xref": "x9",
          "y0": 0,
          "y1": 1,
          "yref": "y9 domain"
         },
         {
          "fillcolor": "rgb(220, 176, 242)",
          "layer": "below",
          "line": {
           "width": 0
          },
          "name": "Class 3",
          "opacity": 0.4,
          "showlegend": false,
          "type": "rect",
          "x0": 768,
          "x1": 896,
          "xref": "x",
          "y0": 0,
          "y1": 1,
          "yref": "y domain"
         },
         {
          "fillcolor": "rgb(220, 176, 242)",
          "layer": "below",
          "line": {
           "width": 0
          },
          "name": "Class 3",
          "opacity": 0.4,
          "showlegend": false,
          "type": "rect",
          "x0": 768,
          "x1": 896,
          "xref": "x2",
          "y0": 0,
          "y1": 1,
          "yref": "y2 domain"
         },
         {
          "fillcolor": "rgb(220, 176, 242)",
          "layer": "below",
          "line": {
           "width": 0
          },
          "name": "Class 3",
          "opacity": 0.4,
          "showlegend": false,
          "type": "rect",
          "x0": 768,
          "x1": 896,
          "xref": "x3",
          "y0": 0,
          "y1": 1,
          "yref": "y3 domain"
         },
         {
          "fillcolor": "rgb(220, 176, 242)",
          "layer": "below",
          "line": {
           "width": 0
          },
          "name": "Class 3",
          "opacity": 0.4,
          "showlegend": false,
          "type": "rect",
          "x0": 768,
          "x1": 896,
          "xref": "x4",
          "y0": 0,
          "y1": 1,
          "yref": "y4 domain"
         },
         {
          "fillcolor": "rgb(220, 176, 242)",
          "layer": "below",
          "line": {
           "width": 0
          },
          "name": "Class 3",
          "opacity": 0.4,
          "showlegend": false,
          "type": "rect",
          "x0": 768,
          "x1": 896,
          "xref": "x5",
          "y0": 0,
          "y1": 1,
          "yref": "y5 domain"
         },
         {
          "fillcolor": "rgb(220, 176, 242)",
          "layer": "below",
          "line": {
           "width": 0
          },
          "name": "Class 3",
          "opacity": 0.4,
          "showlegend": false,
          "type": "rect",
          "x0": 768,
          "x1": 896,
          "xref": "x6",
          "y0": 0,
          "y1": 1,
          "yref": "y6 domain"
         },
         {
          "fillcolor": "rgb(220, 176, 242)",
          "layer": "below",
          "line": {
           "width": 0
          },
          "name": "Class 3",
          "opacity": 0.4,
          "showlegend": false,
          "type": "rect",
          "x0": 768,
          "x1": 896,
          "xref": "x7",
          "y0": 0,
          "y1": 1,
          "yref": "y7 domain"
         },
         {
          "fillcolor": "rgb(220, 176, 242)",
          "layer": "below",
          "line": {
           "width": 0
          },
          "name": "Class 3",
          "opacity": 0.4,
          "showlegend": false,
          "type": "rect",
          "x0": 768,
          "x1": 896,
          "xref": "x8",
          "y0": 0,
          "y1": 1,
          "yref": "y8 domain"
         },
         {
          "fillcolor": "rgb(220, 176, 242)",
          "layer": "below",
          "line": {
           "width": 0
          },
          "name": "Class 3",
          "opacity": 0.4,
          "showlegend": false,
          "type": "rect",
          "x0": 768,
          "x1": 896,
          "xref": "x9",
          "y0": 0,
          "y1": 1,
          "yref": "y9 domain"
         },
         {
          "line": {
           "color": "gray",
           "dash": "dash"
          },
          "type": "line",
          "x0": 768,
          "x1": 768,
          "xref": "x",
          "y0": 0,
          "y1": 1,
          "yref": "y domain"
         },
         {
          "line": {
           "color": "gray",
           "dash": "dash"
          },
          "type": "line",
          "x0": 768,
          "x1": 768,
          "xref": "x2",
          "y0": 0,
          "y1": 1,
          "yref": "y2 domain"
         },
         {
          "line": {
           "color": "gray",
           "dash": "dash"
          },
          "type": "line",
          "x0": 768,
          "x1": 768,
          "xref": "x3",
          "y0": 0,
          "y1": 1,
          "yref": "y3 domain"
         },
         {
          "line": {
           "color": "gray",
           "dash": "dash"
          },
          "type": "line",
          "x0": 768,
          "x1": 768,
          "xref": "x4",
          "y0": 0,
          "y1": 1,
          "yref": "y4 domain"
         },
         {
          "line": {
           "color": "gray",
           "dash": "dash"
          },
          "type": "line",
          "x0": 768,
          "x1": 768,
          "xref": "x5",
          "y0": 0,
          "y1": 1,
          "yref": "y5 domain"
         },
         {
          "line": {
           "color": "gray",
           "dash": "dash"
          },
          "type": "line",
          "x0": 768,
          "x1": 768,
          "xref": "x6",
          "y0": 0,
          "y1": 1,
          "yref": "y6 domain"
         },
         {
          "line": {
           "color": "gray",
           "dash": "dash"
          },
          "type": "line",
          "x0": 768,
          "x1": 768,
          "xref": "x7",
          "y0": 0,
          "y1": 1,
          "yref": "y7 domain"
         },
         {
          "line": {
           "color": "gray",
           "dash": "dash"
          },
          "type": "line",
          "x0": 768,
          "x1": 768,
          "xref": "x8",
          "y0": 0,
          "y1": 1,
          "yref": "y8 domain"
         },
         {
          "line": {
           "color": "gray",
           "dash": "dash"
          },
          "type": "line",
          "x0": 768,
          "x1": 768,
          "xref": "x9",
          "y0": 0,
          "y1": 1,
          "yref": "y9 domain"
         },
         {
          "fillcolor": "rgb(135, 197, 95)",
          "layer": "below",
          "line": {
           "width": 0
          },
          "name": "Class 4",
          "opacity": 0.4,
          "showlegend": false,
          "type": "rect",
          "x0": 896,
          "x1": 1024,
          "xref": "x",
          "y0": 0,
          "y1": 1,
          "yref": "y domain"
         },
         {
          "fillcolor": "rgb(135, 197, 95)",
          "layer": "below",
          "line": {
           "width": 0
          },
          "name": "Class 4",
          "opacity": 0.4,
          "showlegend": false,
          "type": "rect",
          "x0": 896,
          "x1": 1024,
          "xref": "x2",
          "y0": 0,
          "y1": 1,
          "yref": "y2 domain"
         },
         {
          "fillcolor": "rgb(135, 197, 95)",
          "layer": "below",
          "line": {
           "width": 0
          },
          "name": "Class 4",
          "opacity": 0.4,
          "showlegend": false,
          "type": "rect",
          "x0": 896,
          "x1": 1024,
          "xref": "x3",
          "y0": 0,
          "y1": 1,
          "yref": "y3 domain"
         },
         {
          "fillcolor": "rgb(135, 197, 95)",
          "layer": "below",
          "line": {
           "width": 0
          },
          "name": "Class 4",
          "opacity": 0.4,
          "showlegend": false,
          "type": "rect",
          "x0": 896,
          "x1": 1024,
          "xref": "x4",
          "y0": 0,
          "y1": 1,
          "yref": "y4 domain"
         },
         {
          "fillcolor": "rgb(135, 197, 95)",
          "layer": "below",
          "line": {
           "width": 0
          },
          "name": "Class 4",
          "opacity": 0.4,
          "showlegend": false,
          "type": "rect",
          "x0": 896,
          "x1": 1024,
          "xref": "x5",
          "y0": 0,
          "y1": 1,
          "yref": "y5 domain"
         },
         {
          "fillcolor": "rgb(135, 197, 95)",
          "layer": "below",
          "line": {
           "width": 0
          },
          "name": "Class 4",
          "opacity": 0.4,
          "showlegend": false,
          "type": "rect",
          "x0": 896,
          "x1": 1024,
          "xref": "x6",
          "y0": 0,
          "y1": 1,
          "yref": "y6 domain"
         },
         {
          "fillcolor": "rgb(135, 197, 95)",
          "layer": "below",
          "line": {
           "width": 0
          },
          "name": "Class 4",
          "opacity": 0.4,
          "showlegend": false,
          "type": "rect",
          "x0": 896,
          "x1": 1024,
          "xref": "x7",
          "y0": 0,
          "y1": 1,
          "yref": "y7 domain"
         },
         {
          "fillcolor": "rgb(135, 197, 95)",
          "layer": "below",
          "line": {
           "width": 0
          },
          "name": "Class 4",
          "opacity": 0.4,
          "showlegend": false,
          "type": "rect",
          "x0": 896,
          "x1": 1024,
          "xref": "x8",
          "y0": 0,
          "y1": 1,
          "yref": "y8 domain"
         },
         {
          "fillcolor": "rgb(135, 197, 95)",
          "layer": "below",
          "line": {
           "width": 0
          },
          "name": "Class 4",
          "opacity": 0.4,
          "showlegend": false,
          "type": "rect",
          "x0": 896,
          "x1": 1024,
          "xref": "x9",
          "y0": 0,
          "y1": 1,
          "yref": "y9 domain"
         },
         {
          "line": {
           "color": "gray",
           "dash": "dash"
          },
          "type": "line",
          "x0": 896,
          "x1": 896,
          "xref": "x",
          "y0": 0,
          "y1": 1,
          "yref": "y domain"
         },
         {
          "line": {
           "color": "gray",
           "dash": "dash"
          },
          "type": "line",
          "x0": 896,
          "x1": 896,
          "xref": "x2",
          "y0": 0,
          "y1": 1,
          "yref": "y2 domain"
         },
         {
          "line": {
           "color": "gray",
           "dash": "dash"
          },
          "type": "line",
          "x0": 896,
          "x1": 896,
          "xref": "x3",
          "y0": 0,
          "y1": 1,
          "yref": "y3 domain"
         },
         {
          "line": {
           "color": "gray",
           "dash": "dash"
          },
          "type": "line",
          "x0": 896,
          "x1": 896,
          "xref": "x4",
          "y0": 0,
          "y1": 1,
          "yref": "y4 domain"
         },
         {
          "line": {
           "color": "gray",
           "dash": "dash"
          },
          "type": "line",
          "x0": 896,
          "x1": 896,
          "xref": "x5",
          "y0": 0,
          "y1": 1,
          "yref": "y5 domain"
         },
         {
          "line": {
           "color": "gray",
           "dash": "dash"
          },
          "type": "line",
          "x0": 896,
          "x1": 896,
          "xref": "x6",
          "y0": 0,
          "y1": 1,
          "yref": "y6 domain"
         },
         {
          "line": {
           "color": "gray",
           "dash": "dash"
          },
          "type": "line",
          "x0": 896,
          "x1": 896,
          "xref": "x7",
          "y0": 0,
          "y1": 1,
          "yref": "y7 domain"
         },
         {
          "line": {
           "color": "gray",
           "dash": "dash"
          },
          "type": "line",
          "x0": 896,
          "x1": 896,
          "xref": "x8",
          "y0": 0,
          "y1": 1,
          "yref": "y8 domain"
         },
         {
          "line": {
           "color": "gray",
           "dash": "dash"
          },
          "type": "line",
          "x0": 896,
          "x1": 896,
          "xref": "x9",
          "y0": 0,
          "y1": 1,
          "yref": "y9 domain"
         },
         {
          "fillcolor": "rgb(246, 207, 113)",
          "layer": "below",
          "line": {
           "width": 0
          },
          "name": "Class 1",
          "opacity": 0.4,
          "showlegend": false,
          "type": "rect",
          "x0": 1024,
          "x1": 1152,
          "xref": "x",
          "y0": 0,
          "y1": 1,
          "yref": "y domain"
         },
         {
          "fillcolor": "rgb(246, 207, 113)",
          "layer": "below",
          "line": {
           "width": 0
          },
          "name": "Class 1",
          "opacity": 0.4,
          "showlegend": false,
          "type": "rect",
          "x0": 1024,
          "x1": 1152,
          "xref": "x2",
          "y0": 0,
          "y1": 1,
          "yref": "y2 domain"
         },
         {
          "fillcolor": "rgb(246, 207, 113)",
          "layer": "below",
          "line": {
           "width": 0
          },
          "name": "Class 1",
          "opacity": 0.4,
          "showlegend": false,
          "type": "rect",
          "x0": 1024,
          "x1": 1152,
          "xref": "x3",
          "y0": 0,
          "y1": 1,
          "yref": "y3 domain"
         },
         {
          "fillcolor": "rgb(246, 207, 113)",
          "layer": "below",
          "line": {
           "width": 0
          },
          "name": "Class 1",
          "opacity": 0.4,
          "showlegend": false,
          "type": "rect",
          "x0": 1024,
          "x1": 1152,
          "xref": "x4",
          "y0": 0,
          "y1": 1,
          "yref": "y4 domain"
         },
         {
          "fillcolor": "rgb(246, 207, 113)",
          "layer": "below",
          "line": {
           "width": 0
          },
          "name": "Class 1",
          "opacity": 0.4,
          "showlegend": false,
          "type": "rect",
          "x0": 1024,
          "x1": 1152,
          "xref": "x5",
          "y0": 0,
          "y1": 1,
          "yref": "y5 domain"
         },
         {
          "fillcolor": "rgb(246, 207, 113)",
          "layer": "below",
          "line": {
           "width": 0
          },
          "name": "Class 1",
          "opacity": 0.4,
          "showlegend": false,
          "type": "rect",
          "x0": 1024,
          "x1": 1152,
          "xref": "x6",
          "y0": 0,
          "y1": 1,
          "yref": "y6 domain"
         },
         {
          "fillcolor": "rgb(246, 207, 113)",
          "layer": "below",
          "line": {
           "width": 0
          },
          "name": "Class 1",
          "opacity": 0.4,
          "showlegend": false,
          "type": "rect",
          "x0": 1024,
          "x1": 1152,
          "xref": "x7",
          "y0": 0,
          "y1": 1,
          "yref": "y7 domain"
         },
         {
          "fillcolor": "rgb(246, 207, 113)",
          "layer": "below",
          "line": {
           "width": 0
          },
          "name": "Class 1",
          "opacity": 0.4,
          "showlegend": false,
          "type": "rect",
          "x0": 1024,
          "x1": 1152,
          "xref": "x8",
          "y0": 0,
          "y1": 1,
          "yref": "y8 domain"
         },
         {
          "fillcolor": "rgb(246, 207, 113)",
          "layer": "below",
          "line": {
           "width": 0
          },
          "name": "Class 1",
          "opacity": 0.4,
          "showlegend": false,
          "type": "rect",
          "x0": 1024,
          "x1": 1152,
          "xref": "x9",
          "y0": 0,
          "y1": 1,
          "yref": "y9 domain"
         },
         {
          "line": {
           "color": "gray",
           "dash": "dash"
          },
          "type": "line",
          "x0": 1024,
          "x1": 1024,
          "xref": "x",
          "y0": 0,
          "y1": 1,
          "yref": "y domain"
         },
         {
          "line": {
           "color": "gray",
           "dash": "dash"
          },
          "type": "line",
          "x0": 1024,
          "x1": 1024,
          "xref": "x2",
          "y0": 0,
          "y1": 1,
          "yref": "y2 domain"
         },
         {
          "line": {
           "color": "gray",
           "dash": "dash"
          },
          "type": "line",
          "x0": 1024,
          "x1": 1024,
          "xref": "x3",
          "y0": 0,
          "y1": 1,
          "yref": "y3 domain"
         },
         {
          "line": {
           "color": "gray",
           "dash": "dash"
          },
          "type": "line",
          "x0": 1024,
          "x1": 1024,
          "xref": "x4",
          "y0": 0,
          "y1": 1,
          "yref": "y4 domain"
         },
         {
          "line": {
           "color": "gray",
           "dash": "dash"
          },
          "type": "line",
          "x0": 1024,
          "x1": 1024,
          "xref": "x5",
          "y0": 0,
          "y1": 1,
          "yref": "y5 domain"
         },
         {
          "line": {
           "color": "gray",
           "dash": "dash"
          },
          "type": "line",
          "x0": 1024,
          "x1": 1024,
          "xref": "x6",
          "y0": 0,
          "y1": 1,
          "yref": "y6 domain"
         },
         {
          "line": {
           "color": "gray",
           "dash": "dash"
          },
          "type": "line",
          "x0": 1024,
          "x1": 1024,
          "xref": "x7",
          "y0": 0,
          "y1": 1,
          "yref": "y7 domain"
         },
         {
          "line": {
           "color": "gray",
           "dash": "dash"
          },
          "type": "line",
          "x0": 1024,
          "x1": 1024,
          "xref": "x8",
          "y0": 0,
          "y1": 1,
          "yref": "y8 domain"
         },
         {
          "line": {
           "color": "gray",
           "dash": "dash"
          },
          "type": "line",
          "x0": 1024,
          "x1": 1024,
          "xref": "x9",
          "y0": 0,
          "y1": 1,
          "yref": "y9 domain"
         },
         {
          "fillcolor": "rgb(248, 156, 116)",
          "layer": "below",
          "line": {
           "width": 0
          },
          "name": "Class 2",
          "opacity": 0.4,
          "showlegend": false,
          "type": "rect",
          "x0": 1152,
          "x1": 1280,
          "xref": "x",
          "y0": 0,
          "y1": 1,
          "yref": "y domain"
         },
         {
          "fillcolor": "rgb(248, 156, 116)",
          "layer": "below",
          "line": {
           "width": 0
          },
          "name": "Class 2",
          "opacity": 0.4,
          "showlegend": false,
          "type": "rect",
          "x0": 1152,
          "x1": 1280,
          "xref": "x2",
          "y0": 0,
          "y1": 1,
          "yref": "y2 domain"
         },
         {
          "fillcolor": "rgb(248, 156, 116)",
          "layer": "below",
          "line": {
           "width": 0
          },
          "name": "Class 2",
          "opacity": 0.4,
          "showlegend": false,
          "type": "rect",
          "x0": 1152,
          "x1": 1280,
          "xref": "x3",
          "y0": 0,
          "y1": 1,
          "yref": "y3 domain"
         },
         {
          "fillcolor": "rgb(248, 156, 116)",
          "layer": "below",
          "line": {
           "width": 0
          },
          "name": "Class 2",
          "opacity": 0.4,
          "showlegend": false,
          "type": "rect",
          "x0": 1152,
          "x1": 1280,
          "xref": "x4",
          "y0": 0,
          "y1": 1,
          "yref": "y4 domain"
         },
         {
          "fillcolor": "rgb(248, 156, 116)",
          "layer": "below",
          "line": {
           "width": 0
          },
          "name": "Class 2",
          "opacity": 0.4,
          "showlegend": false,
          "type": "rect",
          "x0": 1152,
          "x1": 1280,
          "xref": "x5",
          "y0": 0,
          "y1": 1,
          "yref": "y5 domain"
         },
         {
          "fillcolor": "rgb(248, 156, 116)",
          "layer": "below",
          "line": {
           "width": 0
          },
          "name": "Class 2",
          "opacity": 0.4,
          "showlegend": false,
          "type": "rect",
          "x0": 1152,
          "x1": 1280,
          "xref": "x6",
          "y0": 0,
          "y1": 1,
          "yref": "y6 domain"
         },
         {
          "fillcolor": "rgb(248, 156, 116)",
          "layer": "below",
          "line": {
           "width": 0
          },
          "name": "Class 2",
          "opacity": 0.4,
          "showlegend": false,
          "type": "rect",
          "x0": 1152,
          "x1": 1280,
          "xref": "x7",
          "y0": 0,
          "y1": 1,
          "yref": "y7 domain"
         },
         {
          "fillcolor": "rgb(248, 156, 116)",
          "layer": "below",
          "line": {
           "width": 0
          },
          "name": "Class 2",
          "opacity": 0.4,
          "showlegend": false,
          "type": "rect",
          "x0": 1152,
          "x1": 1280,
          "xref": "x8",
          "y0": 0,
          "y1": 1,
          "yref": "y8 domain"
         },
         {
          "fillcolor": "rgb(248, 156, 116)",
          "layer": "below",
          "line": {
           "width": 0
          },
          "name": "Class 2",
          "opacity": 0.4,
          "showlegend": false,
          "type": "rect",
          "x0": 1152,
          "x1": 1280,
          "xref": "x9",
          "y0": 0,
          "y1": 1,
          "yref": "y9 domain"
         },
         {
          "line": {
           "color": "gray",
           "dash": "dash"
          },
          "type": "line",
          "x0": 1152,
          "x1": 1152,
          "xref": "x",
          "y0": 0,
          "y1": 1,
          "yref": "y domain"
         },
         {
          "line": {
           "color": "gray",
           "dash": "dash"
          },
          "type": "line",
          "x0": 1152,
          "x1": 1152,
          "xref": "x2",
          "y0": 0,
          "y1": 1,
          "yref": "y2 domain"
         },
         {
          "line": {
           "color": "gray",
           "dash": "dash"
          },
          "type": "line",
          "x0": 1152,
          "x1": 1152,
          "xref": "x3",
          "y0": 0,
          "y1": 1,
          "yref": "y3 domain"
         },
         {
          "line": {
           "color": "gray",
           "dash": "dash"
          },
          "type": "line",
          "x0": 1152,
          "x1": 1152,
          "xref": "x4",
          "y0": 0,
          "y1": 1,
          "yref": "y4 domain"
         },
         {
          "line": {
           "color": "gray",
           "dash": "dash"
          },
          "type": "line",
          "x0": 1152,
          "x1": 1152,
          "xref": "x5",
          "y0": 0,
          "y1": 1,
          "yref": "y5 domain"
         },
         {
          "line": {
           "color": "gray",
           "dash": "dash"
          },
          "type": "line",
          "x0": 1152,
          "x1": 1152,
          "xref": "x6",
          "y0": 0,
          "y1": 1,
          "yref": "y6 domain"
         },
         {
          "line": {
           "color": "gray",
           "dash": "dash"
          },
          "type": "line",
          "x0": 1152,
          "x1": 1152,
          "xref": "x7",
          "y0": 0,
          "y1": 1,
          "yref": "y7 domain"
         },
         {
          "line": {
           "color": "gray",
           "dash": "dash"
          },
          "type": "line",
          "x0": 1152,
          "x1": 1152,
          "xref": "x8",
          "y0": 0,
          "y1": 1,
          "yref": "y8 domain"
         },
         {
          "line": {
           "color": "gray",
           "dash": "dash"
          },
          "type": "line",
          "x0": 1152,
          "x1": 1152,
          "xref": "x9",
          "y0": 0,
          "y1": 1,
          "yref": "y9 domain"
         }
        ],
        "showlegend": true,
        "template": {
         "data": {
          "bar": [
           {
            "error_x": {
             "color": "#2a3f5f"
            },
            "error_y": {
             "color": "#2a3f5f"
            },
            "marker": {
             "line": {
              "color": "#E5ECF6",
              "width": 0.5
             },
             "pattern": {
              "fillmode": "overlay",
              "size": 10,
              "solidity": 0.2
             }
            },
            "type": "bar"
           }
          ],
          "barpolar": [
           {
            "marker": {
             "line": {
              "color": "#E5ECF6",
              "width": 0.5
             },
             "pattern": {
              "fillmode": "overlay",
              "size": 10,
              "solidity": 0.2
             }
            },
            "type": "barpolar"
           }
          ],
          "carpet": [
           {
            "aaxis": {
             "endlinecolor": "#2a3f5f",
             "gridcolor": "white",
             "linecolor": "white",
             "minorgridcolor": "white",
             "startlinecolor": "#2a3f5f"
            },
            "baxis": {
             "endlinecolor": "#2a3f5f",
             "gridcolor": "white",
             "linecolor": "white",
             "minorgridcolor": "white",
             "startlinecolor": "#2a3f5f"
            },
            "type": "carpet"
           }
          ],
          "choropleth": [
           {
            "colorbar": {
             "outlinewidth": 0,
             "ticks": ""
            },
            "type": "choropleth"
           }
          ],
          "contour": [
           {
            "colorbar": {
             "outlinewidth": 0,
             "ticks": ""
            },
            "colorscale": [
             [
              0,
              "#0d0887"
             ],
             [
              0.1111111111111111,
              "#46039f"
             ],
             [
              0.2222222222222222,
              "#7201a8"
             ],
             [
              0.3333333333333333,
              "#9c179e"
             ],
             [
              0.4444444444444444,
              "#bd3786"
             ],
             [
              0.5555555555555556,
              "#d8576b"
             ],
             [
              0.6666666666666666,
              "#ed7953"
             ],
             [
              0.7777777777777778,
              "#fb9f3a"
             ],
             [
              0.8888888888888888,
              "#fdca26"
             ],
             [
              1,
              "#f0f921"
             ]
            ],
            "type": "contour"
           }
          ],
          "contourcarpet": [
           {
            "colorbar": {
             "outlinewidth": 0,
             "ticks": ""
            },
            "type": "contourcarpet"
           }
          ],
          "heatmap": [
           {
            "colorbar": {
             "outlinewidth": 0,
             "ticks": ""
            },
            "colorscale": [
             [
              0,
              "#0d0887"
             ],
             [
              0.1111111111111111,
              "#46039f"
             ],
             [
              0.2222222222222222,
              "#7201a8"
             ],
             [
              0.3333333333333333,
              "#9c179e"
             ],
             [
              0.4444444444444444,
              "#bd3786"
             ],
             [
              0.5555555555555556,
              "#d8576b"
             ],
             [
              0.6666666666666666,
              "#ed7953"
             ],
             [
              0.7777777777777778,
              "#fb9f3a"
             ],
             [
              0.8888888888888888,
              "#fdca26"
             ],
             [
              1,
              "#f0f921"
             ]
            ],
            "type": "heatmap"
           }
          ],
          "histogram": [
           {
            "marker": {
             "pattern": {
              "fillmode": "overlay",
              "size": 10,
              "solidity": 0.2
             }
            },
            "type": "histogram"
           }
          ],
          "histogram2d": [
           {
            "colorbar": {
             "outlinewidth": 0,
             "ticks": ""
            },
            "colorscale": [
             [
              0,
              "#0d0887"
             ],
             [
              0.1111111111111111,
              "#46039f"
             ],
             [
              0.2222222222222222,
              "#7201a8"
             ],
             [
              0.3333333333333333,
              "#9c179e"
             ],
             [
              0.4444444444444444,
              "#bd3786"
             ],
             [
              0.5555555555555556,
              "#d8576b"
             ],
             [
              0.6666666666666666,
              "#ed7953"
             ],
             [
              0.7777777777777778,
              "#fb9f3a"
             ],
             [
              0.8888888888888888,
              "#fdca26"
             ],
             [
              1,
              "#f0f921"
             ]
            ],
            "type": "histogram2d"
           }
          ],
          "histogram2dcontour": [
           {
            "colorbar": {
             "outlinewidth": 0,
             "ticks": ""
            },
            "colorscale": [
             [
              0,
              "#0d0887"
             ],
             [
              0.1111111111111111,
              "#46039f"
             ],
             [
              0.2222222222222222,
              "#7201a8"
             ],
             [
              0.3333333333333333,
              "#9c179e"
             ],
             [
              0.4444444444444444,
              "#bd3786"
             ],
             [
              0.5555555555555556,
              "#d8576b"
             ],
             [
              0.6666666666666666,
              "#ed7953"
             ],
             [
              0.7777777777777778,
              "#fb9f3a"
             ],
             [
              0.8888888888888888,
              "#fdca26"
             ],
             [
              1,
              "#f0f921"
             ]
            ],
            "type": "histogram2dcontour"
           }
          ],
          "mesh3d": [
           {
            "colorbar": {
             "outlinewidth": 0,
             "ticks": ""
            },
            "type": "mesh3d"
           }
          ],
          "parcoords": [
           {
            "line": {
             "colorbar": {
              "outlinewidth": 0,
              "ticks": ""
             }
            },
            "type": "parcoords"
           }
          ],
          "pie": [
           {
            "automargin": true,
            "type": "pie"
           }
          ],
          "scatter": [
           {
            "fillpattern": {
             "fillmode": "overlay",
             "size": 10,
             "solidity": 0.2
            },
            "type": "scatter"
           }
          ],
          "scatter3d": [
           {
            "line": {
             "colorbar": {
              "outlinewidth": 0,
              "ticks": ""
             }
            },
            "marker": {
             "colorbar": {
              "outlinewidth": 0,
              "ticks": ""
             }
            },
            "type": "scatter3d"
           }
          ],
          "scattercarpet": [
           {
            "marker": {
             "colorbar": {
              "outlinewidth": 0,
              "ticks": ""
             }
            },
            "type": "scattercarpet"
           }
          ],
          "scattergeo": [
           {
            "marker": {
             "colorbar": {
              "outlinewidth": 0,
              "ticks": ""
             }
            },
            "type": "scattergeo"
           }
          ],
          "scattergl": [
           {
            "marker": {
             "colorbar": {
              "outlinewidth": 0,
              "ticks": ""
             }
            },
            "type": "scattergl"
           }
          ],
          "scattermap": [
           {
            "marker": {
             "colorbar": {
              "outlinewidth": 0,
              "ticks": ""
             }
            },
            "type": "scattermap"
           }
          ],
          "scattermapbox": [
           {
            "marker": {
             "colorbar": {
              "outlinewidth": 0,
              "ticks": ""
             }
            },
            "type": "scattermapbox"
           }
          ],
          "scatterpolar": [
           {
            "marker": {
             "colorbar": {
              "outlinewidth": 0,
              "ticks": ""
             }
            },
            "type": "scatterpolar"
           }
          ],
          "scatterpolargl": [
           {
            "marker": {
             "colorbar": {
              "outlinewidth": 0,
              "ticks": ""
             }
            },
            "type": "scatterpolargl"
           }
          ],
          "scatterternary": [
           {
            "marker": {
             "colorbar": {
              "outlinewidth": 0,
              "ticks": ""
             }
            },
            "type": "scatterternary"
           }
          ],
          "surface": [
           {
            "colorbar": {
             "outlinewidth": 0,
             "ticks": ""
            },
            "colorscale": [
             [
              0,
              "#0d0887"
             ],
             [
              0.1111111111111111,
              "#46039f"
             ],
             [
              0.2222222222222222,
              "#7201a8"
             ],
             [
              0.3333333333333333,
              "#9c179e"
             ],
             [
              0.4444444444444444,
              "#bd3786"
             ],
             [
              0.5555555555555556,
              "#d8576b"
             ],
             [
              0.6666666666666666,
              "#ed7953"
             ],
             [
              0.7777777777777778,
              "#fb9f3a"
             ],
             [
              0.8888888888888888,
              "#fdca26"
             ],
             [
              1,
              "#f0f921"
             ]
            ],
            "type": "surface"
           }
          ],
          "table": [
           {
            "cells": {
             "fill": {
              "color": "#EBF0F8"
             },
             "line": {
              "color": "white"
             }
            },
            "header": {
             "fill": {
              "color": "#C8D4E3"
             },
             "line": {
              "color": "white"
             }
            },
            "type": "table"
           }
          ]
         },
         "layout": {
          "annotationdefaults": {
           "arrowcolor": "#2a3f5f",
           "arrowhead": 0,
           "arrowwidth": 1
          },
          "autotypenumbers": "strict",
          "coloraxis": {
           "colorbar": {
            "outlinewidth": 0,
            "ticks": ""
           }
          },
          "colorscale": {
           "diverging": [
            [
             0,
             "#8e0152"
            ],
            [
             0.1,
             "#c51b7d"
            ],
            [
             0.2,
             "#de77ae"
            ],
            [
             0.3,
             "#f1b6da"
            ],
            [
             0.4,
             "#fde0ef"
            ],
            [
             0.5,
             "#f7f7f7"
            ],
            [
             0.6,
             "#e6f5d0"
            ],
            [
             0.7,
             "#b8e186"
            ],
            [
             0.8,
             "#7fbc41"
            ],
            [
             0.9,
             "#4d9221"
            ],
            [
             1,
             "#276419"
            ]
           ],
           "sequential": [
            [
             0,
             "#0d0887"
            ],
            [
             0.1111111111111111,
             "#46039f"
            ],
            [
             0.2222222222222222,
             "#7201a8"
            ],
            [
             0.3333333333333333,
             "#9c179e"
            ],
            [
             0.4444444444444444,
             "#bd3786"
            ],
            [
             0.5555555555555556,
             "#d8576b"
            ],
            [
             0.6666666666666666,
             "#ed7953"
            ],
            [
             0.7777777777777778,
             "#fb9f3a"
            ],
            [
             0.8888888888888888,
             "#fdca26"
            ],
            [
             1,
             "#f0f921"
            ]
           ],
           "sequentialminus": [
            [
             0,
             "#0d0887"
            ],
            [
             0.1111111111111111,
             "#46039f"
            ],
            [
             0.2222222222222222,
             "#7201a8"
            ],
            [
             0.3333333333333333,
             "#9c179e"
            ],
            [
             0.4444444444444444,
             "#bd3786"
            ],
            [
             0.5555555555555556,
             "#d8576b"
            ],
            [
             0.6666666666666666,
             "#ed7953"
            ],
            [
             0.7777777777777778,
             "#fb9f3a"
            ],
            [
             0.8888888888888888,
             "#fdca26"
            ],
            [
             1,
             "#f0f921"
            ]
           ]
          },
          "colorway": [
           "#636efa",
           "#EF553B",
           "#00cc96",
           "#ab63fa",
           "#FFA15A",
           "#19d3f3",
           "#FF6692",
           "#B6E880",
           "#FF97FF",
           "#FECB52"
          ],
          "font": {
           "color": "#2a3f5f"
          },
          "geo": {
           "bgcolor": "white",
           "lakecolor": "white",
           "landcolor": "#E5ECF6",
           "showlakes": true,
           "showland": true,
           "subunitcolor": "white"
          },
          "hoverlabel": {
           "align": "left"
          },
          "hovermode": "closest",
          "mapbox": {
           "style": "light"
          },
          "paper_bgcolor": "white",
          "plot_bgcolor": "#E5ECF6",
          "polar": {
           "angularaxis": {
            "gridcolor": "white",
            "linecolor": "white",
            "ticks": ""
           },
           "bgcolor": "#E5ECF6",
           "radialaxis": {
            "gridcolor": "white",
            "linecolor": "white",
            "ticks": ""
           }
          },
          "scene": {
           "xaxis": {
            "backgroundcolor": "#E5ECF6",
            "gridcolor": "white",
            "gridwidth": 2,
            "linecolor": "white",
            "showbackground": true,
            "ticks": "",
            "zerolinecolor": "white"
           },
           "yaxis": {
            "backgroundcolor": "#E5ECF6",
            "gridcolor": "white",
            "gridwidth": 2,
            "linecolor": "white",
            "showbackground": true,
            "ticks": "",
            "zerolinecolor": "white"
           },
           "zaxis": {
            "backgroundcolor": "#E5ECF6",
            "gridcolor": "white",
            "gridwidth": 2,
            "linecolor": "white",
            "showbackground": true,
            "ticks": "",
            "zerolinecolor": "white"
           }
          },
          "shapedefaults": {
           "line": {
            "color": "#2a3f5f"
           }
          },
          "ternary": {
           "aaxis": {
            "gridcolor": "white",
            "linecolor": "white",
            "ticks": ""
           },
           "baxis": {
            "gridcolor": "white",
            "linecolor": "white",
            "ticks": ""
           },
           "bgcolor": "#E5ECF6",
           "caxis": {
            "gridcolor": "white",
            "linecolor": "white",
            "ticks": ""
           }
          },
          "title": {
           "x": 0.05
          },
          "xaxis": {
           "automargin": true,
           "gridcolor": "white",
           "linecolor": "white",
           "ticks": "",
           "title": {
            "standoff": 15
           },
           "zerolinecolor": "white",
           "zerolinewidth": 2
          },
          "yaxis": {
           "automargin": true,
           "gridcolor": "white",
           "linecolor": "white",
           "ticks": "",
           "title": {
            "standoff": 15
           },
           "zerolinecolor": "white",
           "zerolinewidth": 2
          }
         }
        },
        "xaxis": {
         "anchor": "y",
         "domain": [
          0,
          1
         ],
         "matches": "x9",
         "showticklabels": false
        },
        "xaxis2": {
         "anchor": "y2",
         "domain": [
          0,
          1
         ],
         "matches": "x9",
         "showticklabels": false
        },
        "xaxis3": {
         "anchor": "y3",
         "domain": [
          0,
          1
         ],
         "matches": "x9",
         "showticklabels": false
        },
        "xaxis4": {
         "anchor": "y4",
         "domain": [
          0,
          1
         ],
         "matches": "x9",
         "showticklabels": false
        },
        "xaxis5": {
         "anchor": "y5",
         "domain": [
          0,
          1
         ],
         "matches": "x9",
         "showticklabels": false
        },
        "xaxis6": {
         "anchor": "y6",
         "domain": [
          0,
          1
         ],
         "matches": "x9",
         "showticklabels": false
        },
        "xaxis7": {
         "anchor": "y7",
         "domain": [
          0,
          1
         ],
         "matches": "x9",
         "showticklabels": false
        },
        "xaxis8": {
         "anchor": "y8",
         "domain": [
          0,
          1
         ],
         "matches": "x9",
         "showticklabels": false
        },
        "xaxis9": {
         "anchor": "y9",
         "domain": [
          0,
          1
         ],
         "title": {
          "text": "Time"
         }
        },
        "yaxis": {
         "anchor": "x",
         "domain": [
          0.9155555555555556,
          1
         ],
         "title": {
          "text": "Var 0"
         }
        },
        "yaxis2": {
         "anchor": "x2",
         "domain": [
          0.8011111111111111,
          0.8855555555555555
         ],
         "title": {
          "text": "Var 1"
         }
        },
        "yaxis3": {
         "anchor": "x3",
         "domain": [
          0.6866666666666668,
          0.7711111111111112
         ],
         "title": {
          "text": "Var 2"
         }
        },
        "yaxis4": {
         "anchor": "x4",
         "domain": [
          0.5722222222222222,
          0.6566666666666666
         ],
         "title": {
          "text": "Var 3"
         }
        },
        "yaxis5": {
         "anchor": "x5",
         "domain": [
          0.4577777777777778,
          0.5422222222222223
         ],
         "title": {
          "text": "Var 4"
         }
        },
        "yaxis6": {
         "anchor": "x6",
         "domain": [
          0.3433333333333334,
          0.4277777777777778
         ],
         "title": {
          "text": "Var 5"
         }
        },
        "yaxis7": {
         "anchor": "x7",
         "domain": [
          0.2288888888888889,
          0.31333333333333335
         ],
         "title": {
          "text": "Var 6"
         }
        },
        "yaxis8": {
         "anchor": "x8",
         "domain": [
          0.11444444444444445,
          0.1988888888888889
         ],
         "title": {
          "text": "Var 7"
         }
        },
        "yaxis9": {
         "anchor": "x9",
         "domain": [
          0,
          0.08444444444444445
         ],
         "title": {
          "text": "Var 8"
         }
        }
       }
      }
     },
     "metadata": {},
     "output_type": "display_data"
    }
   ],
   "source": [
    "fig = plot_classification_dataset(\n",
    "    datasets[\"HAR\"][\"train\"][\"samples\"][:10, :].numpy(),\n",
    "    datasets[\"HAR\"][\"train\"][\"labels\"][:10].numpy(),\n",
    ")\n",
    "fig.show()"
   ]
  },
  {
   "cell_type": "markdown",
   "metadata": {},
   "source": [
    "### Datasets\n",
    "\n",
    "1. **PenDigits Dataset** [[1]](https://archive.ics.uci.edu/dataset/81/pen+based+recognition+of+handwritten+digits)\n",
    "    - The PenDigits (Pen-Based Recognition of Handwritten Digits) dataset is a\n",
    "    classic dataset for handwritten digit recognition. It contains time series\n",
    "    data representing the coordinates of pen movements as digits (0–9) are\n",
    "    written on a digitizing tablet.\n",
    "    - Collected from 44 writers, with 30 contributing to the training set (7,494\n",
    "    samples) and 14 to the testing set (3,498 samples). Each writer wrote 250\n",
    "    digits in random order using a WACOM tablet with 500x500 pixel resolution,\n",
    "    normalized to a 100x100 scale.\n",
    "    - Each digit is represented by 16 attributes\n",
    "    (8 pairs of x, y coordinates), capturing the spatial trajectory of the pen\n",
    "    over time. These are derived through spatial resampling of the pen's\n",
    "    movement.\n",
    "\n",
    "2. **WISDM Dataset** [[2]](https://archive.ics.uci.edu/dataset/507/wisdm+smartphone+and+smartwatch+activity+and+biometrics+dataset)\n",
    "    - The WISDM (Wireless Sensor Data Mining) dataset focuses on human activity\n",
    "    recognition (HAR) using sensor data from smartphones and smartwatches. It\n",
    "    includes time series data from accelerometers and gyroscopes.\n",
    "    - Controlled lab data from 36 users, with 1,098,207 samples collected at 20\n",
    "    Hz using phone accelerometers. Activities include walking, jogging, sitting,\n",
    "    standing, upstairs, and downstairs.\n",
    "    - x, y, z acceleration or gyroscope readings\n",
    "\n",
    "3. **FingerMovements Dataset** [[?]]()\n",
    "    - The FingerMovements dataset is an EEG-based time series dataset capturing\n",
    "    brain activity during finger movements, often used for brain-computer\n",
    "    interface (BCI) research.\n",
    "    - Don't know the exact details about the dataset since they vary by version.\n",
    "    Requires more investigation.\n",
    "\n",
    "4. **Epilepsy Dataset** [[?]]()\n",
    "    - Similar to the above, includes EEG recordings used for seizure detection or prediction.\n",
    "\n",
    "5. **HAR Dataset** [[3]](https://archive.ics.uci.edu/dataset/240/human+activity+recognition+using+smartphones)\n",
    "    - The HAR (Human Activity Recognition) dataset typically refers to the UCI\n",
    "    Human Activity Recognition Using Smartphones dataset, a widely used\n",
    "    benchmark for activity classification.\n",
    "    - Collected from 30 subjects performing 6 activities (walking, walking\n",
    "    upstairs, walking downstairs, sitting, standing, lying) using a\n",
    "    waist-mounted smartphone with accelerometer and gyroscope sensors. Data\n",
    "    sampled at 50 Hz over 2.56-second windows.\n",
    "\n",
    "### Toughts\n",
    "\n",
    "The datasets are not normalized, TimeDRL uses instance normalization per sample:\n",
    "$$X_{n,l,c} = \\frac{X_{n,l,c} - \\mu_{n,c}}{\\sigma_{n,c}}$$ \n",
    "where $\\mu_{n,c}$ and $\\sigma_{n,c}$ are the mean and standard deviation across\n",
    "time for each sample and channel.\n",
    "\n",
    "This makes the model scale-invariant - adding a constant to a sample doesn't\n",
    "change its normalized form. However, this may mask important scale differences\n",
    "between patterns.\n",
    "\n",
    "Have to look at the code to verify this!\n",
    "\n",
    "---\n",
    "\n",
    "Epilepsy and WISDM show notable class imbalance, making them ideal for studying\n",
    "imbalanced learning. The other datasets are more balanced.\n"
   ]
  }
 ],
 "metadata": {
  "kernelspec": {
   "display_name": "timeseries",
   "language": "python",
   "name": "python3"
  },
  "language_info": {
   "codemirror_mode": {
    "name": "ipython",
    "version": 3
   },
   "file_extension": ".py",
   "mimetype": "text/x-python",
   "name": "python",
   "nbconvert_exporter": "python",
   "pygments_lexer": "ipython3",
   "version": "3.9.21"
  }
 },
 "nbformat": 4,
 "nbformat_minor": 2
}
